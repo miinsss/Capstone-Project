{
 "cells": [
  {
   "cell_type": "markdown",
   "metadata": {},
   "source": [
    "# Combine results of all models:\n",
    "- K-Nearest Neighbors\n",
    "- Logistic Regression\n",
    "- Random Forest\n",
    "- Naive Bayes\n",
    "\n",
    "**Steps:**\n",
    "- Get dataframes with predictions and id\n",
    "- Merge dataframes using contract id\n",
    "- Compute column `PREDICTION_MEAN`\n",
    "- Analyze results"
   ]
  },
  {
   "cell_type": "code",
   "execution_count": 2,
   "metadata": {},
   "outputs": [],
   "source": [
    "import pandas as pd\n",
    "import numpy as np"
   ]
  },
  {
   "cell_type": "code",
   "execution_count": 27,
   "metadata": {},
   "outputs": [
    {
     "name": "stderr",
     "output_type": "stream",
     "text": [
      "C:\\Users\\franc\\AppData\\Local\\Temp\\ipykernel_17240\\2902760220.py:2: DtypeWarning: Columns (2,11) have mixed types. Specify dtype option on import or set low_memory=False.\n",
      "  contracts = pd.read_csv('../../data/csv/contract24.csv')\n"
     ]
    }
   ],
   "source": [
    "# Import data\n",
    "contracts = pd.read_csv('../../data/csv/contract24.csv')"
   ]
  },
  {
   "cell_type": "code",
   "execution_count": 5,
   "metadata": {},
   "outputs": [],
   "source": [
    "contracts = contracts.drop(['Unnamed: 0', 'SF-SYSTEM', 'ANO_SID', 'ORTS-NAME', 'STRASSE', 'PARTY-ID', 'contract_year', 'Kreis'], axis=1)\n",
    "contracts = contracts.dropna()"
   ]
  },
  {
   "cell_type": "code",
   "execution_count": 6,
   "metadata": {},
   "outputs": [
    {
     "name": "stdout",
     "output_type": "stream",
     "text": [
      "<class 'pandas.core.frame.DataFrame'>\n",
      "Index: 7163047 entries, 0 to 10353243\n",
      "Data columns (total 73 columns):\n",
      " #   Column                                         Dtype  \n",
      "---  ------                                         -----  \n",
      " 0   ORTPLZ                                         int64  \n",
      " 1   SUM_INSURED                                    float64\n",
      " 2   CONSTRUCTION_YEAR                              float64\n",
      " 3   WFL                                            float64\n",
      " 4   TYPE_OF_DEDUCTIBLE                             int64  \n",
      " 5   DRAIN_PIPE_INSURED                             int64  \n",
      " 6   PRIOR_DAMAGES                                  int64  \n",
      " 7   UVV-KZ                                         int64  \n",
      " 8   PIPE_PREMIUM_AMOUNT                            float64\n",
      " 9   YEAR                                           int64  \n",
      " 10  DAMAGE_FLOOD_ZONE                              float64\n",
      " 11  DAMAGE_HEAVY_RAIN_ZONE                         float64\n",
      " 12  LONGITUDE                                      float64\n",
      " 13  LATITUDE                                       float64\n",
      " 14  DAMAGE                                         int64  \n",
      " 15  CORPORATE_DEVISION_VHV                         bool   \n",
      " 16  Bundesland_Bayern                              bool   \n",
      " 17  Bundesland_Berlin                              bool   \n",
      " 18  Bundesland_Brandenburg                         bool   \n",
      " 19  Bundesland_Bremen                              bool   \n",
      " 20  Bundesland_Hamburg                             bool   \n",
      " 21  Bundesland_Hessen                              bool   \n",
      " 22  Bundesland_Mecklenburg-Vorpommern              bool   \n",
      " 23  Bundesland_Niedersachsen                       bool   \n",
      " 24  Bundesland_Nordrhein-Westfalen                 bool   \n",
      " 25  Bundesland_Rheinland-Pfalz                     bool   \n",
      " 26  Bundesland_Saarland                            bool   \n",
      " 27  Bundesland_Sachsen                             bool   \n",
      " 28  Bundesland_Sachsen-Anhalt                      bool   \n",
      " 29  Bundesland_Schleswig-Holstein                  bool   \n",
      " 30  Bundesland_Thüringen                           bool   \n",
      " 31  Typ_Stadt                                      bool   \n",
      " 32  CONSTRACTION_DESIGN_CARAVAN_MOTORHOME          bool   \n",
      " 33  CONSTRACTION_DESIGN_DESIGN_CLASS_I             bool   \n",
      " 34  CONSTRACTION_DESIGN_DESIGN_CLASS_II            bool   \n",
      " 35  CONSTRACTION_DESIGN_DESIGN_CLASS_III           bool   \n",
      " 36  CONSTRACTION_DESIGN_DESIGN_CLASS_IV            bool   \n",
      " 37  CONSTRACTION_DESIGN_DESIGN_CLASS_V             bool   \n",
      " 38  CONSTRACTION_DESIGN_NORMAL_VENTURE             bool   \n",
      " 39  CONSTRACTION_DESIGN_PREDOMINANTLY_WOODEN_ROOF  bool   \n",
      " 40  CONSTRACTION_DESIGN_PREFAB_HOUSE               bool   \n",
      " 41  ZONE_1.0                                       bool   \n",
      " 42  ZONE_2.0                                       bool   \n",
      " 43  ZONE_3.0                                       bool   \n",
      " 44  ZONE_4.0                                       bool   \n",
      " 45  ZONE_5.0                                       bool   \n",
      " 46  ZONE_6.0                                       bool   \n",
      " 47  ZONE_7.0                                       bool   \n",
      " 48  ZONE_8.0                                       bool   \n",
      " 49  ZONE_0                                         bool   \n",
      " 50  ZONE_0.0                                       bool   \n",
      " 51  ZONE_1                                         bool   \n",
      " 52  ZONE_1.0                                       bool   \n",
      " 53  ZONE_2                                         bool   \n",
      " 54  ZONE_2.0                                       bool   \n",
      " 55  ZONE_3                                         bool   \n",
      " 56  ZONE_3.0                                       bool   \n",
      " 57  ZONE_4                                         bool   \n",
      " 58  ZONE_4.0                                       bool   \n",
      " 59  ZONE_5                                         bool   \n",
      " 60  ZONE_5.0                                       bool   \n",
      " 61  ZONE_6                                         bool   \n",
      " 62  ZONE_6.0                                       bool   \n",
      " 63  ZONE_7                                         bool   \n",
      " 64  ZONE_7.0                                       bool   \n",
      " 65  ZONE_8                                         bool   \n",
      " 66  ZONE_8.0                                       bool   \n",
      " 67  PRODUCTLINE_Kompakt                            bool   \n",
      " 68  PRODUCTLINE_Plus                               bool   \n",
      " 69  PRODUCTLINE_Premium                            bool   \n",
      " 70  PRODUCTLINE_Sonst                              bool   \n",
      " 71  PRODUCTLINE_Top                                bool   \n",
      " 72  UNDERWRITER_Y                                  bool   \n",
      "dtypes: bool(58), float64(8), int64(7)\n",
      "memory usage: 1.2 GB\n"
     ]
    }
   ],
   "source": [
    "columns_to_encode = contracts.select_dtypes(include=['object']).columns\n",
    "df_binary = pd.get_dummies(contracts, columns=columns_to_encode, drop_first=True)\n",
    "df_binary.info()"
   ]
  },
  {
   "cell_type": "code",
   "execution_count": null,
   "metadata": {},
   "outputs": [],
   "source": []
  }
 ],
 "metadata": {
  "kernelspec": {
   "display_name": "Python 3",
   "language": "python",
   "name": "python3"
  },
  "language_info": {
   "codemirror_mode": {
    "name": "ipython",
    "version": 3
   },
   "file_extension": ".py",
   "mimetype": "text/x-python",
   "name": "python",
   "nbconvert_exporter": "python",
   "pygments_lexer": "ipython3",
   "version": "3.12.3"
  }
 },
 "nbformat": 4,
 "nbformat_minor": 2
}
