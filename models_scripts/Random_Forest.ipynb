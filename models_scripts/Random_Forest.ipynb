{
  "nbformat": 4,
  "nbformat_minor": 0,
  "metadata": {
    "colab": {
      "provenance": [],
      "toc_visible": true,
      "machine_shape": "hm",
      "authorship_tag": "ABX9TyOOj+X3+M34l9ud1LpSUuzE",
      "include_colab_link": true
    },
    "kernelspec": {
      "name": "python3",
      "display_name": "Python 3"
    },
    "language_info": {
      "name": "python"
    }
  },
  "cells": [
    {
      "cell_type": "markdown",
      "metadata": {
        "id": "view-in-github",
        "colab_type": "text"
      },
      "source": [
        "<a href=\"https://colab.research.google.com/github/miinsss/Capstone-Project/blob/main/Random_Forest.ipynb\" target=\"_parent\"><img src=\"https://colab.research.google.com/assets/colab-badge.svg\" alt=\"Open In Colab\"/></a>"
      ]
    },
    {
      "cell_type": "markdown",
      "source": [
        "# Libaries"
      ],
      "metadata": {
        "id": "D6bU5iM6J_2o"
      }
    },
    {
      "cell_type": "code",
      "source": [
        "import pandas as pd\n",
        "from sklearn.ensemble import RandomForestClassifier\n",
        "from sklearn.model_selection import train_test_split\n",
        "from sklearn.metrics import accuracy_score\n",
        "from sklearn.metrics import confusion_matrix\n",
        "import numpy as np\n",
        "from imblearn.under_sampling import RandomUnderSampler"
      ],
      "metadata": {
        "id": "ENHreirWKFF9"
      },
      "execution_count": 55,
      "outputs": []
    },
    {
      "cell_type": "markdown",
      "source": [
        "# Load the data"
      ],
      "metadata": {
        "id": "Sbf_dBkuKPCj"
      }
    },
    {
      "cell_type": "code",
      "source": [
        "from google.colab import drive\n",
        "drive.mount('/content/drive')\n",
        "\n",
        "# Load the contract_classification.csv file\n",
        "contract_class_path = '/content/drive/MyDrive/Colab Notebooks/Capstone_Data/Capstone/Data/contract_classification.csv'\n",
        "contract_class = pd.read_csv(contract_class_path)\n",
        "\n",
        "\n",
        "\n",
        "# Display the first few rows to verify content\n",
        "print(contract_class.head())"
      ],
      "metadata": {
        "colab": {
          "base_uri": "https://localhost:8080/"
        },
        "id": "LksDbqsQKVuC",
        "outputId": "22c4a61b-6270-4755-acbe-9b5a5636d755"
      },
      "execution_count": 3,
      "outputs": [
        {
          "output_type": "stream",
          "name": "stdout",
          "text": [
            "Drive already mounted at /content/drive; to attempt to forcibly remount, call drive.mount(\"/content/drive\", force_remount=True).\n"
          ]
        },
        {
          "output_type": "stream",
          "name": "stderr",
          "text": [
            "<ipython-input-3-94d8358f3681>:6: DtypeWarning: Columns (9) have mixed types. Specify dtype option on import or set low_memory=False.\n",
            "  contract_class = pd.read_csv(contract_class_path)\n"
          ]
        },
        {
          "output_type": "stream",
          "name": "stdout",
          "text": [
            "     ANO_SID CORPORATE_DEVISION   ORTPLZ  ORTS-NAME               STRASSE  \\\n",
            "0  4114028.0                VHV  42109.0  Wuppertal     Hans-Böckler-Str.   \n",
            "1  4114039.0                VHV  42277.0  Wuppertal       Liegnitzer Str.   \n",
            "2  4114045.0                VHV  42389.0  Wuppertal             Rascheweg   \n",
            "3  4114049.0                VGV  42277.0  Wuppertal               Am Diek   \n",
            "4  4114055.0                VHV  42553.0    Velbert  Emil-Schniewind-Str.   \n",
            "\n",
            "   SUM_INSURED CONSTRACTION_DESIGN  CONSTRUCTION_YEAR        WFL ZONE  ...  \\\n",
            "0      71081.0      NORMAL_VENTURE        1967.565648   69.00000  2.0  ...   \n",
            "1      55708.0      NORMAL_VENTURE        1967.565648   65.00000  4.0  ...   \n",
            "2      74148.0      DESIGN_CLASS_I        1967.565648   75.00000  1.0  ...   \n",
            "3     664000.0      NORMAL_VENTURE        1967.565648  106.24368  NaN  ...   \n",
            "4      75682.0      NORMAL_VENTURE        1967.565648  119.00000  2.0  ...   \n",
            "\n",
            "   DRAIN_PIPE_INSURED  PRODUCTLINE  PRIOR_DAMAGES UVV-KZ  UNDERWRITER  \\\n",
            "0                   0        Sonst              0      1            Y   \n",
            "1                   0        Basis              0      1            Y   \n",
            "2                   0        Sonst              0      1            Y   \n",
            "3                   0      Kompakt              0      1            Y   \n",
            "4                   0        Sonst              0      1            Y   \n",
            "\n",
            "               PARTY-ID contract_year PIPE_PREMIUM_AMOUNT  YEAR  DAMAGE  \n",
            "0  N00WXYAWXFD704PT4712    2014-01-01             4.55070  2014       0  \n",
            "1  YH8XZ8AWXFD704PT4713    2014-01-01             4.54080  2014       0  \n",
            "2  AIPAVQEWXFD704PT4713    2014-01-01             3.18120  2014       0  \n",
            "3  GG0UA4KWXFD704PT4715    2014-01-01           154.60908  2014       0  \n",
            "4  P6XU2FAWXFD704PT4712    2014-01-01             5.89380  2014       0  \n",
            "\n",
            "[5 rows x 22 columns]\n"
          ]
        }
      ]
    },
    {
      "cell_type": "code",
      "source": [
        "print(contract_class['DAMAGE'].value_counts())"
      ],
      "metadata": {
        "colab": {
          "base_uri": "https://localhost:8080/"
        },
        "id": "VH3k-fugN17z",
        "outputId": "1b6f3825-2f13-4c88-c1e1-6301001cc9d0"
      },
      "execution_count": 4,
      "outputs": [
        {
          "output_type": "stream",
          "name": "stdout",
          "text": [
            "DAMAGE\n",
            "0    11389665\n",
            "1      184774\n",
            "Name: count, dtype: int64\n"
          ]
        }
      ]
    },
    {
      "cell_type": "markdown",
      "source": [
        "# Models"
      ],
      "metadata": {
        "id": "yoya1IqoQlP9"
      }
    },
    {
      "cell_type": "markdown",
      "source": [
        "## Preprocess the data"
      ],
      "metadata": {
        "id": "hKlJomDBmkF0"
      }
    },
    {
      "cell_type": "code",
      "source": [
        "#Choose variables where it makes logical sense\n",
        "\n",
        "initial_features = contract_class.loc[:, ['CORPORATE_DEVISION','ORTPLZ',  'SUM_INSURED', 'CONSTRACTION_DESIGN','CONSTRUCTION_YEAR','WFL','ZONE','DRAIN_PIPE_INSURED','PRODUCTLINE', 'PRIOR_DAMAGES', 'UVV-KZ', 'UNDERWRITER','DAMAGE']]\n",
        "\n",
        "initial_features_clean = initial_features.dropna()\n",
        "\n",
        "print(initial_features.info())\n",
        "\n",
        "print(initial_features_clean.info())"
      ],
      "metadata": {
        "colab": {
          "base_uri": "https://localhost:8080/"
        },
        "id": "nWuhhszlQyyR",
        "outputId": "093e9353-37c2-43ae-df78-f8f144df2956"
      },
      "execution_count": 5,
      "outputs": [
        {
          "output_type": "stream",
          "name": "stdout",
          "text": [
            "<class 'pandas.core.frame.DataFrame'>\n",
            "RangeIndex: 11574439 entries, 0 to 11574438\n",
            "Data columns (total 13 columns):\n",
            " #   Column               Dtype  \n",
            "---  ------               -----  \n",
            " 0   CORPORATE_DEVISION   object \n",
            " 1   ORTPLZ               float64\n",
            " 2   SUM_INSURED          float64\n",
            " 3   CONSTRACTION_DESIGN  object \n",
            " 4   CONSTRUCTION_YEAR    float64\n",
            " 5   WFL                  float64\n",
            " 6   ZONE                 object \n",
            " 7   DRAIN_PIPE_INSURED   int64  \n",
            " 8   PRODUCTLINE          object \n",
            " 9   PRIOR_DAMAGES        int64  \n",
            " 10  UVV-KZ               int64  \n",
            " 11  UNDERWRITER          object \n",
            " 12  DAMAGE               int64  \n",
            "dtypes: float64(4), int64(4), object(5)\n",
            "memory usage: 1.1+ GB\n",
            "None\n",
            "<class 'pandas.core.frame.DataFrame'>\n",
            "Index: 8637107 entries, 0 to 11574438\n",
            "Data columns (total 13 columns):\n",
            " #   Column               Dtype  \n",
            "---  ------               -----  \n",
            " 0   CORPORATE_DEVISION   object \n",
            " 1   ORTPLZ               float64\n",
            " 2   SUM_INSURED          float64\n",
            " 3   CONSTRACTION_DESIGN  object \n",
            " 4   CONSTRUCTION_YEAR    float64\n",
            " 5   WFL                  float64\n",
            " 6   ZONE                 object \n",
            " 7   DRAIN_PIPE_INSURED   int64  \n",
            " 8   PRODUCTLINE          object \n",
            " 9   PRIOR_DAMAGES        int64  \n",
            " 10  UVV-KZ               int64  \n",
            " 11  UNDERWRITER          object \n",
            " 12  DAMAGE               int64  \n",
            "dtypes: float64(4), int64(4), object(5)\n",
            "memory usage: 922.5+ MB\n",
            "None\n"
          ]
        }
      ]
    },
    {
      "cell_type": "code",
      "source": [
        "# Choose columns to encode to binary variables\n",
        "\n",
        "columns_to_encode = ['CORPORATE_DEVISION','CONSTRACTION_DESIGN', 'PRODUCTLINE', 'UNDERWRITER', 'ZONE']\n",
        "\n",
        "# Create Binary Variables\n",
        "features_binary = pd.get_dummies(initial_features_clean, columns=columns_to_encode, drop_first=True)\n",
        "\n",
        "print(features_binary.head())"
      ],
      "metadata": {
        "colab": {
          "base_uri": "https://localhost:8080/"
        },
        "id": "2fTOzfKS3VKM",
        "outputId": "3de6b243-5838-464b-9d64-fc8684891a62"
      },
      "execution_count": 6,
      "outputs": [
        {
          "output_type": "stream",
          "name": "stdout",
          "text": [
            "    ORTPLZ  SUM_INSURED  CONSTRUCTION_YEAR    WFL  DRAIN_PIPE_INSURED  \\\n",
            "0  42109.0      71081.0        1967.565648   69.0                   0   \n",
            "1  42277.0      55708.0        1967.565648   65.0                   0   \n",
            "2  42389.0      74148.0        1967.565648   75.0                   0   \n",
            "4  42553.0      75682.0        1967.565648  119.0                   0   \n",
            "5  42113.0      70000.0        1967.565648  100.0                   0   \n",
            "\n",
            "   PRIOR_DAMAGES  UVV-KZ  DAMAGE  CORPORATE_DEVISION_VHV  \\\n",
            "0              0       1       0                    True   \n",
            "1              0       1       0                    True   \n",
            "2              0       1       0                    True   \n",
            "4              0       1       0                    True   \n",
            "5              0       1       0                    True   \n",
            "\n",
            "   CONSTRACTION_DESIGN_CARAVAN_MOTORHOME  ...  ZONE_4  ZONE_4.0  ZONE_5  \\\n",
            "0                                  False  ...   False     False   False   \n",
            "1                                  False  ...   False     False   False   \n",
            "2                                  False  ...   False     False   False   \n",
            "4                                  False  ...   False     False   False   \n",
            "5                                  False  ...   False     False   False   \n",
            "\n",
            "   ZONE_5.0  ZONE_6  ZONE_6.0  ZONE_7  ZONE_7.0  ZONE_8  ZONE_8.0  \n",
            "0     False   False     False   False     False   False     False  \n",
            "1     False   False     False   False     False   False     False  \n",
            "2     False   False     False   False     False   False     False  \n",
            "4     False   False     False   False     False   False     False  \n",
            "5     False   False     False   False     False   False     False  \n",
            "\n",
            "[5 rows x 51 columns]\n"
          ]
        }
      ]
    },
    {
      "cell_type": "markdown",
      "source": [
        "## Random Forest"
      ],
      "metadata": {
        "id": "dmwwN1Fk9-mx"
      }
    },
    {
      "cell_type": "code",
      "source": [
        "# Define feature and target\n",
        "\n",
        "X = features_binary.drop(columns=['DAMAGE'])\n",
        "y = features_binary['DAMAGE']\n",
        "\n",
        "# Split into test and training\n",
        "\n",
        "X_train, X_test, y_train, y_test = train_test_split(X, y, test_size=0.2, random_state=42)\n",
        "\n",
        "# Initialize RandomUnderSampler\n",
        "under_sampler = RandomUnderSampler(random_state=42)\n",
        "\n",
        "# Resample the training data\n",
        "X_resampled, y_resampled = under_sampler.fit_resample(X_train, y_train)"
      ],
      "metadata": {
        "id": "g2tRFkvL99hn"
      },
      "execution_count": 64,
      "outputs": []
    },
    {
      "cell_type": "code",
      "source": [
        "# Initializing Random Forest classifier\n",
        "rf_classifier = RandomForestClassifier(n_estimators=50, random_state=42)\n",
        "\n",
        "# Training the classifier\n",
        "rf_classifier.fit(X_resampled, y_resampled)\n",
        "\n",
        "# Making predictions\n",
        "y_pred = rf_classifier.predict(X_test)\n",
        "\n"
      ],
      "metadata": {
        "id": "EJMfXDqqAZOZ"
      },
      "execution_count": 65,
      "outputs": []
    },
    {
      "cell_type": "code",
      "source": [
        "# Evaluating the model\n",
        "accuracy = accuracy_score(y_test, y_pred)\n",
        "print(\"Accuracy:\", accuracy)\n",
        "\n",
        "# Generating confusion matrix\n",
        "conf_matrix = confusion_matrix(y_test, y_pred)\n",
        "\n",
        "# Displaying confusion matrix\n",
        "print(\"Confusion Matrix:\")\n",
        "print(conf_matrix)\n",
        "\n",
        "# Extracting TP, FP, TN, FN from the confusion matrix\n",
        "TN = conf_matrix[0][0]\n",
        "FP = conf_matrix[0][1]\n",
        "FN = conf_matrix[1][0]\n",
        "TP = conf_matrix[1][1]\n",
        "\n",
        "# Printing TP, FP, TN, FN\n",
        "print(\"True Positives:\", TP)\n",
        "print(\"False Positives:\", FP)\n",
        "print(\"True Negatives:\", TN)\n",
        "print(\"False Negatives:\", FN)\n",
        "\n",
        "# With undersampling accuracy gets worse, but we detect more TRUE Positives"
      ],
      "metadata": {
        "colab": {
          "base_uri": "https://localhost:8080/"
        },
        "id": "n8vwjrTVhFXj",
        "outputId": "2882ae4e-76d5-4c61-9edb-34031ea3c46b"
      },
      "execution_count": 66,
      "outputs": [
        {
          "output_type": "stream",
          "name": "stdout",
          "text": [
            "Accuracy: 0.8019152239580137\n",
            "Confusion Matrix:\n",
            "[[1367244  335959]\n",
            " [   6217   18002]]\n",
            "True Positives: 18002\n",
            "False Positives: 335959\n",
            "True Negatives: 1367244\n",
            "False Negatives: 6217\n"
          ]
        }
      ]
    },
    {
      "cell_type": "code",
      "source": [
        "# Feature-importnace analysis\n",
        "feature_importance = rf_classifier.feature_importances_\n",
        "\n",
        "# Display results\n",
        "print(\"Feature Importance:\")\n",
        "for i, feature in enumerate(X_train.columns):\n",
        "    print(f\"{feature}: {feature_importance[i]}\")"
      ],
      "metadata": {
        "colab": {
          "base_uri": "https://localhost:8080/"
        },
        "id": "NTixu8nHavRD",
        "outputId": "90332d49-e2c3-4ecc-af39-d4152ee6f08a"
      },
      "execution_count": 16,
      "outputs": [
        {
          "output_type": "stream",
          "name": "stdout",
          "text": [
            "Feature Importance:\n",
            "ORTPLZ: 0.2507575329769636\n",
            "SUM_INSURED: 0.5560879080530164\n",
            "CONSTRUCTION_YEAR: 0.08898752603786106\n",
            "WFL: 0.03954166754507387\n",
            "DRAIN_PIPE_INSURED: 0.0\n",
            "PRIOR_DAMAGES: 0.004210705766032088\n",
            "UVV-KZ: 0.0008838678151869576\n",
            "CORPORATE_DEVISION_VHV: 0.012024849220961469\n",
            "CONSTRACTION_DESIGN_CARAVAN_MOTORHOME: 7.458628197756248e-07\n",
            "CONSTRACTION_DESIGN_DESIGN_CLASS_I: 1.5027999825769787e-05\n",
            "CONSTRACTION_DESIGN_DESIGN_CLASS_II: 9.14955924222133e-09\n",
            "CONSTRACTION_DESIGN_DESIGN_CLASS_III: 2.677595575158976e-06\n",
            "CONSTRACTION_DESIGN_DESIGN_CLASS_IV: 4.091068684765485e-09\n",
            "CONSTRACTION_DESIGN_DESIGN_CLASS_V: 4.920965314234112e-09\n",
            "CONSTRACTION_DESIGN_NORMAL_VENTURE: 0.0002823402571098616\n",
            "CONSTRACTION_DESIGN_PREDOMINANTLY_WOODEN_ROOF: 1.3356443086890538e-05\n",
            "CONSTRACTION_DESIGN_PREFAB_HOUSE: 0.00022683551057533363\n",
            "CONSTRACTION_DESIGN_PREFAB_HOUSE_I: 3.488368327384191e-10\n",
            "PRODUCTLINE_Kompakt: 0.0023516388783437884\n",
            "PRODUCTLINE_Plus: 0.0010074467990372077\n",
            "PRODUCTLINE_Premium: 0.0012821651171713534\n",
            "PRODUCTLINE_Sonst: 0.0009238131954672901\n",
            "PRODUCTLINE_Top: 0.00158243350906903\n",
            "UNDERWRITER_Y: 0.02701344441140304\n",
            "ZONE_1.0: 0.0004325792771716989\n",
            "ZONE_2.0: 0.0006704721930929815\n",
            "ZONE_3.0: 0.0010071100729271219\n",
            "ZONE_4.0: 0.0006651160955707471\n",
            "ZONE_5.0: 6.93839017787372e-05\n",
            "ZONE_6.0: 1.70449984857315e-05\n",
            "ZONE_7.0: 4.005960196035757e-06\n",
            "ZONE_8.0: 4.079335772847253e-06\n",
            "ZONE_0: 0.0005082395719132113\n",
            "ZONE_0.0: 6.658873320526005e-05\n",
            "ZONE_1: 0.0015275693232137061\n",
            "ZONE_1.0: 8.793522317655598e-05\n",
            "ZONE_2: 0.0014286785424132873\n",
            "ZONE_2.0: 0.00034352192970191697\n",
            "ZONE_3: 0.001445424022385073\n",
            "ZONE_3.0: 0.0003955656484786005\n",
            "ZONE_4: 0.003665157904910333\n",
            "ZONE_4.0: 0.00028714209613494283\n",
            "ZONE_5: 9.299293499473221e-05\n",
            "ZONE_5.0: 2.7287810631381653e-05\n",
            "ZONE_6: 2.255751249613151e-05\n",
            "ZONE_6.0: 4.150208095336271e-07\n",
            "ZONE_7: 2.0120004794877674e-05\n",
            "ZONE_7.0: 4.506686985719003e-06\n",
            "ZONE_8: 9.210942541661168e-06\n",
            "ZONE_8.0: 1.2927512070734412e-06\n"
          ]
        }
      ]
    },
    {
      "cell_type": "markdown",
      "source": [
        "## Random Forest with Rolling window"
      ],
      "metadata": {
        "id": "sXhtW_D_ljQv"
      }
    },
    {
      "cell_type": "code",
      "source": [
        "#Choose variables where it makes logical including year column\n",
        "\n",
        "initial_features = contract_class.loc[:, ['CORPORATE_DEVISION','ORTPLZ',  'SUM_INSURED', 'CONSTRACTION_DESIGN','CONSTRUCTION_YEAR','WFL','ZONE','DRAIN_PIPE_INSURED','PRODUCTLINE', 'PRIOR_DAMAGES', 'UVV-KZ', 'UNDERWRITER','DAMAGE', 'YEAR']]\n",
        "\n",
        "initial_features_clean = initial_features.dropna()"
      ],
      "metadata": {
        "id": "7mZ1DyNEoANN"
      },
      "execution_count": 23,
      "outputs": []
    },
    {
      "cell_type": "code",
      "source": [
        "# Choose columns to encode to binary variables\n",
        "\n",
        "columns_to_encode = ['CORPORATE_DEVISION','CONSTRACTION_DESIGN', 'PRODUCTLINE', 'UNDERWRITER', 'ZONE']\n",
        "\n",
        "# Create Binary Variables\n",
        "features_binary = pd.get_dummies(initial_features_clean, columns=columns_to_encode, drop_first=True)\n",
        "\n",
        "print(features_binary.info())"
      ],
      "metadata": {
        "colab": {
          "base_uri": "https://localhost:8080/"
        },
        "collapsed": true,
        "id": "pir7CO9ioRJd",
        "outputId": "17abcd2f-381c-40b6-c800-79e075d88dfd"
      },
      "execution_count": 48,
      "outputs": [
        {
          "output_type": "stream",
          "name": "stdout",
          "text": [
            "<class 'pandas.core.frame.DataFrame'>\n",
            "Index: 8637107 entries, 0 to 11574438\n",
            "Data columns (total 52 columns):\n",
            " #   Column                                         Dtype  \n",
            "---  ------                                         -----  \n",
            " 0   ORTPLZ                                         float64\n",
            " 1   SUM_INSURED                                    float64\n",
            " 2   CONSTRUCTION_YEAR                              float64\n",
            " 3   WFL                                            float64\n",
            " 4   DRAIN_PIPE_INSURED                             int64  \n",
            " 5   PRIOR_DAMAGES                                  int64  \n",
            " 6   UVV-KZ                                         int64  \n",
            " 7   DAMAGE                                         int64  \n",
            " 8   YEAR                                           int64  \n",
            " 9   CORPORATE_DEVISION_VHV                         bool   \n",
            " 10  CONSTRACTION_DESIGN_CARAVAN_MOTORHOME          bool   \n",
            " 11  CONSTRACTION_DESIGN_DESIGN_CLASS_I             bool   \n",
            " 12  CONSTRACTION_DESIGN_DESIGN_CLASS_II            bool   \n",
            " 13  CONSTRACTION_DESIGN_DESIGN_CLASS_III           bool   \n",
            " 14  CONSTRACTION_DESIGN_DESIGN_CLASS_IV            bool   \n",
            " 15  CONSTRACTION_DESIGN_DESIGN_CLASS_V             bool   \n",
            " 16  CONSTRACTION_DESIGN_NORMAL_VENTURE             bool   \n",
            " 17  CONSTRACTION_DESIGN_PREDOMINANTLY_WOODEN_ROOF  bool   \n",
            " 18  CONSTRACTION_DESIGN_PREFAB_HOUSE               bool   \n",
            " 19  CONSTRACTION_DESIGN_PREFAB_HOUSE_I             bool   \n",
            " 20  PRODUCTLINE_Kompakt                            bool   \n",
            " 21  PRODUCTLINE_Plus                               bool   \n",
            " 22  PRODUCTLINE_Premium                            bool   \n",
            " 23  PRODUCTLINE_Sonst                              bool   \n",
            " 24  PRODUCTLINE_Top                                bool   \n",
            " 25  UNDERWRITER_Y                                  bool   \n",
            " 26  ZONE_1.0                                       bool   \n",
            " 27  ZONE_2.0                                       bool   \n",
            " 28  ZONE_3.0                                       bool   \n",
            " 29  ZONE_4.0                                       bool   \n",
            " 30  ZONE_5.0                                       bool   \n",
            " 31  ZONE_6.0                                       bool   \n",
            " 32  ZONE_7.0                                       bool   \n",
            " 33  ZONE_8.0                                       bool   \n",
            " 34  ZONE_0                                         bool   \n",
            " 35  ZONE_0.0                                       bool   \n",
            " 36  ZONE_1                                         bool   \n",
            " 37  ZONE_1.0                                       bool   \n",
            " 38  ZONE_2                                         bool   \n",
            " 39  ZONE_2.0                                       bool   \n",
            " 40  ZONE_3                                         bool   \n",
            " 41  ZONE_3.0                                       bool   \n",
            " 42  ZONE_4                                         bool   \n",
            " 43  ZONE_4.0                                       bool   \n",
            " 44  ZONE_5                                         bool   \n",
            " 45  ZONE_5.0                                       bool   \n",
            " 46  ZONE_6                                         bool   \n",
            " 47  ZONE_6.0                                       bool   \n",
            " 48  ZONE_7                                         bool   \n",
            " 49  ZONE_7.0                                       bool   \n",
            " 50  ZONE_8                                         bool   \n",
            " 51  ZONE_8.0                                       bool   \n",
            "dtypes: bool(43), float64(4), int64(5)\n",
            "memory usage: 1013.1 MB\n",
            "None\n"
          ]
        }
      ]
    },
    {
      "cell_type": "code",
      "source": [
        "# Define feature and target\n",
        "\n",
        "X = features_binary.drop(columns=['DAMAGE'])\n",
        "y = features_binary['DAMAGE']\n",
        "\n",
        "YEAR_INDEX = features_binary.columns.get_loc('YEAR')\n",
        "print(YEAR_INDEX)"
      ],
      "metadata": {
        "colab": {
          "base_uri": "https://localhost:8080/"
        },
        "id": "gSk1hjJqoVi_",
        "outputId": "338d3a17-2e9e-4eaf-8d17-58f47bb911c4"
      },
      "execution_count": 67,
      "outputs": [
        {
          "output_type": "stream",
          "name": "stdout",
          "text": [
            "8\n"
          ]
        }
      ]
    },
    {
      "cell_type": "code",
      "source": [
        "\n",
        "YEAR_INDEX = 8\n",
        "\n",
        "# Iterate over unique years in the dataset\n",
        "unique_years = np.unique(X.iloc[:, YEAR_INDEX])\n",
        "yearly_accuracies = {}\n",
        "for i in range(1, len(unique_years)):\n",
        "    train_year = unique_years[i-1]\n",
        "    test_year = unique_years[i]\n",
        "\n",
        "    # Select data for training and testing\n",
        "    X_train = X[X.iloc[:, YEAR_INDEX] == train_year]\n",
        "    y_train = y[X.iloc[:, YEAR_INDEX] == train_year]\n",
        "    X_test = X[X.iloc[:, YEAR_INDEX] == test_year]\n",
        "    y_test = y[X.iloc[:, YEAR_INDEX] == test_year]\n",
        "\n",
        "    # Undersample the training data\n",
        "    under_sampler = RandomUnderSampler(random_state=42)\n",
        "    X_resampled, y_resampled = under_sampler.fit_resample(X_train, y_train)\n",
        "\n",
        "    # Initialize and train Random Forest classifier\n",
        "    rf_classifier = RandomForestClassifier(n_estimators=50, random_state=42)\n",
        "    rf_classifier.fit(X_resampled, y_resampled)\n",
        "\n",
        "    # Make predictions\n",
        "    y_pred = rf_classifier.predict(X_test)\n",
        "\n",
        "    # Calculate accuracy for the current year\n",
        "    accuracy = accuracy_score(y_test, y_pred)\n",
        "\n",
        "    # Store accuracy value for the current year\n",
        "    yearly_accuracies[test_year] = accuracy\n",
        "\n",
        "    # Evaluate model\n",
        "    print(\"Accuracy for year {}: {:.2f}\".format(test_year, accuracy))"
      ],
      "metadata": {
        "colab": {
          "base_uri": "https://localhost:8080/"
        },
        "id": "shjdeTf2l191",
        "outputId": "a6ce4eca-87e7-40f3-fb93-58ac777a459a"
      },
      "execution_count": 68,
      "outputs": [
        {
          "output_type": "stream",
          "name": "stdout",
          "text": [
            "Accuracy for year True: 0.98\n"
          ]
        }
      ]
    },
    {
      "cell_type": "code",
      "source": [
        "# Calculate accuracy\n",
        "accuracy = accuracy_score(y_test, y_pred)\n",
        "print(\"Accuracy:\", accuracy)\n",
        "\n",
        "# Generating confusion matrix\n",
        "conf_matrix = confusion_matrix(y_test, y_pred)\n",
        "\n",
        "# Displaying confusion matrix\n",
        "print(\"Confusion Matrix:\")\n",
        "print(conf_matrix)\n",
        "\n",
        "# Extracting TP, FP, TN, FN from the confusion matrix\n",
        "TN = conf_matrix[0][0]\n",
        "FP = conf_matrix[0][1]\n",
        "FN = conf_matrix[1][0]\n",
        "TP = conf_matrix[1][1]\n",
        "\n",
        "# Printing TP, FP, TN, FN\n",
        "print(\"True Positives:\", TP)\n",
        "print(\"False Positives:\", FP)\n",
        "print(\"True Negatives:\", TN)\n",
        "print(\"False Negatives:\", FN)"
      ],
      "metadata": {
        "colab": {
          "base_uri": "https://localhost:8080/"
        },
        "id": "8Fzce5Vjw3tw",
        "outputId": "0a9687d3-d7a6-453d-9d72-3d9aaa9c376a"
      },
      "execution_count": 62,
      "outputs": [
        {
          "output_type": "stream",
          "name": "stdout",
          "text": [
            "Accuracy: 0.9838248320000199\n",
            "Confusion Matrix:\n",
            "[[6315109   79791]\n",
            " [  24043     403]]\n",
            "True Positives: 403\n",
            "False Positives: 79791\n",
            "True Negatives: 6315109\n",
            "False Negatives: 24043\n"
          ]
        }
      ]
    }
  ]
}