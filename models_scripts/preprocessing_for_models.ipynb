{
 "cells": [
  {
   "cell_type": "code",
   "execution_count": 1,
   "metadata": {},
   "outputs": [],
   "source": [
    "import pandas as pd\n",
    "import numpy as np\n",
    "from sklearn.utils import resample"
   ]
  },
  {
   "cell_type": "code",
   "execution_count": 8,
   "metadata": {},
   "outputs": [
    {
     "name": "stderr",
     "output_type": "stream",
     "text": [
      "C:\\Users\\franc\\AppData\\Local\\Temp\\ipykernel_13188\\867092918.py:2: DtypeWarning: Columns (13) have mixed types. Specify dtype option on import or set low_memory=False.\n",
      "  contracts = pd.read_csv('../../data/contracts_clean_final.csv')\n"
     ]
    },
    {
     "name": "stdout",
     "output_type": "stream",
     "text": [
      "<class 'pandas.core.frame.DataFrame'>\n",
      "RangeIndex: 10353244 entries, 0 to 10353243\n",
      "Data columns (total 30 columns):\n",
      " #   Column                  Dtype  \n",
      "---  ------                  -----  \n",
      " 0   Unnamed: 0              int64  \n",
      " 1   ANO_SID                 float64\n",
      " 2   CORPORATE_DEVISION      object \n",
      " 3   Bundesland              object \n",
      " 4   Kreis                   object \n",
      " 5   Typ                     object \n",
      " 6   ORTPLZ                  int64  \n",
      " 7   ORTS-NAME               object \n",
      " 8   STRASSE                 object \n",
      " 9   SUM_INSURED             float64\n",
      " 10  CONSTRACTION_DESIGN     object \n",
      " 11  CONSTRUCTION_YEAR       float64\n",
      " 12  WFL                     float64\n",
      " 13  ZONE                    object \n",
      " 14  SF-SYSTEM               float64\n",
      " 15  TYPE_OF_DEDUCTIBLE      int64  \n",
      " 16  DRAIN_PIPE_INSURED      int64  \n",
      " 17  PRODUCTLINE             object \n",
      " 18  PRIOR_DAMAGES           int64  \n",
      " 19  UVV-KZ                  int64  \n",
      " 20  UNDERWRITER             object \n",
      " 21  PARTY-ID                object \n",
      " 22  contract_year           object \n",
      " 23  PIPE_PREMIUM_AMOUNT     float64\n",
      " 24  YEAR                    int64  \n",
      " 25  DAMAGE_FLOOD_ZONE       float64\n",
      " 26  DAMAGE_HEAVY_RAIN_ZONE  float64\n",
      " 27  LONGITUDE               float64\n",
      " 28  LATITUDE                float64\n",
      " 29  DAMAGE                  int64  \n",
      "dtypes: float64(10), int64(8), object(12)\n",
      "memory usage: 2.3+ GB\n"
     ]
    }
   ],
   "source": [
    "# Import data\n",
    "contracts = pd.read_csv('../../data/contracts_clean_final.csv')\n",
    "contracts.info()"
   ]
  },
  {
   "cell_type": "code",
   "execution_count": 9,
   "metadata": {},
   "outputs": [],
   "source": [
    "# Clean data that is not needed for the model (or would be too hard to encode)\n",
    "contracts = contracts.drop(['Unnamed: 0', 'SF-SYSTEM', 'ANO_SID', 'ORTS-NAME', 'STRASSE', 'PARTY-ID', 'contract_year',\n",
    "                            'Kreis', 'DAMAGE_FLOOD_ZONE'], axis=1)\n",
    "contracts = contracts.dropna()"
   ]
  },
  {
   "cell_type": "code",
   "execution_count": 10,
   "metadata": {},
   "outputs": [
    {
     "name": "stdout",
     "output_type": "stream",
     "text": [
      "Original unique values: 27\n",
      "New unique values: 18\n"
     ]
    }
   ],
   "source": [
    "# Convert all zone values to string (to reduce amount of unique values)\n",
    "print('Original unique values:', contracts['ZONE'].nunique())\n",
    "contracts['ZONE'] = contracts['ZONE'].astype('str')\n",
    "print('New unique values:', contracts['ZONE'].nunique())"
   ]
  },
  {
   "cell_type": "code",
   "execution_count": 11,
   "metadata": {},
   "outputs": [
    {
     "name": "stdout",
     "output_type": "stream",
     "text": [
      "<class 'pandas.core.frame.DataFrame'>\n",
      "Index: 7163047 entries, 0 to 10353243\n",
      "Data columns (total 63 columns):\n",
      " #   Column                                         Dtype  \n",
      "---  ------                                         -----  \n",
      " 0   ORTPLZ                                         int64  \n",
      " 1   SUM_INSURED                                    float64\n",
      " 2   CONSTRUCTION_YEAR                              float64\n",
      " 3   WFL                                            float64\n",
      " 4   TYPE_OF_DEDUCTIBLE                             int64  \n",
      " 5   DRAIN_PIPE_INSURED                             int64  \n",
      " 6   PRIOR_DAMAGES                                  int64  \n",
      " 7   UVV-KZ                                         int64  \n",
      " 8   PIPE_PREMIUM_AMOUNT                            float64\n",
      " 9   YEAR                                           int64  \n",
      " 10  DAMAGE_HEAVY_RAIN_ZONE                         float64\n",
      " 11  LONGITUDE                                      float64\n",
      " 12  LATITUDE                                       float64\n",
      " 13  DAMAGE                                         int64  \n",
      " 14  CORPORATE_DEVISION_VHV                         bool   \n",
      " 15  Bundesland_Bayern                              bool   \n",
      " 16  Bundesland_Berlin                              bool   \n",
      " 17  Bundesland_Brandenburg                         bool   \n",
      " 18  Bundesland_Bremen                              bool   \n",
      " 19  Bundesland_Hamburg                             bool   \n",
      " 20  Bundesland_Hessen                              bool   \n",
      " 21  Bundesland_Mecklenburg-Vorpommern              bool   \n",
      " 22  Bundesland_Niedersachsen                       bool   \n",
      " 23  Bundesland_Nordrhein-Westfalen                 bool   \n",
      " 24  Bundesland_Rheinland-Pfalz                     bool   \n",
      " 25  Bundesland_Saarland                            bool   \n",
      " 26  Bundesland_Sachsen                             bool   \n",
      " 27  Bundesland_Sachsen-Anhalt                      bool   \n",
      " 28  Bundesland_Schleswig-Holstein                  bool   \n",
      " 29  Bundesland_Thüringen                           bool   \n",
      " 30  Typ_Stadt                                      bool   \n",
      " 31  CONSTRACTION_DESIGN_CARAVAN_MOTORHOME          bool   \n",
      " 32  CONSTRACTION_DESIGN_DESIGN_CLASS_I             bool   \n",
      " 33  CONSTRACTION_DESIGN_DESIGN_CLASS_II            bool   \n",
      " 34  CONSTRACTION_DESIGN_DESIGN_CLASS_III           bool   \n",
      " 35  CONSTRACTION_DESIGN_DESIGN_CLASS_IV            bool   \n",
      " 36  CONSTRACTION_DESIGN_DESIGN_CLASS_V             bool   \n",
      " 37  CONSTRACTION_DESIGN_NORMAL_VENTURE             bool   \n",
      " 38  CONSTRACTION_DESIGN_PREDOMINANTLY_WOODEN_ROOF  bool   \n",
      " 39  CONSTRACTION_DESIGN_PREFAB_HOUSE               bool   \n",
      " 40  ZONE_0.0                                       bool   \n",
      " 41  ZONE_1                                         bool   \n",
      " 42  ZONE_1.0                                       bool   \n",
      " 43  ZONE_2                                         bool   \n",
      " 44  ZONE_2.0                                       bool   \n",
      " 45  ZONE_3                                         bool   \n",
      " 46  ZONE_3.0                                       bool   \n",
      " 47  ZONE_4                                         bool   \n",
      " 48  ZONE_4.0                                       bool   \n",
      " 49  ZONE_5                                         bool   \n",
      " 50  ZONE_5.0                                       bool   \n",
      " 51  ZONE_6                                         bool   \n",
      " 52  ZONE_6.0                                       bool   \n",
      " 53  ZONE_7                                         bool   \n",
      " 54  ZONE_7.0                                       bool   \n",
      " 55  ZONE_8                                         bool   \n",
      " 56  ZONE_8.0                                       bool   \n",
      " 57  PRODUCTLINE_Kompakt                            bool   \n",
      " 58  PRODUCTLINE_Plus                               bool   \n",
      " 59  PRODUCTLINE_Premium                            bool   \n",
      " 60  PRODUCTLINE_Sonst                              bool   \n",
      " 61  PRODUCTLINE_Top                                bool   \n",
      " 62  UNDERWRITER_Y                                  bool   \n",
      "dtypes: bool(49), float64(7), int64(7)\n",
      "memory usage: 1.1 GB\n"
     ]
    }
   ],
   "source": [
    "# Prepare binary variables\n",
    "columns_to_encode = contracts.select_dtypes(include=['object']).columns\n",
    "df_binary = pd.get_dummies(contracts, columns=columns_to_encode, drop_first=True)\n",
    "df_binary.info()"
   ]
  },
  {
   "cell_type": "code",
   "execution_count": 12,
   "metadata": {},
   "outputs": [],
   "source": [
    "# Training data: 2014; testing data: 2015\n",
    "\n",
    "# full data\n",
    "train = df_binary[df_binary['YEAR']==2014]\n",
    "test = df_binary[df_binary['YEAR']==2015]"
   ]
  },
  {
   "cell_type": "code",
   "execution_count": 15,
   "metadata": {},
   "outputs": [
    {
     "name": "stdout",
     "output_type": "stream",
     "text": [
      "Before rebalancing: Class 0 = 614492, Class 1 = 6760\n",
      "After rebalancing: Class 0 = 614492, Class 1 = 153623\n"
     ]
    }
   ],
   "source": [
    "# Resample classes to ratio 1:4\n",
    "# Only resample training data, for every year you're running the model on\n",
    "# Don't resample test data\n",
    "\n",
    "class_0 = train[train['DAMAGE'] == 0]\n",
    "class_1 = train[train['DAMAGE'] == 1]\n",
    "print(f\"Before rebalancing: Class 0 = {len(class_0)}, Class 1 = {len(class_1)}\")\n",
    "\n",
    "# Determine the number of samples needed for each class\n",
    "n_samples_0 = len(class_0)\n",
    "n_samples_1 = n_samples_0 // 4\n",
    "\n",
    "# Resample class 1\n",
    "class_1_resampled = resample(class_1, \n",
    "                                replace=True, \n",
    "                                n_samples=n_samples_1, \n",
    "                                random_state=1234)\n",
    "\n",
    "# Combine the resampled class 1 with class 0\n",
    "train_resampled = pd.concat([class_0, class_1_resampled])\n",
    "\n",
    "# Print lengths after rebalancing\n",
    "print(f\"After rebalancing: Class 0 = {len(train_resampled[train_resampled['DAMAGE'] == 0])}, Class 1 = {len(train_resampled[train_resampled['DAMAGE'] == 1])}\")"
   ]
  },
  {
   "cell_type": "code",
   "execution_count": 16,
   "metadata": {},
   "outputs": [],
   "source": [
    "# Separate features and target variable\n",
    "X_train = train_resampled.drop(['YEAR', 'DAMAGE'], axis=1)\n",
    "y_train = train_resampled['DAMAGE']\n",
    "\n",
    "X_test = test.drop(['YEAR', 'DAMAGE'], axis=1)\n",
    "y_test = test['DAMAGE']"
   ]
  },
  {
   "cell_type": "code",
   "execution_count": null,
   "metadata": {},
   "outputs": [],
   "source": []
  }
 ],
 "metadata": {
  "kernelspec": {
   "display_name": "Python 3",
   "language": "python",
   "name": "python3"
  },
  "language_info": {
   "codemirror_mode": {
    "name": "ipython",
    "version": 3
   },
   "file_extension": ".py",
   "mimetype": "text/x-python",
   "name": "python",
   "nbconvert_exporter": "python",
   "pygments_lexer": "ipython3",
   "version": "3.12.3"
  }
 },
 "nbformat": 4,
 "nbformat_minor": 2
}
