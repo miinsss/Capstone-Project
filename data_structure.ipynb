{
  "cells": [
    {
      "cell_type": "markdown",
      "metadata": {
        "id": "view-in-github",
        "colab_type": "text"
      },
      "source": [
        "<a href=\"https://colab.research.google.com/github/miinsss/Capstone-Project/blob/main/data_structure.ipynb\" target=\"_parent\"><img src=\"https://colab.research.google.com/assets/colab-badge.svg\" alt=\"Open In Colab\"/></a>"
      ]
    },
    {
      "cell_type": "markdown",
      "metadata": {
        "id": "ul8FG0MadDKn"
      },
      "source": [
        "# Installations"
      ]
    },
    {
      "cell_type": "code",
      "execution_count": null,
      "metadata": {
        "colab": {
          "base_uri": "https://localhost:8080/"
        },
        "id": "iDRL-Rnq3DGV",
        "outputId": "1093814c-43c6-4e53-9cb0-75eddaedf960"
      },
      "outputs": [
        {
          "name": "stdout",
          "output_type": "stream",
          "text": [
            "Collecting msoffcrypto-tool\n",
            "  Downloading msoffcrypto_tool-5.4.0-py3-none-any.whl (47 kB)\n",
            "\u001b[?25l     \u001b[90m━━━━━━━━━━━━━━━━━━━━━━━━━━━━━━━━━━━━━━━━\u001b[0m \u001b[32m0.0/48.0 kB\u001b[0m \u001b[31m?\u001b[0m eta \u001b[36m-:--:--\u001b[0m\r\u001b[2K     \u001b[90m━━━━━━━━━━━━━━━━━━━━━━━━━━━━━━━━━━━━━━━━\u001b[0m \u001b[32m48.0/48.0 kB\u001b[0m \u001b[31m1.2 MB/s\u001b[0m eta \u001b[36m0:00:00\u001b[0m\n",
            "\u001b[?25hRequirement already satisfied: openpyxl in /usr/local/lib/python3.10/dist-packages (3.1.2)\n",
            "Requirement already satisfied: cryptography>=35.0 in /usr/local/lib/python3.10/dist-packages (from msoffcrypto-tool) (42.0.7)\n",
            "Collecting olefile>=0.46 (from msoffcrypto-tool)\n",
            "  Downloading olefile-0.47-py2.py3-none-any.whl (114 kB)\n",
            "\u001b[?25l     \u001b[90m━━━━━━━━━━━━━━━━━━━━━━━━━━━━━━━━━━━━━━━━\u001b[0m \u001b[32m0.0/114.6 kB\u001b[0m \u001b[31m?\u001b[0m eta \u001b[36m-:--:--\u001b[0m\r\u001b[2K     \u001b[90m━━━━━━━━━━━━━━━━━━━━━━━━━━━━━━━━━━━━━━━━\u001b[0m \u001b[32m114.6/114.6 kB\u001b[0m \u001b[31m6.1 MB/s\u001b[0m eta \u001b[36m0:00:00\u001b[0m\n",
            "\u001b[?25hRequirement already satisfied: et-xmlfile in /usr/local/lib/python3.10/dist-packages (from openpyxl) (1.1.0)\n",
            "Requirement already satisfied: cffi>=1.12 in /usr/local/lib/python3.10/dist-packages (from cryptography>=35.0->msoffcrypto-tool) (1.16.0)\n",
            "Requirement already satisfied: pycparser in /usr/local/lib/python3.10/dist-packages (from cffi>=1.12->cryptography>=35.0->msoffcrypto-tool) (2.22)\n",
            "Installing collected packages: olefile, msoffcrypto-tool\n",
            "Successfully installed msoffcrypto-tool-5.4.0 olefile-0.47\n"
          ]
        }
      ],
      "source": [
        "!pip install msoffcrypto-tool openpyxl"
      ]
    },
    {
      "cell_type": "code",
      "execution_count": null,
      "metadata": {
        "id": "DSUmBGvX1xz5"
      },
      "outputs": [],
      "source": [
        "import msoffcrypto\n",
        "import pandas as pd\n",
        "from google.colab import drive\n",
        "import io\n",
        "import time"
      ]
    },
    {
      "cell_type": "markdown",
      "metadata": {
        "id": "EAD5koIbdHjf"
      },
      "source": [
        "# Merging the contract tables into one csv table"
      ]
    },
    {
      "cell_type": "code",
      "execution_count": 1,
      "metadata": {
        "colab": {
          "base_uri": "https://localhost:8080/",
          "height": 207
        },
        "id": "Xixqb4BBan4Q",
        "outputId": "d02dd799-3f3e-40fd-bae2-0982f1cfe3dc"
      },
      "outputs": [
        {
          "output_type": "error",
          "ename": "NameError",
          "evalue": "name 'drive' is not defined",
          "traceback": [
            "\u001b[0;31m---------------------------------------------------------------------------\u001b[0m",
            "\u001b[0;31mNameError\u001b[0m                                 Traceback (most recent call last)",
            "\u001b[0;32m<ipython-input-1-6f9175732972>\u001b[0m in \u001b[0;36m<cell line: 2>\u001b[0;34m()\u001b[0m\n\u001b[1;32m      1\u001b[0m \u001b[0;31m# Mount Google Drive\u001b[0m\u001b[0;34m\u001b[0m\u001b[0;34m\u001b[0m\u001b[0m\n\u001b[0;32m----> 2\u001b[0;31m \u001b[0mdrive\u001b[0m\u001b[0;34m.\u001b[0m\u001b[0mmount\u001b[0m\u001b[0;34m(\u001b[0m\u001b[0;34m'/content/drive'\u001b[0m\u001b[0;34m,\u001b[0m \u001b[0mforce_remount\u001b[0m\u001b[0;34m=\u001b[0m\u001b[0;32mTrue\u001b[0m\u001b[0;34m)\u001b[0m\u001b[0;34m\u001b[0m\u001b[0;34m\u001b[0m\u001b[0m\n\u001b[0m\u001b[1;32m      3\u001b[0m \u001b[0;34m\u001b[0m\u001b[0m\n\u001b[1;32m      4\u001b[0m \u001b[0;31m# Define the path to your files\u001b[0m\u001b[0;34m\u001b[0m\u001b[0;34m\u001b[0m\u001b[0m\n\u001b[1;32m      5\u001b[0m \u001b[0mbase_path\u001b[0m \u001b[0;34m=\u001b[0m \u001b[0;34m'/content/drive/My Drive/Capstone/new Data/'\u001b[0m\u001b[0;34m\u001b[0m\u001b[0;34m\u001b[0m\u001b[0m\n",
            "\u001b[0;31mNameError\u001b[0m: name 'drive' is not defined"
          ]
        }
      ],
      "source": [
        "# Mount Google Drive\n",
        "drive.mount('/content/drive', force_remount=True)\n",
        "\n",
        "# Define the path to your files\n",
        "base_path = '/content/drive/My Drive/Capstone/new Data/'\n",
        "password = 'Got8aer_CapStone'  # Replace with the actual password\n",
        "\n",
        "# List of years and corresponding file paths\n",
        "years = list(range(14, 25))\n",
        "file_paths = [f'{base_path}DT_CONTRACT_{year:02d}.xlsx' for year in years]\n",
        "\n",
        "# Initialize an empty list to hold the DataFrames\n",
        "dfs = []\n",
        "\n",
        "# Loop through each file, decrypt it, read it into a DataFrame using openpyxl, and add the contract year column\n",
        "for year, file_path in zip(years, file_paths):\n",
        "    start_time = time.time()  # Start timing\n",
        "    print(f'Processing file for year {2000 + year}: {file_path}')\n",
        "\n",
        "    # Decrypt the file\n",
        "    decrypted = io.BytesIO()\n",
        "    with open(file_path, 'rb') as f:\n",
        "        file = msoffcrypto.OfficeFile(f)\n",
        "        file.load_key(password=password)\n",
        "        file.decrypt(decrypted)\n",
        "\n",
        "    # Read the decrypted file into a DataFrame\n",
        "    decrypted.seek(0)  # Reset the pointer to the beginning of the BytesIO object\n",
        "    df = pd.read_excel(decrypted, engine='openpyxl')\n",
        "    df['contract_year'] = 2000 + year  # Adjust the year to be a 4-digit year (e.g., 2014)\n",
        "    dfs.append(df)\n",
        "\n",
        "    end_time = time.time()  # End timing\n",
        "    print(f'Finished processing year {2000 + year} in {end_time - start_time:.2f} seconds')\n",
        "\n",
        "# Concatenate all DataFrames into one large DataFrame\n",
        "combined_df = pd.concat(dfs, ignore_index=True)\n",
        "\n",
        "# Display the first few rows of the combined DataFrame\n",
        "print(combined_df.head())\n",
        "\n",
        "# Save the combined DataFrame to a CSV file\n",
        "output_path = f'{base_path}combined_contracts.csv'\n",
        "combined_df.to_csv(output_path, index=False)"
      ]
    },
    {
      "cell_type": "markdown",
      "metadata": {
        "id": "p8FMl1o1dTaX"
      },
      "source": [
        "# Split data into categories"
      ]
    },
    {
      "cell_type": "code",
      "execution_count": null,
      "metadata": {
        "id": "NPEY-zP7feTx"
      },
      "outputs": [],
      "source": [
        "# Define column categories including the common key 'ANO_SID'\n",
        "common_key = 'ANO_SID'\n",
        "\n",
        "contract_columns = [common_key, 'CORPORATE_DEVISION', 'ORTPLZ', 'ORTS-NAME', 'STRASSE', 'SUM_INSURED',\n",
        "                    'CONSTRACTION_DESIGN', 'CONSTRUCTION_YEAR', 'BASEMENT', 'BUILDING_TYPE', 'WFL', 'ZONE',\n",
        "                    'SF-SYSTEM', 'TYPE_OF_DEDUCTIBLE', 'Selbstbeteiligung in Prozent', 'SBMIN', 'DEDUCTIBLE_MAX',\n",
        "                    'DRAIN_PIPE_INSURED', 'PRODUCTLINE', 'INVENTORY_MANAGEMENT_SYSTEM', 'KEYDATE', 'PRIOR_DAMAGES',\n",
        "                    'RISK_NATION', 'UVV-KZ', 'SFR-JAHRE', 'UNDERWRITER', 'PARTY-ID', 'PREMIUM_AMOUNT']\n",
        "\n",
        "damage_columns = [common_key, 'DAMAGE_TYPE', 'DAMAGE_INCIDENT', 'DAMAGE_EVENT_TOWN', 'DAMAGE_EVENT_ZIP_CODE',\n",
        "                  'DAMAGE_EVENT_STREET', 'DAMAGE_TRAIT_DESIGNMENT', 'DAMAGE_CAUSE_DESIGNMENT',\n",
        "                  'DAMAGE_BRANCH_DESIGNMENT', 'DAMAGE_ID']\n",
        "\n",
        "financial_columns = [common_key, 'TOTAL_DAMAGE', 'INITIAL_RESERVATION', 'PAYOUT', 'RESIDUAL_AMOUNT', 'EXPENSE']\n",
        "\n",
        "admin_columns = [common_key, 'DEPARTMENT_SEGMENT', 'DEPARTMENT_RESPONSIBLE', 'DEPARTMENT_CUSTOMER_SEGMENT', 'ADDRESS_TYPE',\n",
        "                 'DAMAGE_REPORTER', 'DAMAGE_CLUSTER_ID', 'DATE_INITIAL_RESERVATION', 'DATE_DAMAGE_EVENT',\n",
        "                 'DATE_COMPLETION_DATE']\n",
        "\n",
        "# Split the DataFrame into different categories\n",
        "contract_df = combined_df[contract_columns]\n",
        "damage_df = combined_df[damage_columns]\n",
        "financial_df = combined_df[financial_columns]\n",
        "admin_df = combined_df[admin_columns]\n",
        "\n",
        "# Optionally, save each category to a separate CSV file\n",
        "contract_df.to_csv(f'{base_path}contract_data.csv', index=False)\n",
        "damage_df.to_csv(f'{base_path}damage_data.csv', index=False)\n",
        "financial_df.to_csv(f'{base_path}financial_data.csv', index=False)\n",
        "admin_df.to_csv(f'{base_path}admin_data.csv', index=False)"
      ]
    }
  ],
  "metadata": {
    "colab": {
      "provenance": [],
      "authorship_tag": "ABX9TyMac5+p64uw3sQsFwAxqUHB",
      "include_colab_link": true
    },
    "kernelspec": {
      "display_name": "Python 3",
      "name": "python3"
    },
    "language_info": {
      "name": "python"
    }
  },
  "nbformat": 4,
  "nbformat_minor": 0
}