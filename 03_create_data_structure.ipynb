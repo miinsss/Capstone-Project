{
  "cells": [
    {
      "cell_type": "markdown",
      "metadata": {
        "id": "view-in-github",
        "colab_type": "text"
      },
      "source": [
        "<a href=\"https://colab.research.google.com/github/miinsss/Capstone-Project/blob/main/03_create_data_structure.ipynb\" target=\"_parent\"><img src=\"https://colab.research.google.com/assets/colab-badge.svg\" alt=\"Open In Colab\"/></a>"
      ]
    },
    {
      "cell_type": "markdown",
      "metadata": {
        "id": "ul8FG0MadDKn"
      },
      "source": [
        "# Installations"
      ]
    },
    {
      "cell_type": "code",
      "execution_count": 1,
      "metadata": {
        "id": "iDRL-Rnq3DGV",
        "colab": {
          "base_uri": "https://localhost:8080/"
        },
        "outputId": "60cf1e5c-9a83-4f43-8258-1c3a47ee7a7a"
      },
      "outputs": [
        {
          "output_type": "stream",
          "name": "stdout",
          "text": [
            "Collecting msoffcrypto-tool\n",
            "  Downloading msoffcrypto_tool-5.4.0-py3-none-any.whl (47 kB)\n",
            "\u001b[?25l     \u001b[90m━━━━━━━━━━━━━━━━━━━━━━━━━━━━━━━━━━━━━━━━\u001b[0m \u001b[32m0.0/48.0 kB\u001b[0m \u001b[31m?\u001b[0m eta \u001b[36m-:--:--\u001b[0m\r\u001b[2K     \u001b[90m━━━━━━━━━━━━━━━━━━━━━━━━━━━━━━━━━━━━━━━━\u001b[0m \u001b[32m48.0/48.0 kB\u001b[0m \u001b[31m1.6 MB/s\u001b[0m eta \u001b[36m0:00:00\u001b[0m\n",
            "\u001b[?25hRequirement already satisfied: openpyxl in /usr/local/lib/python3.10/dist-packages (3.1.2)\n",
            "Requirement already satisfied: cryptography>=35.0 in /usr/local/lib/python3.10/dist-packages (from msoffcrypto-tool) (42.0.7)\n",
            "Collecting olefile>=0.46 (from msoffcrypto-tool)\n",
            "  Downloading olefile-0.47-py2.py3-none-any.whl (114 kB)\n",
            "\u001b[2K     \u001b[90m━━━━━━━━━━━━━━━━━━━━━━━━━━━━━━━━━━━━━━━━\u001b[0m \u001b[32m114.6/114.6 kB\u001b[0m \u001b[31m5.9 MB/s\u001b[0m eta \u001b[36m0:00:00\u001b[0m\n",
            "\u001b[?25hRequirement already satisfied: et-xmlfile in /usr/local/lib/python3.10/dist-packages (from openpyxl) (1.1.0)\n",
            "Requirement already satisfied: cffi>=1.12 in /usr/local/lib/python3.10/dist-packages (from cryptography>=35.0->msoffcrypto-tool) (1.16.0)\n",
            "Requirement already satisfied: pycparser in /usr/local/lib/python3.10/dist-packages (from cffi>=1.12->cryptography>=35.0->msoffcrypto-tool) (2.22)\n",
            "Installing collected packages: olefile, msoffcrypto-tool\n",
            "Successfully installed msoffcrypto-tool-5.4.0 olefile-0.47\n"
          ]
        }
      ],
      "source": [
        "!pip install msoffcrypto-tool openpyxl"
      ]
    },
    {
      "cell_type": "code",
      "execution_count": 2,
      "metadata": {
        "id": "DSUmBGvX1xz5"
      },
      "outputs": [],
      "source": [
        "import msoffcrypto\n",
        "import pandas as pd\n",
        "from google.colab import drive\n",
        "import io\n",
        "import time"
      ]
    },
    {
      "cell_type": "markdown",
      "metadata": {
        "id": "p8FMl1o1dTaX"
      },
      "source": [
        "# Split data into categories"
      ]
    },
    {
      "cell_type": "code",
      "source": [
        "# Mount Google Drive\n",
        "drive.mount('/content/drive', force_remount=True)\n",
        "\n",
        "# Define the path to your files\n",
        "base_path = '/content/drive/My Drive/Capstone/Data/all_data_cleaned.csv'"
      ],
      "metadata": {
        "colab": {
          "base_uri": "https://localhost:8080/"
        },
        "id": "sP1FVZnNI0pb",
        "outputId": "10a844aa-eabc-4be8-9e27-48a3e0e90ea2"
      },
      "execution_count": 3,
      "outputs": [
        {
          "output_type": "stream",
          "name": "stdout",
          "text": [
            "Mounted at /content/drive\n"
          ]
        }
      ]
    },
    {
      "cell_type": "code",
      "source": [
        "# Load the CSV files into DataFrames in chunks\n",
        "chunk_size = 10000  # Adjust based on your memory limitations\n",
        "\n",
        "data_chunks = pd.read_csv(base_path, chunksize=chunk_size)\n",
        "data_all = pd.concat(data_chunks)\n",
        "\n",
        "# Display column names to check for correct names\n",
        "print(data_all.columns)"
      ],
      "metadata": {
        "colab": {
          "base_uri": "https://localhost:8080/"
        },
        "id": "OmHgFhurnKm1",
        "outputId": "ab4d02b2-c6f5-4268-9456-3057f5b18542"
      },
      "execution_count": 5,
      "outputs": [
        {
          "output_type": "stream",
          "name": "stdout",
          "text": [
            "Index(['EXPENSE', 'DAMAGE_CLUSTER_ID', 'DAT_ANL_ERSTRESERVIERUNG',\n",
            "       'DAT_EREIGNIS', 'ANO_SID', 'INITIAL_RESERVATION', 'TOTAL_DAMAGE',\n",
            "       'GESCHAEFTS_FELD_ID', 'RESIDUAL_AMOUNT', 'DAMAGE_INCIDENT',\n",
            "       'SCH_MERKMAL_KZ', 'SCH_URSACHE_KZ', 'DAMAGE_CAUSE_DESIGNMENT',\n",
            "       'SCH_ZW_BEZ', 'SCH_ZW_CD', 'ANO_SID.1', 'DIVISION_LEVEL_00',\n",
            "       'DIVISION_LEVEL_01', 'DIVISION_LEVEL_02', 'DIVISION_LEVEL_03',\n",
            "       'DIVISION_LEVEL_04', 'DIVISION_LEVEL_05', 'VER_STATNR', 'PAYOUT',\n",
            "       'Year', 'CORPORATE_DEVISION', 'ORTPLZ', 'ORTS-NAME', 'STRASSE',\n",
            "       'SUM_INSURED', 'CONSTRACTION_DESIGN', 'CONSTRUCTION_YEAR', 'WFL',\n",
            "       'ZONE', 'SF-SYSTEM', 'TYPE_OF_DEDUCTIBLE', 'DRAIN_PIPE_INSURED',\n",
            "       'PRODUCTLINE', 'PRIOR_DAMAGES', 'UVV-KZ', 'UNDERWRITER', 'PARTY-ID',\n",
            "       'PREMIUM_AMOUNT', 'contract_year', 'NET_PREMIUM_AMOUNT',\n",
            "       'PIPE_PREMIUM_AMOUNT', 'RISK_SCORE'],\n",
            "      dtype='object')\n"
          ]
        }
      ]
    },
    {
      "cell_type": "code",
      "source": [
        "# Define columns for each category\n",
        "contract_columns = [\n",
        "    'ANO_SID', 'CORPORATE_DEVISION', 'ORTPLZ', 'ORTS-NAME', 'STRASSE',\n",
        "    'SUM_INSURED', 'CONSTRACTION_DESIGN', 'CONSTRUCTION_YEAR', 'WFL',\n",
        "    'ZONE', 'SF-SYSTEM', 'TYPE_OF_DEDUCTIBLE', 'DRAIN_PIPE_INSURED',\n",
        "    'PRODUCTLINE', 'PRIOR_DAMAGES', 'UVV-KZ', 'UNDERWRITER', 'PARTY-ID',\n",
        "    'PREMIUM_AMOUNT', 'contract_year'\n",
        "]\n",
        "\n",
        "damage_columns = [\n",
        "    'EXPENSE', 'DAMAGE_CLUSTER_ID', 'DAT_ANL_ERSTRESERVIERUNG', 'DAT_EREIGNIS',\n",
        "    'INITIAL_RESERVATION', 'TOTAL_DAMAGE', 'GESCHAEFTS_FELD_ID', 'RESIDUAL_AMOUNT',\n",
        "    'DAMAGE_INCIDENT', 'SCH_MERKMAL_KZ', 'SCH_URSACHE_KZ', 'DAMAGE_CAUSE_DESIGNMENT',\n",
        "    'SCH_ZW_BEZ', 'SCH_ZW_CD', 'ANO_SID.1', 'DIVISION_LEVEL_00', 'DIVISION_LEVEL_01',\n",
        "    'DIVISION_LEVEL_02', 'DIVISION_LEVEL_03', 'DIVISION_LEVEL_04', 'DIVISION_LEVEL_05','VER_STATNR'\n",
        "]\n",
        "\n",
        "financial_columns = [\n",
        "    'PAYOUT', 'NET_PREMIUM_AMOUNT', 'PIPE_PREMIUM_AMOUNT', 'RISK_SCORE'\n",
        "]\n",
        "\n",
        "admin_columns = [\n",
        "    'Year'\n",
        "]\n",
        "\n",
        "# Load the all_data_cleaned.csv file\n",
        "all_data_path = '/content/drive/My Drive/Capstone/Data/all_data_cleaned.csv'\n",
        "all_data = pd.read_csv(all_data_path)\n",
        "\n",
        "# Create DataFrames for each category\n",
        "contract_info = all_data[contract_columns]\n",
        "damage_info = all_data[damage_columns]\n",
        "financial_info = all_data[financial_columns]\n",
        "admin_info = all_data[admin_columns]\n",
        "\n",
        "# Display the first few rows of each DataFrame to verify\n",
        "print(contract_info.head())\n",
        "print(damage_info.head())\n",
        "print(financial_info.head())\n",
        "print(admin_info.head())\n",
        "\n",
        "# Define the base path for saving the CSV files\n",
        "base_save_path = '/content/drive/My Drive/Capstone/Data/'\n",
        "\n",
        "# Save each DataFrame to a new CSV file\n",
        "contract_info.to_csv(f'{base_save_path}contract_info.csv', index=False)\n",
        "damage_info.to_csv(f'{base_save_path}damage_info.csv', index=False)\n",
        "financial_info.to_csv(f'{base_save_path}financial_info.csv', index=False)\n",
        "admin_info.to_csv(f'{base_save_path}admin_info.csv', index=False)\n"
      ],
      "metadata": {
        "colab": {
          "base_uri": "https://localhost:8080/"
        },
        "id": "SMbRWJCxolj7",
        "outputId": "1ec4ee94-ead5-47e7-b9a6-1521ec853e8e"
      },
      "execution_count": 7,
      "outputs": [
        {
          "output_type": "stream",
          "name": "stdout",
          "text": [
            "    ANO_SID CORPORATE_DEVISION   ORTPLZ          ORTS-NAME            STRASSE  \\\n",
            "0  43597657                VGV  50769.0               Köln         Gohrer Weg   \n",
            "1  29261516                VGV  51427.0  Bergisch Gladbach     Buchenkampsweg   \n",
            "2   4118112                VGV  42553.0            Velbert   Elberfelder Str.   \n",
            "3  41087246                W&W  51147.0               Köln        Barbarastr.   \n",
            "4  32662333                VHV  42655.0           Solingen  Hossenhauser Str.   \n",
            "\n",
            "   SUM_INSURED CONSTRACTION_DESIGN  CONSTRUCTION_YEAR        WFL ZONE  \\\n",
            "0     298800.0      NORMAL_VENTURE        1967.565648  106.24368  NaN   \n",
            "1    1145400.0      NORMAL_VENTURE        1996.000000  106.24368  NaN   \n",
            "2    2961000.0      NORMAL_VENTURE        1981.000000  106.24368  NaN   \n",
            "3      32500.0                 NaN        1967.565648   50.00000    E   \n",
            "4      54800.0      NORMAL_VENTURE        1967.565648   75.00000    3   \n",
            "\n",
            "   SF-SYSTEM  TYPE_OF_DEDUCTIBLE  DRAIN_PIPE_INSURED PRODUCTLINE  \\\n",
            "0        0.0                 0.0                 0.0     Kompakt   \n",
            "1        0.0                 0.0                 0.0     Kompakt   \n",
            "2        0.0                 0.0                 0.0         Top   \n",
            "3        NaN                 0.0                 0.0         NaN   \n",
            "4        NaN                 0.0                 0.0         Top   \n",
            "\n",
            "   PRIOR_DAMAGES  UVV-KZ UNDERWRITER              PARTY-ID  PREMIUM_AMOUNT  \\\n",
            "0            0.0     1.0           Y  5WKUPYJR21B004PA4720          142.76   \n",
            "1            0.0     1.0           Y  EXLNYOZUCPO001PALTXG          652.38   \n",
            "2            0.0     1.0           Y  XRTMGW9WXFD704PT4712         2893.55   \n",
            "3            0.0     1.0           Y  D6ATJ1MN5Y7704PT4711          212.76   \n",
            "4            0.0     1.0           Y  LTVHUOHD760002PA0691          113.71   \n",
            "\n",
            "  contract_year  \n",
            "0    2014-01-01  \n",
            "1    2014-01-01  \n",
            "2    2014-01-01  \n",
            "3    2014-01-01  \n",
            "4    2014-01-01  \n",
            "   EXPENSE     DAMAGE_CLUSTER_ID DAT_ANL_ERSTRESERVIERUNG DAT_EREIGNIS  \\\n",
            "0   333.20  0000014351b801943000               2014-02-01   2014-01-01   \n",
            "1  1835.35  00000143524468b42000               2014-08-01   2014-01-02   \n",
            "2  1182.23  0000014352bf46843000               2014-03-01   2014-01-01   \n",
            "3   800.04  0000014367323354a000               2014-10-01   2014-01-05   \n",
            "4  1704.10  00000143d3c6ac54d000               2014-03-02   2014-01-09   \n",
            "\n",
            "   INITIAL_RESERVATION  TOTAL_DAMAGE  GESCHAEFTS_FELD_ID  RESIDUAL_AMOUNT  \\\n",
            "0                500.0        1000.0                   0              0.0   \n",
            "1                500.0         500.0                   0              0.0   \n",
            "2               3500.0        3500.0                   0              0.0   \n",
            "3                500.0         500.0                   0              0.0   \n",
            "4               1850.0        1835.0                   0              0.0   \n",
            "\n",
            "  DAMAGE_INCIDENT  SCH_MERKMAL_KZ  ...  SCH_ZW_BEZ SCH_ZW_CD ANO_SID.1  \\\n",
            "0    Water damage               4  ...      Wasser         W    363939   \n",
            "1    Water damage              20  ...      Wasser         W    363945   \n",
            "2    Water damage              60  ...      Wasser         W    363951   \n",
            "3    Water damage              10  ...      Wasser         W    364015   \n",
            "4    Water damage               4  ...      Wasser         W    364489   \n",
            "\n",
            "  DIVISION_LEVEL_00  DIVISION_LEVEL_01 DIVISION_LEVEL_02  \\\n",
            "0          Property        Sach Privat               VGV   \n",
            "1          Property        Sach Privat               VGV   \n",
            "2          Property        Sach Privat               VGV   \n",
            "3        Multi-Risk         Multi-Risk               W&W   \n",
            "4          Property        Sach Privat               VHV   \n",
            "\n",
            "                  DIVISION_LEVEL_03                 DIVISION_LEVEL_04  \\\n",
            "0                             VGV W                             VGV W   \n",
            "1                             VGV W                             VGV W   \n",
            "2                             VGV W                             VGV W   \n",
            "3  Apartment and Property Value GVB  Apartment and Property Value GVB   \n",
            "4                             VHV W                             VHV W   \n",
            "\n",
            "                  DIVISION_LEVEL_05 VER_STATNR  \n",
            "0                             VGV W      11017  \n",
            "1                             VGV W      11037  \n",
            "2                             VGV W      11077  \n",
            "3  Apartment and Property Value GVB       9934  \n",
            "4                             VHV W         31  \n",
            "\n",
            "[5 rows x 22 columns]\n",
            "    PAYOUT  NET_PREMIUM_AMOUNT  PIPE_PREMIUM_AMOUNT  RISK_SCORE\n",
            "0   333.20              85.656             36.83208    9.046462\n",
            "1  1835.35             391.428            168.31404   10.904319\n",
            "2  1182.23            1736.130            746.53590    1.583621\n",
            "3   800.04             127.656             40.84992   19.584861\n",
            "4  1704.10              68.226              7.50486  227.066194\n",
            "   Year\n",
            "0  2014\n",
            "1  2014\n",
            "2  2014\n",
            "3  2014\n",
            "4  2014\n"
          ]
        }
      ]
    }
  ],
  "metadata": {
    "colab": {
      "provenance": [],
      "authorship_tag": "ABX9TyMMpWAyvANOgNBQB09UGTO5",
      "include_colab_link": true
    },
    "kernelspec": {
      "display_name": "Python 3",
      "name": "python3"
    },
    "language_info": {
      "name": "python"
    }
  },
  "nbformat": 4,
  "nbformat_minor": 0
}