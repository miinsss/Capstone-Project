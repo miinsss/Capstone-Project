{
 "cells": [
  {
   "cell_type": "markdown",
   "id": "caa1ce38-2e21-4246-b7f4-42d9cba81c50",
   "metadata": {},
   "source": [
    "# finalTable\n",
    "## Table of Content\n",
    "\n",
    "1. [Import packages](#packages)\n",
    "2. [Import data](#data)\n",
    "3. [Data Cleaning](#cleaning)\n",
    "    1. [Cleaning damage data](#damage)\n",
    "    2. [Cleaning contract data](#contract)\n",
    "4. [Joining Damage and Contract](#join)\n",
    "5. [Risk Score Definition](#riskscore)"
   ]
  },
  {
   "cell_type": "markdown",
   "id": "93f73ebb-68cf-4cc7-aa76-d7ad924699b6",
   "metadata": {
    "jp-MarkdownHeadingCollapsed": true
   },
   "source": [
    "## Import packages <a id=\"packages\"></a>"
   ]
  },
  {
   "cell_type": "code",
   "execution_count": 1,
   "id": "3a989c96-bd66-407b-8de8-f920b497f974",
   "metadata": {},
   "outputs": [
    {
     "name": "stdout",
     "output_type": "stream",
     "text": [
      "Requirement already satisfied: pandas in c:\\users\\franc\\appdata\\local\\programs\\python\\python312\\lib\\site-packages (2.2.2)\n",
      "Requirement already satisfied: openpyxl in c:\\users\\franc\\appdata\\local\\programs\\python\\python312\\lib\\site-packages (3.1.2)\n",
      "Requirement already satisfied: numpy>=1.26.0 in c:\\users\\franc\\appdata\\local\\programs\\python\\python312\\lib\\site-packages (from pandas) (1.26.4)\n",
      "Requirement already satisfied: python-dateutil>=2.8.2 in c:\\users\\franc\\appdata\\roaming\\python\\python312\\site-packages (from pandas) (2.9.0.post0)\n",
      "Requirement already satisfied: pytz>=2020.1 in c:\\users\\franc\\appdata\\local\\programs\\python\\python312\\lib\\site-packages (from pandas) (2024.1)\n",
      "Requirement already satisfied: tzdata>=2022.7 in c:\\users\\franc\\appdata\\local\\programs\\python\\python312\\lib\\site-packages (from pandas) (2024.1)\n",
      "Requirement already satisfied: et-xmlfile in c:\\users\\franc\\appdata\\local\\programs\\python\\python312\\lib\\site-packages (from openpyxl) (1.1.0)\n",
      "Requirement already satisfied: six>=1.5 in c:\\users\\franc\\appdata\\roaming\\python\\python312\\site-packages (from python-dateutil>=2.8.2->pandas) (1.16.0)\n",
      "Note: you may need to restart the kernel to use updated packages.\n"
     ]
    }
   ],
   "source": [
    "pip install pandas openpyxl"
   ]
  },
  {
   "cell_type": "code",
   "execution_count": 2,
   "id": "fb59cd32-0c37-40a8-ade4-7e44f51681b1",
   "metadata": {},
   "outputs": [
    {
     "name": "stdout",
     "output_type": "stream",
     "text": [
      "Requirement already satisfied: numpy in c:\\users\\franc\\appdata\\local\\programs\\python\\python312\\lib\\site-packages (1.26.4)\n",
      "Note: you may need to restart the kernel to use updated packages.\n"
     ]
    }
   ],
   "source": [
    "pip install numpy"
   ]
  },
  {
   "cell_type": "code",
   "execution_count": 3,
   "id": "c213b7f3-bf5f-4c10-8a42-233136300494",
   "metadata": {
    "scrolled": true
   },
   "outputs": [
    {
     "name": "stdout",
     "output_type": "stream",
     "text": [
      "Requirement already satisfied: plotly in c:\\users\\franc\\appdata\\local\\programs\\python\\python312\\lib\\site-packages (5.22.0)\n",
      "Requirement already satisfied: tenacity>=6.2.0 in c:\\users\\franc\\appdata\\local\\programs\\python\\python312\\lib\\site-packages (from plotly) (8.3.0)\n",
      "Requirement already satisfied: packaging in c:\\users\\franc\\appdata\\roaming\\python\\python312\\site-packages (from plotly) (24.0)\n",
      "Note: you may need to restart the kernel to use updated packages.\n"
     ]
    }
   ],
   "source": [
    "pip install plotly"
   ]
  },
  {
   "cell_type": "code",
   "execution_count": 4,
   "id": "6c84932f-1c9a-4ac3-8bbd-6c4e7d5a60b4",
   "metadata": {},
   "outputs": [],
   "source": [
    "import pandas as pd\n",
    "import numpy as np\n",
    "import plotly.express as px"
   ]
  },
  {
   "cell_type": "code",
   "execution_count": 5,
   "id": "3e443be7-05e7-49f2-83f5-dd9ff0c4a0d8",
   "metadata": {},
   "outputs": [],
   "source": [
    "# Ignore warnings\n",
    "import warnings\n",
    "warnings.filterwarnings('ignore')"
   ]
  },
  {
   "cell_type": "markdown",
   "id": "623a1616-8183-4b0b-a2e4-72640d4e3184",
   "metadata": {},
   "source": [
    "## Import data <a id=\"data\"></a>"
   ]
  },
  {
   "cell_type": "code",
   "execution_count": 6,
   "id": "03398ef8",
   "metadata": {},
   "outputs": [],
   "source": [
    "contractPath = '..\\data\\contract_all.csv'\n",
    "damagePath = '..\\data\\damage.csv'\n",
    "\n",
    "contract_all = pd.read_csv(contractPath)\n",
    "damage = pd.read_csv(damagePath)"
   ]
  },
  {
   "cell_type": "markdown",
   "id": "41603d1a-dc30-4c70-a755-e7ab5bdf3476",
   "metadata": {},
   "source": [
    "# Data Cleaning <a id=\"cleaning\"></a>"
   ]
  },
  {
   "cell_type": "markdown",
   "id": "bf013413-1adc-427d-8056-ae39c7f191a2",
   "metadata": {},
   "source": [
    "## Cleaning damage data <a id=\"damage\"></a>"
   ]
  },
  {
   "cell_type": "markdown",
   "id": "eaff7732-4023-4c01-9ad8-361b063c3ad9",
   "metadata": {},
   "source": [
    "Drop these variables:\n",
    "- The vast majority of data in ADDRESS_TYPE, DAMAGE_REPORTER, DATE_COMPLETION_DATE and CUMULEVENT are missing.\n",
    "- Exclude variables with only one (or very few/not relevant) category: 'DEPARTMENT_SEGMENT', 'DEPARTMENT_RESPONSIBLE', 'DEPARTMENT_CUSTOMER_SEGMENT', 'BUSINESS_TYPE_MARK', 'DAMAGE_BRANCH_DESIGNMENT', 'DAMAGE_BRANCH', 'SVCLUSTER', ‘BUSINESS_MARK’\n",
    "- Not relevant: 'PARTY_ID', 'RESTORATION_CANDIDAT'"
   ]
  },
  {
   "cell_type": "code",
   "execution_count": 7,
   "id": "b6cb5027-7b7a-4c4a-9b33-5ce1ab383813",
   "metadata": {},
   "outputs": [],
   "source": [
    "# Drop columns\n",
    "columnsToDrop = ['DEPARTMENT_SEGMENT', 'DEPARTMENT_RESPONSIBLE', 'DEPARTMENT_CUSTOMER_SEGMENT', 'BUSINESS_TYPE_MARK', 'BUSINESS_MARK',\n",
    "                 'DAMAGE_BRANCH_DESIGNMENT', 'DAMAGE_BRANCH', 'SVCLUSTER', 'ADDRESS_TYPE', 'DAMAGE_REPORTER', 'DATE_COMPLETION_DATE', 'PARTY_ID',\n",
    "                 'CUMULEVENT', 'RESTORATION_CANDIDAT']\n",
    "\n",
    "damage = damage.drop(columns=columnsToDrop, errors='ignore')"
   ]
  },
  {
   "cell_type": "code",
   "execution_count": 8,
   "id": "eda9b441-e870-4caa-bf5b-8d46b44a8ba7",
   "metadata": {},
   "outputs": [],
   "source": [
    "# Convert dates to date format\n",
    "damage['DATE_DAMAGE_EVENT'] = pd.to_datetime(damage['DATE_DAMAGE_EVENT'])\n",
    "damage['DATE_INITIAL_RESERVATION'] = pd.to_datetime(damage['DATE_INITIAL_RESERVATION'], dayfirst=True)\n",
    "\n",
    "# Convert 'TOTAL_DAMAGE' to float\n",
    "damage['TOTAL_DAMAGE'] = damage['TOTAL_DAMAGE'].replace('UNDEFINED', np.nan).astype('float64')\n",
    "\n",
    "# Convert ids to object\n",
    "damage['BUSINESS_FIELD_ID'] = damage['BUSINESS_FIELD_ID'].astype('object')\n",
    "damage['CONTRACT_ID'] = damage['CONTRACT_ID'].astype('object')\n",
    "damage['DAMAGE_TRAIT'] = damage['DAMAGE_TRAIT'].astype('object')\n",
    "damage['DAMAGE_CAUSE'] = damage['DAMAGE_CAUSE'].astype('object')\n",
    "damage['DAMAGE_ID'] = damage['DAMAGE_ID'].astype('object')\n",
    "damage['STATISTIC_NUMBER'] = damage['STATISTIC_NUMBER'].astype('object')"
   ]
  },
  {
   "cell_type": "code",
   "execution_count": 9,
   "id": "1702d831-be61-4d26-939e-192eee2ff313",
   "metadata": {},
   "outputs": [
    {
     "data": {
      "text/plain": [
       "305783"
      ]
     },
     "execution_count": 9,
     "metadata": {},
     "output_type": "execute_result"
    }
   ],
   "source": [
    "# Drop observations outside of Germany\n",
    "damage = damage[damage['DAMAGE_NATION'] == 'D']\n",
    "\n",
    "# Drop column 'DAMAGE_NATION'\n",
    "damage = damage.drop(columns=['DAMAGE_NATION'], errors='ignore')\n",
    "\n",
    "len(damage)"
   ]
  },
  {
   "cell_type": "code",
   "execution_count": 10,
   "id": "c618d5a5-12d7-4df8-ae82-c99669d078c9",
   "metadata": {},
   "outputs": [
    {
     "data": {
      "text/plain": [
       "247134"
      ]
     },
     "execution_count": 10,
     "metadata": {},
     "output_type": "execute_result"
    }
   ],
   "source": [
    "# Drop observations before 2014\n",
    "damage = damage[damage['DATE_DAMAGE_EVENT'].dt.year >= 2014]\n",
    "damage = damage[damage['DATE_INITIAL_RESERVATION'].dt.year >= 2014]\n",
    "len(damage)"
   ]
  },
  {
   "cell_type": "markdown",
   "id": "513b601c-be0d-4244-ad09-9caa5b8b251c",
   "metadata": {},
   "source": [
    "Drop negative values from financial variables:"
   ]
  },
  {
   "cell_type": "code",
   "execution_count": 11,
   "id": "1796f4f5-94f6-4bdc-ae48-b0c0887395e0",
   "metadata": {},
   "outputs": [
    {
     "name": "stdout",
     "output_type": "stream",
     "text": [
      "{'EXPENSE': 230, 'INITIAL_RESERVATION': 0, 'TOTAL_DAMAGE': 0, 'RESIDUAL_AMOUNT': 334, 'PAYOUT': 89}\n"
     ]
    }
   ],
   "source": [
    "# Check number of negative values in financial columns\n",
    "financialColumns = ['EXPENSE', 'INITIAL_RESERVATION', 'TOTAL_DAMAGE', 'RESIDUAL_AMOUNT', 'PAYOUT']\n",
    "\n",
    "# Create a dictionary\n",
    "negativeCounts = {}\n",
    "\n",
    "# Count negative values in each column\n",
    "for column in financialColumns:\n",
    "    negativeCounts[column] = (damage[column] < 0).sum()\n",
    "\n",
    "print(negativeCounts)"
   ]
  },
  {
   "cell_type": "code",
   "execution_count": 12,
   "id": "e87eb10f-30af-4bc1-b607-30b28f9d4c30",
   "metadata": {},
   "outputs": [
    {
     "data": {
      "text/plain": [
       "246567"
      ]
     },
     "execution_count": 12,
     "metadata": {},
     "output_type": "execute_result"
    }
   ],
   "source": [
    "# Create a mask that is True for rows where all financial columns are >= 0 or NaN\n",
    "mask = (damage[financialColumns] >= 0) | damage[financialColumns].isna()\n",
    "\n",
    "# Use .all(axis=1) to ensure that we only drop rows where all conditions are False (i.e., where all are negative)\n",
    "damage = damage[mask.all(axis=1)]\n",
    "len(damage)"
   ]
  },
  {
   "cell_type": "code",
   "execution_count": 13,
   "id": "f444cf92",
   "metadata": {},
   "outputs": [],
   "source": [
    "# Convert zip codes starting with 'W' or 'O', or those not 5 characters long to NaN\n",
    "damage.loc[damage['DAMAGE_EVENT_ZIP_CODE'].str.startswith(('W', 'O')) | \n",
    "           (damage['DAMAGE_EVENT_ZIP_CODE'].str.len() != 5), 'DAMAGE_EVENT_ZIP_CODE'] = np.nan"
   ]
  },
  {
   "cell_type": "code",
   "execution_count": 14,
   "id": "f84d8197-6a2b-4b13-8f11-73245e0833e4",
   "metadata": {},
   "outputs": [],
   "source": [
    "# Replace \"Quartalsabrechnung\" or \"Monatsabrechnung\" with NaN\n",
    "damage['DAMAGE_EVENT_STREET'] = damage['DAMAGE_EVENT_STREET'].replace(['Quartalsabrechnung', 'Monatsabrechnung'], np.nan)"
   ]
  },
  {
   "cell_type": "code",
   "execution_count": 15,
   "id": "f5e8ceac",
   "metadata": {},
   "outputs": [],
   "source": [
    "# Exclude rows where EXPENSE, PAYOUT, and RESIDUAL_AMOUNT are all zero\n",
    "# damage = damage[(damage['EXPENSE'] != 0) | (damage['PAYOUT'] != 0) | (damage['RESIDUAL_AMOUNT'] != 0)]\n",
    "# print(len(damage))"
   ]
  },
  {
   "cell_type": "markdown",
   "id": "15382263-9578-40ae-acde-3602f848861e",
   "metadata": {},
   "source": [
    "## Cleaning contract data <a id=\"contract\"></a>"
   ]
  },
  {
   "cell_type": "markdown",
   "id": "aa4bebc0-eb44-4a9f-a914-85131b0cb132",
   "metadata": {},
   "source": [
    "Drop these variables:\n",
    "- The majority of data is missing for the variables BASEMENT, BUILDING_TYPE, NO_CLAIMS_SCALE, NO_CLAIMS_YEARS.\n",
    "- Not relevant for our analysis: 'TYPE_OF_DEDUCTIBLE', 'DEDUCTIBLE_PERCENTAGE', 'DEDUCTIBLE_MIN', 'DEDUCTIBLE_MAX', 'INVENTORY_MANAGEMENT_SYSTEM', 'PARTY-ID', 'RISK_NATION', 'Day', 'Month'"
   ]
  },
  {
   "cell_type": "code",
   "execution_count": 16,
   "id": "1f350941-b271-4549-99f4-43bc4acf4783",
   "metadata": {},
   "outputs": [],
   "source": [
    "# Drop columns from all dataframes\n",
    "columnsToDrop = ['TYPE_OF_DEDUCTIBLE', 'DEDUCTIBLE_PERCENTAGE', 'DEDUCTIBLE_MIN', 'DEDUCTIBLE_MAX', 'INVENTORY_MANAGEMENT_SYSTEM',\n",
    "                'BASEMENT', 'BUILDING_TYPE', 'NO_CLAIMS_SCALE', 'NO_CLAIMS_YEARS', 'RISK_NATION', 'PARTY-ID', 'Day', 'Month']\n",
    "\n",
    "contract_all = contract_all.drop(columns=columnsToDrop, errors='ignore')"
   ]
  },
  {
   "cell_type": "code",
   "execution_count": 17,
   "id": "f2b71cd2",
   "metadata": {},
   "outputs": [],
   "source": [
    "# Convert dates to date format\n",
    "contract_all['KEYDATE'] = pd.to_datetime(contract_all['KEYDATE'])\n",
    "\n",
    "# Convert ids to object\n",
    "contract_all['CONTRACT_ID'] = contract_all['CONTRACT_ID'].astype('object')\n",
    "\n",
    "# Replace '     .' with NaN in PREMIUM_AMOUNT\n",
    "contract_all['PREMIUM_AMOUNT'] = contract_all['PREMIUM_AMOUNT'].replace('     .', np.nan)\n",
    "# Convert PREMIUM_AMOUNT to float\n",
    "contract_all['PREMIUM_AMOUNT'] = contract_all['PREMIUM_AMOUNT'].astype(float)\n",
    "\n",
    "# Replace '     .' with NaN in SUM_INSURED\n",
    "contract_all['SUM_INSURED'] = contract_all['SUM_INSURED'].replace('     .', np.nan)\n",
    "# Convert SUM_INSURED to float\n",
    "contract_all['SUM_INSURED'] = contract_all['SUM_INSURED'].astype(float)"
   ]
  },
  {
   "cell_type": "markdown",
   "id": "2211924b-40f7-461b-8fd1-c6f781776032",
   "metadata": {},
   "source": [
    "Drop negative values from financial variables (there are none):"
   ]
  },
  {
   "cell_type": "code",
   "execution_count": 18,
   "id": "72bd9b24-3a49-4d0f-976a-f8c00c4d8483",
   "metadata": {},
   "outputs": [
    {
     "name": "stdout",
     "output_type": "stream",
     "text": [
      "{'SUM_INSURED': 0, 'PREMIUM_AMOUNT': 0}\n"
     ]
    }
   ],
   "source": [
    "# Check number of negative values in financial columns\n",
    "financialColumns = ['SUM_INSURED', 'PREMIUM_AMOUNT']\n",
    "\n",
    "# Create a dictionary\n",
    "negativeCounts = {}\n",
    "\n",
    "# Count negative values in each column\n",
    "for column in financialColumns:\n",
    "    negativeCounts[column] = (contract_all[column] < 0).sum()\n",
    "\n",
    "print(negativeCounts) # nothing to drop"
   ]
  },
  {
   "cell_type": "code",
   "execution_count": 19,
   "id": "60cc621e",
   "metadata": {},
   "outputs": [],
   "source": [
    "# Convert zip codes starting with 'W' or 'O', or those not 5 characters long to NaN\n",
    "contract_all.loc[contract_all['RISK_LOCATION_ZIP_CODE'].str.startswith(('W', 'O')) | \n",
    "            (contract_all['RISK_LOCATION_ZIP_CODE'].str.len() != 5), 'RISK_LOCATION_ZIP_CODE'] = np.nan"
   ]
  },
  {
   "cell_type": "code",
   "execution_count": 20,
   "id": "0b759672-8cb9-45f8-a046-38970ae7c6a6",
   "metadata": {},
   "outputs": [],
   "source": [
    "# Replace living space = 0 with average\n",
    "\n",
    "# Calculate the average of LIVING_SPACE, excluding zeros\n",
    "non_zero_living_space = contract_all[contract_all['LIVING_SPACE'] != 0]['LIVING_SPACE']\n",
    "avg_living_space = non_zero_living_space.mean()\n",
    "\n",
    "# Replace zero values with the calculated average\n",
    "contract_all.loc[contract_all['LIVING_SPACE'] == 0, 'LIVING_SPACE'] = avg_living_space"
   ]
  },
  {
   "cell_type": "code",
   "execution_count": 21,
   "id": "73d9f04e-88a2-4d79-a61a-9228f54f44af",
   "metadata": {},
   "outputs": [],
   "source": [
    "# Replace uncommon values for the construction year with the average\n",
    "currentYear = 2024\n",
    "\n",
    "# Calculate the average of CONSTRUCTION_YEAR, excluding future years and specific unwanted values\n",
    "validYears = contract_all[\n",
    "    (contract_all['CONSTRUCTION_YEAR'] <= currentYear) &\n",
    "    (~contract_all['CONSTRUCTION_YEAR'].isin([1111, 1, 0]))\n",
    "]['CONSTRUCTION_YEAR']\n",
    "avgYear = validYears.mean()\n",
    "\n",
    "# Replace unwanted values with the calculated average\n",
    "contract_all.loc[\n",
    "    (contract_all['CONSTRUCTION_YEAR'] > currentYear) |\n",
    "    (contract_all['CONSTRUCTION_YEAR'].isin([1111, 1, 0])), 'CONSTRUCTION_YEAR'\n",
    "] = avgYear"
   ]
  },
  {
   "cell_type": "code",
   "execution_count": 22,
   "id": "d833f0a9",
   "metadata": {},
   "outputs": [],
   "source": [
    "# Replace values in the 'DRAIN_PIPE_INSURED' column\n",
    "contract_all['DRAIN_PIPE_INSURED'] = contract_all['DRAIN_PIPE_INSURED'].replace({'J': 1, 'N': 0})\n",
    "\n",
    "# Replace values in the 'UNDERINSURANCE_WAIVER' column\n",
    "contract_all['UNDERINSURANCE_WAIVER'] = contract_all['UNDERINSURANCE_WAIVER'].replace({'J': 1, 'N': 0})"
   ]
  },
  {
   "cell_type": "code",
   "execution_count": 23,
   "id": "bb7061bf-a3c1-4fcc-a3c9-bef8a1f98c67",
   "metadata": {},
   "outputs": [
    {
     "name": "stdout",
     "output_type": "stream",
     "text": [
      "Stored 'damage' (DataFrame)\n"
     ]
    }
   ],
   "source": [
    "%store damage"
   ]
  },
  {
   "cell_type": "code",
   "execution_count": 24,
   "id": "8d5f330b-6b19-4b91-b4c6-a531ab928e8d",
   "metadata": {},
   "outputs": [
    {
     "name": "stdout",
     "output_type": "stream",
     "text": [
      "Stored 'contract_all' (DataFrame)\n"
     ]
    }
   ],
   "source": [
    "%store contract_all"
   ]
  },
  {
   "cell_type": "markdown",
   "id": "9514ee41-b422-4510-9c2d-516f64e3aa34",
   "metadata": {},
   "source": [
    "# Joining Damage and Contract <a id=\"join\"></a>"
   ]
  },
  {
   "cell_type": "code",
   "execution_count": 25,
   "id": "f3e7800c-942f-42cb-8eab-9d9f4d150b4c",
   "metadata": {},
   "outputs": [],
   "source": [
    "# Extract year into new column (already done for contract table)\n",
    "damage['Year'] = damage['DATE_INITIAL_RESERVATION'].dt.year"
   ]
  },
  {
   "cell_type": "code",
   "execution_count": 26,
   "id": "e0f53c61-a260-4749-87f0-9e5bff615bc5",
   "metadata": {},
   "outputs": [
    {
     "name": "stdout",
     "output_type": "stream",
     "text": [
      "246567\n",
      "251865\n"
     ]
    }
   ],
   "source": [
    "# Combine Damage and Contract Data\n",
    "damage_all = pd.merge(damage, contract_all, left_on=[\"CONTRACT_ID\", \"Year\"], right_on=[\"CONTRACT_ID\", \"Year\"], how='left')\n",
    "print(len(damage))\n",
    "print(len(damage_all))"
   ]
  },
  {
   "cell_type": "code",
   "execution_count": 27,
   "id": "a80ec96f-106a-4f4c-aae9-7daeffe99c4d",
   "metadata": {},
   "outputs": [],
   "source": [
    "# Delete Rows that have been in both datasets\n",
    "damage_all = damage_all.drop([\"RISK_LOCATION_ZIP_CODE\", \"RISK_LOCATION_TOWN\", \"RISK_LOCATION_STREET\"], axis=1)"
   ]
  },
  {
   "cell_type": "code",
   "execution_count": 28,
   "id": "43c7794d-3c4a-4d42-b48b-7ad1b8263371",
   "metadata": {},
   "outputs": [
    {
     "name": "stdout",
     "output_type": "stream",
     "text": [
      "<class 'pandas.core.frame.DataFrame'>\n",
      "RangeIndex: 251865 entries, 0 to 251864\n",
      "Data columns (total 42 columns):\n",
      " #   Column                    Non-Null Count   Dtype         \n",
      "---  ------                    --------------   -----         \n",
      " 0   EXPENSE                   251865 non-null  float64       \n",
      " 1   DAMAGE_CLUSTER_ID         251865 non-null  object        \n",
      " 2   DATE_INITIAL_RESERVATION  251865 non-null  datetime64[ns]\n",
      " 3   DATE_DAMAGE_EVENT         251865 non-null  datetime64[ns]\n",
      " 4   CONTRACT_ID               251865 non-null  object        \n",
      " 5   INITIAL_RESERVATION       251865 non-null  float64       \n",
      " 6   TOTAL_DAMAGE              199375 non-null  float64       \n",
      " 7   BUSINESS_FIELD_ID         251865 non-null  object        \n",
      " 8   RESIDUAL_AMOUNT           251865 non-null  float64       \n",
      " 9   DAMAGE_TYPE               251865 non-null  object        \n",
      " 10  DAMAGE_INCIDENT           251865 non-null  object        \n",
      " 11  DAMAGE_EVENT_TOWN         251865 non-null  object        \n",
      " 12  DAMAGE_EVENT_ZIP_CODE     251861 non-null  object        \n",
      " 13  DAMAGE_EVENT_STREET       251864 non-null  object        \n",
      " 14  DAMAGE_TRAIT_DESIGNMENT   251865 non-null  object        \n",
      " 15  DAMAGE_TRAIT              251865 non-null  object        \n",
      " 16  DAMAGE_CAUSE              251865 non-null  object        \n",
      " 17  DAMAGE_CAUSE_DESIGNMENT   247750 non-null  object        \n",
      " 18  DAMAGE_ID                 251865 non-null  object        \n",
      " 19  DIVISION_LEVEL_00         251865 non-null  object        \n",
      " 20  DIVISION_LEVEL_01         251865 non-null  object        \n",
      " 21  DIVISION_LEVEL_02         251865 non-null  object        \n",
      " 22  DIVISION_LEVEL_03         251865 non-null  object        \n",
      " 23  DIVISION_LEVEL_04         251865 non-null  object        \n",
      " 24  DIVISION_LEVEL_05         251865 non-null  object        \n",
      " 25  STATISTIC_NUMBER          251865 non-null  object        \n",
      " 26  PAYOUT                    251865 non-null  float64       \n",
      " 27  Year                      251865 non-null  int32         \n",
      " 28  CORPORATE_DEVISION        219890 non-null  object        \n",
      " 29  SUM_INSURED               219360 non-null  float64       \n",
      " 30  CONSTRACTION_DESIGN       207071 non-null  object        \n",
      " 31  CONSTRUCTION_YEAR         219890 non-null  float64       \n",
      " 32  LIVING_SPACE              219360 non-null  float64       \n",
      " 33  ZONE                      165474 non-null  object        \n",
      " 34  DRAIN_PIPE_INSURED        219890 non-null  float64       \n",
      " 35  PRODUCTLINE               199385 non-null  object        \n",
      " 36  KEYDATE                   219890 non-null  datetime64[ns]\n",
      " 37  PRIOR_DAMAGES             219890 non-null  float64       \n",
      " 38  UNDERINSURANCE_WAIVER     219890 non-null  float64       \n",
      " 39  SFR-JAHRE                 219890 non-null  float64       \n",
      " 40  UNDERWRITER               219890 non-null  object        \n",
      " 41  PREMIUM_AMOUNT            219890 non-null  float64       \n",
      "dtypes: datetime64[ns](3), float64(13), int32(1), object(25)\n",
      "memory usage: 79.7+ MB\n"
     ]
    }
   ],
   "source": [
    "damage_all.info()"
   ]
  },
  {
   "cell_type": "markdown",
   "id": "c20c10e7-aa91-4b2b-ac3a-8d53aa9f2d2f",
   "metadata": {},
   "source": [
    "# Risk Score Definition <a id=\"riskscore\"></a>"
   ]
  },
  {
   "cell_type": "code",
   "execution_count": 29,
   "id": "59a5eab5-74a2-4fd5-aa1c-008862b1a0a7",
   "metadata": {
    "id": "H8Uz3gCzKBay"
   },
   "outputs": [],
   "source": [
    "# Calculate NET_PREMIUM_AMOUNT as 60% of PREMIUM_AMOUNT\n",
    "damage_all['NET_PREMIUM_AMOUNT'] = damage_all['PREMIUM_AMOUNT'] * 0.6"
   ]
  },
  {
   "cell_type": "code",
   "execution_count": 30,
   "id": "8f16cfeb-660c-4982-8f3c-8a4608911450",
   "metadata": {
    "id": "aQLogWCNKNF_"
   },
   "outputs": [],
   "source": [
    "# Calculate PIPE_PREMIUM_AMOUNT based on CORPORATE_DEVISION\n",
    "# Map devision percentages\n",
    "devisionPercentages = {\n",
    "    'VGV': 0.43,\n",
    "    'VHV': 0.11,\n",
    "    'H&H': 0.07,\n",
    "    'W&W': 0.32\n",
    "}\n",
    "\n",
    "# Calculate PIPE_PREMIUM_AMOUNT\n",
    "damage_all['PIPE_PREMIUM_AMOUNT'] = damage_all['DIVISION_LEVEL_02'].map(devisionPercentages) * damage_all['NET_PREMIUM_AMOUNT']"
   ]
  },
  {
   "cell_type": "code",
   "execution_count": 31,
   "id": "74a0f550-6dea-4cf7-b070-d037550ae90c",
   "metadata": {
    "id": "FX49Jf-QKQAu"
   },
   "outputs": [],
   "source": [
    "# Calculate RISK_SCORE as PIPE_PREMIUM_AMOUNT / EXPENSE\n",
    "damage_all['RISK_SCORE'] = damage_all['EXPENSE'] / damage_all['PIPE_PREMIUM_AMOUNT']\n",
    "\n",
    "# When expense = 0 the division returns 0. Instead return NaN.\n",
    "# damage_all['RISK_SCORE'] = damage_all['RISK_SCORE'].replace(0, np.nan)"
   ]
  },
  {
   "cell_type": "code",
   "execution_count": 32,
   "id": "2195942c-3503-45c1-94db-18a9da055797",
   "metadata": {},
   "outputs": [
    {
     "name": "stdout",
     "output_type": "stream",
     "text": [
      "251865\n",
      "32312\n",
      "219553\n"
     ]
    }
   ],
   "source": [
    "# Check for nas in RISK_SCORE\n",
    "print(len(damage_all))\n",
    "print(damage_all['RISK_SCORE'].isna().sum())\n",
    "print(len(damage_all.dropna(subset=['RISK_SCORE'])))"
   ]
  },
  {
   "cell_type": "code",
   "execution_count": 33,
   "id": "e7f8c21e-b2ce-430d-a8b9-b1f7d1d1513e",
   "metadata": {},
   "outputs": [
    {
     "name": "stdout",
     "output_type": "stream",
     "text": [
      "31975\n",
      "0\n"
     ]
    }
   ],
   "source": [
    "# Check nas in PREMIUM_AMOUNT and EXPENSE\n",
    "print(damage_all['PREMIUM_AMOUNT'].isna().sum())\n",
    "print(damage_all['EXPENSE'].isna().sum())"
   ]
  },
  {
   "cell_type": "code",
   "execution_count": 34,
   "id": "74938da9-3bd3-4515-a032-74d5ffc2ea45",
   "metadata": {},
   "outputs": [],
   "source": [
    "# Save dataset to csv\n",
    "damage_all.to_csv('../data/damage_all.csv', index=False)"
   ]
  },
  {
   "cell_type": "code",
   "execution_count": 35,
   "id": "c358a1e9-76fc-4c95-aa0e-599ca157b3a7",
   "metadata": {},
   "outputs": [
    {
     "name": "stdout",
     "output_type": "stream",
     "text": [
      "Stored 'damage_all' (DataFrame)\n"
     ]
    }
   ],
   "source": [
    "%store damage_all"
   ]
  },
  {
   "cell_type": "code",
   "execution_count": 36,
   "id": "e5ceaedf-516c-414f-8d38-bf19c977eaf9",
   "metadata": {},
   "outputs": [],
   "source": [
    "# %store -r damage\n",
    "# %store -r contract_all\n",
    "# %store -r damage_all"
   ]
  }
 ],
 "metadata": {
  "kernelspec": {
   "display_name": "Python 3 (ipykernel)",
   "language": "python",
   "name": "python3"
  },
  "language_info": {
   "codemirror_mode": {
    "name": "ipython",
    "version": 3
   },
   "file_extension": ".py",
   "mimetype": "text/x-python",
   "name": "python",
   "nbconvert_exporter": "python",
   "pygments_lexer": "ipython3",
   "version": "3.12.3"
  }
 },
 "nbformat": 4,
 "nbformat_minor": 5
}
