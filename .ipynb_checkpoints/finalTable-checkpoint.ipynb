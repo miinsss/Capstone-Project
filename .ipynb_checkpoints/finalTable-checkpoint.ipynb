{
 "cells": [
  {
   "cell_type": "markdown",
   "id": "caa1ce38-2e21-4246-b7f4-42d9cba81c50",
   "metadata": {},
   "source": [
    "# Data Cleaning"
   ]
  },
  {
   "cell_type": "markdown",
   "id": "93f73ebb-68cf-4cc7-aa76-d7ad924699b6",
   "metadata": {
    "jp-MarkdownHeadingCollapsed": true
   },
   "source": [
    "## Import packages"
   ]
  },
  {
   "cell_type": "code",
   "execution_count": 1,
   "id": "3a989c96-bd66-407b-8de8-f920b497f974",
   "metadata": {},
   "outputs": [
    {
     "name": "stdout",
     "output_type": "stream",
     "text": [
      "Requirement already satisfied: pandas in c:\\users\\franc\\appdata\\local\\programs\\python\\python312\\lib\\site-packages (2.2.2)\n",
      "Requirement already satisfied: openpyxl in c:\\users\\franc\\appdata\\local\\programs\\python\\python312\\lib\\site-packages (3.1.2)\n",
      "Requirement already satisfied: numpy>=1.26.0 in c:\\users\\franc\\appdata\\local\\programs\\python\\python312\\lib\\site-packages (from pandas) (1.26.4)\n",
      "Requirement already satisfied: python-dateutil>=2.8.2 in c:\\users\\franc\\appdata\\roaming\\python\\python312\\site-packages (from pandas) (2.9.0.post0)\n",
      "Requirement already satisfied: pytz>=2020.1 in c:\\users\\franc\\appdata\\local\\programs\\python\\python312\\lib\\site-packages (from pandas) (2024.1)\n",
      "Requirement already satisfied: tzdata>=2022.7 in c:\\users\\franc\\appdata\\local\\programs\\python\\python312\\lib\\site-packages (from pandas) (2024.1)\n",
      "Requirement already satisfied: et-xmlfile in c:\\users\\franc\\appdata\\local\\programs\\python\\python312\\lib\\site-packages (from openpyxl) (1.1.0)\n",
      "Requirement already satisfied: six>=1.5 in c:\\users\\franc\\appdata\\roaming\\python\\python312\\site-packages (from python-dateutil>=2.8.2->pandas) (1.16.0)\n",
      "Note: you may need to restart the kernel to use updated packages.\n"
     ]
    }
   ],
   "source": [
    "pip install pandas openpyxl"
   ]
  },
  {
   "cell_type": "code",
   "execution_count": 2,
   "id": "fb59cd32-0c37-40a8-ade4-7e44f51681b1",
   "metadata": {},
   "outputs": [
    {
     "name": "stdout",
     "output_type": "stream",
     "text": [
      "Requirement already satisfied: numpy in c:\\users\\franc\\appdata\\local\\programs\\python\\python312\\lib\\site-packages (1.26.4)\n",
      "Note: you may need to restart the kernel to use updated packages.\n"
     ]
    }
   ],
   "source": [
    "pip install numpy"
   ]
  },
  {
   "cell_type": "code",
   "execution_count": 3,
   "id": "c213b7f3-bf5f-4c10-8a42-233136300494",
   "metadata": {
    "scrolled": true
   },
   "outputs": [
    {
     "name": "stdout",
     "output_type": "stream",
     "text": [
      "Requirement already satisfied: plotly in c:\\users\\franc\\appdata\\local\\programs\\python\\python312\\lib\\site-packages (5.22.0)\n",
      "Requirement already satisfied: tenacity>=6.2.0 in c:\\users\\franc\\appdata\\local\\programs\\python\\python312\\lib\\site-packages (from plotly) (8.3.0)\n",
      "Requirement already satisfied: packaging in c:\\users\\franc\\appdata\\roaming\\python\\python312\\site-packages (from plotly) (24.0)\n",
      "Note: you may need to restart the kernel to use updated packages.\n"
     ]
    }
   ],
   "source": [
    "pip install plotly"
   ]
  },
  {
   "cell_type": "code",
   "execution_count": 4,
   "id": "6c84932f-1c9a-4ac3-8bbd-6c4e7d5a60b4",
   "metadata": {},
   "outputs": [],
   "source": [
    "import pandas as pd\n",
    "import numpy as np\n",
    "import plotly.express as px"
   ]
  },
  {
   "cell_type": "code",
   "execution_count": 5,
   "id": "3e443be7-05e7-49f2-83f5-dd9ff0c4a0d8",
   "metadata": {},
   "outputs": [],
   "source": [
    "# Ignore warnings\n",
    "import warnings\n",
    "warnings.filterwarnings('ignore')"
   ]
  },
  {
   "cell_type": "markdown",
   "id": "623a1616-8183-4b0b-a2e4-72640d4e3184",
   "metadata": {},
   "source": [
    "## Import data"
   ]
  },
  {
   "cell_type": "code",
   "execution_count": 12,
   "id": "03398ef8",
   "metadata": {},
   "outputs": [],
   "source": [
    "contractPath = '..\\contract_all.csv'\n",
    "damagePath = '..\\mergedData\\damage.csv'\n",
    "\n",
    "contract_all = pd.read_csv(contractPath)\n",
    "damage = pd.read_csv(damagePath)"
   ]
  },
  {
   "cell_type": "code",
   "execution_count": 28,
   "id": "0e60505d",
   "metadata": {},
   "outputs": [],
   "source": [
    "damagePath = '..\\data\\csv\\damage.csv'\n",
    "damage = pd.read_csv(damagePath)"
   ]
  },
  {
   "cell_type": "code",
   "execution_count": 29,
   "id": "a35f42b2",
   "metadata": {},
   "outputs": [
    {
     "name": "stdout",
     "output_type": "stream",
     "text": [
      "<class 'pandas.core.frame.DataFrame'>\n",
      "RangeIndex: 394501 entries, 0 to 394500\n",
      "Data columns (total 42 columns):\n",
      " #   Column                       Non-Null Count   Dtype  \n",
      "---  ------                       --------------   -----  \n",
      " 0   DEPARTMENT_SEGMENT           394501 non-null  object \n",
      " 1   DEPARTMENT_RESPONSIBLE       394501 non-null  object \n",
      " 2   DEPARTMENT_CUSTOMER_SEGMENT  394501 non-null  object \n",
      " 3   ADDRESS_TYPE                 100241 non-null  object \n",
      " 4   DAMAGE_REPORTER              86642 non-null   float64\n",
      " 5   EXPENSE                      394500 non-null  float64\n",
      " 6   DAMAGE_CLUSTER_ID            305871 non-null  object \n",
      " 7   DATE_INITIAL_RESERVATION     394501 non-null  object \n",
      " 8   DATE_DAMAGE_EVENT            394501 non-null  object \n",
      " 9   DATE_COMPLETION_DATE         5105 non-null    object \n",
      " 10  PARTY_ID                     394480 non-null  object \n",
      " 11  CONTRACT_ID                  394501 non-null  int64  \n",
      " 12  INITIAL_RESERVATION          394500 non-null  float64\n",
      " 13  TOTAL_DAMAGE                 394501 non-null  object \n",
      " 14  BUSINESS_TYPE_MARK           394501 non-null  object \n",
      " 15  BUSINESS_FIELD_ID            394501 non-null  int64  \n",
      " 16  BUSINESS_MARK                385458 non-null  float64\n",
      " 17  CUMULEVENT                   446 non-null     object \n",
      " 18  RESIDUAL_AMOUNT              394500 non-null  float64\n",
      " 19  RESTORATION_CANDIDAT         394501 non-null  object \n",
      " 20  DAMAGE_NATION                305871 non-null  object \n",
      " 21  DAMAGE_TYPE                  305871 non-null  object \n",
      " 22  DAMAGE_INCIDENT              305871 non-null  object \n",
      " 23  DAMAGE_EVENT_TOWN            394501 non-null  object \n",
      " 24  DAMAGE_EVENT_ZIP_CODE        394501 non-null  object \n",
      " 25  DAMAGE_EVENT_STREET          394103 non-null  object \n",
      " 26  DAMAGE_TRAIT_DESIGNMENT      394499 non-null  object \n",
      " 27  DAMAGE_TRAIT                 394501 non-null  int64  \n",
      " 28  DAMAGE_CAUSE                 394501 non-null  int64  \n",
      " 29  DAMAGE_CAUSE_DESIGNMENT      389952 non-null  object \n",
      " 30  DAMAGE_BRANCH_DESIGNMENT     394501 non-null  object \n",
      " 31  DAMAGE_BRANCH                394501 non-null  object \n",
      " 32  DAMAGE_ID                    394501 non-null  int64  \n",
      " 33  DIVISION_LEVEL_00            394501 non-null  object \n",
      " 34  DIVISION_LEVEL_01            394501 non-null  object \n",
      " 35  DIVISION_LEVEL_02            394501 non-null  object \n",
      " 36  DIVISION_LEVEL_03            394501 non-null  object \n",
      " 37  DIVISION_LEVEL_04            394501 non-null  object \n",
      " 38  DIVISION_LEVEL_05            394501 non-null  object \n",
      " 39  STATISTIC_NUMBER             394501 non-null  int64  \n",
      " 40  SVCLUSTER                    394501 non-null  object \n",
      " 41  PAYOUT                       394500 non-null  float64\n",
      "dtypes: float64(6), int64(6), object(30)\n",
      "memory usage: 126.4+ MB\n"
     ]
    }
   ],
   "source": [
    "damage.info()"
   ]
  },
  {
   "cell_type": "code",
   "execution_count": 14,
   "id": "862fef22",
   "metadata": {},
   "outputs": [
    {
     "name": "stdout",
     "output_type": "stream",
     "text": [
      "<class 'pandas.core.frame.DataFrame'>\n",
      "RangeIndex: 11534325 entries, 0 to 11534324\n",
      "Data columns (total 31 columns):\n",
      " #   Column                       Dtype  \n",
      "---  ------                       -----  \n",
      " 0   CONTRACT_ID                  float64\n",
      " 1   CORPORATE_DEVISION           object \n",
      " 2   RISK_LOCATION_ZIP_CODE       object \n",
      " 3   RISK_LOCATION_TOWN           object \n",
      " 4   RISK_LOCATION_STREET         object \n",
      " 5   SUM_INSURED                  object \n",
      " 6   CONSTRACTION_DESIGN          object \n",
      " 7   CONSTRUCTION_YEAR            int64  \n",
      " 8   BASEMENT                     object \n",
      " 9   BUILDING_TYPE                object \n",
      " 10  LIVING_SPACE                 float64\n",
      " 11  ZONE                         object \n",
      " 12  NO_CLAIMS_SCALE              float64\n",
      " 13  TYPE_OF_DEDUCTIBLE           int64  \n",
      " 14  DEDUCTIBLE_PERCENTAGE        float64\n",
      " 15  DEDUCTIBLE_MIN               int64  \n",
      " 16  DEDUCTIBLE_MAX               int64  \n",
      " 17  DRAIN_PIPE_INSURED           object \n",
      " 18  PRODUCTLINE                  object \n",
      " 19  INVENTORY_MANAGEMENT_SYSTEM  object \n",
      " 20  KEYDATE                      object \n",
      " 21  PRIOR_DAMAGES                int64  \n",
      " 22  RISK_NATION                  object \n",
      " 23  UNDERINSURANCE_WAIVER        object \n",
      " 24  SFR-JAHRE                    int64  \n",
      " 25  UNDERWRITER                  object \n",
      " 26  PARTY-ID                     object \n",
      " 27  PREMIUM_AMOUNT               object \n",
      " 28  Day                          int64  \n",
      " 29  Month                        int64  \n",
      " 30  Year                         int64  \n",
      "dtypes: float64(4), int64(9), object(18)\n",
      "memory usage: 2.7+ GB\n"
     ]
    }
   ],
   "source": [
    "contract_all.info()"
   ]
  },
  {
   "cell_type": "markdown",
   "id": "bf013413-1adc-427d-8056-ae39c7f191a2",
   "metadata": {},
   "source": [
    "## Cleaning damage data"
   ]
  },
  {
   "cell_type": "markdown",
   "id": "eaff7732-4023-4c01-9ad8-361b063c3ad9",
   "metadata": {},
   "source": [
    "Drop these variables:\n",
    "- The vast majority of data in ADDRESS_TYPE, DAMAGE_REPORTER, DATE_COMPLETION_DATE and CUMULEVENT are missing.\n",
    "- Exclude variables with only one (or very few/not relevant) category: 'DEPARTMENT_SEGMENT', 'DEPARTMENT_RESPONSIBLE', 'DEPARTMENT_CUSTOMER_SEGMENT', 'BUSINESS_TYPE_MARK', 'DAMAGE_BRANCH_DESIGNMENT', 'DAMAGE_BRANCH', 'SVCLUSTER', ‘BUSINESS_MARK’\n",
    "- Not relevant: 'PARTY_ID', 'RESTORATION_CANDIDAT'"
   ]
  },
  {
   "cell_type": "code",
   "execution_count": 30,
   "id": "b6cb5027-7b7a-4c4a-9b33-5ce1ab383813",
   "metadata": {},
   "outputs": [],
   "source": [
    "# Drop columns\n",
    "columnsToDrop = ['DEPARTMENT_SEGMENT', 'DEPARTMENT_RESPONSIBLE', 'DEPARTMENT_CUSTOMER_SEGMENT', 'BUSINESS_TYPE_MARK', 'BUSINESS_MARK',\n",
    "                 'DAMAGE_BRANCH_DESIGNMENT', 'DAMAGE_BRANCH', 'SVCLUSTER', 'ADDRESS_TYPE', 'DAMAGE_REPORTER', 'DATE_COMPLETION_DATE', 'PARTY_ID',\n",
    "                 'CUMULEVENT', 'RESTORATION_CANDIDAT']\n",
    "\n",
    "damage = damage.drop(columns=columnsToDrop, errors='ignore')"
   ]
  },
  {
   "cell_type": "code",
   "execution_count": 31,
   "id": "eda9b441-e870-4caa-bf5b-8d46b44a8ba7",
   "metadata": {},
   "outputs": [],
   "source": [
    "# Convert dates to date format\n",
    "damage['DATE_DAMAGE_EVENT'] = pd.to_datetime(damage['DATE_DAMAGE_EVENT'])\n",
    "damage['DATE_INITIAL_RESERVATION'] = pd.to_datetime(damage['DATE_INITIAL_RESERVATION'], dayfirst=True)\n",
    "\n",
    "# Convert 'TOTAL_DAMAGE' to float\n",
    "damage['TOTAL_DAMAGE'] = damage['TOTAL_DAMAGE'].replace('UNDEFINED', np.nan).astype('float64')\n",
    "\n",
    "# Convert ids to object\n",
    "damage['BUSINESS_FIELD_ID'] = damage['BUSINESS_FIELD_ID'].astype('object')\n",
    "damage['CONTRACT_ID'] = damage['CONTRACT_ID'].astype('object')\n",
    "damage['DAMAGE_TRAIT'] = damage['DAMAGE_TRAIT'].astype('object')\n",
    "damage['DAMAGE_CAUSE'] = damage['DAMAGE_CAUSE'].astype('object')\n",
    "damage['DAMAGE_ID'] = damage['DAMAGE_ID'].astype('object')\n",
    "damage['STATISTIC_NUMBER'] = damage['STATISTIC_NUMBER'].astype('object')"
   ]
  },
  {
   "cell_type": "code",
   "execution_count": 32,
   "id": "1702d831-be61-4d26-939e-192eee2ff313",
   "metadata": {},
   "outputs": [
    {
     "data": {
      "text/plain": [
       "305783"
      ]
     },
     "execution_count": 32,
     "metadata": {},
     "output_type": "execute_result"
    }
   ],
   "source": [
    "# Drop observations outside of Germany\n",
    "damage = damage[damage['DAMAGE_NATION'] == 'D']\n",
    "\n",
    "# Drop column 'DAMAGE_NATION'\n",
    "damage = damage.drop(columns=['DAMAGE_NATION'], errors='ignore')\n",
    "\n",
    "len(damage)"
   ]
  },
  {
   "cell_type": "code",
   "execution_count": 33,
   "id": "c618d5a5-12d7-4df8-ae82-c99669d078c9",
   "metadata": {},
   "outputs": [
    {
     "data": {
      "text/plain": [
       "247134"
      ]
     },
     "execution_count": 33,
     "metadata": {},
     "output_type": "execute_result"
    }
   ],
   "source": [
    "# Drop observations before 2014\n",
    "damage = damage[damage['DATE_DAMAGE_EVENT'].dt.year >= 2014]\n",
    "damage = damage[damage['DATE_INITIAL_RESERVATION'].dt.year >= 2014]\n",
    "len(damage)"
   ]
  },
  {
   "cell_type": "markdown",
   "id": "513b601c-be0d-4244-ad09-9caa5b8b251c",
   "metadata": {},
   "source": [
    "Drop negative values from financial variables:"
   ]
  },
  {
   "cell_type": "code",
   "execution_count": 34,
   "id": "1796f4f5-94f6-4bdc-ae48-b0c0887395e0",
   "metadata": {},
   "outputs": [
    {
     "name": "stdout",
     "output_type": "stream",
     "text": [
      "{'EXPENSE': 230, 'INITIAL_RESERVATION': 0, 'TOTAL_DAMAGE': 0, 'RESIDUAL_AMOUNT': 334, 'PAYOUT': 89}\n"
     ]
    }
   ],
   "source": [
    "# Check number of negative values in financial columns\n",
    "financialColumns = ['EXPENSE', 'INITIAL_RESERVATION', 'TOTAL_DAMAGE', 'RESIDUAL_AMOUNT', 'PAYOUT']\n",
    "\n",
    "# Create a dictionary\n",
    "negativeCounts = {}\n",
    "\n",
    "# Count negative values in each column\n",
    "for column in financialColumns:\n",
    "    negativeCounts[column] = (damage[column] < 0).sum()\n",
    "\n",
    "print(negativeCounts)"
   ]
  },
  {
   "cell_type": "code",
   "execution_count": 35,
   "id": "e87eb10f-30af-4bc1-b607-30b28f9d4c30",
   "metadata": {},
   "outputs": [
    {
     "data": {
      "text/plain": [
       "246567"
      ]
     },
     "execution_count": 35,
     "metadata": {},
     "output_type": "execute_result"
    }
   ],
   "source": [
    "# Create a mask that is True for rows where all financial columns are >= 0 or NaN\n",
    "mask = (damage[financialColumns] >= 0) | damage[financialColumns].isna()\n",
    "\n",
    "# Use .all(axis=1) to ensure that we only drop rows where all conditions are False (i.e., where all are negative)\n",
    "damage = damage[mask.all(axis=1)]\n",
    "len(damage)"
   ]
  },
  {
   "cell_type": "code",
   "execution_count": 22,
   "id": "f5e8ceac",
   "metadata": {},
   "outputs": [],
   "source": [
    "# # Exclude rows where EXPENSE, PAYOUT, and RESIDUAL_AMOUNT are all zero\n",
    "# damage_all = damage_all[(damage_all['EXPENSE'] != 0) | (damage_all['PAYOUT'] != 0) | (damage_all['RESIDUAL_AMOUNT'] != 0)]\n",
    "# print(len(damage_all))\n",
    "\n",
    "# # Exclude rows where PIPE_PREMIUM_AMOUNT is na\n",
    "# damage_all = damage_all.dropna(subset=['PIPE_PREMIUM_AMOUNT'])\n",
    "# print(len(damage_all))"
   ]
  },
  {
   "cell_type": "markdown",
   "id": "5a5e8afa",
   "metadata": {},
   "source": [
    "TODO Other changes:\n",
    "- ZIP_CODE in Contract starts sometimes with a W, does it stand for something? If not, change these entries to NA?\n",
    "- No_claim_Scale always 0 in contract14, in other years most of the time empty\n",
    "- Damage_Event_Street is sometimes “Quartalsabrechnung” or “Monatsabrechnung”, specially if PAYOUT is really high\n",
    "- einheitliche werte (ja, nein, j, n, 0, 1)"
   ]
  },
  {
   "cell_type": "code",
   "execution_count": 46,
   "id": "f444cf92",
   "metadata": {},
   "outputs": [],
   "source": [
    "# Convert zip codes starting with 'W' or 'O', or those not 5 characters long to NaN\n",
    "damage.loc[damage['DAMAGE_EVENT_ZIP_CODE'].str.startswith(('W', 'O')) | \n",
    "           (damage['DAMAGE_EVENT_ZIP_CODE'].str.len() != 5), 'DAMAGE_EVENT_ZIP_CODE'] = np.nan"
   ]
  },
  {
   "cell_type": "markdown",
   "id": "15382263-9578-40ae-acde-3602f848861e",
   "metadata": {},
   "source": [
    "## Cleaning contract data"
   ]
  },
  {
   "cell_type": "markdown",
   "id": "aa4bebc0-eb44-4a9f-a914-85131b0cb132",
   "metadata": {},
   "source": [
    "Drop these variables:\n",
    "- The majority of data is missing for the variables BASEMENT, BUILDING_TYPE, NO_CLAIMS_SCALE, NO_CLAIMS_YEARS.\n",
    "- Not relevant for our analysis: 'TYPE_OF_DEDUCTIBLE', 'DEDUCTIBLE_PERCENTAGE', 'DEDUCTIBLE_MIN', 'DEDUCTIBLE_MAX', 'INVENTORY_MANAGEMENT_SYSTEM', 'PARTY-ID', 'RISK_NATION'"
   ]
  },
  {
   "cell_type": "code",
   "execution_count": 23,
   "id": "1f350941-b271-4549-99f4-43bc4acf4783",
   "metadata": {},
   "outputs": [],
   "source": [
    "# Drop columns from all dataframes\n",
    "columnsToDrop = ['TYPE_OF_DEDUCTIBLE', 'DEDUCTIBLE_PERCENTAGE', 'DEDUCTIBLE_MIN', 'DEDUCTIBLE_MAX', 'INVENTORY_MANAGEMENT_SYSTEM',\n",
    "                'BASEMENT', 'BUILDING_TYPE', 'NO_CLAIMS_SCALE', 'NO_CLAIMS_YEARS', 'RISK_NATION', 'PARTY-ID']\n",
    "\n",
    "for i in range(14, 25):\n",
    "    dfName = f'contract{i}'\n",
    "    if dfName in globals():\n",
    "        globals()[dfName] = globals()[dfName].drop(columns=columnsToDrop, errors='ignore')"
   ]
  },
  {
   "cell_type": "code",
   "execution_count": null,
   "id": "f2b71cd2",
   "metadata": {},
   "outputs": [],
   "source": [
    "# # Convert dates to date format\n",
    "# contract['KEYDATE'] = pd.to_datetime(contract['KEYDATE'])\n",
    "\n",
    "# # Convert ids to object\n",
    "# contract['CONTRACT_ID'] = contract['CONTRACT_ID'].astype('object')\n",
    "\n",
    "# Convert PREMIUM_AMOUNT to float\n",
    "# damage_all['PREMIUM_AMOUNT'] = damage_all['PREMIUM_AMOUNT'].astype(float)"
   ]
  },
  {
   "cell_type": "markdown",
   "id": "2211924b-40f7-461b-8fd1-c6f781776032",
   "metadata": {},
   "source": [
    "Drop negative values from financial variables (there are none):"
   ]
  },
  {
   "cell_type": "code",
   "execution_count": 25,
   "id": "281c7e70-9c02-4a3c-8f56-0f8e566b55d0",
   "metadata": {},
   "outputs": [
    {
     "name": "stdout",
     "output_type": "stream",
     "text": [
      "{'contract14': SUM_INSURED    0\n",
      "dtype: int64, 'contract15': SUM_INSURED    0\n",
      "dtype: int64, 'contract16': SUM_INSURED    0\n",
      "dtype: int64, 'contract17': SUM_INSURED    0\n",
      "dtype: int64, 'contract18': SUM_INSURED    0\n",
      "dtype: int64, 'contract19': SUM_INSURED    0\n",
      "dtype: int64, 'contract20': SUM_INSURED    0\n",
      "dtype: int64, 'contract21': SUM_INSURED    0\n",
      "dtype: int64, 'contract22': SUM_INSURED    0\n",
      "dtype: int64, 'contract23': SUM_INSURED    0\n",
      "dtype: int64, 'contract24': SUM_INSURED    0\n",
      "dtype: int64}\n"
     ]
    }
   ],
   "source": [
    "# Check number of negative values in financial columns\n",
    "financialColumns = ['SUM_INSURED']\n",
    "\n",
    "# Create a dictionary\n",
    "negativeCounts = {}\n",
    "\n",
    "# # Count negative values in each dataset\n",
    "for i in range(14, 25):\n",
    "    dfName = f'contract{i}'\n",
    "    if dfName in globals():\n",
    "        negativeCounts[dfName] = (globals()[dfName][financialColumns] < 0).sum()\n",
    "\n",
    "print(negativeCounts) # nothing to drop"
   ]
  },
  {
   "cell_type": "code",
   "execution_count": 26,
   "id": "dad222db",
   "metadata": {},
   "outputs": [
    {
     "name": "stdout",
     "output_type": "stream",
     "text": [
      "Number of NaN 'CONSTRUCTION_YEAR' in contract14: 85\n",
      "Number of NaN 'CONSTRUCTION_YEAR' in contract15: 80\n",
      "Number of NaN 'CONSTRUCTION_YEAR' in contract16: 71\n",
      "Number of NaN 'CONSTRUCTION_YEAR' in contract17: 61\n",
      "Number of NaN 'CONSTRUCTION_YEAR' in contract18: 56\n",
      "Number of NaN 'CONSTRUCTION_YEAR' in contract19: 51\n",
      "Number of NaN 'CONSTRUCTION_YEAR' in contract20: 48\n",
      "Number of NaN 'CONSTRUCTION_YEAR' in contract21: 45\n",
      "Number of NaN 'CONSTRUCTION_YEAR' in contract22: 41\n",
      "Number of NaN 'CONSTRUCTION_YEAR' in contract23: 37\n",
      "Number of NaN 'CONSTRUCTION_YEAR' in contract24: 36\n"
     ]
    }
   ],
   "source": [
    "# Exclude values where the construction year is in the future\n",
    "# Set current year\n",
    "currentYear = 2024\n",
    "\n",
    "# Loop through each DataFrame and set future 'CONSTRUCTION_YEAR' values to NaN\n",
    "for i in range(14, 25):\n",
    "    df_name = f'contract{i}'\n",
    "    if df_name in globals():\n",
    "        # Access the DataFrame\n",
    "        df = globals()[df_name]\n",
    "        # Identify rows where 'CONSTRUCTION_YEAR' is in the future and set to NaN\n",
    "        df.loc[df['CONSTRUCTION_YEAR'] > currentYear, 'CONSTRUCTION_YEAR'] = np.nan\n",
    "        # Update the DataFrame in the global namespace\n",
    "        globals()[df_name] = df\n",
    "        # Print the number of rows with NaN 'CONSTRUCTION_YEAR' to verify\n",
    "        print(f\"Number of NaN 'CONSTRUCTION_YEAR' in {df_name}: {df['CONSTRUCTION_YEAR'].isna().sum()}\")"
   ]
  },
  {
   "cell_type": "markdown",
   "id": "920fbd0c",
   "metadata": {},
   "source": [
    "TODO Other changes:\n",
    "- ZIP_CODE in Contract starts sometimes with a W, does it stand for something? If not, change these entries to NA?\n",
    "- Sum_Insured sometimes 0 or 1\n",
    "- Construction_Design is 00, change it to NA?\n",
    "- Construction Year is in future or 0, 1, 1111; why? Change 111111 into NAs\n",
    "- Living Space is 0 or 1 sometimes, change it to N?\n",
    "- einheitliche werte (ja, nein, j, n, 0, 1)"
   ]
  },
  {
   "cell_type": "code",
   "execution_count": null,
   "id": "1191a45d",
   "metadata": {},
   "outputs": [],
   "source": [
    "# Set 'SUM_INSURED' to NaN where it's 0 or 1\n",
    "# contract.loc[contract['SUM_INSURED'].isin([0, 1]), 'SUM_INSURED'] = np.nan\n",
    "\n",
    "# Set 'LIVING_SPACE' to NaN where it's 0 or 1\n",
    "# contract.loc[contract['LIVING_SPACE'].isin([0, 1]), 'LIVING_SPACE'] = np.nan"
   ]
  },
  {
   "cell_type": "code",
   "execution_count": null,
   "id": "9e44b860",
   "metadata": {},
   "outputs": [],
   "source": [
    "# # Exclude values where the construction year is in the future\n",
    "# # Set the current year\n",
    "# currentYear = 2024\n",
    "\n",
    "# # Conditions for setting NaN\n",
    "# # Future years or specific unrealistic years\n",
    "# contract.loc[(contract['CONSTRUCTION_YEAR'] > currentYear) | \n",
    "#              (contract['CONSTRUCTION_YEAR'].isin([1111, 1, 0])), 'CONSTRUCTION_YEAR'] = np.nan"
   ]
  },
  {
   "cell_type": "code",
   "execution_count": null,
   "id": "d833f0a9",
   "metadata": {},
   "outputs": [],
   "source": [
    "# # Replace values in the 'DRAIN_PIPE_INSURED' column\n",
    "# contract['DRAIN_PIPE_INSURED'] = contract['DRAIN_PIPE_INSURED'].replace({'J': 1, 'N': 0})\n",
    "\n",
    "# # Replace values in the 'UNDERINSURANCE_WAIVER' column\n",
    "# contract['UNDERINSURANCE_WAIVER'] = contract['UNDERINSURANCE_WAIVER'].replace({'J': 1, 'N': 0})"
   ]
  },
  {
   "cell_type": "code",
   "execution_count": null,
   "id": "60cc621e",
   "metadata": {},
   "outputs": [],
   "source": [
    "# # Convert zip codes starting with 'W' or 'O', or those not 5 characters long to NaN\n",
    "# contract.loc[contract['RISK_LOCATION_ZIP_CODE'].str.startswith(('W', 'O')) | \n",
    "#            (contract['RISK_LOCATION_ZIP_CODE'].str.len() != 5), 'RISK_LOCATION_ZIP_CODE'] = np.nan"
   ]
  }
 ],
 "metadata": {
  "kernelspec": {
   "display_name": "Python 3 (ipykernel)",
   "language": "python",
   "name": "python3"
  },
  "language_info": {
   "codemirror_mode": {
    "name": "ipython",
    "version": 3
   },
   "file_extension": ".py",
   "mimetype": "text/x-python",
   "name": "python",
   "nbconvert_exporter": "python",
   "pygments_lexer": "ipython3",
   "version": "3.12.3"
  }
 },
 "nbformat": 4,
 "nbformat_minor": 5
}
