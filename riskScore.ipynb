{
 "cells": [
  {
   "cell_type": "markdown",
   "id": "095c7f9d-5e93-4cca-bfcc-e0b21da50eb5",
   "metadata": {
    "id": "IxZmgDU1J3cT"
   },
   "source": [
    "# Risk Score Definition"
   ]
  },
  {
   "cell_type": "code",
   "execution_count": 1,
   "id": "095492eb-6b95-47d8-a7d1-8d3855d81304",
   "metadata": {},
   "outputs": [
    {
     "name": "stdout",
     "output_type": "stream",
     "text": [
      "Requirement already satisfied: pandas in c:\\users\\franc\\appdata\\local\\packages\\pythonsoftwarefoundation.python.3.11_qbz5n2kfra8p0\\localcache\\local-packages\\python311\\site-packages (2.2.2)\n",
      "Requirement already satisfied: openpyxl in c:\\users\\franc\\appdata\\local\\packages\\pythonsoftwarefoundation.python.3.11_qbz5n2kfra8p0\\localcache\\local-packages\\python311\\site-packages (3.1.2)\n",
      "Requirement already satisfied: numpy>=1.23.2 in c:\\users\\franc\\appdata\\local\\packages\\pythonsoftwarefoundation.python.3.11_qbz5n2kfra8p0\\localcache\\local-packages\\python311\\site-packages (from pandas) (1.26.4)\n",
      "Requirement already satisfied: python-dateutil>=2.8.2 in c:\\users\\franc\\appdata\\local\\packages\\pythonsoftwarefoundation.python.3.11_qbz5n2kfra8p0\\localcache\\local-packages\\python311\\site-packages (from pandas) (2.9.0.post0)\n",
      "Requirement already satisfied: pytz>=2020.1 in c:\\users\\franc\\appdata\\local\\packages\\pythonsoftwarefoundation.python.3.11_qbz5n2kfra8p0\\localcache\\local-packages\\python311\\site-packages (from pandas) (2024.1)\n",
      "Requirement already satisfied: tzdata>=2022.7 in c:\\users\\franc\\appdata\\local\\packages\\pythonsoftwarefoundation.python.3.11_qbz5n2kfra8p0\\localcache\\local-packages\\python311\\site-packages (from pandas) (2024.1)\n",
      "Requirement already satisfied: et-xmlfile in c:\\users\\franc\\appdata\\local\\packages\\pythonsoftwarefoundation.python.3.11_qbz5n2kfra8p0\\localcache\\local-packages\\python311\\site-packages (from openpyxl) (1.1.0)\n",
      "Requirement already satisfied: six>=1.5 in c:\\users\\franc\\appdata\\local\\packages\\pythonsoftwarefoundation.python.3.11_qbz5n2kfra8p0\\localcache\\local-packages\\python311\\site-packages (from python-dateutil>=2.8.2->pandas) (1.16.0)\n"
     ]
    }
   ],
   "source": [
    "!pip install pandas openpyxl"
   ]
  },
  {
   "cell_type": "code",
   "execution_count": 2,
   "id": "b5e99c8f-8742-443d-86f4-d3c9c71864bd",
   "metadata": {},
   "outputs": [
    {
     "name": "stdout",
     "output_type": "stream",
     "text": [
      "Requirement already satisfied: numpy in c:\\users\\franc\\appdata\\local\\packages\\pythonsoftwarefoundation.python.3.11_qbz5n2kfra8p0\\localcache\\local-packages\\python311\\site-packages (1.26.4)\n"
     ]
    }
   ],
   "source": [
    "!pip install numpy"
   ]
  },
  {
   "cell_type": "code",
   "execution_count": 3,
   "id": "e14befdb-ed83-4f02-b6ab-2813d6232e4e",
   "metadata": {},
   "outputs": [],
   "source": [
    "import pandas as pd\n",
    "import numpy as np"
   ]
  },
  {
   "cell_type": "code",
   "execution_count": 4,
   "id": "4884dc17-815f-45ee-afb0-55ab1dfa8acd",
   "metadata": {},
   "outputs": [],
   "source": [
    "# Ignore warnings\n",
    "import warnings\n",
    "warnings.filterwarnings('ignore')"
   ]
  },
  {
   "cell_type": "code",
   "execution_count": 5,
   "id": "d02e9304-9988-47c3-bffa-1c75f3db78c6",
   "metadata": {},
   "outputs": [],
   "source": [
    "# Import data\n",
    "damage_all = pd.read_csv(\"mergedData/damage_all.csv\")"
   ]
  },
  {
   "cell_type": "code",
   "execution_count": 6,
   "id": "4d30eae2-8334-40fc-a270-e59c6268c93d",
   "metadata": {
    "id": "H8Uz3gCzKBay"
   },
   "outputs": [],
   "source": [
    "# Convert PREMIUM_AMOUNT to float\n",
    "damage_all['PREMIUM_AMOUNT'] = damage_all['PREMIUM_AMOUNT'].astype(float)\n",
    "\n",
    "# Calculate NET_PREMIUM_AMOUNT as 60% of PREMIUM_AMOUNT\n",
    "damage_all['NET_PREMIUM_AMOUNT'] = damage_all['PREMIUM_AMOUNT'] * 0.6"
   ]
  },
  {
   "cell_type": "code",
   "execution_count": 7,
   "id": "613470fd-3cd6-476c-844d-c664984cce38",
   "metadata": {
    "id": "aQLogWCNKNF_"
   },
   "outputs": [],
   "source": [
    "# Calculate PIPE_PREMIUM_AMOUNT based on CORPORATE_DEVISION\n",
    "# Map devision percentages\n",
    "devisionPercentages = {\n",
    "    'VGV': 0.43,\n",
    "    'VHV': 0.11,\n",
    "    'H&H': 0.07,\n",
    "    'W&W': 0.32\n",
    "}\n",
    "\n",
    "# Calculate PIPE_PREMIUM_AMOUNT\n",
    "damage_all['PIPE_PREMIUM_AMOUNT'] = damage_all['DIVISION_LEVEL_02'].map(devisionPercentages) * damage_all['NET_PREMIUM_AMOUNT']"
   ]
  },
  {
   "cell_type": "code",
   "execution_count": 8,
   "id": "7b932cc1-5153-457d-ac08-c759de5fc9e7",
   "metadata": {
    "id": "FX49Jf-QKQAu"
   },
   "outputs": [],
   "source": [
    "# Calculate RISK_SCORE as PIPE_PREMIUM_AMOUNT / EXPENSE\n",
    "damage_all['RISK_SCORE'] = damage_all['PIPE_PREMIUM_AMOUNT'] / damage_all['EXPENSE']\n",
    "# When expense = 0 the division returns infinity. Instead return risk score = 0\n",
    "damage_all['RISK_SCORE'] = damage_all['RISK_SCORE'].replace([float('inf')], 0)"
   ]
  },
  {
   "cell_type": "code",
   "execution_count": 9,
   "id": "340448df-5118-4162-ad5e-5208a6c9192d",
   "metadata": {
    "id": "P2BR1GAbKSzy",
    "scrolled": true
   },
   "outputs": [
    {
     "data": {
      "text/html": [
       "<div>\n",
       "<style scoped>\n",
       "    .dataframe tbody tr th:only-of-type {\n",
       "        vertical-align: middle;\n",
       "    }\n",
       "\n",
       "    .dataframe tbody tr th {\n",
       "        vertical-align: top;\n",
       "    }\n",
       "\n",
       "    .dataframe thead th {\n",
       "        text-align: right;\n",
       "    }\n",
       "</style>\n",
       "<table border=\"1\" class=\"dataframe\">\n",
       "  <thead>\n",
       "    <tr style=\"text-align: right;\">\n",
       "      <th></th>\n",
       "      <th>EXPENSE</th>\n",
       "      <th>PREMIUM_AMOUNT</th>\n",
       "      <th>NET_PREMIUM_AMOUNT</th>\n",
       "      <th>PIPE_PREMIUM_AMOUNT</th>\n",
       "      <th>RISK_SCORE</th>\n",
       "    </tr>\n",
       "  </thead>\n",
       "  <tbody>\n",
       "    <tr>\n",
       "      <th>1</th>\n",
       "      <td>0.0</td>\n",
       "      <td>199.20</td>\n",
       "      <td>119.520</td>\n",
       "      <td>51.39360</td>\n",
       "      <td>0.0</td>\n",
       "    </tr>\n",
       "    <tr>\n",
       "      <th>6</th>\n",
       "      <td>0.0</td>\n",
       "      <td>190.67</td>\n",
       "      <td>114.402</td>\n",
       "      <td>49.19286</td>\n",
       "      <td>0.0</td>\n",
       "    </tr>\n",
       "    <tr>\n",
       "      <th>8</th>\n",
       "      <td>0.0</td>\n",
       "      <td>331.12</td>\n",
       "      <td>198.672</td>\n",
       "      <td>21.85392</td>\n",
       "      <td>0.0</td>\n",
       "    </tr>\n",
       "    <tr>\n",
       "      <th>22</th>\n",
       "      <td>0.0</td>\n",
       "      <td>203.84</td>\n",
       "      <td>122.304</td>\n",
       "      <td>52.59072</td>\n",
       "      <td>0.0</td>\n",
       "    </tr>\n",
       "    <tr>\n",
       "      <th>26</th>\n",
       "      <td>0.0</td>\n",
       "      <td>699.60</td>\n",
       "      <td>419.760</td>\n",
       "      <td>180.49680</td>\n",
       "      <td>0.0</td>\n",
       "    </tr>\n",
       "  </tbody>\n",
       "</table>\n",
       "</div>"
      ],
      "text/plain": [
       "    EXPENSE  PREMIUM_AMOUNT  NET_PREMIUM_AMOUNT  PIPE_PREMIUM_AMOUNT  \\\n",
       "1       0.0          199.20             119.520             51.39360   \n",
       "6       0.0          190.67             114.402             49.19286   \n",
       "8       0.0          331.12             198.672             21.85392   \n",
       "22      0.0          203.84             122.304             52.59072   \n",
       "26      0.0          699.60             419.760            180.49680   \n",
       "\n",
       "    RISK_SCORE  \n",
       "1          0.0  \n",
       "6          0.0  \n",
       "8          0.0  \n",
       "22         0.0  \n",
       "26         0.0  "
      ]
     },
     "execution_count": 9,
     "metadata": {},
     "output_type": "execute_result"
    }
   ],
   "source": [
    "damage_all[['EXPENSE', 'PREMIUM_AMOUNT', 'NET_PREMIUM_AMOUNT', 'PIPE_PREMIUM_AMOUNT', 'RISK_SCORE']].dropna(subset=['RISK_SCORE']).head()"
   ]
  },
  {
   "cell_type": "code",
   "execution_count": 10,
   "id": "507516c8-e2b7-4938-ac1e-45a9ea05bf04",
   "metadata": {},
   "outputs": [
    {
     "name": "stdout",
     "output_type": "stream",
     "text": [
      "252407\n",
      "229000\n",
      "23407\n"
     ]
    }
   ],
   "source": [
    "# Problem: a lot of nas in RISK_SCORE\n",
    "print(len(damage_all))\n",
    "print(damage_all['RISK_SCORE'].isna().sum())\n",
    "print(len(damage_all.dropna(subset=['RISK_SCORE'])))"
   ]
  },
  {
   "cell_type": "code",
   "execution_count": 11,
   "id": "1ce088d7-16e7-4c5d-86c7-4f02281875f3",
   "metadata": {},
   "outputs": [
    {
     "name": "stdout",
     "output_type": "stream",
     "text": [
      "228999\n"
     ]
    }
   ],
   "source": [
    "# Possible reason: contract_column_add has way less rows than all the other contract tables put together\n",
    "# When merging the tables, we are left with a lot of nas in the premium amount\n",
    "print(damage_all['PREMIUM_AMOUNT'].isna().sum())"
   ]
  },
  {
   "cell_type": "code",
   "execution_count": 12,
   "id": "11eab802-ba2f-4853-a675-d811fd989194",
   "metadata": {},
   "outputs": [],
   "source": [
    "# Save dataset to csv\n",
    "damage_all.to_csv('damage_all.csv', index=False)"
   ]
  },
  {
   "cell_type": "code",
   "execution_count": 14,
   "id": "3105e4af-de6b-4868-8f6e-0dff9eeaabf9",
   "metadata": {},
   "outputs": [],
   "source": [
    "# Reload file if necessary\n",
    "damage_all = pd.read_csv(\"mergedData/damage_all.csv\")"
   ]
  },
  {
   "cell_type": "code",
   "execution_count": null,
   "id": "6562fe6a-62cf-4d6b-9386-9a19cb6028ef",
   "metadata": {},
   "outputs": [],
   "source": []
  }
 ],
 "metadata": {
  "kernelspec": {
   "display_name": "Python 3 (ipykernel)",
   "language": "python",
   "name": "python3"
  },
  "language_info": {
   "codemirror_mode": {
    "name": "ipython",
    "version": 3
   },
   "file_extension": ".py",
   "mimetype": "text/x-python",
   "name": "python",
   "nbconvert_exporter": "python",
   "pygments_lexer": "ipython3",
   "version": "3.11.9"
  }
 },
 "nbformat": 4,
 "nbformat_minor": 5
}
