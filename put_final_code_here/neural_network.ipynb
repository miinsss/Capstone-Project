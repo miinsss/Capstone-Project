{
 "cells": [
  {
   "cell_type": "markdown",
   "metadata": {
    "id": "ul8FG0MadDKn"
   },
   "source": [
    "# Neural Network"
   ]
  },
  {
   "cell_type": "markdown",
   "metadata": {
    "id": "D3ZcHUY1On1h"
   },
   "source": [
    "## Imports"
   ]
  },
  {
   "cell_type": "code",
   "execution_count": 1,
   "metadata": {
    "colab": {
     "base_uri": "https://localhost:8080/"
    },
    "executionInfo": {
     "elapsed": 7444,
     "status": "ok",
     "timestamp": 1717012792434,
     "user": {
      "displayName": "Mina Randolf",
      "userId": "17262056063041429157"
     },
     "user_tz": -120
    },
    "id": "auzgWilTMYX6",
    "outputId": "75356e01-dcee-45ed-d820-ddb5a3a1455a"
   },
   "outputs": [],
   "source": [
    "import dask.dataframe as dd\n",
    "from dask_ml.preprocessing import DummyEncoder, StandardScaler\n",
    "import tensorflow as tf\n",
    "from tensorflow.keras.models import Sequential\n",
    "from tensorflow.keras.layers import Dense\n",
    "from dask_ml.model_selection import train_test_split\n",
    "import numpy as np\n",
    "import pandas as pd\n",
    "import os "
   ]
  },
  {
   "cell_type": "markdown",
   "metadata": {
    "id": "G9UsEZkYznAS"
   },
   "source": [
    "## Load the data"
   ]
  },
  {
   "cell_type": "code",
   "execution_count": 2,
   "metadata": {
    "colab": {
     "base_uri": "https://localhost:8080/"
    },
    "executionInfo": {
     "elapsed": 65200,
     "status": "ok",
     "timestamp": 1717012858773,
     "user": {
      "displayName": "Mina Randolf",
      "userId": "17262056063041429157"
     },
     "user_tz": -120
    },
    "id": "pR3-Ub4EOz_E",
    "outputId": "ffe85685-fa6e-4073-89f1-1637b7f9ddd9"
   },
   "outputs": [
    {
     "name": "stdout",
     "output_type": "stream",
     "text": [
      "Current working directory: /Users/minarandolf/Capstone/Capstone-Project/models_scripts\n"
     ]
    },
    {
     "name": "stderr",
     "output_type": "stream",
     "text": [
      "/var/folders/72/ct286z0d1tz0s971c6b7qshh0000gn/T/ipykernel_8161/53176772.py:10: DtypeWarning: Columns (9) have mixed types. Specify dtype option on import or set low_memory=False.\n",
      "  contracts = pd.read_csv(file_path)\n"
     ]
    },
    {
     "name": "stdout",
     "output_type": "stream",
     "text": [
      "Number of observations: 9466361\n",
      "Column names:\n",
      "Index(['Unnamed: 0', 'ANO_SID', 'CORPORATE_DEVISION', 'Bundesland', 'Typ',\n",
      "       'ORTPLZ', 'CONSTRACTION_DESIGN', 'CONSTRUCTION_YEAR', 'WFL', 'ZONE',\n",
      "       'TYPE_OF_DEDUCTIBLE', 'DRAIN_PIPE_INSURED', 'PRODUCTLINE',\n",
      "       'PRIOR_DAMAGES', 'UVV-KZ', 'UNDERWRITER', 'YEAR',\n",
      "       'DAMAGE_HEAVY_RAIN_ZONE', 'LONGITUDE', 'LATITUDE', 'DAMAGE'],\n",
      "      dtype='object')\n",
      "Column types:\n",
      "Unnamed: 0                  int64\n",
      "ANO_SID                   float64\n",
      "CORPORATE_DEVISION         object\n",
      "Bundesland                 object\n",
      "Typ                        object\n",
      "ORTPLZ                      int64\n",
      "CONSTRACTION_DESIGN        object\n",
      "CONSTRUCTION_YEAR         float64\n",
      "WFL                       float64\n",
      "ZONE                       object\n",
      "TYPE_OF_DEDUCTIBLE          int64\n",
      "DRAIN_PIPE_INSURED          int64\n",
      "PRODUCTLINE                object\n",
      "PRIOR_DAMAGES               int64\n",
      "UVV-KZ                      int64\n",
      "UNDERWRITER                object\n",
      "YEAR                        int64\n",
      "DAMAGE_HEAVY_RAIN_ZONE    float64\n",
      "LONGITUDE                 float64\n",
      "LATITUDE                  float64\n",
      "DAMAGE                      int64\n",
      "dtype: object\n",
      "   Unnamed: 0    ANO_SID CORPORATE_DEVISION           Bundesland    Typ  \\\n",
      "0           0  4114028.0                VHV  Nordrhein-Westfalen  Stadt   \n",
      "1           1  4114039.0                VHV  Nordrhein-Westfalen  Stadt   \n",
      "2           2  4114045.0                VHV  Nordrhein-Westfalen  Stadt   \n",
      "3           3  4114049.0                VGV  Nordrhein-Westfalen  Stadt   \n",
      "4           4  4114055.0                VHV  Nordrhein-Westfalen  Kreis   \n",
      "\n",
      "   ORTPLZ CONSTRACTION_DESIGN  CONSTRUCTION_YEAR        WFL ZONE  ...  \\\n",
      "0   42109      NORMAL_VENTURE        1967.565648   69.00000  2.0  ...   \n",
      "1   42277      NORMAL_VENTURE        1967.565648   65.00000  4.0  ...   \n",
      "2   42389      DESIGN_CLASS_I        1967.565648   75.00000  1.0  ...   \n",
      "3   42277      NORMAL_VENTURE        1967.565648  106.24368  NaN  ...   \n",
      "4   42553      NORMAL_VENTURE        1967.565648  119.00000  2.0  ...   \n",
      "\n",
      "   DRAIN_PIPE_INSURED  PRODUCTLINE PRIOR_DAMAGES  UVV-KZ  UNDERWRITER  YEAR  \\\n",
      "0                   0        Sonst             0       1            Y  2014   \n",
      "1                   0        Basis             0       1            Y  2014   \n",
      "2                   0        Sonst             0       1            Y  2014   \n",
      "3                   0      Kompakt             0       1            Y  2014   \n",
      "4                   0        Sonst             0       1            Y  2014   \n",
      "\n",
      "   DAMAGE_HEAVY_RAIN_ZONE  LONGITUDE   LATITUDE  DAMAGE  \n",
      "0                1.727273   7.168175  51.285086       0  \n",
      "1                1.931034   7.221409  51.282877       0  \n",
      "2                1.962963   7.257295  51.272306       0  \n",
      "3                1.931034   7.226671  51.285622       0  \n",
      "4                1.768000   7.080255  51.312158       0  \n",
      "\n",
      "[5 rows x 21 columns]\n"
     ]
    }
   ],
   "source": [
    "# Data Loading\n",
    "# Check the current working directory\n",
    "print(\"Current working directory:\", os.getcwd())\n",
    "\n",
    "# Define the path to your CSV file\n",
    "file_path = '/Users/minarandolf/Capstone/Capstone-Project/datasets/data_all_unique_values.csv'\n",
    "\n",
    "# Load the CSV file into a DataFrame\n",
    "try:\n",
    "    contracts = pd.read_csv(file_path)\n",
    "    print(f\"Number of observations: {len(contracts)}\")\n",
    "    print(\"Column names:\")\n",
    "    print(contracts.columns)\n",
    "    print(\"Column types:\")\n",
    "    print(contracts.dtypes)\n",
    "    print(contracts.head())\n",
    "except FileNotFoundError:\n",
    "    print(f\"The file {file_path} does not exist in the current working directory.\")"
   ]
  },
  {
   "cell_type": "markdown",
   "metadata": {
    "id": "-G08M52oQSV3"
   },
   "source": [
    "## Data Preparation"
   ]
  },
  {
   "cell_type": "code",
   "execution_count": 3,
   "metadata": {
    "id": "F8qH3sKnVqNp"
   },
   "outputs": [
    {
     "name": "stdout",
     "output_type": "stream",
     "text": [
      "Original unique values: 32\n",
      "New unique values: 23\n",
      "<class 'pandas.core.frame.DataFrame'>\n",
      "Index: 8688392 entries, 0 to 9466360\n",
      "Data columns (total 72 columns):\n",
      " #   Column                                         Dtype  \n",
      "---  ------                                         -----  \n",
      " 0   Unnamed: 0                                     int64  \n",
      " 1   ANO_SID                                        float64\n",
      " 2   ORTPLZ                                         int64  \n",
      " 3   CONSTRUCTION_YEAR                              float64\n",
      " 4   WFL                                            float64\n",
      " 5   TYPE_OF_DEDUCTIBLE                             int64  \n",
      " 6   DRAIN_PIPE_INSURED                             int64  \n",
      " 7   PRIOR_DAMAGES                                  int64  \n",
      " 8   UVV-KZ                                         int64  \n",
      " 9   YEAR                                           int64  \n",
      " 10  DAMAGE_HEAVY_RAIN_ZONE                         float64\n",
      " 11  LONGITUDE                                      float64\n",
      " 12  LATITUDE                                       float64\n",
      " 13  DAMAGE                                         int64  \n",
      " 14  CORPORATE_DEVISION_VGV                         bool   \n",
      " 15  CORPORATE_DEVISION_VHV                         bool   \n",
      " 16  CORPORATE_DEVISION_W&W                         bool   \n",
      " 17  Bundesland_Bayern                              bool   \n",
      " 18  Bundesland_Berlin                              bool   \n",
      " 19  Bundesland_Brandenburg                         bool   \n",
      " 20  Bundesland_Bremen                              bool   \n",
      " 21  Bundesland_Hamburg                             bool   \n",
      " 22  Bundesland_Hessen                              bool   \n",
      " 23  Bundesland_Mecklenburg-Vorpommern              bool   \n",
      " 24  Bundesland_Niedersachsen                       bool   \n",
      " 25  Bundesland_Nordrhein-Westfalen                 bool   \n",
      " 26  Bundesland_Rheinland-Pfalz                     bool   \n",
      " 27  Bundesland_Saarland                            bool   \n",
      " 28  Bundesland_Sachsen                             bool   \n",
      " 29  Bundesland_Sachsen-Anhalt                      bool   \n",
      " 30  Bundesland_Schleswig-Holstein                  bool   \n",
      " 31  Bundesland_Thüringen                           bool   \n",
      " 32  Typ_Stadt                                      bool   \n",
      " 33  CONSTRACTION_DESIGN_CARAVAN_MOTORHOME          bool   \n",
      " 34  CONSTRACTION_DESIGN_DESIGN_CLASS_I             bool   \n",
      " 35  CONSTRACTION_DESIGN_DESIGN_CLASS_II            bool   \n",
      " 36  CONSTRACTION_DESIGN_DESIGN_CLASS_III           bool   \n",
      " 37  CONSTRACTION_DESIGN_DESIGN_CLASS_IV            bool   \n",
      " 38  CONSTRACTION_DESIGN_DESIGN_CLASS_V             bool   \n",
      " 39  CONSTRACTION_DESIGN_NORMAL_VENTURE             bool   \n",
      " 40  CONSTRACTION_DESIGN_PREDOMINANTLY_WOODEN_ROOF  bool   \n",
      " 41  CONSTRACTION_DESIGN_PREFAB_HOUSE               bool   \n",
      " 42  CONSTRACTION_DESIGN_UNKNOWN                    bool   \n",
      " 43  ZONE_0.0                                       bool   \n",
      " 44  ZONE_1                                         bool   \n",
      " 45  ZONE_1.0                                       bool   \n",
      " 46  ZONE_2                                         bool   \n",
      " 47  ZONE_2.0                                       bool   \n",
      " 48  ZONE_3                                         bool   \n",
      " 49  ZONE_3.0                                       bool   \n",
      " 50  ZONE_4                                         bool   \n",
      " 51  ZONE_4.0                                       bool   \n",
      " 52  ZONE_5                                         bool   \n",
      " 53  ZONE_5.0                                       bool   \n",
      " 54  ZONE_6                                         bool   \n",
      " 55  ZONE_6.0                                       bool   \n",
      " 56  ZONE_7                                         bool   \n",
      " 57  ZONE_7.0                                       bool   \n",
      " 58  ZONE_8                                         bool   \n",
      " 59  ZONE_8.0                                       bool   \n",
      " 60  ZONE_A                                         bool   \n",
      " 61  ZONE_B                                         bool   \n",
      " 62  ZONE_C                                         bool   \n",
      " 63  ZONE_D                                         bool   \n",
      " 64  ZONE_E                                         bool   \n",
      " 65  PRODUCTLINE_Kompakt                            bool   \n",
      " 66  PRODUCTLINE_Plus                               bool   \n",
      " 67  PRODUCTLINE_Premium                            bool   \n",
      " 68  PRODUCTLINE_Sonst                              bool   \n",
      " 69  PRODUCTLINE_Top                                bool   \n",
      " 70  PRODUCTLINE_UNKNOWN                            bool   \n",
      " 71  UNDERWRITER_Y                                  bool   \n",
      "dtypes: bool(58), float64(6), int64(8)\n",
      "memory usage: 1.4 GB\n",
      "Number of observations after preprocessing: 8688392\n"
     ]
    }
   ],
   "source": [
    "contracts = contracts.dropna()\n",
    "\n",
    "# Convert all zone values to string (to reduce amount of unique values)\n",
    "print('Original unique values:', contracts['ZONE'].nunique())\n",
    "contracts['ZONE'] = contracts['ZONE'].astype('str')\n",
    "print('New unique values:', contracts['ZONE'].nunique())\n",
    "\n",
    "# Prepare binary variables\n",
    "columns_to_encode = contracts.select_dtypes(include=['object']).columns\n",
    "df_binary = pd.get_dummies(contracts, columns=columns_to_encode, drop_first=True)\n",
    "df_binary.info()\n",
    "\n",
    "# Print the number of observations after preprocessing\n",
    "print(f\"Number of observations after preprocessing: {len(df_binary)}\")"
   ]
  },
  {
   "cell_type": "code",
   "execution_count": null,
   "metadata": {},
   "outputs": [],
   "source": [
    "from sklearn.preprocessing import StandardScaler\n",
    "from sklearn.model_selection import train_test_split\n",
    "\n",
    "# Define the target variable and feature columns\n",
    "target_column = 'DAMAGE'\n",
    "feature_columns = [col for col in df_binary.columns if col != target_column]\n",
    "\n",
    "# Split the data into features (X) and target (y)\n",
    "X = df_binary[feature_columns]\n",
    "y = df_binary[target_column]\n",
    "\n",
    "# Standardize the features\n",
    "scaler = StandardScaler()\n",
    "X_scaled = scaler.fit_transform(X)\n",
    "\n",
    "# Split the data into training and testing sets\n",
    "X_train, X_test, y_train, y_test = train_test_split(X_scaled, y, test_size=0.2, random_state=42)"
   ]
  },
  {
   "cell_type": "markdown",
   "metadata": {
    "id": "kwxXODW2YInA"
   },
   "source": [
    "## Modelling"
   ]
  },
  {
   "cell_type": "code",
   "execution_count": null,
   "metadata": {
    "id": "YjuqV_8yYJDn"
   },
   "outputs": [],
   "source": [
    "# Define and Train the Neural Network Model\n",
    "import tensorflow as tf\n",
    "from tensorflow.keras.models import Sequential\n",
    "from tensorflow.keras.layers import Dense\n",
    "\n",
    "# Define the neural network model\n",
    "model = Sequential()\n",
    "model.add(Dense(32, activation='relu', input_dim=X_train.shape[1]))\n",
    "model.add(Dense(16, activation='relu'))\n",
    "model.add(Dense(1, activation='sigmoid'))\n",
    "\n",
    "# Compile the model\n",
    "model.compile(optimizer='adam', loss='binary_crossentropy', metrics=['Recall'])\n",
    "\n",
    "# Print the model summary\n",
    "model.summary()\n",
    "\n",
    "# Train the model\n",
    "history = model.fit(X_train, y_train, epochs=10, batch_size=32, validation_data=(X_test, y_test)"
   ]
  },
  {
   "cell_type": "markdown",
   "metadata": {},
   "source": [
    "## Model Training"
   ]
  },
  {
   "cell_type": "code",
   "execution_count": null,
   "metadata": {},
   "outputs": [],
   "source": [
    "# Train the model\n",
    "history = model.fit(X_train, y_train, epochs=10, batch_size=32, validation_split=0.2)"
   ]
  },
  {
   "cell_type": "markdown",
   "metadata": {
    "id": "RLDNuc-G5p5H"
   },
   "source": [
    "## Evaluation"
   ]
  },
  {
   "cell_type": "code",
   "execution_count": null,
   "metadata": {
    "id": "J-J_p-sHYOVo"
   },
   "outputs": [],
   "source": [
    "# Evaluate the model\n",
    "loss, recall = model.evaluate(X_test, y_test)\n",
    "print(f'Te# Evaluate the model on the test set\n",
    "test_loss, test_accuracy = model.evaluate(X_test, y_test)\n",
    "print(f'Test Accuracy: {test_accuracy:.2f}')\n",
    "\n",
    "# Predict on the test set\n",
    "y_pred_proba = model.predict(X_test).flatten()\n",
    "y_pred = (y_pred_proba > 0.5).astype(int)\n",
    "\n",
    "# Calculate additional metrics\n",
    "from sklearn.metrics import accuracy_score, precision_score, recall_score, f1_score, roc_auc_score, confusion_matrix, classification_report\n",
    "\n",
    "accuracy = accuracy_score(y_test, y_pred)\n",
    "precision = precision_score(y_test, y_pred)\n",
    "recall = recall_score(y_test, y_pred)\n",
    "f1 = f1_score(y_test, y_pred)\n",
    "auc = roc_auc_score(y_test, y_pred)\n",
    "\n",
    "print(f'Accuracy: {accuracy:.2f}')\n",
    "print(f'Precision: {precision:.2f}')\n",
    "print(f'Recall: {recall:.2f}')\n",
    "print(f'F1-Score: {f1:.2f}')\n",
    "print(f'AUC: {auc:.2f}')\n",
    "\n",
    "# Confusion Matrix\n",
    "cm = confusion_matrix(y_test, y_pred)\n",
    "print('Confusion Matrix:')\n",
    "print(cm)\n",
    "\n",
    "# Classification Report\n",
    "print('Classification Report:')\n",
    "print(classification_report(y_test, y_pred))\n",
    "\n",
    "# Plot the confusion matrix\n",
    "import matplotlib.pyplot as plt\n",
    "import seaborn as sns\n",
    "\n",
    "plt.figure(figsize=(10, 7))\n",
    "sns.heatmap(cm, annot=True, fmt='d', cmap='Blues', xticklabels=['No Damage', 'Damage'], yticklabels=['No Damage', 'Damage'])\n",
    "plt.xlabel('Predicted')\n",
    "plt.ylabel('Actual')\n",
    "plt.title('Confusion Matrix')\n",
    "plt.show()\n",
    "st Recall: {recall}')\n",
    "\n",
    "# Plot training & validation recall values\n",
    "import matplotlib.pyplot as plt\n",
    "\n",
    "plt.plot(history.history['recall'])\n",
    "plt.plot(history.history['val_recall'])\n",
    "plt.title('Model recall')\n",
    "plt.ylabel('Recall')\n",
    "plt.xlabel('Epoch')\n",
    "plt.legend(['Train', 'Test'], loc='upper left')\n",
    "plt.show()"
   ]
  }
 ],
 "metadata": {
  "accelerator": "GPU",
  "colab": {
   "authorship_tag": "ABX9TyMmMzAS4WpZmv4I8SMs6BeT",
   "gpuType": "T4",
   "provenance": []
  },
  "kernelspec": {
   "display_name": "Python 3 (ipykernel)",
   "language": "python",
   "name": "python3"
  },
  "language_info": {
   "codemirror_mode": {
    "name": "ipython",
    "version": 3
   },
   "file_extension": ".py",
   "mimetype": "text/x-python",
   "name": "python",
   "nbconvert_exporter": "python",
   "pygments_lexer": "ipython3",
   "version": "3.10.9"
  }
 },
 "nbformat": 4,
 "nbformat_minor": 4
}
