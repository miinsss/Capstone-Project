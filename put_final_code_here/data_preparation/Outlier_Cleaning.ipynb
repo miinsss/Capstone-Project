{
  "nbformat": 4,
  "nbformat_minor": 0,
  "metadata": {
    "colab": {
      "provenance": [],
      "machine_shape": "hm",
      "authorship_tag": "ABX9TyPQBMAFV+Xk2mqXdefMt2Nj",
      "include_colab_link": true
    },
    "kernelspec": {
      "name": "python3",
      "display_name": "Python 3"
    },
    "language_info": {
      "name": "python"
    }
  },
  "cells": [
    {
      "cell_type": "markdown",
      "metadata": {
        "id": "view-in-github",
        "colab_type": "text"
      },
      "source": [
        "<a href=\"https://colab.research.google.com/github/miinsss/Capstone-Project/blob/main/Outlier_Cleaning.ipynb\" target=\"_parent\"><img src=\"https://colab.research.google.com/assets/colab-badge.svg\" alt=\"Open In Colab\"/></a>"
      ]
    },
    {
      "cell_type": "code",
      "execution_count": 1,
      "metadata": {
        "id": "Me0BBPxO5yTV"
      },
      "outputs": [],
      "source": [
        "import pandas as pd\n",
        "from sklearn.ensemble import RandomForestClassifier\n",
        "from sklearn.model_selection import train_test_split\n",
        "from sklearn.metrics import accuracy_score, classification_report, confusion_matrix\n",
        "from sklearn.metrics import recall_score\n",
        "import numpy as np\n",
        "from imblearn.under_sampling import RandomUnderSampler\n",
        "from sklearn.naive_bayes import GaussianNB, MultinomialNB\n",
        "from tqdm import tqdm\n",
        "from sklearn.model_selection import GridSearchCV\n",
        "from imblearn.over_sampling import SMOTE\n",
        "from sklearn.model_selection import StratifiedKFold\n",
        "from imblearn.ensemble import BalancedRandomForestClassifier"
      ]
    },
    {
      "cell_type": "code",
      "source": [
        "from google.colab import drive\n",
        "drive.mount('/content/drive')"
      ],
      "metadata": {
        "colab": {
          "base_uri": "https://localhost:8080/"
        },
        "id": "KyKvJx2J501t",
        "outputId": "34b0ad67-bc60-4631-f615-776dcc8a9265"
      },
      "execution_count": 2,
      "outputs": [
        {
          "output_type": "stream",
          "name": "stdout",
          "text": [
            "Mounted at /content/drive\n"
          ]
        }
      ]
    },
    {
      "cell_type": "markdown",
      "source": [
        "## Load and controll cleaned data"
      ],
      "metadata": {
        "id": "fUYFIaoNWiER"
      }
    },
    {
      "cell_type": "code",
      "source": [
        "# Load the contract_classification.csv file\n",
        "contract_class_path = '/content/drive/MyDrive/Colab Notebooks/Capstone_Data/Capstone/Data/contracts_with_new_data_MEAN.csv'\n",
        "contract_class = pd.read_csv(contract_class_path)\n",
        "\n",
        "\n",
        "\n",
        "# Display the first few rows to verify content\n",
        "print(contract_class.head())"
      ],
      "metadata": {
        "colab": {
          "base_uri": "https://localhost:8080/"
        },
        "id": "hYC6EoEm55DI",
        "outputId": "bff08441-16e1-4369-acfc-d6c32d2fd763"
      },
      "execution_count": 3,
      "outputs": [
        {
          "output_type": "stream",
          "name": "stderr",
          "text": [
            "<ipython-input-3-283dbef524b6>:3: DtypeWarning: Columns (10) have mixed types. Specify dtype option on import or set low_memory=False.\n",
            "  contract_class = pd.read_csv(contract_class_path)\n"
          ]
        },
        {
          "output_type": "stream",
          "name": "stdout",
          "text": [
            "   Unnamed: 0    ANO_SID CORPORATE_DEVISION  ORTPLZ  ORTS-NAME  \\\n",
            "0           0  4114028.0                VHV   42109  Wuppertal   \n",
            "1           1  4114039.0                VHV   42277  Wuppertal   \n",
            "2           2  4114045.0                VHV   42389  Wuppertal   \n",
            "3           3  4114049.0                VGV   42277  Wuppertal   \n",
            "4           4  4114055.0                VHV   42553    Velbert   \n",
            "\n",
            "                STRASSE  SUM_INSURED CONSTRACTION_DESIGN  CONSTRUCTION_YEAR  \\\n",
            "0     Hans-Böckler-Str.      71081.0      NORMAL_VENTURE        1967.565648   \n",
            "1       Liegnitzer Str.      55708.0      NORMAL_VENTURE        1967.565648   \n",
            "2             Rascheweg      74148.0      DESIGN_CLASS_I        1967.565648   \n",
            "3               Am Diek     664000.0      NORMAL_VENTURE        1967.565648   \n",
            "4  Emil-Schniewind-Str.      75682.0      NORMAL_VENTURE        1967.565648   \n",
            "\n",
            "         WFL  ... PRIOR_DAMAGES  UVV-KZ  UNDERWRITER              PARTY-ID  \\\n",
            "0   69.00000  ...             0       1            Y  N00WXYAWXFD704PT4712   \n",
            "1   65.00000  ...             0       1            Y  YH8XZ8AWXFD704PT4713   \n",
            "2   75.00000  ...             0       1            Y  AIPAVQEWXFD704PT4713   \n",
            "3  106.24368  ...             0       1            Y  GG0UA4KWXFD704PT4715   \n",
            "4  119.00000  ...             0       1            Y  P6XU2FAWXFD704PT4712   \n",
            "\n",
            "  contract_year  PIPE_PREMIUM_AMOUNT  YEAR DAMAGE DAMAGE_FLOOD_ZONE  \\\n",
            "0    2014-01-01              4.55070  2014      0               1.0   \n",
            "1    2014-01-01              4.54080  2014      0               1.0   \n",
            "2    2014-01-01              3.18120  2014      0               1.0   \n",
            "3    2014-01-01            154.60908  2014      0               1.0   \n",
            "4    2014-01-01              5.89380  2014      0               1.0   \n",
            "\n",
            "  DAMAGE_HEAVY_RAIN_ZONE  \n",
            "0               1.727273  \n",
            "1               1.931034  \n",
            "2               1.962963  \n",
            "3               1.931034  \n",
            "4               1.768000  \n",
            "\n",
            "[5 rows x 25 columns]\n"
          ]
        }
      ]
    },
    {
      "cell_type": "code",
      "source": [
        "count_of_Specific = (contract_class['ANO_SID'] == 33145282.0).sum()\n",
        "\n",
        "# Display the count\n",
        "print(f\"The number appears {count_of_Specific} times.\")\n",
        "\n",
        "# Get the value counts for the 'feature_name' column\n",
        "value_counts = contract_class['ANO_SID'].value_counts()\n",
        "\n",
        "# Filter the counts to find entries that appear more than 11 times\n",
        "entries_more_than_11 = value_counts[value_counts > 11]\n",
        "\n",
        "# Count how many unique entries exist more than 11 times\n",
        "count_entries_more_than_11 = len(entries_more_than_11)\n",
        "\n",
        "# Display the result\n",
        "print(f\"Number of unique entries that appear more than 11 times: {count_entries_more_than_11}\")\n",
        "\n",
        "print(len(contract_class['ANO_SID']))\n",
        "\n",
        "print(contract_class['ANO_SID'].value_counts())\n",
        "\n",
        "print(contract_class['ANO_SID'].nunique())\n",
        "\n",
        "print(contract_class['DAMAGE'].value_counts())\n",
        "\n"
      ],
      "metadata": {
        "colab": {
          "base_uri": "https://localhost:8080/"
        },
        "id": "TaY-qbI855wx",
        "outputId": "41320a31-0d4d-4b99-83cf-65128c53c280"
      },
      "execution_count": 25,
      "outputs": [
        {
          "output_type": "stream",
          "name": "stdout",
          "text": [
            "The number appears 3250 times.\n",
            "Number of unique entries that appear more than 11 times: 7344\n",
            "10374540\n",
            "ANO_SID\n",
            "33145282.0     3250\n",
            "43075840.0     1460\n",
            "45987301.0     1360\n",
            "43514529.0     1305\n",
            "49624634.0      896\n",
            "               ... \n",
            "31621351.0        1\n",
            "58677674.0        1\n",
            "31617266.0        1\n",
            "31617021.0        1\n",
            "145240911.0       1\n",
            "Name: count, Length: 1513666, dtype: int64\n",
            "1513666\n",
            "DAMAGE\n",
            "0    10203688\n",
            "1      170852\n",
            "Name: count, dtype: int64\n"
          ]
        }
      ]
    },
    {
      "cell_type": "code",
      "source": [
        "print(contract_class['UNDERWRITER'].value_counts())"
      ],
      "metadata": {
        "colab": {
          "base_uri": "https://localhost:8080/"
        },
        "id": "beH7ewuOhD3n",
        "outputId": "53bd2d3b-6b27-4cb4-8b3e-96cd43b6935f"
      },
      "execution_count": 5,
      "outputs": [
        {
          "output_type": "stream",
          "name": "stdout",
          "text": [
            "UNDERWRITER\n",
            "Y    10367593\n",
            "N        6947\n",
            "Name: count, dtype: int64\n"
          ]
        }
      ]
    },
    {
      "cell_type": "code",
      "source": [
        "# Group by 'underwriter' and count unique 'ANO_SID' entries\n",
        "unique_ano_sid_counts = contract_class.groupby('UNDERWRITER')['ANO_SID'].nunique()\n",
        "\n",
        "print(\"Unique ANO_SID entries for each underwriter:\")\n",
        "print(unique_ano_sid_counts)\n",
        "\n",
        "print(contract_class.groupby('UNDERWRITER')['ANO_SID'].value_counts())"
      ],
      "metadata": {
        "colab": {
          "base_uri": "https://localhost:8080/"
        },
        "id": "U3vcX7Dpte7O",
        "outputId": "f40d780d-904f-4502-e0b6-0216234ac135"
      },
      "execution_count": 9,
      "outputs": [
        {
          "output_type": "stream",
          "name": "stdout",
          "text": [
            "Unique ANO_SID entries for each underwriter:\n",
            "UNDERWRITER\n",
            "N         66\n",
            "Y    1513600\n",
            "Name: ANO_SID, dtype: int64\n",
            "UNDERWRITER  ANO_SID    \n",
            "N            33145282.0     3250\n",
            "             45987301.0     1360\n",
            "             49624634.0      896\n",
            "             50161558.0      343\n",
            "             28138288.0      169\n",
            "                            ... \n",
            "Y            46816926.0        1\n",
            "             142189756.0       1\n",
            "             46816593.0        1\n",
            "             46816586.0        1\n",
            "             145240911.0       1\n",
            "Name: count, Length: 1513666, dtype: int64\n"
          ]
        }
      ]
    },
    {
      "cell_type": "markdown",
      "source": [
        "## Load and control original damage data"
      ],
      "metadata": {
        "id": "QxCXh0wZW9v3"
      }
    },
    {
      "cell_type": "code",
      "source": [
        "# Load the damage.csv file\n",
        "damage_path = '/content/drive/MyDrive/Colab Notebooks/Capstone_Data/Capstone/Data/damages.csv'\n",
        "damage_class = pd.read_csv(damage_path)\n",
        "\n",
        "\n",
        "\n",
        "# Display the first few rows to verify content\n",
        "print(damage_class.head())"
      ],
      "metadata": {
        "colab": {
          "base_uri": "https://localhost:8080/"
        },
        "id": "PBUUFXBAXEu1",
        "outputId": "4352f4ad-eefd-4226-abd3-a50d19e3d3e3"
      },
      "execution_count": 6,
      "outputs": [
        {
          "output_type": "stream",
          "name": "stdout",
          "text": [
            "  ABTEILG_LVL01_SEGMENT ABTEILG_LVL02_VERANTWORTUNG ABTEILG_LVL03_KD_SEGMENT  \\\n",
            "0                    KP                      KP-SHU                  KP-SHU1   \n",
            "1                    KP                      KP-SHU                  KP-SHU1   \n",
            "2                    KP                      KP-SHU                  KP-SHU1   \n",
            "3                    KP                      KP-SHU                  KP-SHU1   \n",
            "4                    KP                      KP-SHU                  KP-SHU1   \n",
            "\n",
            "   ADDRESS_TYPE  AGT_SCHADENMELDER   EXPENSE     DAMAGE_CLUSTER_ID  \\\n",
            "0           NaN             1487.0   6132.09  000001349d9612449000   \n",
            "1           NaN             1721.0  11625.05  000001349db8deb42000   \n",
            "2  HOME_ADDRESS                NaN    148.39  000001349dd338a45000   \n",
            "3           NaN                NaN    429.29                   NaN   \n",
            "4           NaN                NaN    366.82                   NaN   \n",
            "\n",
            "  DAT_ANL_ERSTRESERVIERUNG         DAT_EREIGNIS DAT_ERLFDAT_ERLEDIGUNG_FORD  \\\n",
            "0      2012-01-03 00:00:00  2012-01-01 00:00:00                         NaN   \n",
            "1      2012-01-03 00:00:00            12DEC2011                         NaN   \n",
            "2      2012-01-03 00:00:00            31DEC2011                         NaN   \n",
            "3      2012-01-02 00:00:00            27DEC2010                         NaN   \n",
            "4      2012-01-02 00:00:00            01OCT2011                         NaN   \n",
            "\n",
            "   ... ANO_SID.1  DIVISION_LEVEL_00 DIVISION_LEVEL_01 DIVISION_LEVEL_02  \\\n",
            "0  ...    348197           Property       Sach Privat               VGV   \n",
            "1  ...    348200           Property       Sach Privat               VGV   \n",
            "2  ...    348201           Property       Sach Privat               VGV   \n",
            "3  ...    348223           Property       Sach Privat               VGV   \n",
            "4  ...    348230           Property       Sach Privat               VGV   \n",
            "\n",
            "  DIVISION_LEVEL_03  DIVISION_LEVEL_04  DIVISION_LEVEL_05 VER_STATNR  \\\n",
            "0             VGV W              VGV W              VGV W      11077   \n",
            "1             VGV W              VGV W              VGV W      11017   \n",
            "2             VGV W              VGV W              VGV W      11057   \n",
            "3             VGV W              VGV W              VGV W      11037   \n",
            "4             VGV W              VGV W              VGV W      11037   \n",
            "\n",
            "  VER_SVCLUSTER_KZ    PAYOUT  \n",
            "0               KP   6132.09  \n",
            "1               KP  11625.05  \n",
            "2               KP    148.39  \n",
            "3               KP    429.29  \n",
            "4               KP    366.82  \n",
            "\n",
            "[5 rows x 42 columns]\n"
          ]
        },
        {
          "output_type": "stream",
          "name": "stderr",
          "text": [
            "<ipython-input-6-c60d1b5c3da2>:3: DtypeWarning: Columns (5,12,18,24,41) have mixed types. Specify dtype option on import or set low_memory=False.\n",
            "  damage_class = pd.read_csv(damage_path)\n"
          ]
        }
      ]
    },
    {
      "cell_type": "code",
      "source": [
        "count_of_Specific = (damage_class['ANO_SID'] == 33145282).sum()\n",
        "\n",
        "# Display the count\n",
        "print(f\"The number appears {count_of_Specific} times.\")\n",
        "\n",
        "# Get the value counts for the 'feature_name' column\n",
        "value_counts = damage_class['ANO_SID'].value_counts()\n",
        "\n",
        "# Filter the counts to find entries that appear more than 11 times\n",
        "entries_more_than_11 = value_counts[value_counts > 11]\n",
        "\n",
        "# Count how many unique entries exist more than 11 times\n",
        "count_entries_more_than_11 = len(entries_more_than_11)\n",
        "\n",
        "# Display the result\n",
        "print(f\"Number of unique entries that appear more than 11 times: {count_entries_more_than_11}\")\n",
        "\n",
        "print(len(damage_class['ANO_SID']))\n",
        "\n",
        "print(damage_class['ANO_SID'].value_counts())\n",
        "\n",
        "print(damage_class['ANO_SID'].nunique())"
      ],
      "metadata": {
        "colab": {
          "base_uri": "https://localhost:8080/"
        },
        "id": "qD1s8qDoX2JC",
        "outputId": "b2220495-58ec-4a2e-9835-916d14d2605b"
      },
      "execution_count": 16,
      "outputs": [
        {
          "output_type": "stream",
          "name": "stdout",
          "text": [
            "The number appears 5042 times.\n",
            "Number of unique entries that appear more than 11 times: 1552\n",
            "425738\n",
            "ANO_SID\n",
            "33192106    21456\n",
            "33145282     5042\n",
            "17675138     1931\n",
            "45987301     1604\n",
            "56575465     1579\n",
            "            ...  \n",
            "50942493        1\n",
            "31881813        1\n",
            "46437021        1\n",
            "52727978        1\n",
            "19935049        1\n",
            "Name: count, Length: 229258, dtype: int64\n",
            "229258\n"
          ]
        }
      ]
    },
    {
      "cell_type": "markdown",
      "source": [
        "## Load and controll original contract data"
      ],
      "metadata": {
        "id": "HmVoZ9o77CQw"
      }
    },
    {
      "cell_type": "code",
      "source": [
        "# Load the Contract_14.csv file\n",
        "contract_path = '/content/drive/MyDrive/Colab Notebooks/Capstone_Data/Capstone/Data/combined_contracts.csv'\n",
        "contract = pd.read_csv(contract_path)"
      ],
      "metadata": {
        "colab": {
          "base_uri": "https://localhost:8080/"
        },
        "id": "HUj-L2RH7Ijm",
        "outputId": "ef286dfc-7ce9-45b8-bd95-7fb3c0fb1ffa"
      },
      "execution_count": 21,
      "outputs": [
        {
          "output_type": "stream",
          "name": "stderr",
          "text": [
            "<ipython-input-21-4cd68fd886c8>:3: DtypeWarning: Columns (2,5,11,27) have mixed types. Specify dtype option on import or set low_memory=False.\n",
            "  contract = pd.read_csv(contract_path)\n"
          ]
        }
      ]
    },
    {
      "cell_type": "code",
      "source": [
        "# Get the value counts for the 'feature_name' column\n",
        "value_counts = contract['ANO_SID'].value_counts()\n",
        "\n",
        "# Filter the counts to find entries that appear more than 11 times\n",
        "entries_more_than_11 = value_counts[value_counts > 11]\n",
        "\n",
        "# Count how many unique entries exist more than 11 times\n",
        "count_entries_more_than_11 = len(entries_more_than_11)\n",
        "\n",
        "# Display the result\n",
        "print(f\"Number of unique entries that appear more than 11 times: {count_entries_more_than_11}\")\n",
        "\n",
        "print(len(contract['ANO_SID']))\n",
        "\n",
        "print(contract['ANO_SID'].value_counts())\n",
        "\n",
        "print(contract['ANO_SID'].nunique())\n",
        "\n",
        "# Filter the DataFrame\n",
        "filtered_df = clean_2[clean_2['ANO_SID'] == 34281783.0]\n",
        "\n",
        "print(\"Entries where ANO_SID is 34281783.0:\")\n",
        "print(filtered_df)"
      ],
      "metadata": {
        "colab": {
          "base_uri": "https://localhost:8080/"
        },
        "id": "Nw7jAKu67zOz",
        "outputId": "06af1e58-c71d-4428-def2-84fb310ffc84"
      },
      "execution_count": 23,
      "outputs": [
        {
          "output_type": "stream",
          "name": "stdout",
          "text": [
            "Number of unique entries that appear more than 11 times: 478\n",
            "11534325\n",
            "ANO_SID\n",
            "34281783.0     66\n",
            "31591521.0     66\n",
            "43075840.0     55\n",
            "44182579.0     49\n",
            "32128575.0     44\n",
            "               ..\n",
            "58735892.0      1\n",
            "51504741.0      1\n",
            "40649149.0      1\n",
            "40652420.0      1\n",
            "145240911.0     1\n",
            "Name: count, Length: 1683447, dtype: int64\n",
            "1683447\n",
            "Entries where ANO_SID is 34281783.0:\n",
            "         Unnamed: 0     ANO_SID CORPORATE_DEVISION  ORTPLZ ORTS-NAME  \\\n",
            "365214       365214  34281783.0                VGV   86152  Augsburg   \n",
            "365215       365215  34281783.0                VGV   86153  Augsburg   \n",
            "1290226     1290226  34281783.0                VGV   86152  Augsburg   \n",
            "1290227     1290227  34281783.0                VGV   86153  Augsburg   \n",
            "2211582     2211582  34281783.0                VGV   86152  Augsburg   \n",
            "2211583     2211583  34281783.0                VGV   86153  Augsburg   \n",
            "3136250     3136250  34281783.0                VGV   86152  Augsburg   \n",
            "3136251     3136251  34281783.0                VGV   86153  Augsburg   \n",
            "4061658     4061658  34281783.0                VGV   86152  Augsburg   \n",
            "4061659     4061659  34281783.0                VGV   86153  Augsburg   \n",
            "4988215     4988215  34281783.0                VGV   86152  Augsburg   \n",
            "4988216     4988216  34281783.0                VGV   86153  Augsburg   \n",
            "5916771     5916771  34281783.0                VGV   86152  Augsburg   \n",
            "5916772     5916772  34281783.0                VGV   86153  Augsburg   \n",
            "6845957     6845957  34281783.0                VGV   86152  Augsburg   \n",
            "6845958     6845958  34281783.0                VGV   86153  Augsburg   \n",
            "7777277     7777277  34281783.0                VGV   86152  Augsburg   \n",
            "7777278     7777278  34281783.0                VGV   86153  Augsburg   \n",
            "8707977     8707977  34281783.0                VGV   86152  Augsburg   \n",
            "8707978     8707978  34281783.0                VGV   86153  Augsburg   \n",
            "9637756     9637756  34281783.0                VGV   86152  Augsburg   \n",
            "9637757     9637757  34281783.0                VGV   86153  Augsburg   \n",
            "\n",
            "              STRASSE  SUM_INSURED CONSTRACTION_DESIGN  CONSTRUCTION_YEAR  \\\n",
            "365214     Lauterlech          0.0      NORMAL_VENTURE             1990.0   \n",
            "365215   Rugendasstr.          0.0      NORMAL_VENTURE             1990.0   \n",
            "1290226    Lauterlech          0.0      NORMAL_VENTURE             1990.0   \n",
            "1290227  Rugendasstr.          0.0      NORMAL_VENTURE             1990.0   \n",
            "2211582    Lauterlech          0.0      NORMAL_VENTURE             1990.0   \n",
            "2211583  Rugendasstr.          0.0      NORMAL_VENTURE             1990.0   \n",
            "3136250    Lauterlech          0.0      NORMAL_VENTURE             1990.0   \n",
            "3136251  Rugendasstr.          0.0      NORMAL_VENTURE             1990.0   \n",
            "4061658    Lauterlech          0.0      NORMAL_VENTURE             1990.0   \n",
            "4061659  Rugendasstr.          0.0      NORMAL_VENTURE             1990.0   \n",
            "4988215    Lauterlech          0.0      NORMAL_VENTURE             1990.0   \n",
            "4988216  Rugendasstr.          0.0      NORMAL_VENTURE             1990.0   \n",
            "5916771    Lauterlech          0.0      NORMAL_VENTURE             1990.0   \n",
            "5916772  Rugendasstr.          0.0      NORMAL_VENTURE             1990.0   \n",
            "6845957    Lauterlech          0.0      NORMAL_VENTURE             1990.0   \n",
            "6845958  Rugendasstr.          0.0      NORMAL_VENTURE             1990.0   \n",
            "7777277    Lauterlech          0.0      NORMAL_VENTURE             1990.0   \n",
            "7777278  Rugendasstr.          0.0      NORMAL_VENTURE             1990.0   \n",
            "8707977    Lauterlech          0.0      NORMAL_VENTURE             1990.0   \n",
            "8707978  Rugendasstr.          0.0      NORMAL_VENTURE             1990.0   \n",
            "9637756    Lauterlech          0.0      NORMAL_VENTURE             1990.0   \n",
            "9637757  Rugendasstr.          0.0      NORMAL_VENTURE             1990.0   \n",
            "\n",
            "               WFL  ... PRIOR_DAMAGES  UVV-KZ  UNDERWRITER  \\\n",
            "365214   106.24368  ...             0       1            Y   \n",
            "365215   106.24368  ...             0       1            Y   \n",
            "1290226  106.24368  ...             0       1            Y   \n",
            "1290227  106.24368  ...             0       1            Y   \n",
            "2211582  106.24368  ...             0       1            Y   \n",
            "2211583  106.24368  ...             0       1            Y   \n",
            "3136250  106.24368  ...             0       1            Y   \n",
            "3136251  106.24368  ...             0       1            Y   \n",
            "4061658  106.24368  ...             0       1            Y   \n",
            "4061659  106.24368  ...             0       1            Y   \n",
            "4988215  106.24368  ...             0       1            Y   \n",
            "4988216  106.24368  ...             0       1            Y   \n",
            "5916771  106.24368  ...             0       1            Y   \n",
            "5916772  106.24368  ...             0       1            Y   \n",
            "6845957  106.24368  ...             0       1            Y   \n",
            "6845958  106.24368  ...             0       1            Y   \n",
            "7777277  106.24368  ...             0       1            Y   \n",
            "7777278  106.24368  ...             0       1            Y   \n",
            "8707977  106.24368  ...             0       1            Y   \n",
            "8707978  106.24368  ...             0       1            Y   \n",
            "9637756  106.24368  ...             0       1            Y   \n",
            "9637757  106.24368  ...             0       1            Y   \n",
            "\n",
            "                     PARTY-ID contract_year  PIPE_PREMIUM_AMOUNT  YEAR DAMAGE  \\\n",
            "365214   AM6GF3EWXFD704PT4712    2014-01-01                  0.0  2014      0   \n",
            "365215   AM6GF3EWXFD704PT4712    2014-01-01                  0.0  2014      0   \n",
            "1290226  AM6GF3EWXFD704PT4712    2015-01-01                  0.0  2015      0   \n",
            "1290227  AM6GF3EWXFD704PT4712    2015-01-01                  0.0  2015      0   \n",
            "2211582  AM6GF3EWXFD704PT4712    2016-01-01                  0.0  2016      0   \n",
            "2211583  AM6GF3EWXFD704PT4712    2016-01-01                  0.0  2016      0   \n",
            "3136250  AM6GF3EWXFD704PT4712    2017-01-01                  0.0  2017      0   \n",
            "3136251  AM6GF3EWXFD704PT4712    2017-01-01                  0.0  2017      0   \n",
            "4061658  AM6GF3EWXFD704PT4712    2018-01-01                  0.0  2018      0   \n",
            "4061659  AM6GF3EWXFD704PT4712    2018-01-01                  0.0  2018      0   \n",
            "4988215  AM6GF3EWXFD704PT4712    2019-01-01                  0.0  2019      0   \n",
            "4988216  AM6GF3EWXFD704PT4712    2019-01-01                  0.0  2019      0   \n",
            "5916771  AM6GF3EWXFD704PT4712    2020-01-01                  0.0  2020      0   \n",
            "5916772  AM6GF3EWXFD704PT4712    2020-01-01                  0.0  2020      0   \n",
            "6845957  AM6GF3EWXFD704PT4712    2021-01-01                  0.0  2021      0   \n",
            "6845958  AM6GF3EWXFD704PT4712    2021-01-01                  0.0  2021      0   \n",
            "7777277  AM6GF3EWXFD704PT4712    2022-01-01                  0.0  2022      0   \n",
            "7777278  AM6GF3EWXFD704PT4712    2022-01-01                  0.0  2022      0   \n",
            "8707977  AM6GF3EWXFD704PT4712    2023-01-01                  0.0  2023      0   \n",
            "8707978  AM6GF3EWXFD704PT4712    2023-01-01                  0.0  2023      0   \n",
            "9637756  AM6GF3EWXFD704PT4712    2024-01-01                  0.0  2024      0   \n",
            "9637757  AM6GF3EWXFD704PT4712    2024-01-01                  0.0  2024      0   \n",
            "\n",
            "        DAMAGE_FLOOD_ZONE DAMAGE_HEAVY_RAIN_ZONE  \n",
            "365214           1.307692               2.153846  \n",
            "365215           1.272727               2.000000  \n",
            "1290226          1.307692               2.153846  \n",
            "1290227          1.272727               2.000000  \n",
            "2211582          1.307692               2.153846  \n",
            "2211583          1.272727               2.000000  \n",
            "3136250          1.307692               2.153846  \n",
            "3136251          1.272727               2.000000  \n",
            "4061658          1.307692               2.153846  \n",
            "4061659          1.272727               2.000000  \n",
            "4988215          1.307692               2.153846  \n",
            "4988216          1.272727               2.000000  \n",
            "5916771          1.307692               2.153846  \n",
            "5916772          1.272727               2.000000  \n",
            "6845957          1.307692               2.153846  \n",
            "6845958          1.272727               2.000000  \n",
            "7777277          1.307692               2.153846  \n",
            "7777278          1.272727               2.000000  \n",
            "8707977          1.307692               2.153846  \n",
            "8707978          1.272727               2.000000  \n",
            "9637756          1.307692               2.153846  \n",
            "9637757          1.272727               2.000000  \n",
            "\n",
            "[22 rows x 25 columns]\n"
          ]
        }
      ]
    },
    {
      "cell_type": "markdown",
      "source": [
        "We can conclude that the outliers have been in the original dataset for both damage and contracts. They do not come from our data merging."
      ],
      "metadata": {
        "id": "6ns1oTMzefTS"
      }
    },
    {
      "cell_type": "markdown",
      "source": [
        "## Cleaning the data"
      ],
      "metadata": {
        "id": "ByzSSdNvwN7g"
      }
    },
    {
      "cell_type": "code",
      "source": [
        "# Option one: Delete entries were UNDERWRITER is N\n",
        "\n",
        "clean_1 = contract_class[contract_class['UNDERWRITER'] !='N']\n",
        "\n",
        "# Get the value counts for the 'feature_name' column\n",
        "value_counts = clean_1['ANO_SID'].value_counts()\n",
        "\n",
        "# Filter the counts to find entries that appear more than 11 times\n",
        "entries_more_than_11 = value_counts[value_counts > 11]\n",
        "\n",
        "# Count how many unique entries exist more than 11 times\n",
        "count_entries_more_than_11 = len(entries_more_than_11)\n",
        "\n",
        "# Display the result\n",
        "print(f\"Number of unique entries that appear more than 11 times: {count_entries_more_than_11}\")\n",
        "\n",
        "print(len(clean_1['ANO_SID']))\n",
        "\n",
        "print(clean_1['ANO_SID'].value_counts())\n",
        "\n",
        "print(clean_1['ANO_SID'].nunique())\n",
        "\n"
      ],
      "metadata": {
        "colab": {
          "base_uri": "https://localhost:8080/"
        },
        "id": "jhYbAJzIeq2N",
        "outputId": "e8073999-e3f3-4dee-cf39-7d7bb7e7f3e8"
      },
      "execution_count": 13,
      "outputs": [
        {
          "output_type": "stream",
          "name": "stdout",
          "text": [
            "Number of unique entries that appear more than 11 times: 7317\n",
            "10367593\n",
            "ANO_SID\n",
            "43075840.0     1460\n",
            "43514529.0     1305\n",
            "43082629.0      752\n",
            "31110360.0      405\n",
            "43541292.0      228\n",
            "               ... \n",
            "5485284.0         1\n",
            "51910474.0        1\n",
            "5481368.0         1\n",
            "5481336.0         1\n",
            "145240911.0       1\n",
            "Name: count, Length: 1513600, dtype: int64\n",
            "1513600\n"
          ]
        }
      ]
    },
    {
      "cell_type": "markdown",
      "source": [
        "=>That does not solve the problem"
      ],
      "metadata": {
        "id": "bMPzcGvhxUrI"
      }
    },
    {
      "cell_type": "code",
      "source": [
        "#Option 2: When a ANO_SID has more than 2 entries i a year, the entries that are too much get deleted. Why 2?\n",
        "\n",
        "# Group by YEAR and ANO_SID, and then count the entries\n",
        "grouped = contract_class.groupby(['YEAR', 'ANO_SID']).cumcount()\n",
        "\n",
        "# Filter out entries where the count is greater than or equal to 2\n",
        "clean_2 = contract_class[grouped < 2]\n",
        "\n",
        "# Get the value counts for the 'feature_name' column\n",
        "value_counts = clean_2['ANO_SID'].value_counts()\n",
        "\n",
        "# Filter the counts to find entries that appear more than 11 times\n",
        "entries_more_than_11 = value_counts[value_counts > 11]\n",
        "\n",
        "# Count how many unique entries exist more than 11 times\n",
        "count_entries_more_than_11 = len(entries_more_than_11)\n",
        "\n",
        "# Display the result\n",
        "print(f\"Number of unique entries that appear more than 11 times: {count_entries_more_than_11}\")\n",
        "\n",
        "print(len(clean_2['ANO_SID']))\n",
        "\n",
        "print(clean_2['ANO_SID'].value_counts())\n",
        "\n",
        "print(clean_2['ANO_SID'].nunique())\n",
        "\n",
        "# Filter the DataFrame\n",
        "filtered_df = clean_2[clean_2['ANO_SID'] == 49357394.0]\n",
        "\n",
        "print(clean_2['DAMAGE'].value_counts())\n"
      ],
      "metadata": {
        "colab": {
          "base_uri": "https://localhost:8080/"
        },
        "id": "8tiBzye7xccM",
        "outputId": "e7f63f80-0765-437d-9fd6-67756d4eedc4"
      },
      "execution_count": 28,
      "outputs": [
        {
          "output_type": "stream",
          "name": "stdout",
          "text": [
            "Number of unique entries that appear more than 11 times: 7034\n",
            "10353244\n",
            "ANO_SID\n",
            "49357394.0     22\n",
            "38272577.0     22\n",
            "5291031.0      22\n",
            "31591521.0     22\n",
            "9194454.0      22\n",
            "               ..\n",
            "130373237.0     1\n",
            "53443418.0      1\n",
            "53443451.0      1\n",
            "41031570.0      1\n",
            "145240911.0     1\n",
            "Name: count, Length: 1513666, dtype: int64\n",
            "1513666\n",
            "DAMAGE\n",
            "0    10203172\n",
            "1      150072\n",
            "Name: count, dtype: int64\n"
          ]
        }
      ]
    },
    {
      "cell_type": "markdown",
      "source": [
        "We could also change to 1 ANO_SID per year"
      ],
      "metadata": {
        "id": "2KcvzBhp6Ciu"
      }
    },
    {
      "cell_type": "code",
      "source": [
        "# Save the DataFrame to a CSV file\n",
        "clean_2.to_csv('clean_2.csv', index=False)"
      ],
      "metadata": {
        "id": "8-2AihsD_0Bf"
      },
      "execution_count": null,
      "outputs": []
    }
  ]
}