{
 "cells": [
  {
   "cell_type": "markdown",
   "metadata": {},
   "source": [
    "# Preprocessing for models"
   ]
  },
  {
   "cell_type": "markdown",
   "metadata": {},
   "source": [
    "## Setup"
   ]
  },
  {
   "cell_type": "code",
   "execution_count": 1,
   "metadata": {},
   "outputs": [],
   "source": [
    "import pandas as pd\n",
    "import numpy as np\n",
    "from sklearn.utils import resample"
   ]
  },
  {
   "cell_type": "code",
   "execution_count": 2,
   "metadata": {},
   "outputs": [
    {
     "name": "stderr",
     "output_type": "stream",
     "text": [
      "C:\\Users\\franc\\AppData\\Local\\Temp\\ipykernel_19140\\2139066666.py:2: DtypeWarning: Columns (13) have mixed types. Specify dtype option on import or set low_memory=False.\n",
      "  contracts = pd.read_csv('../../data/contracts_clean_final.csv')\n"
     ]
    }
   ],
   "source": [
    "# Import data\n",
    "contracts = pd.read_csv('../../data/contracts_clean_final.csv')"
   ]
  },
  {
   "cell_type": "code",
   "execution_count": 3,
   "metadata": {},
   "outputs": [],
   "source": [
    "# Clean data that is not needed for the model (or would be too hard to encode)\n",
    "contracts = contracts.drop(['Unnamed: 0', 'SF-SYSTEM', 'ORTS-NAME', 'STRASSE', 'PARTY-ID', 'contract_year',\n",
    "                            'Kreis', 'DAMAGE_FLOOD_ZONE', 'SUM_INSURED', 'PIPE_PREMIUM_AMOUNT'], axis=1)"
   ]
  },
  {
   "cell_type": "markdown",
   "metadata": {},
   "source": [
    "## Analysis of missing unique values"
   ]
  },
  {
   "cell_type": "code",
   "execution_count": 24,
   "metadata": {},
   "outputs": [
    {
     "name": "stdout",
     "output_type": "stream",
     "text": [
      "Number of NaNs:\n"
     ]
    },
    {
     "data": {
      "text/plain": [
       "CORPORATE_DEVISION              0\n",
       "Bundesland                 611207\n",
       "Typ                        611207\n",
       "ORTPLZ                          0\n",
       "CONSTRACTION_DESIGN       1083267\n",
       "CONSTRUCTION_YEAR               0\n",
       "WFL                         14991\n",
       "ZONE                       873474\n",
       "TYPE_OF_DEDUCTIBLE              0\n",
       "DRAIN_PIPE_INSURED              0\n",
       "PRODUCTLINE               1583600\n",
       "PRIOR_DAMAGES                   0\n",
       "UVV-KZ                          0\n",
       "UNDERWRITER                     0\n",
       "YEAR                            0\n",
       "DAMAGE_HEAVY_RAIN_ZONE          0\n",
       "LONGITUDE                  873522\n",
       "LATITUDE                   873522\n",
       "DAMAGE                          0\n",
       "dtype: int64"
      ]
     },
     "execution_count": 24,
     "metadata": {},
     "output_type": "execute_result"
    }
   ],
   "source": [
    "# Check number of nas\n",
    "print('Number of NaNs:')\n",
    "contracts.isna().sum()"
   ]
  },
  {
   "cell_type": "code",
   "execution_count": 5,
   "metadata": {},
   "outputs": [
    {
     "name": "stdout",
     "output_type": "stream",
     "text": [
      "Number of observations per unique value:\n",
      "CORPORATE_DEVISION\n",
      "VHV    6328447\n",
      "VGV    2869997\n",
      "W&W     621742\n",
      "H&H     533058\n",
      "Name: count, dtype: int64\n",
      "TYPE_OF_DEDUCTIBLE\n",
      "0    10324735\n",
      "3       23310\n",
      "4        3322\n",
      "5        1869\n",
      "2           8\n",
      "Name: count, dtype: int64\n"
     ]
    }
   ],
   "source": [
    "# Check unique values of problematic variables\n",
    "print('Number of observations per unique value:')\n",
    "print(contracts['CORPORATE_DEVISION'].value_counts())\n",
    "print(contracts['TYPE_OF_DEDUCTIBLE'].value_counts())"
   ]
  },
  {
   "cell_type": "code",
   "execution_count": 6,
   "metadata": {},
   "outputs": [],
   "source": [
    "# Drop nas as they are not supported in the model\n",
    "contracts_drop_all = contracts.dropna()"
   ]
  },
  {
   "cell_type": "code",
   "execution_count": 7,
   "metadata": {},
   "outputs": [],
   "source": [
    "# Alternative approach: only drop nas in some columns\n",
    "columns_to_exclude = ['PRODUCTLINE', 'CONSTRACTION_DESIGN'] \n",
    "columns_to_check = [col for col in contracts.columns if col not in columns_to_exclude]\n",
    "contracts_drop = contracts.dropna(subset=columns_to_check)"
   ]
  },
  {
   "cell_type": "code",
   "execution_count": 8,
   "metadata": {},
   "outputs": [
    {
     "name": "stdout",
     "output_type": "stream",
     "text": [
      "Number of observations per unique value:\n",
      "CORPORATE_DEVISION\n",
      "VHV    5887776\n",
      "VGV    1779063\n",
      "W&W     556265\n",
      "H&H     465288\n",
      "Name: count, dtype: int64\n",
      "TYPE_OF_DEDUCTIBLE\n",
      "0    8661573\n",
      "3      21895\n",
      "4       3180\n",
      "5       1736\n",
      "2          8\n",
      "Name: count, dtype: int64\n"
     ]
    }
   ],
   "source": [
    "# Unique values only disappear if you drop nas in productline and constraction design\n",
    "print('Number of observations per unique value:')\n",
    "print(contracts_drop['CORPORATE_DEVISION'].value_counts())\n",
    "print(contracts_drop['TYPE_OF_DEDUCTIBLE'].value_counts())"
   ]
  },
  {
   "cell_type": "code",
   "execution_count": 9,
   "metadata": {},
   "outputs": [
    {
     "name": "stdout",
     "output_type": "stream",
     "text": [
      "10353244\n",
      "8688392\n",
      "7163047\n"
     ]
    }
   ],
   "source": [
    "print(len(contracts))\n",
    "print(len(contracts_drop))\n",
    "print(len(contracts_drop_all))"
   ]
  },
  {
   "cell_type": "code",
   "execution_count": 10,
   "metadata": {},
   "outputs": [
    {
     "name": "stdout",
     "output_type": "stream",
     "text": [
      "[nan]\n",
      "[nan]\n",
      "[nan]\n",
      "[nan 'NORMAL_VENTURE' 'PREFAB_HOUSE']\n"
     ]
    }
   ],
   "source": [
    "print(contracts[contracts['CORPORATE_DEVISION']=='W&W']['PRODUCTLINE'].unique())\n",
    "print(contracts[contracts['CORPORATE_DEVISION']=='H&H']['PRODUCTLINE'].unique())\n",
    "print(contracts[contracts['CORPORATE_DEVISION']=='W&W']['CONSTRACTION_DESIGN'].unique())\n",
    "print(contracts[contracts['CORPORATE_DEVISION']=='H&H']['CONSTRACTION_DESIGN'].unique())"
   ]
  },
  {
   "cell_type": "markdown",
   "metadata": {},
   "source": [
    "## Model preprocessing"
   ]
  },
  {
   "cell_type": "code",
   "execution_count": 4,
   "metadata": {},
   "outputs": [],
   "source": [
    "# In productline and constraction design, substitute nas with 'unknown'\n",
    "contracts['PRODUCTLINE'] = contracts['PRODUCTLINE'].fillna('UNKNOWN')\n",
    "contracts['CONSTRACTION_DESIGN'] = contracts['CONSTRACTION_DESIGN'].fillna('UNKNOWN')"
   ]
  },
  {
   "cell_type": "code",
   "execution_count": 6,
   "metadata": {},
   "outputs": [
    {
     "name": "stdout",
     "output_type": "stream",
     "text": [
      "Original unique values: 32\n",
      "New unique values: 24\n"
     ]
    }
   ],
   "source": [
    "# Convert all zone values to string (to reduce amount of unique values)\n",
    "print('Original unique values:', contracts['ZONE'].nunique())\n",
    "contracts['ZONE'] = contracts['ZONE'].astype('str')\n",
    "print('New unique values:', contracts['ZONE'].nunique())"
   ]
  },
  {
   "cell_type": "code",
   "execution_count": 7,
   "metadata": {},
   "outputs": [],
   "source": [
    "# Drop nas for the model\n",
    "contracts = contracts.dropna()"
   ]
  },
  {
   "cell_type": "code",
   "execution_count": 8,
   "metadata": {},
   "outputs": [
    {
     "name": "stdout",
     "output_type": "stream",
     "text": [
      "<class 'pandas.core.frame.DataFrame'>\n",
      "Index: 9466361 entries, 0 to 10353243\n",
      "Data columns (total 20 columns):\n",
      " #   Column                  Dtype  \n",
      "---  ------                  -----  \n",
      " 0   ANO_SID                 float64\n",
      " 1   CORPORATE_DEVISION      object \n",
      " 2   Bundesland              object \n",
      " 3   Typ                     object \n",
      " 4   ORTPLZ                  int64  \n",
      " 5   CONSTRACTION_DESIGN     object \n",
      " 6   CONSTRUCTION_YEAR       float64\n",
      " 7   WFL                     float64\n",
      " 8   ZONE                    object \n",
      " 9   TYPE_OF_DEDUCTIBLE      int64  \n",
      " 10  DRAIN_PIPE_INSURED      int64  \n",
      " 11  PRODUCTLINE             object \n",
      " 12  PRIOR_DAMAGES           int64  \n",
      " 13  UVV-KZ                  int64  \n",
      " 14  UNDERWRITER             object \n",
      " 15  YEAR                    int64  \n",
      " 16  DAMAGE_HEAVY_RAIN_ZONE  float64\n",
      " 17  LONGITUDE               float64\n",
      " 18  LATITUDE                float64\n",
      " 19  DAMAGE                  int64  \n",
      "dtypes: float64(6), int64(7), object(7)\n",
      "memory usage: 1.5+ GB\n"
     ]
    }
   ],
   "source": [
    "contracts.info()"
   ]
  },
  {
   "cell_type": "code",
   "execution_count": 9,
   "metadata": {},
   "outputs": [
    {
     "name": "stdout",
     "output_type": "stream",
     "text": [
      "Number of observations per unique value:\n",
      "CORPORATE_DEVISION\n",
      "VHV    5887776\n",
      "VGV    2557032\n",
      "W&W     556265\n",
      "H&H     465288\n",
      "Name: count, dtype: int64\n",
      "TYPE_OF_DEDUCTIBLE\n",
      "0    9439542\n",
      "3      21895\n",
      "4       3180\n",
      "5       1736\n",
      "2          8\n",
      "Name: count, dtype: int64\n",
      "PRODUCTLINE\n",
      "Top        4302512\n",
      "Sonst      2043268\n",
      "UNKNOWN    1413122\n",
      "Kompakt     713760\n",
      "Basis       507899\n",
      "Plus        306973\n",
      "Premium     178827\n",
      "Name: count, dtype: int64\n",
      "CONSTRACTION_DESIGN\n",
      "NORMAL_VENTURE               8320660\n",
      "UNKNOWN                       963827\n",
      "PREFAB_HOUSE                   86763\n",
      "DESIGN_CLASS_I                 76741\n",
      "PREDOMINANTLY_WOODEN_ROOF      14358\n",
      "0                               1302\n",
      "PREFAB_HOUSE_II                 1039\n",
      "PREFAB_HOUSE_I                   475\n",
      "PREFAB_HOUSE_III                 452\n",
      "DESIGN_CLASS_III                 366\n",
      "DESIGN_CLASS_IV                  184\n",
      "CARAVAN_MOTORHOME                113\n",
      "DESIGN_CLASS_II                   45\n",
      "DESIGN_CLASS_V                    36\n",
      "Name: count, dtype: int64\n"
     ]
    }
   ],
   "source": [
    "print('Number of observations per unique value:')\n",
    "print(contracts['CORPORATE_DEVISION'].value_counts())\n",
    "print(contracts['TYPE_OF_DEDUCTIBLE'].value_counts())\n",
    "print(contracts['PRODUCTLINE'].value_counts())\n",
    "print(contracts['CONSTRACTION_DESIGN'].value_counts())"
   ]
  },
  {
   "cell_type": "code",
   "execution_count": 10,
   "metadata": {},
   "outputs": [],
   "source": [
    "# Save new dataset to csv\n",
    "contracts.to_csv('../../data/data_all_unique_values.csv')"
   ]
  },
  {
   "cell_type": "code",
   "execution_count": 16,
   "metadata": {},
   "outputs": [
    {
     "name": "stdout",
     "output_type": "stream",
     "text": [
      "<class 'pandas.core.frame.DataFrame'>\n",
      "Index: 8688392 entries, 0 to 10353243\n",
      "Data columns (total 54 columns):\n",
      " #   Column                             Dtype  \n",
      "---  ------                             -----  \n",
      " 0   ORTPLZ                             int64  \n",
      " 1   CONSTRUCTION_YEAR                  float64\n",
      " 2   WFL                                float64\n",
      " 3   TYPE_OF_DEDUCTIBLE                 int64  \n",
      " 4   DRAIN_PIPE_INSURED                 int64  \n",
      " 5   PRIOR_DAMAGES                      int64  \n",
      " 6   UVV-KZ                             int64  \n",
      " 7   YEAR                               int64  \n",
      " 8   DAMAGE_HEAVY_RAIN_ZONE             float64\n",
      " 9   LONGITUDE                          float64\n",
      " 10  LATITUDE                           float64\n",
      " 11  DAMAGE                             int64  \n",
      " 12  CORPORATE_DEVISION_VGV             bool   \n",
      " 13  CORPORATE_DEVISION_VHV             bool   \n",
      " 14  CORPORATE_DEVISION_W&W             bool   \n",
      " 15  Bundesland_Bayern                  bool   \n",
      " 16  Bundesland_Berlin                  bool   \n",
      " 17  Bundesland_Brandenburg             bool   \n",
      " 18  Bundesland_Bremen                  bool   \n",
      " 19  Bundesland_Hamburg                 bool   \n",
      " 20  Bundesland_Hessen                  bool   \n",
      " 21  Bundesland_Mecklenburg-Vorpommern  bool   \n",
      " 22  Bundesland_Niedersachsen           bool   \n",
      " 23  Bundesland_Nordrhein-Westfalen     bool   \n",
      " 24  Bundesland_Rheinland-Pfalz         bool   \n",
      " 25  Bundesland_Saarland                bool   \n",
      " 26  Bundesland_Sachsen                 bool   \n",
      " 27  Bundesland_Sachsen-Anhalt          bool   \n",
      " 28  Bundesland_Schleswig-Holstein      bool   \n",
      " 29  Bundesland_Thüringen               bool   \n",
      " 30  Typ_Stadt                          bool   \n",
      " 31  ZONE_0.0                           bool   \n",
      " 32  ZONE_1                             bool   \n",
      " 33  ZONE_1.0                           bool   \n",
      " 34  ZONE_2                             bool   \n",
      " 35  ZONE_2.0                           bool   \n",
      " 36  ZONE_3                             bool   \n",
      " 37  ZONE_3.0                           bool   \n",
      " 38  ZONE_4                             bool   \n",
      " 39  ZONE_4.0                           bool   \n",
      " 40  ZONE_5                             bool   \n",
      " 41  ZONE_5.0                           bool   \n",
      " 42  ZONE_6                             bool   \n",
      " 43  ZONE_6.0                           bool   \n",
      " 44  ZONE_7                             bool   \n",
      " 45  ZONE_7.0                           bool   \n",
      " 46  ZONE_8                             bool   \n",
      " 47  ZONE_8.0                           bool   \n",
      " 48  ZONE_A                             bool   \n",
      " 49  ZONE_B                             bool   \n",
      " 50  ZONE_C                             bool   \n",
      " 51  ZONE_D                             bool   \n",
      " 52  ZONE_E                             bool   \n",
      " 53  UNDERWRITER_Y                      bool   \n",
      "dtypes: bool(42), float64(5), int64(7)\n",
      "memory usage: 1.2 GB\n"
     ]
    }
   ],
   "source": [
    "# Drop id first\n",
    "# Prepare binary variables\n",
    "columns_to_encode = contracts.select_dtypes(include=['object']).columns\n",
    "df_binary = pd.get_dummies(contracts, columns=columns_to_encode, drop_first=True)\n",
    "df_binary.info()"
   ]
  },
  {
   "cell_type": "code",
   "execution_count": 17,
   "metadata": {},
   "outputs": [],
   "source": [
    "# Training data: 2014; testing data: 2015\n",
    "\n",
    "# full data\n",
    "train = df_binary[df_binary['YEAR']==2014]\n",
    "test = df_binary[df_binary['YEAR']==2015]"
   ]
  },
  {
   "cell_type": "code",
   "execution_count": 18,
   "metadata": {},
   "outputs": [
    {
     "name": "stdout",
     "output_type": "stream",
     "text": [
      "Before rebalancing: Class 0 = 718984, Class 1 = 7958\n",
      "After rebalancing: Class 0 = 359492, Class 1 = 89873\n"
     ]
    }
   ],
   "source": [
    "# Resample classes to ratio 1:4\n",
    "# Only resample training data, for every year you're running the model on\n",
    "# Don't resample test data\n",
    "\n",
    "class_0 = train[train['DAMAGE'] == 0]\n",
    "class_1 = train[train['DAMAGE'] == 1]\n",
    "print(f\"Before rebalancing: Class 0 = {len(class_0)}, Class 1 = {len(class_1)}\")\n",
    "\n",
    "# Determine the number of samples needed for each class\n",
    "n_samples_0 = len(class_0) // 2  # Undersample class 0 to half its size\n",
    "n_samples_1 = n_samples_0 // 4      # Oversample class 1 to be 1/4 of the undersampled class 0\n",
    "\n",
    "# Resample class 0 (undersample)\n",
    "class_0_resampled = resample(class_0, \n",
    "                                replace=False, \n",
    "                                n_samples=n_samples_0, \n",
    "                                random_state=42)\n",
    "\n",
    "# Resample class 1 (oversample)\n",
    "class_1_resampled = resample(class_1, \n",
    "                                replace=True, \n",
    "                                n_samples=n_samples_1, \n",
    "                                random_state=42)\n",
    "\n",
    "# Combine the resampled classes\n",
    "train_resampled = pd.concat([class_0_resampled, class_1_resampled])\n",
    "\n",
    "# Print lengths after rebalancing\n",
    "print(f\"After rebalancing: Class 0 = {len(train_resampled[train_resampled['DAMAGE'] == 0])}, Class 1 = {len(train_resampled[train_resampled['DAMAGE'] == 1])}\")"
   ]
  },
  {
   "cell_type": "code",
   "execution_count": 19,
   "metadata": {},
   "outputs": [],
   "source": [
    "# Separate features and target variable\n",
    "X_train = train_resampled.drop(['YEAR', 'DAMAGE'], axis=1)\n",
    "y_train = train_resampled['DAMAGE']\n",
    "\n",
    "X_test = test.drop(['YEAR', 'DAMAGE'], axis=1)\n",
    "y_test = test['DAMAGE']"
   ]
  },
  {
   "cell_type": "code",
   "execution_count": null,
   "metadata": {},
   "outputs": [],
   "source": []
  }
 ],
 "metadata": {
  "kernelspec": {
   "display_name": "Python 3",
   "language": "python",
   "name": "python3"
  },
  "language_info": {
   "codemirror_mode": {
    "name": "ipython",
    "version": 3
   },
   "file_extension": ".py",
   "mimetype": "text/x-python",
   "name": "python",
   "nbconvert_exporter": "python",
   "pygments_lexer": "ipython3",
   "version": "3.12.3"
  }
 },
 "nbformat": 4,
 "nbformat_minor": 2
}
