{
 "cells": [
  {
   "cell_type": "markdown",
   "id": "ec295c3d-abc7-4d6e-9c4c-e00e94139c2d",
   "metadata": {},
   "source": [
    "# External Data from Zuers"
   ]
  },
  {
   "cell_type": "code",
   "execution_count": 1,
   "id": "60717bd0-04a8-4018-9c50-3979652629a9",
   "metadata": {},
   "outputs": [],
   "source": [
    "import pandas as pd"
   ]
  },
  {
   "cell_type": "markdown",
   "id": "ca364ebd-0b81-45ba-88d4-3b34473653d4",
   "metadata": {},
   "source": [
    "## Loading the Data"
   ]
  },
  {
   "cell_type": "code",
   "execution_count": null,
   "id": "1bc0f9f2-6b65-4699-bcb2-350e8da2f822",
   "metadata": {},
   "outputs": [],
   "source": [
    "df = pd.read_csv('contract_classification.csv')"
   ]
  },
  {
   "cell_type": "code",
   "execution_count": null,
   "id": "4f7c7ed2-5ec1-4bea-baea-0bc07ab64b88",
   "metadata": {},
   "outputs": [],
   "source": [
    "zuers_df = pd.read_csv('zuers_df.csv')"
   ]
  },
  {
   "cell_type": "code",
   "execution_count": 6,
   "id": "896f8355-e986-4c83-9579-44d85ebb12ce",
   "metadata": {},
   "outputs": [],
   "source": [
    "zuers_shrinked = zuers_df[['DAMAGE_EVENT_ZIP_CODE', 'DAMAGE_FLOOD_ZONE', 'DAMAGE_EVENT_STREET', 'DAMAGE_HEAVY_RAIN_ZONE']]\n"
   ]
  },
  {
   "cell_type": "code",
   "execution_count": 7,
   "id": "25e388dd-3b30-4f25-b28e-a4f37761c488",
   "metadata": {},
   "outputs": [],
   "source": [
    "zuers_shrinked = zuers_shrinked.dropna()"
   ]
  },
  {
   "cell_type": "code",
   "execution_count": 8,
   "id": "b2cdc73f-3f40-4e29-8d91-721a1b5ae2ea",
   "metadata": {},
   "outputs": [
    {
     "name": "stdout",
     "output_type": "stream",
     "text": [
      "<class 'pandas.core.frame.DataFrame'>\n",
      "Index: 314765 entries, 0 to 387271\n",
      "Data columns (total 4 columns):\n",
      " #   Column                  Non-Null Count   Dtype  \n",
      "---  ------                  --------------   -----  \n",
      " 0   DAMAGE_EVENT_ZIP_CODE   314765 non-null  object \n",
      " 1   DAMAGE_FLOOD_ZONE       314765 non-null  float64\n",
      " 2   DAMAGE_EVENT_STREET     314765 non-null  object \n",
      " 3   DAMAGE_HEAVY_RAIN_ZONE  314765 non-null  float64\n",
      "dtypes: float64(2), object(2)\n",
      "memory usage: 12.0+ MB\n"
     ]
    }
   ],
   "source": [
    "zuers_shrinked.info()"
   ]
  },
  {
   "cell_type": "code",
   "execution_count": 9,
   "id": "fd6b2e5d-93c1-43a8-bb03-4a280ff26523",
   "metadata": {},
   "outputs": [
    {
     "data": {
      "text/plain": [
       "DAMAGE_EVENT_ZIP_CODE     14283\n",
       "DAMAGE_FLOOD_ZONE             4\n",
       "DAMAGE_EVENT_STREET       66261\n",
       "DAMAGE_HEAVY_RAIN_ZONE        3\n",
       "dtype: int64"
      ]
     },
     "execution_count": 9,
     "metadata": {},
     "output_type": "execute_result"
    }
   ],
   "source": [
    "zuers_shrinked.nunique()"
   ]
  },
  {
   "cell_type": "code",
   "execution_count": 10,
   "id": "bcab3e7a-fe80-446f-b330-af1260d65628",
   "metadata": {},
   "outputs": [
    {
     "data": {
      "text/html": [
       "<div>\n",
       "<style scoped>\n",
       "    .dataframe tbody tr th:only-of-type {\n",
       "        vertical-align: middle;\n",
       "    }\n",
       "\n",
       "    .dataframe tbody tr th {\n",
       "        vertical-align: top;\n",
       "    }\n",
       "\n",
       "    .dataframe thead th {\n",
       "        text-align: right;\n",
       "    }\n",
       "</style>\n",
       "<table border=\"1\" class=\"dataframe\">\n",
       "  <thead>\n",
       "    <tr style=\"text-align: right;\">\n",
       "      <th></th>\n",
       "      <th>DAMAGE_EVENT_ZIP_CODE</th>\n",
       "      <th>DAMAGE_FLOOD_ZONE</th>\n",
       "      <th>DAMAGE_EVENT_STREET</th>\n",
       "      <th>DAMAGE_HEAVY_RAIN_ZONE</th>\n",
       "    </tr>\n",
       "  </thead>\n",
       "  <tbody>\n",
       "    <tr>\n",
       "      <th>0</th>\n",
       "      <td>45134</td>\n",
       "      <td>1.0</td>\n",
       "      <td>KANTORIE</td>\n",
       "      <td>2.0</td>\n",
       "    </tr>\n",
       "    <tr>\n",
       "      <th>2</th>\n",
       "      <td>40229</td>\n",
       "      <td>1.0</td>\n",
       "      <td>OBERSTEINER WEG</td>\n",
       "      <td>2.0</td>\n",
       "    </tr>\n",
       "    <tr>\n",
       "      <th>3</th>\n",
       "      <td>42549</td>\n",
       "      <td>1.0</td>\n",
       "      <td>LOSENBURGER WEG</td>\n",
       "      <td>1.0</td>\n",
       "    </tr>\n",
       "    <tr>\n",
       "      <th>4</th>\n",
       "      <td>40789</td>\n",
       "      <td>1.0</td>\n",
       "      <td>SCHALLENSTR.</td>\n",
       "      <td>1.0</td>\n",
       "    </tr>\n",
       "    <tr>\n",
       "      <th>5</th>\n",
       "      <td>58339</td>\n",
       "      <td>1.0</td>\n",
       "      <td>DENARSTR.</td>\n",
       "      <td>2.0</td>\n",
       "    </tr>\n",
       "  </tbody>\n",
       "</table>\n",
       "</div>"
      ],
      "text/plain": [
       "  DAMAGE_EVENT_ZIP_CODE  DAMAGE_FLOOD_ZONE DAMAGE_EVENT_STREET  \\\n",
       "0                 45134                1.0            KANTORIE   \n",
       "2                 40229                1.0     OBERSTEINER WEG   \n",
       "3                 42549                1.0     LOSENBURGER WEG   \n",
       "4                 40789                1.0        SCHALLENSTR.   \n",
       "5                 58339                1.0           DENARSTR.   \n",
       "\n",
       "   DAMAGE_HEAVY_RAIN_ZONE  \n",
       "0                     2.0  \n",
       "2                     2.0  \n",
       "3                     1.0  \n",
       "4                     1.0  \n",
       "5                     2.0  "
      ]
     },
     "execution_count": 10,
     "metadata": {},
     "output_type": "execute_result"
    }
   ],
   "source": [
    "zuers_shrinked.head()"
   ]
  },
  {
   "cell_type": "code",
   "execution_count": 11,
   "id": "bb166553-4710-4475-ac16-0afae543883a",
   "metadata": {},
   "outputs": [],
   "source": [
    "zuers_shrinked['DAMAGE_EVENT_ZIP_CODE'] = zuers_shrinked['DAMAGE_EVENT_ZIP_CODE'].astype(str)"
   ]
  },
  {
   "cell_type": "code",
   "execution_count": 12,
   "id": "1e7be038-8d8c-4b61-9422-766730572624",
   "metadata": {},
   "outputs": [
    {
     "data": {
      "text/plain": [
       "DAMAGE_FLOOD_ZONE\n",
       "1.0    286130\n",
       "2.0     24506\n",
       "3.0      3139\n",
       "4.0       990\n",
       "Name: count, dtype: int64"
      ]
     },
     "execution_count": 12,
     "metadata": {},
     "output_type": "execute_result"
    }
   ],
   "source": [
    "zuers_shrinked['DAMAGE_FLOOD_ZONE'].value_counts()"
   ]
  },
  {
   "cell_type": "code",
   "execution_count": 16,
   "id": "06bfe3ab-1c5a-4fe5-b629-f0228238c6d1",
   "metadata": {},
   "outputs": [],
   "source": [
    "zuers_shrinked = zuers_shrinked.drop(columns=['DAMAGE_EVENT_STREET'])"
   ]
  },
  {
   "cell_type": "code",
   "execution_count": 17,
   "id": "23902b4e-5084-435f-9eb6-c6cd86f940ea",
   "metadata": {},
   "outputs": [
    {
     "name": "stdout",
     "output_type": "stream",
     "text": [
      "DAMAGE_EVENT_ZIP_CODE      object\n",
      "DAMAGE_FLOOD_ZONE         float64\n",
      "DAMAGE_HEAVY_RAIN_ZONE    float64\n",
      "dtype: object\n",
      "                       DAMAGE_FLOOD_ZONE  DAMAGE_HEAVY_RAIN_ZONE\n",
      "DAMAGE_EVENT_ZIP_CODE                                           \n",
      "01067                           1.200000                1.866667\n",
      "01069                           1.000000                2.000000\n",
      "01097                           1.000000                1.952381\n",
      "01099                           1.000000                1.961538\n",
      "01108                           1.000000                2.000000\n",
      "...                                  ...                     ...\n",
      "99994                           1.000000                2.500000\n",
      "99994.0                         1.000000                2.166667\n",
      "99996                           1.000000                2.000000\n",
      "99998                           1.166667                2.000000\n",
      "99998.0                         1.300000                2.400000\n",
      "\n",
      "[14734 rows x 2 columns]\n"
     ]
    }
   ],
   "source": [
    "# Check the data types of the columns\n",
    "print(zuers_shrinked.dtypes)\n",
    "\n",
    "# Select only numeric columns\n",
    "numeric_columns = zuers_shrinked.select_dtypes(include=['number']).columns\n",
    "\n",
    "# Perform groupby and mean operation on numeric columns only\n",
    "zuers_shrinked_mean = zuers_shrinked.groupby('DAMAGE_EVENT_ZIP_CODE')[numeric_columns].mean()"
   ]
  },
  {
   "cell_type": "code",
   "execution_count": 47,
   "id": "d350d031-114c-4268-9c65-86ad920dc3bc",
   "metadata": {},
   "outputs": [],
   "source": [
    "zuers_shrinked_mean = zuers_shrinked.groupby('DAMAGE_EVENT_ZIP_CODE').mean().reset_index()"
   ]
  },
  {
   "cell_type": "code",
   "execution_count": 54,
   "id": "cfde9184-5a4d-4de4-bc2c-4007b4a018f8",
   "metadata": {},
   "outputs": [],
   "source": [
    "zuers_shrinked_mean.to_csv('zuers_shrinked_mean.csv')"
   ]
  },
  {
   "cell_type": "markdown",
   "id": "dcf93699-5140-48fe-a40f-d20855c6b39d",
   "metadata": {},
   "source": [
    "## Merging the data"
   ]
  },
  {
   "cell_type": "code",
   "execution_count": 55,
   "id": "6af14b7f-19bd-41d2-bf58-884db813770f",
   "metadata": {},
   "outputs": [],
   "source": [
    "df['ORTPLZ'] = df['ORTPLZ'].astype(str)\n",
    "df['ORTPLZ'] = df['ORTPLZ'].str.rstrip('.0')"
   ]
  },
  {
   "cell_type": "code",
   "execution_count": 58,
   "id": "44eb8076-1aeb-42fa-bd5e-159a79723eb3",
   "metadata": {},
   "outputs": [
    {
     "name": "stdout",
     "output_type": "stream",
     "text": [
      "<class 'pandas.core.frame.DataFrame'>\n",
      "RangeIndex: 14734 entries, 0 to 14733\n",
      "Data columns (total 3 columns):\n",
      " #   Column                  Non-Null Count  Dtype  \n",
      "---  ------                  --------------  -----  \n",
      " 0   DAMAGE_EVENT_ZIP_CODE   14734 non-null  object \n",
      " 1   DAMAGE_FLOOD_ZONE       14734 non-null  float64\n",
      " 2   DAMAGE_HEAVY_RAIN_ZONE  14734 non-null  float64\n",
      "dtypes: float64(2), object(1)\n",
      "memory usage: 345.5+ KB\n"
     ]
    }
   ],
   "source": [
    "zuers_shrinked_mean.info()"
   ]
  },
  {
   "cell_type": "code",
   "execution_count": 44,
   "id": "a2126344-8833-4b24-aeb1-3c39ffe52896",
   "metadata": {},
   "outputs": [
    {
     "data": {
      "text/plain": [
       "DAMAGE_FLOOD_ZONE          927\n",
       "DAMAGE_HEAVY_RAIN_ZONE    1581\n",
       "dtype: int64"
      ]
     },
     "execution_count": 44,
     "metadata": {},
     "output_type": "execute_result"
    }
   ],
   "source": [
    "zuers_shrinked_mean.nunique()"
   ]
  },
  {
   "cell_type": "code",
   "execution_count": 64,
   "id": "4b52c169-e94d-46bb-8eb2-e8ff5ce0fef5",
   "metadata": {},
   "outputs": [],
   "source": [
    "contracts_with_new_data = pd.merge(df, zuers_shrinked_mean, \n",
    "                                   left_on=['ORTPLZ'], \n",
    "                                   right_on=['DAMAGE_EVENT_ZIP_CODE'], \n",
    "                                   how='inner')"
   ]
  },
  {
   "cell_type": "code",
   "execution_count": null,
   "id": "598d6d61-4844-4e71-91df-504bcb89edeb",
   "metadata": {},
   "outputs": [],
   "source": [
    "contracts_with_new_data.to_csv('contracts_with_new_data_MEAN.csv')"
   ]
  }
 ],
 "metadata": {
  "kernelspec": {
   "display_name": "Python 3 (ipykernel)",
   "language": "python",
   "name": "python3"
  },
  "language_info": {
   "codemirror_mode": {
    "name": "ipython",
    "version": 3
   },
   "file_extension": ".py",
   "mimetype": "text/x-python",
   "name": "python",
   "nbconvert_exporter": "python",
   "pygments_lexer": "ipython3",
   "version": "3.12.4"
  }
 },
 "nbformat": 4,
 "nbformat_minor": 5
}
