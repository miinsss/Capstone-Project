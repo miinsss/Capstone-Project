{
 "cells": [
  {
   "cell_type": "markdown",
   "id": "4104f0e7-1c86-4506-924b-ed13f1cd0853",
   "metadata": {},
   "source": [
    "# Merge the location data "
   ]
  },
  {
   "cell_type": "code",
   "execution_count": 2,
   "id": "acaad31a-cb8c-45c3-8eea-606ed17e8ffb",
   "metadata": {},
   "outputs": [],
   "source": [
    "import pandas as pd"
   ]
  },
  {
   "cell_type": "code",
   "execution_count": 3,
   "id": "bfcdff06-4c08-4fb8-94ff-10e0cf94322d",
   "metadata": {},
   "outputs": [],
   "source": [
    "nrw1 = pd.read_csv('coord_subset_Nordrhein-Westfalen-1.csv')\n",
    "nrw2 = pd.read_csv('coord_subset_Nordrhein-Westfalen-2.csv')\n",
    "nrw3 = pd.read_csv('coord_subset_Nordrhein-Westfalen-3.csv')"
   ]
  },
  {
   "cell_type": "code",
   "execution_count": 7,
   "id": "1d7b98cc-e764-4465-b64b-2a53db732361",
   "metadata": {},
   "outputs": [],
   "source": [
    "combined_df = pd.concat([nrw1, nrw2, nrw3])"
   ]
  },
  {
   "cell_type": "code",
   "execution_count": 9,
   "id": "cf217a94-d61b-402e-ae7d-81f56d0a3944",
   "metadata": {},
   "outputs": [],
   "source": [
    "combined_df.to_csv('coord_subset_Nordrhein-Westfalen.csv', index=False)"
   ]
  },
  {
   "cell_type": "markdown",
   "id": "76ca7f14-d522-44a1-aeaa-f540d586c880",
   "metadata": {},
   "source": [
    "## Load the Location data of each Bundesland"
   ]
  },
  {
   "cell_type": "code",
   "execution_count": 13,
   "id": "b719b9c5-a975-4fd7-8b23-1edb5a2fb4f1",
   "metadata": {},
   "outputs": [],
   "source": [
    "Baden_Württemberg = pd.read_csv('coord_subset_Baden-Württemberg.csv')\n",
    "Bayern = pd.read_csv('coord_subset_Bayern.csv')\n",
    "Berlin = pd.read_csv('coord_subset_Berlin.csv')\n",
    "Brandenburg = pd.read_csv('coord_subset_Brandenburg.csv')\n",
    "Bremen = pd.read_csv('coord_subset_Bremen.csv')\n",
    "Hamburg = pd.read_csv('coord_subset_Hamburg.csv')\n",
    "Hessen = pd.read_csv('coord_subset_Hessen.csv')\n",
    "Mecklenburg_Vorpommern = pd.read_csv('coord_subset_Mecklenburg-Vorpommern.csv')\n",
    "Niedersachsen = pd.read_csv('coord_subset_Niedersachsen.csv')\n",
    "Nordrhein_Westfalen = pd.read_csv('coord_subset_Nordrhein-Westfalen.csv')\n",
    "Rheinland_Pfalz = pd.read_csv('coord_subset_Rheinland-Pfalz.csv')\n",
    "Saarland = pd.read_csv('coord_subset_Saarland.csv')\n",
    "Sachsen = pd.read_csv('coord_subset_Sachsen.csv')\n",
    "Sachsen_Anhalt = pd.read_csv('coord_subset_Sachsen-Anhalt.csv')\n",
    "Schleswig_Holstein = pd.read_csv('coord_subset_Schleswig-Holstein.csv')\n",
    "Thüringen = pd.read_csv('coord_subset_Thüringen.csv')"
   ]
  },
  {
   "cell_type": "code",
   "execution_count": 15,
   "id": "c3d5020e-e4ac-44be-a37e-e7c3abadbcf3",
   "metadata": {},
   "outputs": [
    {
     "name": "stdout",
     "output_type": "stream",
     "text": [
      "DataFrame wurde erfolgreich in 'Deutschland_koordiniert.csv' gespeichert.\n"
     ]
    }
   ],
   "source": [
    "# Kombinieren der DataFrames\n",
    "combined_df = pd.concat([\n",
    "    Baden_Württemberg,\n",
    "    Bayern,\n",
    "    Berlin,\n",
    "    Brandenburg,\n",
    "    Bremen,\n",
    "    Hamburg,\n",
    "    Hessen,\n",
    "    Mecklenburg_Vorpommern,\n",
    "    Niedersachsen,\n",
    "    Nordrhein_Westfalen,\n",
    "    Rheinland_Pfalz,\n",
    "    Saarland,\n",
    "    Sachsen,\n",
    "    Sachsen_Anhalt,\n",
    "    Schleswig_Holstein,\n",
    "    Thüringen\n",
    "])\n",
    "\n",
    "# Optional: Zurücksetzen der Indexe, falls nötig\n",
    "combined_df.reset_index(drop=True, inplace=True)\n",
    "\n",
    "combined_df.drop(combined_df.columns[:2], axis=1, inplace=True)\n",
    "\n",
    "# Speichern des kombinierten DataFrames in eine CSV-Datei\n",
    "combined_df.to_csv('Deutschland_koordiniert.csv', index=False)\n",
    "\n",
    "print(\"DataFrame wurde erfolgreich in 'Deutschland_koordiniert.csv' gespeichert.\")"
   ]
  },
  {
   "cell_type": "code",
   "execution_count": 19,
   "id": "9dc6e53c-c7d7-4fe9-bea4-c40c6b11b33a",
   "metadata": {},
   "outputs": [],
   "source": [
    "combined_df = combined_df.drop_duplicates(subset='ANO_SID', keep='last')"
   ]
  },
  {
   "cell_type": "code",
   "execution_count": 20,
   "id": "13000844-2a3d-45fb-8fae-8006da55e4e6",
   "metadata": {},
   "outputs": [
    {
     "data": {
      "text/plain": [
       "ANO_SID                   452932\n",
       "CORPORATE_DEVISION             4\n",
       "ORTPLZ                      6293\n",
       "ORTS-NAME                  10645\n",
       "STRASSE                   189884\n",
       "SUM_INSURED                64845\n",
       "CONSTRACTION_DESIGN           13\n",
       "CONSTRUCTION_YEAR            431\n",
       "WFL                          767\n",
       "ZONE                          23\n",
       "SF-SYSTEM                      5\n",
       "TYPE_OF_DEDUCTIBLE             5\n",
       "DRAIN_PIPE_INSURED             1\n",
       "PRODUCTLINE                    6\n",
       "PRIOR_DAMAGES                  8\n",
       "UVV-KZ                         2\n",
       "UNDERWRITER                    2\n",
       "PARTY-ID                  443816\n",
       "contract_year                 11\n",
       "PIPE_PREMIUM_AMOUNT        99486\n",
       "YEAR                          11\n",
       "DAMAGE                         2\n",
       "DAMAGE_FLOOD_ZONE            504\n",
       "DAMAGE_HEAVY_RAIN_ZONE       961\n",
       "PLZ                         6293\n",
       "Bundesland                    16\n",
       "Kreis                        372\n",
       "Typ                            2\n",
       "LATITUDE                  417827\n",
       "LONGITUDE                 417966\n",
       "dtype: int64"
      ]
     },
     "execution_count": 20,
     "metadata": {},
     "output_type": "execute_result"
    }
   ],
   "source": [
    "combined_df.nunique()"
   ]
  },
  {
   "cell_type": "code",
   "execution_count": 38,
   "id": "2147a72f-c38b-4318-a662-e81c2ca7a93e",
   "metadata": {},
   "outputs": [
    {
     "name": "stderr",
     "output_type": "stream",
     "text": [
      "C:\\Users\\nilst\\AppData\\Local\\Temp\\ipykernel_14624\\2166075303.py:1: DtypeWarning: Columns (10) have mixed types. Specify dtype option on import or set low_memory=False.\n",
      "  contracts = pd.read_csv('contracts_with_new_data_MEAN.csv')\n"
     ]
    }
   ],
   "source": [
    "contracts = pd.read_csv('contracts_with_new_data_MEAN.csv')"
   ]
  },
  {
   "cell_type": "code",
   "execution_count": 39,
   "id": "807aeea9-4f52-4505-82d6-e0b874b0bb78",
   "metadata": {},
   "outputs": [
    {
     "data": {
      "text/plain": [
       "Unnamed: 0                10374540\n",
       "ANO_SID                    1513666\n",
       "CORPORATE_DEVISION               4\n",
       "ORTPLZ                        6409\n",
       "ORTS-NAME                    12640\n",
       "STRASSE                     199961\n",
       "SUM_INSURED                 373397\n",
       "CONSTRACTION_DESIGN             13\n",
       "CONSTRUCTION_YEAR              530\n",
       "WFL                            927\n",
       "ZONE                            32\n",
       "SF-SYSTEM                        5\n",
       "TYPE_OF_DEDUCTIBLE               5\n",
       "DRAIN_PIPE_INSURED               1\n",
       "PRODUCTLINE                      6\n",
       "PRIOR_DAMAGES                   10\n",
       "UVV-KZ                           2\n",
       "UNDERWRITER                      2\n",
       "PARTY-ID                   1371754\n",
       "contract_year                   11\n",
       "PIPE_PREMIUM_AMOUNT         313620\n",
       "YEAR                            11\n",
       "DAMAGE                           2\n",
       "DAMAGE_FLOOD_ZONE              531\n",
       "DAMAGE_HEAVY_RAIN_ZONE        1010\n",
       "dtype: int64"
      ]
     },
     "execution_count": 39,
     "metadata": {},
     "output_type": "execute_result"
    }
   ],
   "source": [
    "contracts.nunique()"
   ]
  },
  {
   "cell_type": "code",
   "execution_count": 54,
   "id": "95de4fe2-2a48-4698-ad6e-f2494056e88e",
   "metadata": {},
   "outputs": [],
   "source": [
    "data1 = pd.merge(contracts, combined_df[['ORTPLZ', 'STRASSE', 'Bundesland', 'Kreis', 'Typ', 'LONGITUDE', 'LATITUDE']], on=['ORTPLZ', 'STRASSE'], how='left')\n"
   ]
  },
  {
   "cell_type": "code",
   "execution_count": 41,
   "id": "9db86710-0190-43a6-913b-627718c86a6e",
   "metadata": {},
   "outputs": [
    {
     "data": {
      "text/plain": [
       "Unnamed: 0                10374540\n",
       "ANO_SID                    1513666\n",
       "CORPORATE_DEVISION               4\n",
       "ORTPLZ                        6409\n",
       "ORTS-NAME                    12640\n",
       "STRASSE                     199961\n",
       "SUM_INSURED                 373397\n",
       "CONSTRACTION_DESIGN             13\n",
       "CONSTRUCTION_YEAR              530\n",
       "WFL                            927\n",
       "ZONE                            32\n",
       "SF-SYSTEM                        5\n",
       "TYPE_OF_DEDUCTIBLE               5\n",
       "DRAIN_PIPE_INSURED               1\n",
       "PRODUCTLINE                      6\n",
       "PRIOR_DAMAGES                   10\n",
       "UVV-KZ                           2\n",
       "UNDERWRITER                      2\n",
       "PARTY-ID                   1371754\n",
       "contract_year                   11\n",
       "PIPE_PREMIUM_AMOUNT         313620\n",
       "YEAR                            11\n",
       "DAMAGE                           2\n",
       "DAMAGE_FLOOD_ZONE              531\n",
       "DAMAGE_HEAVY_RAIN_ZONE        1010\n",
       "LONGITUDE                   417966\n",
       "LATITUDE                    417827\n",
       "dtype: int64"
      ]
     },
     "execution_count": 41,
     "metadata": {},
     "output_type": "execute_result"
    }
   ],
   "source": [
    "data1.nunique()"
   ]
  },
  {
   "cell_type": "code",
   "execution_count": 42,
   "id": "b88821c2-6e12-42f7-aeb5-35cbf67bfe35",
   "metadata": {},
   "outputs": [
    {
     "data": {
      "text/plain": [
       "Unnamed: 0                      0\n",
       "ANO_SID                        50\n",
       "CORPORATE_DEVISION              0\n",
       "ORTPLZ                          0\n",
       "ORTS-NAME                      15\n",
       "STRASSE                      8516\n",
       "SUM_INSURED                 14832\n",
       "CONSTRACTION_DESIGN       1083360\n",
       "CONSTRUCTION_YEAR               0\n",
       "WFL                         14996\n",
       "ZONE                       877533\n",
       "SF-SYSTEM                 8713940\n",
       "TYPE_OF_DEDUCTIBLE              0\n",
       "DRAIN_PIPE_INSURED              0\n",
       "PRODUCTLINE               1583747\n",
       "PRIOR_DAMAGES                   0\n",
       "UVV-KZ                          0\n",
       "UNDERWRITER                     0\n",
       "PARTY-ID                      191\n",
       "contract_year                   0\n",
       "PIPE_PREMIUM_AMOUNT           164\n",
       "YEAR                            0\n",
       "DAMAGE                          0\n",
       "DAMAGE_FLOOD_ZONE               0\n",
       "DAMAGE_HEAVY_RAIN_ZONE          0\n",
       "LONGITUDE                  874705\n",
       "LATITUDE                   874705\n",
       "dtype: int64"
      ]
     },
     "execution_count": 42,
     "metadata": {},
     "output_type": "execute_result"
    }
   ],
   "source": [
    "data1.isna().sum()"
   ]
  },
  {
   "cell_type": "code",
   "execution_count": 45,
   "id": "226bb5e6-0b3d-40c8-b0b3-9261870dc8a0",
   "metadata": {},
   "outputs": [
    {
     "name": "stdout",
     "output_type": "stream",
     "text": [
      "<class 'pandas.core.frame.DataFrame'>\n",
      "RangeIndex: 10374540 entries, 0 to 10374539\n",
      "Data columns (total 26 columns):\n",
      " #   Column                  Dtype  \n",
      "---  ------                  -----  \n",
      " 0   ANO_SID                 float64\n",
      " 1   CORPORATE_DEVISION      object \n",
      " 2   ORTPLZ                  int64  \n",
      " 3   ORTS-NAME               object \n",
      " 4   STRASSE                 object \n",
      " 5   SUM_INSURED             float64\n",
      " 6   CONSTRACTION_DESIGN     object \n",
      " 7   CONSTRUCTION_YEAR       float64\n",
      " 8   WFL                     float64\n",
      " 9   ZONE                    object \n",
      " 10  SF-SYSTEM               float64\n",
      " 11  TYPE_OF_DEDUCTIBLE      int64  \n",
      " 12  DRAIN_PIPE_INSURED      int64  \n",
      " 13  PRODUCTLINE             object \n",
      " 14  PRIOR_DAMAGES           int64  \n",
      " 15  UVV-KZ                  int64  \n",
      " 16  UNDERWRITER             object \n",
      " 17  PARTY-ID                object \n",
      " 18  contract_year           object \n",
      " 19  PIPE_PREMIUM_AMOUNT     float64\n",
      " 20  YEAR                    int64  \n",
      " 21  DAMAGE                  int64  \n",
      " 22  DAMAGE_FLOOD_ZONE       float64\n",
      " 23  DAMAGE_HEAVY_RAIN_ZONE  float64\n",
      " 24  LONGITUDE               float64\n",
      " 25  LATITUDE                float64\n",
      "dtypes: float64(10), int64(7), object(9)\n",
      "memory usage: 2.0+ GB\n"
     ]
    }
   ],
   "source": [
    "data1.info()"
   ]
  },
  {
   "cell_type": "code",
   "execution_count": 44,
   "id": "fdcba27b-a4fe-49b2-a0db-fb9b5d6564a9",
   "metadata": {},
   "outputs": [],
   "source": [
    "data1.drop(data1.columns[0], axis=1, inplace=True)"
   ]
  },
  {
   "cell_type": "code",
   "execution_count": 55,
   "id": "bddd3c40-5000-4fb1-826e-5b9868ecbe31",
   "metadata": {},
   "outputs": [],
   "source": [
    "data1 = data1[['ANO_SID', 'CORPORATE_DEVISION','Bundesland', 'Kreis', 'Typ', 'ORTPLZ', 'ORTS-NAME', 'STRASSE', 'SUM_INSURED',\n",
    "               'CONSTRACTION_DESIGN', 'CONSTRUCTION_YEAR', 'WFL', 'ZONE', 'SF-SYSTEM',\n",
    "               'TYPE_OF_DEDUCTIBLE', 'DRAIN_PIPE_INSURED', 'PRODUCTLINE', 'PRIOR_DAMAGES',\n",
    "               'UVV-KZ', 'UNDERWRITER', 'PARTY-ID', 'contract_year', 'PIPE_PREMIUM_AMOUNT',\n",
    "               'YEAR', 'DAMAGE_FLOOD_ZONE', 'DAMAGE_HEAVY_RAIN_ZONE',\n",
    "               'LONGITUDE', 'LATITUDE', 'DAMAGE']]"
   ]
  },
  {
   "cell_type": "code",
   "execution_count": 47,
   "id": "5c8eaf97-9c25-430e-b510-2b689ebdc14b",
   "metadata": {},
   "outputs": [
    {
     "name": "stderr",
     "output_type": "stream",
     "text": [
      "C:\\Users\\nilst\\AppData\\Local\\Temp\\ipykernel_14624\\3629089493.py:1: DtypeWarning: Columns (9) have mixed types. Specify dtype option on import or set low_memory=False.\n",
      "  data3 = pd.read_csv('contract_classification.csv')\n"
     ]
    }
   ],
   "source": [
    "data3 = pd.read_csv('contract_classification.csv')"
   ]
  },
  {
   "cell_type": "code",
   "execution_count": 48,
   "id": "e7ff45c8-626a-4be4-ba1b-557525c71ef2",
   "metadata": {},
   "outputs": [
    {
     "name": "stdout",
     "output_type": "stream",
     "text": [
      "<class 'pandas.core.frame.DataFrame'>\n",
      "RangeIndex: 11574439 entries, 0 to 11574438\n",
      "Data columns (total 22 columns):\n",
      " #   Column               Dtype  \n",
      "---  ------               -----  \n",
      " 0   ANO_SID              float64\n",
      " 1   CORPORATE_DEVISION   object \n",
      " 2   ORTPLZ               float64\n",
      " 3   ORTS-NAME            object \n",
      " 4   STRASSE              object \n",
      " 5   SUM_INSURED          float64\n",
      " 6   CONSTRACTION_DESIGN  object \n",
      " 7   CONSTRUCTION_YEAR    float64\n",
      " 8   WFL                  float64\n",
      " 9   ZONE                 object \n",
      " 10  SF-SYSTEM            float64\n",
      " 11  TYPE_OF_DEDUCTIBLE   int64  \n",
      " 12  DRAIN_PIPE_INSURED   int64  \n",
      " 13  PRODUCTLINE          object \n",
      " 14  PRIOR_DAMAGES        int64  \n",
      " 15  UVV-KZ               int64  \n",
      " 16  UNDERWRITER          object \n",
      " 17  PARTY-ID             object \n",
      " 18  contract_year        object \n",
      " 19  PIPE_PREMIUM_AMOUNT  float64\n",
      " 20  YEAR                 int64  \n",
      " 21  DAMAGE               int64  \n",
      "dtypes: float64(7), int64(6), object(9)\n",
      "memory usage: 1.9+ GB\n"
     ]
    }
   ],
   "source": [
    "data3.info()"
   ]
  },
  {
   "cell_type": "code",
   "execution_count": 62,
   "id": "9faf223e-fee2-452c-a9eb-c791ccee6704",
   "metadata": {},
   "outputs": [],
   "source": [
    "data1.to_csv('contracts.csv')"
   ]
  },
  {
   "cell_type": "code",
   "execution_count": 58,
   "id": "f453bbe3-61e6-4c6d-94d3-dbe4f81a6f1c",
   "metadata": {},
   "outputs": [],
   "source": [
    "data_unique_SID = data1.drop_duplicates(['ANO_SID'])"
   ]
  },
  {
   "cell_type": "code",
   "execution_count": 59,
   "id": "a6c3cf98-2326-4c59-bb4f-0bb13ff66def",
   "metadata": {},
   "outputs": [
    {
     "name": "stdout",
     "output_type": "stream",
     "text": [
      "<class 'pandas.core.frame.DataFrame'>\n",
      "Index: 1513667 entries, 0 to 10374539\n",
      "Data columns (total 29 columns):\n",
      " #   Column                  Non-Null Count    Dtype  \n",
      "---  ------                  --------------    -----  \n",
      " 0   ANO_SID                 1513666 non-null  float64\n",
      " 1   CORPORATE_DEVISION      1513667 non-null  object \n",
      " 2   Bundesland              1420052 non-null  object \n",
      " 3   Kreis                   1420052 non-null  object \n",
      " 4   Typ                     1420052 non-null  object \n",
      " 5   ORTPLZ                  1513667 non-null  int64  \n",
      " 6   ORTS-NAME               1513662 non-null  object \n",
      " 7   STRASSE                 1512587 non-null  object \n",
      " 8   SUM_INSURED             1511386 non-null  float64\n",
      " 9   CONSTRACTION_DESIGN     1349207 non-null  object \n",
      " 10  CONSTRUCTION_YEAR       1513667 non-null  float64\n",
      " 11  WFL                     1511363 non-null  float64\n",
      " 12  ZONE                    1364446 non-null  object \n",
      " 13  SF-SYSTEM               379150 non-null   float64\n",
      " 14  TYPE_OF_DEDUCTIBLE      1513667 non-null  int64  \n",
      " 15  DRAIN_PIPE_INSURED      1513667 non-null  int64  \n",
      " 16  PRODUCTLINE             1262425 non-null  object \n",
      " 17  PRIOR_DAMAGES           1513667 non-null  int64  \n",
      " 18  UVV-KZ                  1513667 non-null  int64  \n",
      " 19  UNDERWRITER             1513667 non-null  object \n",
      " 20  PARTY-ID                1513644 non-null  object \n",
      " 21  contract_year           1513667 non-null  object \n",
      " 22  PIPE_PREMIUM_AMOUNT     1513644 non-null  float64\n",
      " 23  YEAR                    1513667 non-null  int64  \n",
      " 24  DAMAGE_FLOOD_ZONE       1513667 non-null  float64\n",
      " 25  DAMAGE_HEAVY_RAIN_ZONE  1513667 non-null  float64\n",
      " 26  LONGITUDE               1382807 non-null  float64\n",
      " 27  LATITUDE                1382807 non-null  float64\n",
      " 28  DAMAGE                  1513667 non-null  int64  \n",
      "dtypes: float64(10), int64(7), object(12)\n",
      "memory usage: 346.5+ MB\n"
     ]
    }
   ],
   "source": [
    "data_unique_SID.info()"
   ]
  },
  {
   "cell_type": "code",
   "execution_count": 60,
   "id": "ee4caade-b8b1-4f2e-b3bf-a3f4a8b4210d",
   "metadata": {},
   "outputs": [
    {
     "name": "stdout",
     "output_type": "stream",
     "text": [
      "<class 'pandas.core.frame.DataFrame'>\n",
      "RangeIndex: 10374540 entries, 0 to 10374539\n",
      "Data columns (total 29 columns):\n",
      " #   Column                  Dtype  \n",
      "---  ------                  -----  \n",
      " 0   ANO_SID                 float64\n",
      " 1   CORPORATE_DEVISION      object \n",
      " 2   Bundesland              object \n",
      " 3   Kreis                   object \n",
      " 4   Typ                     object \n",
      " 5   ORTPLZ                  int64  \n",
      " 6   ORTS-NAME               object \n",
      " 7   STRASSE                 object \n",
      " 8   SUM_INSURED             float64\n",
      " 9   CONSTRACTION_DESIGN     object \n",
      " 10  CONSTRUCTION_YEAR       float64\n",
      " 11  WFL                     float64\n",
      " 12  ZONE                    object \n",
      " 13  SF-SYSTEM               float64\n",
      " 14  TYPE_OF_DEDUCTIBLE      int64  \n",
      " 15  DRAIN_PIPE_INSURED      int64  \n",
      " 16  PRODUCTLINE             object \n",
      " 17  PRIOR_DAMAGES           int64  \n",
      " 18  UVV-KZ                  int64  \n",
      " 19  UNDERWRITER             object \n",
      " 20  PARTY-ID                object \n",
      " 21  contract_year           object \n",
      " 22  PIPE_PREMIUM_AMOUNT     float64\n",
      " 23  YEAR                    int64  \n",
      " 24  DAMAGE_FLOOD_ZONE       float64\n",
      " 25  DAMAGE_HEAVY_RAIN_ZONE  float64\n",
      " 26  LONGITUDE               float64\n",
      " 27  LATITUDE                float64\n",
      " 28  DAMAGE                  int64  \n",
      "dtypes: float64(10), int64(7), object(12)\n",
      "memory usage: 2.2+ GB\n"
     ]
    }
   ],
   "source": [
    "data1.info()"
   ]
  },
  {
   "cell_type": "code",
   "execution_count": 61,
   "id": "2fe95f5c-a8ef-4edb-a146-c9f2667dfb69",
   "metadata": {},
   "outputs": [],
   "source": [
    "data_unique_SID.to_csv('contracts_unique_SID.csv')"
   ]
  }
 ],
 "metadata": {
  "kernelspec": {
   "display_name": "Python 3 (ipykernel)",
   "language": "python",
   "name": "python3"
  },
  "language_info": {
   "codemirror_mode": {
    "name": "ipython",
    "version": 3
   },
   "file_extension": ".py",
   "mimetype": "text/x-python",
   "name": "python",
   "nbconvert_exporter": "python",
   "pygments_lexer": "ipython3",
   "version": "3.12.4"
  }
 },
 "nbformat": 4,
 "nbformat_minor": 5
}
