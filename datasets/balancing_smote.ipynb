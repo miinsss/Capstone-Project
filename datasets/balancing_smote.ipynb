{
 "cells": [
  {
   "cell_type": "markdown",
   "id": "6c6436ac-cfa8-4fe2-a51a-fb4e3a2514a0",
   "metadata": {},
   "source": [
    "# Balance the Dataset"
   ]
  },
  {
   "cell_type": "markdown",
   "id": "a3f4a217-d62d-4874-9033-d0caf6e95cd0",
   "metadata": {},
   "source": [
    "## Installations and Libraries"
   ]
  },
  {
   "cell_type": "code",
   "execution_count": 18,
   "id": "78f61f9a-616d-4e66-b0f4-4a602c275ac0",
   "metadata": {},
   "outputs": [
    {
     "name": "stdout",
     "output_type": "stream",
     "text": [
      "zsh:1: no matches found: dask[complete]\n"
     ]
    }
   ],
   "source": [
    "# Imports\n",
    "!pip install dask[complete] dask-ml imbalanced-learn\n",
    "\n",
    "import os\n",
    "import dask.dataframe as dd\n",
    "from imblearn.over_sampling import SMOTE\n",
    "import numpy as np\n",
    "import pandas as pd"
   ]
  },
  {
   "cell_type": "markdown",
   "id": "65256bbf-a39a-48f8-a861-5cb5e5a1bb10",
   "metadata": {},
   "source": [
    "## Load the Data"
   ]
  },
  {
   "cell_type": "code",
   "execution_count": 19,
   "id": "497b81c1-4869-4d15-8b5e-3a82da1d1277",
   "metadata": {},
   "outputs": [
    {
     "name": "stdout",
     "output_type": "stream",
     "text": [
      "Current working directory: /Users/minarandolf/Capstone/Capstone-Project/datasets\n"
     ]
    },
    {
     "name": "stderr",
     "output_type": "stream",
     "text": [
      "/var/folders/72/ct286z0d1tz0s971c6b7qshh0000gn/T/ipykernel_24785/3693657927.py:10: DtypeWarning: Columns (13) have mixed types. Specify dtype option on import or set low_memory=False.\n",
      "  df = pd.read_csv(file_path)\n"
     ]
    },
    {
     "name": "stdout",
     "output_type": "stream",
     "text": [
      "Number of observations: 10353244\n",
      "Column names:\n",
      "Index(['Unnamed: 0', 'ANO_SID', 'CORPORATE_DEVISION', 'Bundesland', 'Kreis',\n",
      "       'Typ', 'ORTPLZ', 'ORTS-NAME', 'STRASSE', 'SUM_INSURED',\n",
      "       'CONSTRACTION_DESIGN', 'CONSTRUCTION_YEAR', 'WFL', 'ZONE', 'SF-SYSTEM',\n",
      "       'TYPE_OF_DEDUCTIBLE', 'DRAIN_PIPE_INSURED', 'PRODUCTLINE',\n",
      "       'PRIOR_DAMAGES', 'UVV-KZ', 'UNDERWRITER', 'PARTY-ID', 'contract_year',\n",
      "       'PIPE_PREMIUM_AMOUNT', 'YEAR', 'DAMAGE_FLOOD_ZONE',\n",
      "       'DAMAGE_HEAVY_RAIN_ZONE', 'LONGITUDE', 'LATITUDE', 'DAMAGE'],\n",
      "      dtype='object')\n",
      "Column types:\n",
      "Unnamed: 0                  int64\n",
      "ANO_SID                   float64\n",
      "CORPORATE_DEVISION         object\n",
      "Bundesland                 object\n",
      "Kreis                      object\n",
      "Typ                        object\n",
      "ORTPLZ                      int64\n",
      "ORTS-NAME                  object\n",
      "STRASSE                    object\n",
      "SUM_INSURED               float64\n",
      "CONSTRACTION_DESIGN        object\n",
      "CONSTRUCTION_YEAR         float64\n",
      "WFL                       float64\n",
      "ZONE                       object\n",
      "SF-SYSTEM                 float64\n",
      "TYPE_OF_DEDUCTIBLE          int64\n",
      "DRAIN_PIPE_INSURED          int64\n",
      "PRODUCTLINE                object\n",
      "PRIOR_DAMAGES               int64\n",
      "UVV-KZ                      int64\n",
      "UNDERWRITER                object\n",
      "PARTY-ID                   object\n",
      "contract_year              object\n",
      "PIPE_PREMIUM_AMOUNT       float64\n",
      "YEAR                        int64\n",
      "DAMAGE_FLOOD_ZONE         float64\n",
      "DAMAGE_HEAVY_RAIN_ZONE    float64\n",
      "LONGITUDE                 float64\n",
      "LATITUDE                  float64\n",
      "DAMAGE                      int64\n",
      "dtype: object\n",
      "   Unnamed: 0    ANO_SID CORPORATE_DEVISION           Bundesland      Kreis  \\\n",
      "0           0  4114028.0                VHV  Nordrhein-Westfalen  Wuppertal   \n",
      "1           1  4114039.0                VHV  Nordrhein-Westfalen  Wuppertal   \n",
      "2           2  4114045.0                VHV  Nordrhein-Westfalen  Wuppertal   \n",
      "3           3  4114049.0                VGV  Nordrhein-Westfalen  Wuppertal   \n",
      "4           4  4114055.0                VHV  Nordrhein-Westfalen   Mettmann   \n",
      "\n",
      "     Typ  ORTPLZ  ORTS-NAME               STRASSE  SUM_INSURED  ...  \\\n",
      "0  Stadt   42109  Wuppertal     Hans-Böckler-Str.      71081.0  ...   \n",
      "1  Stadt   42277  Wuppertal       Liegnitzer Str.      55708.0  ...   \n",
      "2  Stadt   42389  Wuppertal             Rascheweg      74148.0  ...   \n",
      "3  Stadt   42277  Wuppertal               Am Diek     664000.0  ...   \n",
      "4  Kreis   42553    Velbert  Emil-Schniewind-Str.      75682.0  ...   \n",
      "\n",
      "  UNDERWRITER              PARTY-ID  contract_year PIPE_PREMIUM_AMOUNT  YEAR  \\\n",
      "0           Y  N00WXYAWXFD704PT4712     2014-01-01             4.55070  2014   \n",
      "1           Y  YH8XZ8AWXFD704PT4713     2014-01-01             4.54080  2014   \n",
      "2           Y  AIPAVQEWXFD704PT4713     2014-01-01             3.18120  2014   \n",
      "3           Y  GG0UA4KWXFD704PT4715     2014-01-01           154.60908  2014   \n",
      "4           Y  P6XU2FAWXFD704PT4712     2014-01-01             5.89380  2014   \n",
      "\n",
      "   DAMAGE_FLOOD_ZONE  DAMAGE_HEAVY_RAIN_ZONE LONGITUDE   LATITUDE  DAMAGE  \n",
      "0                1.0                1.727273  7.168175  51.285086       0  \n",
      "1                1.0                1.931034  7.221409  51.282877       0  \n",
      "2                1.0                1.962963  7.257295  51.272306       0  \n",
      "3                1.0                1.931034  7.226671  51.285622       0  \n",
      "4                1.0                1.768000  7.080255  51.312158       0  \n",
      "\n",
      "[5 rows x 30 columns]\n"
     ]
    }
   ],
   "source": [
    "# Data Loading\n",
    "# Check the current working directory\n",
    "print(\"Current working directory:\", os.getcwd())\n",
    "\n",
    "# Define the path to your CSV file\n",
    "file_path = '/Users/minarandolf/Capstone/Capstone-Project/datasets/contracts_clean_final.csv'\n",
    "\n",
    "# Load the CSV file into a DataFrame\n",
    "try:\n",
    "    df = pd.read_csv(file_path)\n",
    "    print(f\"Number of observations: {len(df)}\")\n",
    "    print(\"Column names:\")\n",
    "    print(df.columns)\n",
    "    print(\"Column types:\")\n",
    "    print(df.dtypes)\n",
    "    print(df.head())\n",
    "except FileNotFoundError:\n",
    "    print(f\"The file {file_path} does not exist in the current working directory.\")"
   ]
  },
  {
   "cell_type": "code",
   "execution_count": 20,
   "id": "48d93142-43de-47ed-9a5e-7c459da7a8dc",
   "metadata": {},
   "outputs": [
    {
     "name": "stdout",
     "output_type": "stream",
     "text": [
      "Number of observations for each class in 'DAMAGE':\n",
      "DAMAGE\n",
      "0    10203172\n",
      "1      150072\n",
      "Name: count, dtype: int64\n",
      "\n",
      "Percentage distribution of each class in 'DAMAGE':\n",
      "DAMAGE\n",
      "0    98.550483\n",
      "1     1.449517\n",
      "Name: proportion, dtype: float64\n"
     ]
    }
   ],
   "source": [
    "# Data Analysis\n",
    "# Count the occurrences of each class in the target variable 'DAMAGE'\n",
    "damage_counts = df['DAMAGE'].value_counts()\n",
    "\n",
    "# Print the results\n",
    "print(\"Number of observations for each class in 'DAMAGE':\")\n",
    "print(damage_counts)\n",
    "\n",
    "# Display the percentage distribution\n",
    "damage_percentage = df['DAMAGE'].value_counts(normalize=True) * 100\n",
    "print(\"\\nPercentage distribution of each class in 'DAMAGE':\")\n",
    "print(damage_percentage)"
   ]
  },
  {
   "cell_type": "markdown",
   "id": "e055ad8a-c711-4c0a-9cd5-6c0fc4073d40",
   "metadata": {},
   "source": [
    "## Creating a subset"
   ]
  },
  {
   "cell_type": "code",
   "execution_count": 21,
   "id": "ea52c390-9603-4e4e-ac81-ee038d70cc07",
   "metadata": {},
   "outputs": [],
   "source": [
    "# Create a smaller subset of the dataset with balanced years and similar distribution of 'DAMAGE'\n",
    "subset_size = 20000\n",
    "years = df['contract_year'].unique()\n",
    "subset_list = []\n",
    "\n",
    "for year in years:\n",
    "    year_data = df[df['contract_year'] == year]\n",
    "    no_damage = year_data[year_data['DAMAGE'] == 0]\n",
    "    damage = year_data[year_data['DAMAGE'] == 1]\n",
    "    \n",
    "    # Calculate the sample size for each year based on the total subset size\n",
    "    sample_size = subset_size // len(years)\n",
    "    \n",
    "    # Ensure the sample size is proportionate to the overall distribution\n",
    "    no_damage_sample = no_damage.sample(n=int(sample_size * 0.985), random_state=42, replace=True)\n",
    "    damage_sample = damage.sample(n=int(sample_size * 0.015), random_state=42, replace=True)\n",
    "    \n",
    "    subset_list.append(pd.concat([no_damage_sample, damage_sample]))\n",
    "\n",
    "subset_df = pd.concat(subset_list).reset_index(drop=True)"
   ]
  },
  {
   "cell_type": "code",
   "execution_count": 22,
   "id": "73ddf9a5-1408-4ece-98a8-8711518286ff",
   "metadata": {},
   "outputs": [
    {
     "name": "stdout",
     "output_type": "stream",
     "text": [
      "Number of observations in the subset: 19987\n",
      "Number of observations for each class in 'DAMAGE' (subset):\n",
      "DAMAGE\n",
      "0    19690\n",
      "1      297\n",
      "Name: count, dtype: int64\n",
      "\n",
      "Percentage distribution of each class in 'DAMAGE' (subset):\n",
      "DAMAGE\n",
      "0    98.514034\n",
      "1     1.485966\n",
      "Name: proportion, dtype: float64\n",
      "\n",
      "Number of observations for each year in the subset:\n",
      "contract_year\n",
      "2014-01-01    1817\n",
      "2015-01-01    1817\n",
      "2016-01-01    1817\n",
      "2017-01-01    1817\n",
      "2018-01-01    1817\n",
      "2019-01-01    1817\n",
      "2020-01-01    1817\n",
      "2021-01-01    1817\n",
      "2022-01-01    1817\n",
      "2023-01-01    1817\n",
      "2024-01-01    1817\n",
      "Name: count, dtype: int64\n"
     ]
    }
   ],
   "source": [
    "# Check the amount of observations in the subset and the percentage distribution of each class in 'DAMAGE'\n",
    "print(f\"Number of observations in the subset: {len(subset_df)}\")\n",
    "\n",
    "subset_damage_counts = subset_df['DAMAGE'].value_counts()\n",
    "print(\"Number of observations for each class in 'DAMAGE' (subset):\")\n",
    "print(subset_damage_counts)\n",
    "\n",
    "subset_damage_percentage = subset_df['DAMAGE'].value_counts(normalize=True) * 100\n",
    "print(\"\\nPercentage distribution of each class in 'DAMAGE' (subset):\")\n",
    "print(subset_damage_percentage)\n",
    "\n",
    "# Print the number of observations for each year in the subset\n",
    "print(\"\\nNumber of observations for each year in the subset:\")\n",
    "print(subset_df['contract_year'].value_counts())"
   ]
  },
  {
   "cell_type": "code",
   "execution_count": 23,
   "id": "c6a361ff-e881-44f0-a592-3c8c7615bc13",
   "metadata": {},
   "outputs": [],
   "source": [
    "# Save the subset before SMOTE to a CSV file\n",
    "subset_df.to_csv('/Users/minarandolf/Capstone/Capstone-Project/datasets/subset_before_smote.csv', index=False)"
   ]
  },
  {
   "cell_type": "markdown",
   "id": "24d806a9-ad01-415f-a1cf-7a1ffce3814e",
   "metadata": {},
   "source": [
    "## Balance the Data using SMOTE"
   ]
  },
  {
   "cell_type": "code",
   "execution_count": 26,
   "id": "8c51c432-554a-4f7e-9746-ba4f74c4daf4",
   "metadata": {},
   "outputs": [
    {
     "name": "stdout",
     "output_type": "stream",
     "text": [
      "Distribution after SMOTE:\n",
      "0    19690\n",
      "1    19690\n",
      "Name: count, dtype: int64\n"
     ]
    }
   ],
   "source": [
    "# Define function to load data in chunks and apply SMOTE incrementally\n",
    "def load_and_balance_data(df, chunk_size=5000):\n",
    "    smote = SMOTE(random_state=42)\n",
    "    balanced_data_X = []\n",
    "    balanced_data_y = []\n",
    "\n",
    "    # Process data in chunks\n",
    "    for start in range(0, len(df), chunk_size):\n",
    "        end = start + chunk_size\n",
    "        chunk = df.iloc[start:end]\n",
    "        \n",
    "        # Separate features and target\n",
    "        X_chunk = chunk.drop('DAMAGE', axis=1)\n",
    "        y_chunk = chunk['DAMAGE']\n",
    "        \n",
    "        # Ensure numeric columns are in correct format\n",
    "        X_chunk = X_chunk.apply(pd.to_numeric, errors='coerce').fillna(0)\n",
    "        \n",
    "        # Apply SMOTE to the chunk\n",
    "        X_resampled_chunk, y_resampled_chunk = smote.fit_resample(X_chunk, y_chunk)\n",
    "        \n",
    "        balanced_data_X.append(X_resampled_chunk)\n",
    "        balanced_data_y.append(y_resampled_chunk)\n",
    "    \n",
    "    # Concatenate all the resampled chunks\n",
    "    X_resampled = np.vstack(balanced_data_X)\n",
    "    y_resampled = np.hstack(balanced_data_y)\n",
    "\n",
    "    return X_resampled, y_resampled\n",
    "\n",
    "# Load and balance the subset data\n",
    "X_resampled, y_resampled = load_and_balance_data(subset_df)\n",
    "\n",
    "# Combine the balanced data into a DataFrame\n",
    "balanced_df = pd.DataFrame(X_resampled, columns=subset_df.drop('DAMAGE', axis=1).columns)\n",
    "balanced_df['DAMAGE'] = y_resampled\n",
    "\n",
    "# Save the balanced subset to a CSV file\n",
    "balanced_df.to_csv('/Users/minarandolf/Capstone/Capstone-Project/datasets/subset_after_smote.csv', index=False)\n",
    "\n",
    "# Check the distribution after SMOTE\n",
    "print(\"Distribution after SMOTE:\")\n",
    "print(pd.Series(y_resampled).value_counts())"
   ]
  }
 ],
 "metadata": {
  "kernelspec": {
   "display_name": "Python 3.10 (tensorflow)",
   "language": "python",
   "name": "tensorflow"
  },
  "language_info": {
   "codemirror_mode": {
    "name": "ipython",
    "version": 3
   },
   "file_extension": ".py",
   "mimetype": "text/x-python",
   "name": "python",
   "nbconvert_exporter": "python",
   "pygments_lexer": "ipython3",
   "version": "3.10.10"
  }
 },
 "nbformat": 4,
 "nbformat_minor": 5
}
