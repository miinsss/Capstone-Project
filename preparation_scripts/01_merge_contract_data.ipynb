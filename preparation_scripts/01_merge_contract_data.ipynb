{
  "cells": [
    {
      "cell_type": "markdown",
      "metadata": {
        "id": "view-in-github",
        "colab_type": "text"
      },
      "source": [
        "<a href=\"https://colab.research.google.com/github/miinsss/Capstone-Project/blob/main/01_merge_contract_data.ipynb\" target=\"_parent\"><img src=\"https://colab.research.google.com/assets/colab-badge.svg\" alt=\"Open In Colab\"/></a>"
      ]
    },
    {
      "cell_type": "markdown",
      "metadata": {
        "id": "ul8FG0MadDKn"
      },
      "source": [
        "# Installations"
      ]
    },
    {
      "cell_type": "code",
      "execution_count": 3,
      "metadata": {
        "id": "iDRL-Rnq3DGV",
        "colab": {
          "base_uri": "https://localhost:8080/"
        },
        "outputId": "27204b27-2ffe-47b3-c210-c34ae2f1860e"
      },
      "outputs": [
        {
          "output_type": "stream",
          "name": "stdout",
          "text": [
            "Requirement already satisfied: msoffcrypto-tool in /usr/local/lib/python3.10/dist-packages (5.4.0)\n",
            "Requirement already satisfied: openpyxl in /usr/local/lib/python3.10/dist-packages (3.1.2)\n",
            "Requirement already satisfied: cryptography>=35.0 in /usr/local/lib/python3.10/dist-packages (from msoffcrypto-tool) (42.0.7)\n",
            "Requirement already satisfied: olefile>=0.46 in /usr/local/lib/python3.10/dist-packages (from msoffcrypto-tool) (0.47)\n",
            "Requirement already satisfied: et-xmlfile in /usr/local/lib/python3.10/dist-packages (from openpyxl) (1.1.0)\n",
            "Requirement already satisfied: cffi>=1.12 in /usr/local/lib/python3.10/dist-packages (from cryptography>=35.0->msoffcrypto-tool) (1.16.0)\n",
            "Requirement already satisfied: pycparser in /usr/local/lib/python3.10/dist-packages (from cffi>=1.12->cryptography>=35.0->msoffcrypto-tool) (2.22)\n"
          ]
        }
      ],
      "source": [
        "!pip install msoffcrypto-tool openpyxl"
      ]
    },
    {
      "cell_type": "code",
      "execution_count": 4,
      "metadata": {
        "id": "DSUmBGvX1xz5"
      },
      "outputs": [],
      "source": [
        "import msoffcrypto\n",
        "import pandas as pd\n",
        "from google.colab import drive\n",
        "import io\n",
        "import time"
      ]
    },
    {
      "cell_type": "markdown",
      "metadata": {
        "id": "EAD5koIbdHjf"
      },
      "source": [
        "# Merging the contract tables into one csv table"
      ]
    },
    {
      "cell_type": "code",
      "execution_count": 3,
      "metadata": {
        "colab": {
          "base_uri": "https://localhost:8080/",
          "height": 581
        },
        "id": "Xixqb4BBan4Q",
        "outputId": "acf3bd3a-8e56-476b-87c5-889816c542f1"
      },
      "outputs": [
        {
          "output_type": "stream",
          "name": "stdout",
          "text": [
            "Mounted at /content/drive\n",
            "Processing file for year 2014: /content/drive/My Drive/Capstone/new Data/DT_CONTRACT_14.xlsx\n",
            "Finished processing year 2014 in 460.42 seconds\n",
            "Processing file for year 2015: /content/drive/My Drive/Capstone/new Data/DT_CONTRACT_15.xlsx\n",
            "Finished processing year 2015 in 461.74 seconds\n",
            "Processing file for year 2016: /content/drive/My Drive/Capstone/new Data/DT_CONTRACT_16.xlsx\n",
            "Finished processing year 2016 in 473.74 seconds\n",
            "Processing file for year 2017: /content/drive/My Drive/Capstone/new Data/DT_CONTRACT_17.xlsx\n",
            "Finished processing year 2017 in 469.14 seconds\n",
            "Processing file for year 2018: /content/drive/My Drive/Capstone/new Data/DT_CONTRACT_18.xlsx\n",
            "Finished processing year 2018 in 468.73 seconds\n",
            "Processing file for year 2019: /content/drive/My Drive/Capstone/new Data/DT_CONTRACT_19.xlsx\n",
            "Finished processing year 2019 in 462.55 seconds\n",
            "Processing file for year 2020: /content/drive/My Drive/Capstone/new Data/DT_CONTRACT_20.xlsx\n",
            "Finished processing year 2020 in 456.32 seconds\n",
            "Processing file for year 2021: /content/drive/My Drive/Capstone/new Data/DT_CONTRACT_21.xlsx\n",
            "Finished processing year 2021 in 460.47 seconds\n",
            "Processing file for year 2022: /content/drive/My Drive/Capstone/new Data/DT_CONTRACT_22.xlsx\n",
            "Finished processing year 2022 in 456.46 seconds\n",
            "Processing file for year 2023: /content/drive/My Drive/Capstone/new Data/DT_CONTRACT_23.xlsx\n",
            "Finished processing year 2023 in 455.44 seconds\n",
            "Processing file for year 2024: /content/drive/My Drive/Capstone/new Data/DT_CONTRACT_24.xlsx\n"
          ]
        },
        {
          "output_type": "error",
          "ename": "FileNotFoundError",
          "evalue": "[Errno 2] No such file or directory: '/content/drive/My Drive/Capstone/new Data/DT_CONTRACT_24.xlsx'",
          "traceback": [
            "\u001b[0;31m---------------------------------------------------------------------------\u001b[0m",
            "\u001b[0;31mFileNotFoundError\u001b[0m                         Traceback (most recent call last)",
            "\u001b[0;32m<ipython-input-3-6f9175732972>\u001b[0m in \u001b[0;36m<cell line: 16>\u001b[0;34m()\u001b[0m\n\u001b[1;32m     20\u001b[0m     \u001b[0;31m# Decrypt the file\u001b[0m\u001b[0;34m\u001b[0m\u001b[0;34m\u001b[0m\u001b[0m\n\u001b[1;32m     21\u001b[0m     \u001b[0mdecrypted\u001b[0m \u001b[0;34m=\u001b[0m \u001b[0mio\u001b[0m\u001b[0;34m.\u001b[0m\u001b[0mBytesIO\u001b[0m\u001b[0;34m(\u001b[0m\u001b[0;34m)\u001b[0m\u001b[0;34m\u001b[0m\u001b[0;34m\u001b[0m\u001b[0m\n\u001b[0;32m---> 22\u001b[0;31m     \u001b[0;32mwith\u001b[0m \u001b[0mopen\u001b[0m\u001b[0;34m(\u001b[0m\u001b[0mfile_path\u001b[0m\u001b[0;34m,\u001b[0m \u001b[0;34m'rb'\u001b[0m\u001b[0;34m)\u001b[0m \u001b[0;32mas\u001b[0m \u001b[0mf\u001b[0m\u001b[0;34m:\u001b[0m\u001b[0;34m\u001b[0m\u001b[0;34m\u001b[0m\u001b[0m\n\u001b[0m\u001b[1;32m     23\u001b[0m         \u001b[0mfile\u001b[0m \u001b[0;34m=\u001b[0m \u001b[0mmsoffcrypto\u001b[0m\u001b[0;34m.\u001b[0m\u001b[0mOfficeFile\u001b[0m\u001b[0;34m(\u001b[0m\u001b[0mf\u001b[0m\u001b[0;34m)\u001b[0m\u001b[0;34m\u001b[0m\u001b[0;34m\u001b[0m\u001b[0m\n\u001b[1;32m     24\u001b[0m         \u001b[0mfile\u001b[0m\u001b[0;34m.\u001b[0m\u001b[0mload_key\u001b[0m\u001b[0;34m(\u001b[0m\u001b[0mpassword\u001b[0m\u001b[0;34m=\u001b[0m\u001b[0mpassword\u001b[0m\u001b[0;34m)\u001b[0m\u001b[0;34m\u001b[0m\u001b[0;34m\u001b[0m\u001b[0m\n",
            "\u001b[0;31mFileNotFoundError\u001b[0m: [Errno 2] No such file or directory: '/content/drive/My Drive/Capstone/new Data/DT_CONTRACT_24.xlsx'"
          ]
        }
      ],
      "source": [
        "# Mount Google Drive\n",
        "drive.mount('/content/drive', force_remount=True)\n",
        "\n",
        "# Define the path to your files\n",
        "base_path = '/content/drive/My Drive/Capstone/Data/Excel Tables/'\n",
        "password = 'Got8aer_CapStone'\n",
        "\n",
        "# List of years and corresponding file paths\n",
        "years = list(range(14, 25))\n",
        "file_paths = [f'{base_path}DT_CONTRACT_{year:02d}.xlsx' for year in years]\n",
        "\n",
        "# Initialize an empty list to hold the DataFrames\n",
        "dfs = []\n",
        "\n",
        "# Loop through each file, decrypt it, read it into a DataFrame using openpyxl, and add the contract year column\n",
        "for year, file_path in zip(years, file_paths):\n",
        "    start_time = time.time()  # Start timing\n",
        "    print(f'Processing file for year {2000 + year}: {file_path}')\n",
        "\n",
        "    # Decrypt the file\n",
        "    decrypted = io.BytesIO()\n",
        "    with open(file_path, 'rb') as f:\n",
        "        file = msoffcrypto.OfficeFile(f)\n",
        "        file.load_key(password=password)\n",
        "        file.decrypt(decrypted)\n",
        "\n",
        "    # Read the decrypted file into a DataFrame\n",
        "    decrypted.seek(0)  # Reset the pointer to the beginning of the BytesIO object\n",
        "    df = pd.read_excel(decrypted, engine='openpyxl')\n",
        "    df['contract_year'] = 2000 + year  # Adjust the year to be a 4-digit year (e.g., 2014)\n",
        "    dfs.append(df)\n",
        "\n",
        "    end_time = time.time()  # End timing\n",
        "    print(f'Finished processing year {2000 + year} in {end_time - start_time:.2f} seconds')\n",
        "\n",
        "# Concatenate all DataFrames into one large DataFrame\n",
        "combined_df = pd.concat(dfs, ignore_index=True)\n",
        "\n",
        "# Display the first few rows of the combined DataFrame\n",
        "print(combined_df.head())\n",
        "\n",
        "# Save the combined DataFrame to a CSV file\n",
        "output_path = f'{base_path}combined_contracts.csv'\n",
        "combined_df.to_csv(output_path, index=False)"
      ]
    },
    {
      "cell_type": "code",
      "source": [
        "# Define the path to the combined CSV file\n",
        "combined_csv_path = '/content/drive/My Drive/Capstone/Data/combined_contracts.csv'\n",
        "\n",
        "# Load the CSV file into a DataFrame with low_memory=False\n",
        "combined_df = pd.read_csv(combined_csv_path, low_memory=False)\n",
        "\n",
        "# Display the first few rows of the combined DataFrame\n",
        "print(combined_df.head())\n"
      ],
      "metadata": {
        "colab": {
          "base_uri": "https://localhost:8080/"
        },
        "id": "8NiibdW2KAAg",
        "outputId": "10d8da42-4d48-4ed6-8c9a-e4afb82947ad"
      },
      "execution_count": 5,
      "outputs": [
        {
          "output_type": "stream",
          "name": "stdout",
          "text": [
            "     ANO_SID CORPORATE_DEVISION ORTPLZ  ORTS-NAME               STRASSE  \\\n",
            "0  4114028.0                VHV  42109  Wuppertal     Hans-Böckler-Str.   \n",
            "1  4114039.0                VHV  42277  Wuppertal       Liegnitzer Str.   \n",
            "2  4114045.0                VHV  42389  Wuppertal             Rascheweg   \n",
            "3  4114049.0                VGV  42277  Wuppertal               Am Diek   \n",
            "4  4114055.0                VHV  42553    Velbert  Emil-Schniewind-Str.   \n",
            "\n",
            "  SUM_INSURED CONSTRACTION_DESIGN  CONSTRUCTION_YEAR BASEMENT BUILDING_TYPE  \\\n",
            "0    71081.00      NORMAL_VENTURE                  0      NaN           NaN   \n",
            "1    55708.00      NORMAL_VENTURE                  0      NaN           NaN   \n",
            "2    74148.00      DESIGN_CLASS_I                  0      NaN           NaN   \n",
            "3    664000.0      NORMAL_VENTURE                  0      NaN           NaN   \n",
            "4    75682.00      NORMAL_VENTURE                  0      NaN           NaN   \n",
            "\n",
            "   ...  INVENTORY_MANAGEMENT_SYSTEM     KEYDATE  PRIOR_DAMAGES  RISK_NATION  \\\n",
            "0  ...                        FAMFF  2014-12-31              0      GERMANY   \n",
            "1  ...                        FAMFF  2014-12-31              0      GERMANY   \n",
            "2  ...                        FAMFF  2014-12-31              0      GERMANY   \n",
            "3  ...                        FAMFF  2014-12-31              0          NaN   \n",
            "4  ...                        FAMFF  2014-12-31              0      GERMANY   \n",
            "\n",
            "   UVV-KZ  SFR-JAHRE  UNDERWRITER              PARTY-ID PREMIUM_AMOUNT  \\\n",
            "0       J          0            Y  N00WXYAWXFD704PT4712          68.95   \n",
            "1       J          0            Y  YH8XZ8AWXFD704PT4713          68.80   \n",
            "2       J          0            Y  AIPAVQEWXFD704PT4713          48.20   \n",
            "3       J          0            Y  GG0UA4KWXFD704PT4715         599.26   \n",
            "4       J          0            Y  P6XU2FAWXFD704PT4712          89.30   \n",
            "\n",
            "  contract_year  \n",
            "0          2014  \n",
            "1          2014  \n",
            "2          2014  \n",
            "3          2014  \n",
            "4          2014  \n",
            "\n",
            "[5 rows x 29 columns]\n"
          ]
        }
      ]
    },
    {
      "cell_type": "markdown",
      "source": [
        "# Change DAMAGES.xlsx into csv file"
      ],
      "metadata": {
        "id": "UYSivW8ONv77"
      }
    },
    {
      "cell_type": "code",
      "source": [
        "# Define the path to the Excel file\n",
        "excel_file_path = '/content/drive/My Drive/Capstone/Data/Excel Tables/DAMAGES.xlsx'\n",
        "\n",
        "# Define the path for the new CSV file\n",
        "csv_file_path = '/content/drive/My Drive/Capstone/Data/damages.csv'\n",
        "\n",
        "# Password for the Excel file\n",
        "password = 'Got8aer_CapStone'\n",
        "\n",
        "# Decrypt the file\n",
        "decrypted = io.BytesIO()\n",
        "with open(excel_file_path, 'rb') as f:\n",
        "    file = msoffcrypto.OfficeFile(f)\n",
        "    file.load_key(password=password)\n",
        "    file.decrypt(decrypted)\n",
        "\n",
        "# Read the decrypted file into a DataFrame\n",
        "decrypted.seek(0)  # Reset the pointer to the beginning of the BytesIO object\n",
        "df = pd.read_excel(decrypted, engine='openpyxl')\n",
        "\n",
        "# Save the DataFrame as a CSV file\n",
        "df.to_csv(csv_file_path, index=False)\n",
        "\n",
        "csv_file_path"
      ],
      "metadata": {
        "colab": {
          "base_uri": "https://localhost:8080/",
          "height": 35
        },
        "id": "QIU5KE8aNvl7",
        "outputId": "34b2b671-1feb-4c58-e89b-482ef7a4a889"
      },
      "execution_count": 8,
      "outputs": [
        {
          "output_type": "execute_result",
          "data": {
            "text/plain": [
              "'/content/drive/My Drive/Capstone/Data/damages.csv'"
            ],
            "application/vnd.google.colaboratory.intrinsic+json": {
              "type": "string"
            }
          },
          "metadata": {},
          "execution_count": 8
        }
      ]
    }
  ],
  "metadata": {
    "colab": {
      "provenance": [],
      "authorship_tag": "ABX9TyNpxg2HKshR6j6wlkSF5ToN",
      "include_colab_link": true
    },
    "kernelspec": {
      "display_name": "Python 3",
      "name": "python3"
    },
    "language_info": {
      "name": "python"
    }
  },
  "nbformat": 4,
  "nbformat_minor": 0
}