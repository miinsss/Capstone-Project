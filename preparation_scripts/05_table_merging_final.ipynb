{
 "cells": [
  {
   "cell_type": "markdown",
   "metadata": {},
   "source": [
    "# Merging tables"
   ]
  },
  {
   "cell_type": "markdown",
   "metadata": {},
   "source": [
    "## Packages"
   ]
  },
  {
   "cell_type": "code",
   "execution_count": 1,
   "metadata": {},
   "outputs": [],
   "source": [
    "import pandas as pd\n",
    "import numpy as np"
   ]
  },
  {
   "cell_type": "markdown",
   "metadata": {},
   "source": [
    "## Import data"
   ]
  },
  {
   "cell_type": "code",
   "execution_count": 6,
   "metadata": {},
   "outputs": [
    {
     "name": "stderr",
     "output_type": "stream",
     "text": [
      "C:\\Users\\franc\\AppData\\Local\\Temp\\ipykernel_18152\\2752683583.py:2: DtypeWarning: Columns (9) have mixed types. Specify dtype option on import or set low_memory=False.\n",
      "  contract = pd.read_csv(contractPath)\n"
     ]
    }
   ],
   "source": [
    "contractPath = 'all_data_cleaned.csv'\n",
    "contract = pd.read_csv(contractPath)"
   ]
  },
  {
   "cell_type": "code",
   "execution_count": 8,
   "metadata": {},
   "outputs": [
    {
     "name": "stderr",
     "output_type": "stream",
     "text": [
      "C:\\Users\\franc\\AppData\\Local\\Temp\\ipykernel_18152\\3551238721.py:2: DtypeWarning: Columns (11) have mixed types. Specify dtype option on import or set low_memory=False.\n",
      "  damage = pd.read_csv(damagePath)\n"
     ]
    }
   ],
   "source": [
    "damagePath = '../data/damage_clean.csv'\n",
    "damage = pd.read_csv(damagePath)"
   ]
  },
  {
   "cell_type": "markdown",
   "metadata": {},
   "source": [
    "## Compute pipe premium amount"
   ]
  },
  {
   "cell_type": "code",
   "execution_count": 9,
   "metadata": {},
   "outputs": [],
   "source": [
    "# Calculate NET_PREMIUM_AMOUNT as 60% of PREMIUM_AMOUNT\n",
    "contract['NET_PREMIUM_AMOUNT'] = contract['PREMIUM_AMOUNT'] * 0.6"
   ]
  },
  {
   "cell_type": "code",
   "execution_count": 10,
   "metadata": {},
   "outputs": [],
   "source": [
    "# Calculate PIPE_PREMIUM_AMOUNT based on CORPORATE_DEVISION\n",
    "# Map devision percentages\n",
    "devisionPercentages = {\n",
    "    'VGV': 0.43,\n",
    "    'VHV': 0.11,\n",
    "    'H&H': 0.07,\n",
    "    'W&W': 0.32\n",
    "}\n",
    "\n",
    "# Calculate PIPE_PREMIUM_AMOUNT\n",
    "contract['PIPE_PREMIUM_AMOUNT'] = contract['CORPORATE_DEVISION'].map(devisionPercentages) * contract['NET_PREMIUM_AMOUNT']"
   ]
  },
  {
   "cell_type": "code",
   "execution_count": 11,
   "metadata": {},
   "outputs": [],
   "source": [
    "# Drop columns we don't need\n",
    "contract = contract.drop(columns=['NET_PREMIUM_AMOUNT', 'PREMIUM_AMOUNT'])"
   ]
  },
  {
   "cell_type": "markdown",
   "metadata": {},
   "source": [
    "## Create damage variable"
   ]
  },
  {
   "cell_type": "code",
   "execution_count": 13,
   "metadata": {},
   "outputs": [],
   "source": [
    "# Create varaible in the damage table, always equal to 1\n",
    "damage['DAMAGE'] = 1"
   ]
  },
  {
   "cell_type": "code",
   "execution_count": 20,
   "metadata": {},
   "outputs": [
    {
     "name": "stderr",
     "output_type": "stream",
     "text": [
      "C:\\Users\\franc\\AppData\\Local\\Temp\\ipykernel_18152\\2302168266.py:2: UserWarning: The argument 'infer_datetime_format' is deprecated and will be removed in a future version. A strict version of it is now the default, see https://pandas.pydata.org/pdeps/0004-consistent-to-datetime-parsing.html. You can safely remove this argument.\n",
      "  damage['DAT_EREIGNIS'] = pd.to_datetime(damage['DAT_EREIGNIS'], errors='coerce', infer_datetime_format=True)\n",
      "C:\\Users\\franc\\AppData\\Local\\Temp\\ipykernel_18152\\2302168266.py:3: UserWarning: The argument 'infer_datetime_format' is deprecated and will be removed in a future version. A strict version of it is now the default, see https://pandas.pydata.org/pdeps/0004-consistent-to-datetime-parsing.html. You can safely remove this argument.\n",
      "  contract['contract_year'] = pd.to_datetime(contract['contract_year'], errors='coerce', infer_datetime_format=True)\n"
     ]
    }
   ],
   "source": [
    "# Convert dates to date format\n",
    "damage['DAT_EREIGNIS'] = pd.to_datetime(damage['DAT_EREIGNIS'], errors='coerce', infer_datetime_format=True)\n",
    "contract['contract_year'] = pd.to_datetime(contract['contract_year'], errors='coerce', infer_datetime_format=True)\n",
    "\n",
    "# Extract year from damage and contract data\n",
    "damage['YEAR'] = damage['DAT_EREIGNIS'].dt.year\n",
    "contract['YEAR'] = contract['contract_year'].dt.year"
   ]
  },
  {
   "cell_type": "code",
   "execution_count": 21,
   "metadata": {},
   "outputs": [],
   "source": [
    "# Add damage column to contract data\n",
    "contract = pd.merge(contract, damage[['DAMAGE', 'ANO_SID', 'YEAR']], left_on=['ANO_SID', 'YEAR'], right_on=['ANO_SID', 'YEAR'], how='left')\n",
    "\n",
    "# Replace NaNs in the 'damage' column with 0\n",
    "contract['DAMAGE'] = contract['DAMAGE'].fillna(0)\n",
    "\n",
    "# Convert the 'damage' column to int16\n",
    "contract['DAMAGE'] = contract['DAMAGE'].astype('int16')"
   ]
  },
  {
   "cell_type": "code",
   "execution_count": null,
   "metadata": {},
   "outputs": [],
   "source": [
    "# Save dataset to csv\n",
    "contract.to_csv('contract_classification.csv', index=False)"
   ]
  },
  {
   "cell_type": "code",
   "execution_count": null,
   "metadata": {},
   "outputs": [],
   "source": [
    "contr"
   ]
  }
 ],
 "metadata": {
  "kernelspec": {
   "display_name": "Python 3 (ipykernel)",
   "language": "python",
   "name": "python3"
  },
  "language_info": {
   "codemirror_mode": {
    "name": "ipython",
    "version": 3
   },
   "file_extension": ".py",
   "mimetype": "text/x-python",
   "name": "python",
   "nbconvert_exporter": "python",
   "pygments_lexer": "ipython3",
   "version": "3.12.3"
  }
 },
 "nbformat": 4,
 "nbformat_minor": 4
}
