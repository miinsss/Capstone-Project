{
  "nbformat": 4,
  "nbformat_minor": 0,
  "metadata": {
    "colab": {
      "provenance": [],
      "toc_visible": true,
      "authorship_tag": "ABX9TyMDhNHW3EljXjKI2Y+nsp9+",
      "include_colab_link": true
    },
    "kernelspec": {
      "name": "python3",
      "display_name": "Python 3"
    },
    "language_info": {
      "name": "python"
    }
  },
  "cells": [
    {
      "cell_type": "markdown",
      "metadata": {
        "id": "view-in-github",
        "colab_type": "text"
      },
      "source": [
        "<a href=\"https://colab.research.google.com/github/miinsss/Capstone-Project/blob/main/Feature_Importance.ipynb\" target=\"_parent\"><img src=\"https://colab.research.google.com/assets/colab-badge.svg\" alt=\"Open In Colab\"/></a>"
      ]
    },
    {
      "cell_type": "markdown",
      "source": [
        "## Libaries"
      ],
      "metadata": {
        "id": "D6bU5iM6J_2o"
      }
    },
    {
      "cell_type": "code",
      "source": [
        "import pandas as pd\n",
        "from sklearn.ensemble import RandomForestRegressor\n",
        "from sklearn.model_selection import train_test_split"
      ],
      "metadata": {
        "id": "ENHreirWKFF9"
      },
      "execution_count": 8,
      "outputs": []
    },
    {
      "cell_type": "markdown",
      "source": [
        "## Load the data"
      ],
      "metadata": {
        "id": "Sbf_dBkuKPCj"
      }
    },
    {
      "cell_type": "code",
      "source": [
        "from google.colab import drive\n",
        "drive.mount('/content/drive')\n",
        "\n",
        "# Load the contract_classification.csv file\n",
        "contract_class_path = '/content/drive/MyDrive/Colab Notebooks/Capstone_Data/Capstone/Data/contract_classification.csv'\n",
        "contract_class = pd.read_csv(contract_class_path)\n",
        "\n",
        "\n",
        "\n",
        "# Display the first few rows to verify content\n",
        "print(contract_class.head())"
      ],
      "metadata": {
        "colab": {
          "base_uri": "https://localhost:8080/"
        },
        "id": "LksDbqsQKVuC",
        "outputId": "3d65faa9-65c4-437d-ad0f-a5b3c9254846"
      },
      "execution_count": 2,
      "outputs": [
        {
          "output_type": "stream",
          "name": "stdout",
          "text": [
            "Drive already mounted at /content/drive; to attempt to forcibly remount, call drive.mount(\"/content/drive\", force_remount=True).\n"
          ]
        },
        {
          "output_type": "stream",
          "name": "stderr",
          "text": [
            "<ipython-input-2-0b00313732a5>:6: DtypeWarning: Columns (9) have mixed types. Specify dtype option on import or set low_memory=False.\n",
            "  contract_class = pd.read_csv(contract_class_path)\n"
          ]
        },
        {
          "output_type": "stream",
          "name": "stdout",
          "text": [
            "     ANO_SID CORPORATE_DEVISION   ORTPLZ  ORTS-NAME               STRASSE  \\\n",
            "0  4114028.0                VHV  42109.0  Wuppertal     Hans-Böckler-Str.   \n",
            "1  4114039.0                VHV  42277.0  Wuppertal       Liegnitzer Str.   \n",
            "2  4114045.0                VHV  42389.0  Wuppertal             Rascheweg   \n",
            "3  4114049.0                VGV  42277.0  Wuppertal               Am Diek   \n",
            "4  4114055.0                VHV  42553.0    Velbert  Emil-Schniewind-Str.   \n",
            "\n",
            "   SUM_INSURED CONSTRACTION_DESIGN  CONSTRUCTION_YEAR        WFL ZONE  ...  \\\n",
            "0      71081.0      NORMAL_VENTURE        1967.565648   69.00000  2.0  ...   \n",
            "1      55708.0      NORMAL_VENTURE        1967.565648   65.00000  4.0  ...   \n",
            "2      74148.0      DESIGN_CLASS_I        1967.565648   75.00000  1.0  ...   \n",
            "3     664000.0      NORMAL_VENTURE        1967.565648  106.24368  NaN  ...   \n",
            "4      75682.0      NORMAL_VENTURE        1967.565648  119.00000  2.0  ...   \n",
            "\n",
            "   DRAIN_PIPE_INSURED  PRODUCTLINE  PRIOR_DAMAGES UVV-KZ  UNDERWRITER  \\\n",
            "0                   0        Sonst              0      1            Y   \n",
            "1                   0        Basis              0      1            Y   \n",
            "2                   0        Sonst              0      1            Y   \n",
            "3                   0      Kompakt              0      1            Y   \n",
            "4                   0        Sonst              0      1            Y   \n",
            "\n",
            "               PARTY-ID contract_year PIPE_PREMIUM_AMOUNT  YEAR  DAMAGE  \n",
            "0  N00WXYAWXFD704PT4712    2014-01-01             4.55070  2014       0  \n",
            "1  YH8XZ8AWXFD704PT4713    2014-01-01             4.54080  2014       0  \n",
            "2  AIPAVQEWXFD704PT4713    2014-01-01             3.18120  2014       0  \n",
            "3  GG0UA4KWXFD704PT4715    2014-01-01           154.60908  2014       0  \n",
            "4  P6XU2FAWXFD704PT4712    2014-01-01             5.89380  2014       0  \n",
            "\n",
            "[5 rows x 22 columns]\n"
          ]
        }
      ]
    },
    {
      "cell_type": "code",
      "source": [
        "print(contract_class.info)"
      ],
      "metadata": {
        "colab": {
          "base_uri": "https://localhost:8080/"
        },
        "id": "db9Le9oFNOHz",
        "outputId": "26cdf209-b4f4-4234-ea38-9321e9f7f443"
      },
      "execution_count": 3,
      "outputs": [
        {
          "output_type": "stream",
          "name": "stdout",
          "text": [
            "<bound method DataFrame.info of               ANO_SID CORPORATE_DEVISION   ORTPLZ  ORTS-NAME  \\\n",
            "0           4114028.0                VHV  42109.0  Wuppertal   \n",
            "1           4114039.0                VHV  42277.0  Wuppertal   \n",
            "2           4114045.0                VHV  42389.0  Wuppertal   \n",
            "3           4114049.0                VGV  42277.0  Wuppertal   \n",
            "4           4114055.0                VHV  42553.0    Velbert   \n",
            "...               ...                ...      ...        ...   \n",
            "11574434  145240866.0                VGV  41844.0    Wegberg   \n",
            "11574435  145240867.0                VHV   4758.0    Oschatz   \n",
            "11574436  145240892.0                VHV  26316.0      Varel   \n",
            "11574437  145240908.0                VHV  53332.0   Bornheim   \n",
            "11574438  145240911.0                VHV  46397.0    Bocholt   \n",
            "\n",
            "                       STRASSE  SUM_INSURED CONSTRACTION_DESIGN  \\\n",
            "0            Hans-Böckler-Str.      71081.0      NORMAL_VENTURE   \n",
            "1              Liegnitzer Str.      55708.0      NORMAL_VENTURE   \n",
            "2                    Rascheweg      74148.0      DESIGN_CLASS_I   \n",
            "3                      Am Diek     664000.0      NORMAL_VENTURE   \n",
            "4         Emil-Schniewind-Str.      75682.0      NORMAL_VENTURE   \n",
            "...                        ...          ...                 ...   \n",
            "11574434     Zur Bischofsmühle     691375.7      NORMAL_VENTURE   \n",
            "11574435  Karl-Liebknecht-Str.      33135.0      NORMAL_VENTURE   \n",
            "11574436      Emil-Heeder-Str.     103545.0      NORMAL_VENTURE   \n",
            "11574437              Kalkstr.      28674.0      NORMAL_VENTURE   \n",
            "11574438      Krechtinger Str.       6903.0      NORMAL_VENTURE   \n",
            "\n",
            "          CONSTRUCTION_YEAR        WFL ZONE  ...  DRAIN_PIPE_INSURED  \\\n",
            "0               1967.565648   69.00000  2.0  ...                   0   \n",
            "1               1967.565648   65.00000  4.0  ...                   0   \n",
            "2               1967.565648   75.00000  1.0  ...                   0   \n",
            "3               1967.565648  106.24368  NaN  ...                   0   \n",
            "4               1967.565648  119.00000  2.0  ...                   0   \n",
            "...                     ...        ...  ...  ...                 ...   \n",
            "11574434        1962.000000  145.00000  3.0  ...                   0   \n",
            "11574435        1967.565648   48.00000  2.0  ...                   0   \n",
            "11574436        1967.565648  150.00000  4.0  ...                   0   \n",
            "11574437        1967.565648   48.00000  5.0  ...                   0   \n",
            "11574438        1967.565648   10.00000  5.0  ...                   0   \n",
            "\n",
            "          PRODUCTLINE  PRIOR_DAMAGES UVV-KZ  UNDERWRITER  \\\n",
            "0               Sonst              0      1            Y   \n",
            "1               Basis              0      1            Y   \n",
            "2               Sonst              0      1            Y   \n",
            "3             Kompakt              0      1            Y   \n",
            "4               Sonst              0      1            Y   \n",
            "...               ...            ...    ...          ...   \n",
            "11574434      Premium              0      1            Y   \n",
            "11574435        Sonst              0      1            Y   \n",
            "11574436        Sonst              0      1            Y   \n",
            "11574437        Sonst              0      0            Y   \n",
            "11574438        Sonst              0      1            Y   \n",
            "\n",
            "                      PARTY-ID contract_year PIPE_PREMIUM_AMOUNT  YEAR  DAMAGE  \n",
            "0         N00WXYAWXFD704PT4712    2014-01-01             4.55070  2014       0  \n",
            "1         YH8XZ8AWXFD704PT4713    2014-01-01             4.54080  2014       0  \n",
            "2         AIPAVQEWXFD704PT4713    2014-01-01             3.18120  2014       0  \n",
            "3         GG0UA4KWXFD704PT4715    2014-01-01           154.60908  2014       0  \n",
            "4         P6XU2FAWXFD704PT4712    2014-01-01             5.89380  2014       0  \n",
            "...                        ...           ...                 ...   ...     ...  \n",
            "11574434  IESAANNABCO101PATXXX    2024-01-01           169.39764  2024       0  \n",
            "11574435  2DSD3G2ECCO101PATXXX    2024-01-01             3.35346  2024       0  \n",
            "11574436  V31IZYGECCO101PATXXX    2024-01-01             9.06180  2024       0  \n",
            "11574437  M6HRF52SFBO101PATXXX    2024-01-01             3.02016  2024       0  \n",
            "11574438  8I3ISXJN5Y7704PT4711    2024-01-01             8.16486  2024       0  \n",
            "\n",
            "[11574439 rows x 22 columns]>\n"
          ]
        }
      ]
    },
    {
      "cell_type": "code",
      "source": [
        "print(contract_class['DAMAGE'].value_counts())"
      ],
      "metadata": {
        "colab": {
          "base_uri": "https://localhost:8080/"
        },
        "id": "VH3k-fugN17z",
        "outputId": "2d88a910-8b1e-4715-bc2a-aea3775297ac"
      },
      "execution_count": 4,
      "outputs": [
        {
          "output_type": "stream",
          "name": "stdout",
          "text": [
            "DAMAGE\n",
            "0    11389665\n",
            "1      184774\n",
            "Name: count, dtype: int64\n"
          ]
        }
      ]
    },
    {
      "cell_type": "markdown",
      "source": [
        "## Search for Important features"
      ],
      "metadata": {
        "id": "yoya1IqoQlP9"
      }
    },
    {
      "cell_type": "markdown",
      "source": [
        "# Preprocess the data"
      ],
      "metadata": {
        "id": "hKlJomDBmkF0"
      }
    },
    {
      "cell_type": "code",
      "source": [
        "#Choose variables where it makes logical sense\n",
        "#For now, leave out Ort, becuase it takes too long to encode to binary\n",
        "\n",
        "initial_features = contract_class.loc[:, ['CORPORATE_DEVISION',  'SUM_INSURED', 'CONSTRACTION_DESIGN','CONSTRUCTION_YEAR','WFL','ZONE','DRAIN_PIPE_INSURED','PRODUCTLINE', 'PRIOR_DAMAGES', 'UVV-KZ', 'UNDERWRITER','DAMAGE']]\n",
        "\n",
        "initial_features_clean = initial_features.dropna()\n",
        "\n",
        "print(initial_features.info())\n",
        "\n",
        "print(initial_features_clean.info())"
      ],
      "metadata": {
        "colab": {
          "base_uri": "https://localhost:8080/"
        },
        "id": "nWuhhszlQyyR",
        "outputId": "d5cdfa96-46be-439b-bc48-17fbeaff43a7"
      },
      "execution_count": 28,
      "outputs": [
        {
          "output_type": "stream",
          "name": "stdout",
          "text": [
            "<class 'pandas.core.frame.DataFrame'>\n",
            "RangeIndex: 11574439 entries, 0 to 11574438\n",
            "Data columns (total 12 columns):\n",
            " #   Column               Dtype  \n",
            "---  ------               -----  \n",
            " 0   CORPORATE_DEVISION   object \n",
            " 1   SUM_INSURED          float64\n",
            " 2   CONSTRACTION_DESIGN  object \n",
            " 3   CONSTRUCTION_YEAR    float64\n",
            " 4   WFL                  float64\n",
            " 5   ZONE                 object \n",
            " 6   DRAIN_PIPE_INSURED   int64  \n",
            " 7   PRODUCTLINE          object \n",
            " 8   PRIOR_DAMAGES        int64  \n",
            " 9   UVV-KZ               int64  \n",
            " 10  UNDERWRITER          object \n",
            " 11  DAMAGE               int64  \n",
            "dtypes: float64(3), int64(4), object(5)\n",
            "memory usage: 1.0+ GB\n",
            "None\n",
            "<class 'pandas.core.frame.DataFrame'>\n",
            "Index: 8718680 entries, 0 to 11574438\n",
            "Data columns (total 12 columns):\n",
            " #   Column               Dtype  \n",
            "---  ------               -----  \n",
            " 0   CORPORATE_DEVISION   object \n",
            " 1   SUM_INSURED          float64\n",
            " 2   CONSTRACTION_DESIGN  object \n",
            " 3   CONSTRUCTION_YEAR    float64\n",
            " 4   WFL                  float64\n",
            " 5   ZONE                 object \n",
            " 6   DRAIN_PIPE_INSURED   int64  \n",
            " 7   PRODUCTLINE          object \n",
            " 8   PRIOR_DAMAGES        int64  \n",
            " 9   UVV-KZ               int64  \n",
            " 10  UNDERWRITER          object \n",
            " 11  DAMAGE               int64  \n",
            "dtypes: float64(3), int64(4), object(5)\n",
            "memory usage: 864.7+ MB\n",
            "None\n"
          ]
        }
      ]
    },
    {
      "cell_type": "code",
      "source": [
        "# Choose columns to encode to binary variables\n",
        "\n",
        "columns_to_encode = ['CORPORATE_DEVISION','CONSTRACTION_DESIGN', 'PRODUCTLINE', 'UNDERWRITER', 'ZONE']\n",
        "\n",
        "# Create Binary Variables\n",
        "features_binary = pd.get_dummies(initial_features_clean, columns=columns_to_encode, drop_first=True)\n",
        "\n",
        "print(features_binary.head())"
      ],
      "metadata": {
        "colab": {
          "base_uri": "https://localhost:8080/"
        },
        "id": "2fTOzfKS3VKM",
        "outputId": "d1984f9d-ff63-4cd0-b717-a4ff736b6785"
      },
      "execution_count": 29,
      "outputs": [
        {
          "output_type": "stream",
          "name": "stdout",
          "text": [
            "   SUM_INSURED  CONSTRUCTION_YEAR    WFL  DRAIN_PIPE_INSURED  PRIOR_DAMAGES  \\\n",
            "0      71081.0        1967.565648   69.0                   0              0   \n",
            "1      55708.0        1967.565648   65.0                   0              0   \n",
            "2      74148.0        1967.565648   75.0                   0              0   \n",
            "4      75682.0        1967.565648  119.0                   0              0   \n",
            "5      70000.0        1967.565648  100.0                   0              0   \n",
            "\n",
            "   UVV-KZ  DAMAGE  CORPORATE_DEVISION_VHV  \\\n",
            "0       1       0                    True   \n",
            "1       1       0                    True   \n",
            "2       1       0                    True   \n",
            "4       1       0                    True   \n",
            "5       1       0                    True   \n",
            "\n",
            "   CONSTRACTION_DESIGN_CARAVAN_MOTORHOME  CONSTRACTION_DESIGN_DESIGN_CLASS_I  \\\n",
            "0                                  False                               False   \n",
            "1                                  False                               False   \n",
            "2                                  False                                True   \n",
            "4                                  False                               False   \n",
            "5                                  False                               False   \n",
            "\n",
            "   ...  ZONE_4  ZONE_4.0  ZONE_5  ZONE_5.0  ZONE_6  ZONE_6.0  ZONE_7  \\\n",
            "0  ...   False     False   False     False   False     False   False   \n",
            "1  ...   False     False   False     False   False     False   False   \n",
            "2  ...   False     False   False     False   False     False   False   \n",
            "4  ...   False     False   False     False   False     False   False   \n",
            "5  ...   False     False   False     False   False     False   False   \n",
            "\n",
            "   ZONE_7.0  ZONE_8  ZONE_8.0  \n",
            "0     False   False     False  \n",
            "1     False   False     False  \n",
            "2     False   False     False  \n",
            "4     False   False     False  \n",
            "5     False   False     False  \n",
            "\n",
            "[5 rows x 50 columns]\n"
          ]
        }
      ]
    },
    {
      "cell_type": "markdown",
      "source": [
        "# Find feature Importance"
      ],
      "metadata": {
        "id": "dmwwN1Fk9-mx"
      }
    },
    {
      "cell_type": "code",
      "source": [
        "# Define feature and target\n",
        "\n",
        "X = features_binary.drop(columns=['DAMAGE'])\n",
        "y = features_binary['DAMAGE']\n",
        "\n",
        "# Split into test and training\n",
        "\n",
        "X_train, X_test, y_train, y_test = train_test_split(X, y, test_size=0.2, random_state=42)"
      ],
      "metadata": {
        "id": "g2tRFkvL99hn"
      },
      "execution_count": 30,
      "outputs": []
    },
    {
      "cell_type": "code",
      "source": [
        "#initialize Random Forrest\n",
        "rf_regressor = RandomForestRegressor(n_estimators=10, random_state=42)\n",
        "\n",
        "# Train model\n",
        "rf_regressor.fit(X_train, y_train)\n",
        "\n",
        "# Feature-importnace analysis\n",
        "feature_importance = rf_regressor.feature_importances_\n",
        "\n",
        "# Display results\n",
        "print(\"Feature Importance:\")\n",
        "for i, feature in enumerate(X_train.columns):\n",
        "    print(f\"{feature}: {feature_importance[i]}\")"
      ],
      "metadata": {
        "colab": {
          "base_uri": "https://localhost:8080/"
        },
        "id": "EJMfXDqqAZOZ",
        "outputId": "e6046dca-fa91-4f3f-c1b6-a74a88e21c2b"
      },
      "execution_count": 32,
      "outputs": [
        {
          "output_type": "stream",
          "name": "stdout",
          "text": [
            "Feature Importance:\n",
            "SUM_INSURED: 0.661095075202173\n",
            "CONSTRUCTION_YEAR: 0.16712853767188202\n",
            "WFL: 0.05114504662127624\n",
            "DRAIN_PIPE_INSURED: 0.0\n",
            "PRIOR_DAMAGES: 0.0063496037693985385\n",
            "UVV-KZ: 0.0016713517086635594\n",
            "CORPORATE_DEVISION_VHV: 0.007194369093985355\n",
            "CONSTRACTION_DESIGN_CARAVAN_MOTORHOME: 1.9280094501918083e-08\n",
            "CONSTRACTION_DESIGN_DESIGN_CLASS_I: 0.00015042762011887562\n",
            "CONSTRACTION_DESIGN_DESIGN_CLASS_II: 3.1008090649461246e-08\n",
            "CONSTRACTION_DESIGN_DESIGN_CLASS_III: 9.856311188090109e-07\n",
            "CONSTRACTION_DESIGN_DESIGN_CLASS_IV: 0.0\n",
            "CONSTRACTION_DESIGN_DESIGN_CLASS_V: 1.5884843025679944e-08\n",
            "CONSTRACTION_DESIGN_NORMAL_VENTURE: 0.0017898293019200015\n",
            "CONSTRACTION_DESIGN_PREDOMINANTLY_WOODEN_ROOF: 4.220582809231791e-05\n",
            "CONSTRACTION_DESIGN_PREFAB_HOUSE: 0.0015594915781360669\n",
            "CONSTRACTION_DESIGN_PREFAB_HOUSE_I: 0.0\n",
            "PRODUCTLINE_Kompakt: 0.01111716069676955\n",
            "PRODUCTLINE_Plus: 0.006903883398996428\n",
            "PRODUCTLINE_Premium: 0.005880452252091618\n",
            "PRODUCTLINE_Sonst: 0.0013613094977586223\n",
            "PRODUCTLINE_Top: 0.015967468473291144\n",
            "UNDERWRITER_Y: 0.003930299038322217\n",
            "ZONE_1.0: 0.0012798313399043407\n",
            "ZONE_2.0: 0.005743194665573225\n",
            "ZONE_3.0: 0.007586072551408638\n",
            "ZONE_4.0: 0.003669896078151389\n",
            "ZONE_5.0: 0.00045382304012368607\n",
            "ZONE_6.0: 3.5866836131937374e-05\n",
            "ZONE_7.0: 3.3654581269349805e-05\n",
            "ZONE_8.0: 1.2963788698633881e-05\n",
            "ZONE_0: 0.002150617865799376\n",
            "ZONE_0.0: 0.0001387520783617964\n",
            "ZONE_1: 0.003308981945575805\n",
            "ZONE_1.0: 0.00030052818000017014\n",
            "ZONE_2: 0.012009800056202042\n",
            "ZONE_2.0: 0.0011071055605200997\n",
            "ZONE_3: 0.0113612252573839\n",
            "ZONE_3.0: 0.0019517611117541942\n",
            "ZONE_4: 0.004117338759655443\n",
            "ZONE_4.0: 0.0011662780253563544\n",
            "ZONE_5: 1.5168825385952095e-05\n",
            "ZONE_5.0: 5.271393752336235e-05\n",
            "ZONE_6: 0.00010247909775115874\n",
            "ZONE_6.0: 1.8681474477413108e-06\n",
            "ZONE_7: 7.729364305498953e-05\n",
            "ZONE_7.0: 5.339580150878451e-06\n",
            "ZONE_8: 2.988148979303809e-05\n",
            "ZONE_8.0: 0.0\n"
          ]
        }
      ]
    }
  ]
}