{
 "cells": [
  {
   "cell_type": "markdown",
   "id": "7e1688dd",
   "metadata": {
    "colab_type": "text",
    "id": "view-in-github"
   },
   "source": [
    "<a href=\"https://colab.research.google.com/github/miinsss/Capstone-Project/blob/main/02_data_cleaning.ipynb\" target=\"_parent\"><img src=\"https://colab.research.google.com/assets/colab-badge.svg\" alt=\"Open In Colab\"/></a>"
   ]
  },
  {
   "cell_type": "markdown",
   "id": "caa1ce38-2e21-4246-b7f4-42d9cba81c50",
   "metadata": {
    "id": "caa1ce38-2e21-4246-b7f4-42d9cba81c50"
   },
   "source": [
    "# finalTable\n",
    "## Table of Content\n",
    "\n",
    "1. [Import packages](#packages)\n",
    "2. [Import data](#data)\n",
    "3. [Data Cleaning](#cleaning)\n",
    "    1. [Cleaning damage data](#damage)\n",
    "    2. [Cleaning contract data](#contract)\n",
    "4. [Joining Damage and Contract](#join)\n",
    "5. [Risk Score Definition](#riskscore)"
   ]
  },
  {
   "cell_type": "markdown",
   "id": "93f73ebb-68cf-4cc7-aa76-d7ad924699b6",
   "metadata": {
    "id": "93f73ebb-68cf-4cc7-aa76-d7ad924699b6"
   },
   "source": [
    "## Import packages <a id=\"packages\"></a>"
   ]
  },
  {
   "cell_type": "code",
   "execution_count": 1,
   "id": "3a989c96-bd66-407b-8de8-f920b497f974",
   "metadata": {
    "colab": {
     "base_uri": "https://localhost:8080/"
    },
    "id": "3a989c96-bd66-407b-8de8-f920b497f974",
    "outputId": "dcdb5b32-a5e5-4fb0-afac-52dd90026afc"
   },
   "outputs": [
    {
     "name": "stdout",
     "output_type": "stream",
     "text": [
      "Requirement already satisfied: pandas in c:\\users\\franc\\appdata\\local\\programs\\python\\python312\\lib\\site-packages (2.2.2)\n",
      "Requirement already satisfied: openpyxl in c:\\users\\franc\\appdata\\local\\programs\\python\\python312\\lib\\site-packages (3.1.2)\n",
      "Requirement already satisfied: numpy>=1.26.0 in c:\\users\\franc\\appdata\\local\\programs\\python\\python312\\lib\\site-packages (from pandas) (1.26.4)\n",
      "Requirement already satisfied: python-dateutil>=2.8.2 in c:\\users\\franc\\appdata\\roaming\\python\\python312\\site-packages (from pandas) (2.9.0.post0)\n",
      "Requirement already satisfied: pytz>=2020.1 in c:\\users\\franc\\appdata\\local\\programs\\python\\python312\\lib\\site-packages (from pandas) (2024.1)\n",
      "Requirement already satisfied: tzdata>=2022.7 in c:\\users\\franc\\appdata\\local\\programs\\python\\python312\\lib\\site-packages (from pandas) (2024.1)\n",
      "Requirement already satisfied: et-xmlfile in c:\\users\\franc\\appdata\\local\\programs\\python\\python312\\lib\\site-packages (from openpyxl) (1.1.0)\n",
      "Requirement already satisfied: six>=1.5 in c:\\users\\franc\\appdata\\roaming\\python\\python312\\site-packages (from python-dateutil>=2.8.2->pandas) (1.16.0)\n",
      "Requirement already satisfied: numpy in c:\\users\\franc\\appdata\\local\\programs\\python\\python312\\lib\\site-packages (1.26.4)\n",
      "Requirement already satisfied: plotly in c:\\users\\franc\\appdata\\local\\programs\\python\\python312\\lib\\site-packages (5.22.0)\n",
      "Requirement already satisfied: tenacity>=6.2.0 in c:\\users\\franc\\appdata\\local\\programs\\python\\python312\\lib\\site-packages (from plotly) (8.3.0)\n",
      "Requirement already satisfied: packaging in c:\\users\\franc\\appdata\\roaming\\python\\python312\\site-packages (from plotly) (24.0)\n"
     ]
    }
   ],
   "source": [
    "# Install necessary libraries\n",
    "!pip install pandas openpyxl\n",
    "!pip install numpy\n",
    "!pip install plotly"
   ]
  },
  {
   "cell_type": "code",
   "execution_count": 1,
   "id": "6c84932f-1c9a-4ac3-8bbd-6c4e7d5a60b4",
   "metadata": {
    "id": "6c84932f-1c9a-4ac3-8bbd-6c4e7d5a60b4"
   },
   "outputs": [],
   "source": [
    "# Import libraries\n",
    "import pandas as pd\n",
    "import numpy as np\n",
    "import plotly.express as px\n",
    "import warnings\n",
    "# from google.colab import drive"
   ]
  },
  {
   "cell_type": "code",
   "execution_count": 2,
   "id": "3e443be7-05e7-49f2-83f5-dd9ff0c4a0d8",
   "metadata": {
    "id": "3e443be7-05e7-49f2-83f5-dd9ff0c4a0d8"
   },
   "outputs": [],
   "source": [
    "# Ignore warnings\n",
    "warnings.filterwarnings('ignore')"
   ]
  },
  {
   "cell_type": "markdown",
   "id": "623a1616-8183-4b0b-a2e4-72640d4e3184",
   "metadata": {
    "id": "623a1616-8183-4b0b-a2e4-72640d4e3184"
   },
   "source": [
    "## Import data <a id=\"data\"></a>"
   ]
  },
  {
   "cell_type": "code",
   "execution_count": 4,
   "id": "_tKp70YZC7bh",
   "metadata": {
    "colab": {
     "base_uri": "https://localhost:8080/"
    },
    "id": "_tKp70YZC7bh",
    "outputId": "92175d57-de5c-4121-dc23-366609e9fdb5"
   },
   "outputs": [
    {
     "name": "stdout",
     "output_type": "stream",
     "text": [
      "Mounted at /content/drive\n"
     ]
    }
   ],
   "source": [
    "# Mount Google Drive\n",
    "drive.mount('/content/drive', force_remount=True)"
   ]
  },
  {
   "cell_type": "code",
   "execution_count": 5,
   "id": "03398ef8",
   "metadata": {
    "id": "03398ef8"
   },
   "outputs": [],
   "source": [
    "# Define paths to the CSV files\n",
    "contractPath = '/content/drive/My Drive/Capstone/Data/combined_contracts.csv'\n",
    "damagePath = '/content/drive/My Drive/Capstone/Data/damages.csv'"
   ]
  },
  {
   "cell_type": "code",
   "execution_count": 7,
   "id": "yMp3w5giZGwT",
   "metadata": {
    "id": "yMp3w5giZGwT"
   },
   "outputs": [],
   "source": [
    "# Load the CSV files into DataFrames in chunks\n",
    "chunk_size = 10000  # Adjust based on your memory limitations\n",
    "\n",
    "contract_chunks = pd.read_csv(contractPath, chunksize=chunk_size)\n",
    "contract_all = pd.concat(contract_chunks)\n",
    "\n",
    "damage_chunks = pd.read_csv(damagePath, chunksize=chunk_size)\n",
    "damage = pd.concat(damage_chunks)"
   ]
  },
  {
   "cell_type": "code",
   "execution_count": 35,
   "id": "1f48d9f0-ce37-4dce-aead-867d2fb87d6a",
   "metadata": {},
   "outputs": [],
   "source": [
    "# Import data form local machine\n",
    "damagePath = '../../data/damage.csv'\n",
    "damage = pd.read_csv(damagePath)\n",
    "\n",
    "contractPath = '../../data/combined_contracts.csv'\n",
    "contract_all = pd.read_csv(contractPath)"
   ]
  },
  {
   "cell_type": "code",
   "execution_count": 36,
   "id": "06c75c72",
   "metadata": {},
   "outputs": [
    {
     "name": "stdout",
     "output_type": "stream",
     "text": [
      "11534325\n",
      "425738\n"
     ]
    }
   ],
   "source": [
    "print(len(contract_all))\n",
    "print(len(damage))"
   ]
  },
  {
   "cell_type": "code",
   "execution_count": 37,
   "id": "7e6baa25",
   "metadata": {},
   "outputs": [
    {
     "name": "stdout",
     "output_type": "stream",
     "text": [
      "Number of unique values:\n"
     ]
    },
    {
     "data": {
      "text/plain": [
       "ANO_SID                         1683447\n",
       "CORPORATE_DEVISION                    4\n",
       "ORTPLZ                            18231\n",
       "ORTS-NAME                         15910\n",
       "STRASSE                          222182\n",
       "SUM_INSURED                      512709\n",
       "CONSTRACTION_DESIGN                  13\n",
       "CONSTRUCTION_YEAR                   556\n",
       "BASEMENT                              2\n",
       "BUILDING_TYPE                        11\n",
       "WFL                                 943\n",
       "ZONE                                 23\n",
       "SF-SYSTEM                             5\n",
       "TYPE_OF_DEDUCTIBLE                    5\n",
       "Selbstbeteiligung in Prozent         12\n",
       "SBMIN                               105\n",
       "DEDUCTIBLE_MAX                      106\n",
       "DRAIN_PIPE_INSURED                    1\n",
       "PRODUCTLINE                           6\n",
       "INVENTORY_MANAGEMENT_SYSTEM           2\n",
       "KEYDATE                              11\n",
       "PRIOR_DAMAGES                        10\n",
       "RISK_NATION                           1\n",
       "UVV-KZ                                2\n",
       "SFR-JAHRE                            33\n",
       "UNDERWRITER                           2\n",
       "PARTY-ID                        1522002\n",
       "PREMIUM_AMOUNT                   283038\n",
       "contract_year                        11\n",
       "dtype: int64"
      ]
     },
     "execution_count": 37,
     "metadata": {},
     "output_type": "execute_result"
    }
   ],
   "source": [
    "print('Number of unique values:')\n",
    "contract_all.nunique()"
   ]
  },
  {
   "cell_type": "code",
   "execution_count": 39,
   "id": "548d0596",
   "metadata": {},
   "outputs": [
    {
     "name": "stdout",
     "output_type": "stream",
     "text": [
      "Number of observations per unique value:\n",
      "CORPORATE_DEVISION\n",
      "VHV    7071068\n",
      "VGV    3195545\n",
      "W&W     678568\n",
      "H&H     589144\n",
      "Name: count, dtype: int64\n",
      "TYPE_OF_DEDUCTIBLE\n",
      "0    11503419\n",
      "3       25203\n",
      "4        3584\n",
      "5        2111\n",
      "2           8\n",
      "Name: count, dtype: int64\n"
     ]
    }
   ],
   "source": [
    "print('Number of observations per unique value:')\n",
    "print(contract_all['CORPORATE_DEVISION'].value_counts())\n",
    "print(contract_all['TYPE_OF_DEDUCTIBLE'].value_counts())"
   ]
  },
  {
   "cell_type": "markdown",
   "id": "41603d1a-dc30-4c70-a755-e7ab5bdf3476",
   "metadata": {
    "id": "41603d1a-dc30-4c70-a755-e7ab5bdf3476"
   },
   "source": [
    "# Data Cleaning <a id=\"cleaning\"></a>"
   ]
  },
  {
   "cell_type": "markdown",
   "id": "bf013413-1adc-427d-8056-ae39c7f191a2",
   "metadata": {
    "id": "bf013413-1adc-427d-8056-ae39c7f191a2"
   },
   "source": [
    "## Cleaning damage data <a id=\"damage\"></a>"
   ]
  },
  {
   "cell_type": "markdown",
   "id": "eaff7732-4023-4c01-9ad8-361b063c3ad9",
   "metadata": {
    "id": "eaff7732-4023-4c01-9ad8-361b063c3ad9"
   },
   "source": [
    "Drop these variables:\n",
    "- The vast majority of data in ADDRESS_TYPE, DAMAGE_REPORTER, DATE_COMPLETION_DATE and CUMULEVENT are missing.\n",
    "- Exclude variables with only one (or very few/not relevant) category: 'DEPARTMENT_SEGMENT', 'DEPARTMENT_RESPONSIBLE', 'DEPARTMENT_CUSTOMER_SEGMENT', 'BUSINESS_TYPE_MARK', 'DAMAGE_BRANCH_DESIGNMENT', 'DAMAGE_BRANCH', 'SVCLUSTER', ‘BUSINESS_MARK’\n",
    "- Not relevant: 'PARTY_ID', 'RESTORATION_CANDIDAT'"
   ]
  },
  {
   "cell_type": "code",
   "execution_count": 12,
   "id": "PRLFdtxNZQZ5",
   "metadata": {
    "id": "PRLFdtxNZQZ5"
   },
   "outputs": [],
   "source": [
    "# Drop columns\n",
    "columnsToDrop = [\n",
    "    'ABTEILG_LVL01_SEGMENT', 'ABTEILG_LVL02_VERANTWORTUNG', 'ABTEILG_LVL03_KD_SEGMENT', 'GESCHAEFTSTYP_KZ', 'GESCHAEFTS_KZ',\n",
    "    'DAMAGE_TRAIT_DESIGNMENT', 'DAMAGE_TYPE', 'VER_SVCLUSTER_KZ', 'ADDRESS_TYPE', 'AGT_SCHADENMELDER', 'DAT_ERLFDAT_ERLEDIGUNG_FORD',\n",
    "    'PARTY_ID', 'CUMULEVENT', 'SANIERUNGSKANDIDAT_KZ']\n",
    "\n",
    "damage = damage.drop(columns=columnsToDrop, errors='ignore')"
   ]
  },
  {
   "cell_type": "code",
   "execution_count": 14,
   "id": "k0ASgiaSdq2N",
   "metadata": {
    "colab": {
     "base_uri": "https://localhost:8080/"
    },
    "id": "k0ASgiaSdq2N",
    "outputId": "f13fcc2c-f136-478b-88e6-962ba942da68"
   },
   "outputs": [],
   "source": [
    "# Convert dates to date format\n",
    "damage['DAT_EREIGNIS'] = pd.to_datetime(damage['DAT_EREIGNIS'], errors='coerce', infer_datetime_format=True)\n",
    "damage['DAT_ANL_ERSTRESERVIERUNG'] = pd.to_datetime(damage['DAT_ANL_ERSTRESERVIERUNG'], errors='coerce', infer_datetime_format=True, dayfirst=True)\n",
    "\n",
    "# Convert 'TOTAL_DAMAGE' to float\n",
    "damage['TOTAL_DAMAGE'] = damage['TOTAL_DAMAGE'].replace('UNDEFINED', np.nan).astype('float64')\n",
    "\n",
    "# Convert ids to object\n",
    "damage['GESCHAEFTS_FELD_ID'] = damage['GESCHAEFTS_FELD_ID'].astype('object')\n",
    "damage['ANO_SID'] = damage['ANO_SID'].astype('object')\n",
    "damage['SCH_MERKMAL_KZ'] = damage['SCH_MERKMAL_KZ'].astype('object')\n",
    "damage['SCH_URSACHE_KZ'] = damage['SCH_URSACHE_KZ'].astype('object')\n",
    "damage['DAMAGE_CLUSTER_ID'] = damage['DAMAGE_CLUSTER_ID'].astype('object')\n",
    "damage['VER_STATNR'] = damage['VER_STATNR'].astype('object')"
   ]
  },
  {
   "cell_type": "code",
   "execution_count": 17,
   "id": "-GKCDeHZeIHB",
   "metadata": {
    "colab": {
     "base_uri": "https://localhost:8080/"
    },
    "id": "-GKCDeHZeIHB",
    "outputId": "24c64626-e097-48ee-a450-63fd217256cc"
   },
   "outputs": [
    {
     "data": {
      "text/plain": [
       "323252"
      ]
     },
     "execution_count": 17,
     "metadata": {},
     "output_type": "execute_result"
    }
   ],
   "source": [
    "# Drop observations outside of Germany\n",
    "damage = damage[damage['SCHADEN_LKZ'] == 'D']\n",
    "\n",
    "# Drop column 'SCHADEN_LKZ'\n",
    "damage = damage.drop(columns=['SCHADEN_LKZ'], errors='ignore')\n",
    "\n",
    "# Display the length of the DataFrame\n",
    "len(damage)"
   ]
  },
  {
   "cell_type": "code",
   "execution_count": 18,
   "id": "WBB7A-eoeWnO",
   "metadata": {
    "colab": {
     "base_uri": "https://localhost:8080/"
    },
    "id": "WBB7A-eoeWnO",
    "outputId": "33c47a22-f74c-4a61-c32f-2948fc6e0ef4"
   },
   "outputs": [
    {
     "data": {
      "text/plain": [
       "261285"
      ]
     },
     "execution_count": 18,
     "metadata": {},
     "output_type": "execute_result"
    }
   ],
   "source": [
    "# Drop observations before 2014\n",
    "damage = damage[damage['DAT_EREIGNIS'].dt.year >= 2014]\n",
    "damage = damage[damage['DAT_ANL_ERSTRESERVIERUNG'].dt.year >= 2014]\n",
    "\n",
    "# Display the length of the DataFrame\n",
    "len(damage)"
   ]
  },
  {
   "cell_type": "markdown",
   "id": "513b601c-be0d-4244-ad09-9caa5b8b251c",
   "metadata": {
    "id": "513b601c-be0d-4244-ad09-9caa5b8b251c"
   },
   "source": [
    "Drop negative values from financial variables:"
   ]
  },
  {
   "cell_type": "code",
   "execution_count": 20,
   "id": "0OqAACZ5ejE6",
   "metadata": {
    "colab": {
     "base_uri": "https://localhost:8080/"
    },
    "id": "0OqAACZ5ejE6",
    "outputId": "538ed837-2750-4612-fdba-738b71e60589"
   },
   "outputs": [
    {
     "name": "stdout",
     "output_type": "stream",
     "text": [
      "{'EXPENSE': 90, 'INITIAL_RESERVATION': 0, 'TOTAL_DAMAGE': 0, 'RESIDUAL_AMOUNT': 348, 'PAYOUT': 93}\n",
      "205997\n"
     ]
    }
   ],
   "source": [
    "# Check number of negative values in financial columns\n",
    "financialColumns = ['EXPENSE', 'INITIAL_RESERVATION', 'TOTAL_DAMAGE', 'RESIDUAL_AMOUNT', 'PAYOUT']\n",
    "\n",
    "# Convert financial columns to numeric values\n",
    "for column in financialColumns:\n",
    "    damage[column] = pd.to_numeric(damage[column], errors='coerce')\n",
    "\n",
    "# Create a dictionary\n",
    "negativeCounts = {}\n",
    "\n",
    "# Count negative values in each column\n",
    "for column in financialColumns:\n",
    "    negativeCounts[column] = (damage[column] < 0).sum()\n",
    "\n",
    "print(negativeCounts)\n",
    "\n",
    "# Drop rows with negative values in financial columns\n",
    "for column in financialColumns:\n",
    "    damage = damage[damage[column] >= 0]\n",
    "\n",
    "# Display the length of the DataFrame after dropping negative values\n",
    "print(len(damage))\n"
   ]
  },
  {
   "cell_type": "code",
   "execution_count": 22,
   "id": "Myhqe66Ae7MZ",
   "metadata": {
    "colab": {
     "base_uri": "https://localhost:8080/"
    },
    "id": "Myhqe66Ae7MZ",
    "outputId": "85571fd3-f26e-44b9-a9a3-6eaaf16dc834"
   },
   "outputs": [
    {
     "name": "stdout",
     "output_type": "stream",
     "text": [
      "205997\n"
     ]
    }
   ],
   "source": [
    "# Define the financial columns\n",
    "financialColumns = ['EXPENSE', 'INITIAL_RESERVATION', 'TOTAL_DAMAGE', 'RESIDUAL_AMOUNT', 'PAYOUT']\n",
    "\n",
    "# Create a mask that is True for rows where all financial columns are >= 0 or NaN\n",
    "mask = (damage[financialColumns] >= 0) | damage[financialColumns].isna()\n",
    "\n",
    "# Use .all(axis=1) to ensure that we only drop rows where all conditions are False (i.e., where all are negative)\n",
    "damage = damage[mask.all(axis=1)]\n",
    "\n",
    "# Display the length of the DataFrame after applying the mask\n",
    "print(len(damage))"
   ]
  },
  {
   "cell_type": "code",
   "execution_count": 24,
   "id": "MDt1_1ddfG_N",
   "metadata": {
    "colab": {
     "base_uri": "https://localhost:8080/"
    },
    "id": "MDt1_1ddfG_N",
    "outputId": "cf31d3cf-c1af-46a1-c443-1fcdc12011ed"
   },
   "outputs": [],
   "source": [
    "# Convert zip codes starting with 'W' or 'O', or those not 5 characters long to NaN\n",
    "damage.loc[damage['DAMAGE_EVENT_ZIP_CODE'].str.startswith(('W', 'O')) |\n",
    "           (damage['DAMAGE_EVENT_ZIP_CODE'].str.len() != 5), 'DAMAGE_EVENT_ZIP_CODE'] = np.nan"
   ]
  },
  {
   "cell_type": "code",
   "execution_count": 26,
   "id": "i8S69dD_fWT3",
   "metadata": {
    "colab": {
     "base_uri": "https://localhost:8080/"
    },
    "id": "i8S69dD_fWT3",
    "outputId": "b30b8af2-8b53-47ea-952b-eeb611cc7c4a"
   },
   "outputs": [],
   "source": [
    "# Replace \"Quartalsabrechnung\" or \"Monatsabrechnung\" with NaN\n",
    "damage['DAMAGE_EVENT_STREET'] = damage['DAMAGE_EVENT_STREET'].replace(['Quartalsabrechnung', 'Monatsabrechnung'], np.nan)"
   ]
  },
  {
   "cell_type": "code",
   "execution_count": 13,
   "id": "845426f3-0715-46cb-b47c-ff8eaf57f266",
   "metadata": {},
   "outputs": [],
   "source": [
    "# Save dataset to csv\n",
    "damage.to_csv('../../data/damage_clean.csv', index=False)"
   ]
  },
  {
   "cell_type": "code",
   "execution_count": 14,
   "id": "f5e8ceac",
   "metadata": {
    "id": "f5e8ceac"
   },
   "outputs": [],
   "source": [
    "# Exclude rows where EXPENSE, PAYOUT, and RESIDUAL_AMOUNT are all zero\n",
    "# damage = damage[(damage['EXPENSE'] != 0) | (damage['PAYOUT'] != 0) | (damage['RESIDUAL_AMOUNT'] != 0)]\n",
    "# print(len(damage))"
   ]
  },
  {
   "cell_type": "markdown",
   "id": "15382263-9578-40ae-acde-3602f848861e",
   "metadata": {
    "id": "15382263-9578-40ae-acde-3602f848861e"
   },
   "source": [
    "## Cleaning contract data <a id=\"contract\"></a>"
   ]
  },
  {
   "cell_type": "markdown",
   "id": "aa4bebc0-eb44-4a9f-a914-85131b0cb132",
   "metadata": {
    "id": "aa4bebc0-eb44-4a9f-a914-85131b0cb132"
   },
   "source": [
    "Drop these variables:\n",
    "- The majority of data is missing for the variables BASEMENT, BUILDING_TYPE, NO_CLAIMS_SCALE, NO_CLAIMS_YEARS.\n",
    "- Not relevant for our analysis: 'TYPE_OF_DEDUCTIBLE', 'DEDUCTIBLE_PERCENTAGE', 'DEDUCTIBLE_MIN', 'DEDUCTIBLE_MAX', 'INVENTORY_MANAGEMENT_SYSTEM', 'PARTY-ID', 'RISK_NATION', 'Day', 'Month'"
   ]
  },
  {
   "cell_type": "code",
   "execution_count": 40,
   "id": "9YWsrfLRfopK",
   "metadata": {
    "colab": {
     "base_uri": "https://localhost:8080/"
    },
    "id": "9YWsrfLRfopK",
    "outputId": "40faa0ab-11de-4b7d-9830-2ec6155b430c"
   },
   "outputs": [],
   "source": [
    "# Define the columns to drop with updated variable names\n",
    "columnsToDrop = [\n",
    "    'Selbstbeteiligung in Prozent', 'SBMIN', 'DEDUCTIBLE_MAX', 'INVENTORY_MANAGEMENT_SYSTEM',\n",
    "    'BASEMENT', 'BUILDING_TYPE', 'NO_CLAIMS_SCALE', 'SFR-JAHRE', 'RISK_NATION', 'PARTY_ID', 'KEYDATE'\n",
    "]\n",
    "\n",
    "# Drop columns from the DataFrame\n",
    "contract_all = contract_all.drop(columns=columnsToDrop, errors='ignore')"
   ]
  },
  {
   "cell_type": "code",
   "execution_count": 41,
   "id": "c4411cfe",
   "metadata": {},
   "outputs": [],
   "source": [
    "# Convert 'contract_year' to date format if it represents a date or use another date-related column\n",
    "# Since 'contract_year' appears to be an integer or year, we'll create a date column for demonstration purposes\n",
    "contract_all['contract_year'] = pd.to_datetime(contract_all['contract_year'], format='%Y', errors='coerce')\n",
    "\n",
    "# Convert ids to object\n",
    "contract_all['ANO_SID'] = contract_all['ANO_SID'].astype('object')\n",
    "\n",
    "# Replace '     .' with NaN in PREMIUM_AMOUNT\n",
    "contract_all['PREMIUM_AMOUNT'] = contract_all['PREMIUM_AMOUNT'].replace('     .', np.nan)\n",
    "# Convert PREMIUM_AMOUNT to float\n",
    "contract_all['PREMIUM_AMOUNT'] = contract_all['PREMIUM_AMOUNT'].astype(float)\n",
    "\n",
    "# Replace '     .' with NaN in SUM_INSURED\n",
    "contract_all['SUM_INSURED'] = contract_all['SUM_INSURED'].replace('     .', np.nan)\n",
    "# Convert SUM_INSURED to float\n",
    "contract_all['SUM_INSURED'] = contract_all['SUM_INSURED'].astype(float)"
   ]
  },
  {
   "cell_type": "markdown",
   "id": "2211924b-40f7-461b-8fd1-c6f781776032",
   "metadata": {
    "id": "2211924b-40f7-461b-8fd1-c6f781776032"
   },
   "source": [
    "Drop negative values from financial variables (there are none):"
   ]
  },
  {
   "cell_type": "code",
   "execution_count": 42,
   "id": "72bd9b24-3a49-4d0f-976a-f8c00c4d8483",
   "metadata": {
    "colab": {
     "base_uri": "https://localhost:8080/"
    },
    "id": "72bd9b24-3a49-4d0f-976a-f8c00c4d8483",
    "outputId": "1b60b814-89bb-4eaa-c30d-03cb721ad0ca"
   },
   "outputs": [
    {
     "name": "stdout",
     "output_type": "stream",
     "text": [
      "{'SUM_INSURED': 0, 'PREMIUM_AMOUNT': 0}\n"
     ]
    }
   ],
   "source": [
    "# Check number of negative values in financial columns\n",
    "financialColumns = ['SUM_INSURED', 'PREMIUM_AMOUNT']\n",
    "\n",
    "# Create a dictionary\n",
    "negativeCounts = {}\n",
    "\n",
    "# Count negative values in each column\n",
    "for column in financialColumns:\n",
    "    negativeCounts[column] = (contract_all[column] < 0).sum()\n",
    "\n",
    "print(negativeCounts) # nothing to drop"
   ]
  },
  {
   "cell_type": "code",
   "execution_count": 43,
   "id": "OgO5jPMbizy4",
   "metadata": {
    "colab": {
     "base_uri": "https://localhost:8080/"
    },
    "id": "OgO5jPMbizy4",
    "outputId": "cd5fdb13-6051-4583-ec63-43bfa7e233cb"
   },
   "outputs": [
    {
     "name": "stdout",
     "output_type": "stream",
     "text": [
      "Index(['ANO_SID', 'CORPORATE_DEVISION', 'ORTPLZ', 'ORTS-NAME', 'STRASSE',\n",
      "       'SUM_INSURED', 'CONSTRACTION_DESIGN', 'CONSTRUCTION_YEAR', 'WFL',\n",
      "       'ZONE', 'SF-SYSTEM', 'TYPE_OF_DEDUCTIBLE', 'DRAIN_PIPE_INSURED',\n",
      "       'PRODUCTLINE', 'PRIOR_DAMAGES', 'UVV-KZ', 'UNDERWRITER', 'PARTY-ID',\n",
      "       'PREMIUM_AMOUNT', 'contract_year'],\n",
      "      dtype='object')\n"
     ]
    },
    {
     "data": {
      "text/plain": [
       "11534325"
      ]
     },
     "execution_count": 43,
     "metadata": {},
     "output_type": "execute_result"
    }
   ],
   "source": [
    "# Display column names to check for correct names\n",
    "print(contract_all.columns)\n",
    "\n",
    "# Convert zip codes starting with 'W' or 'O', or those not 5 characters long to NaN\n",
    "contract_all.loc[contract_all['ORTPLZ'].str.startswith(('W', 'O')) |\n",
    "            (contract_all['ORTPLZ'].str.len() != 5), 'ORTPLZ'] = np.nan\n",
    "\n",
    "len(contract_all)"
   ]
  },
  {
   "cell_type": "code",
   "execution_count": 45,
   "id": "0b759672-8cb9-45f8-a046-38970ae7c6a6",
   "metadata": {
    "colab": {
     "base_uri": "https://localhost:8080/"
    },
    "id": "0b759672-8cb9-45f8-a046-38970ae7c6a6",
    "outputId": "e6df45d9-fd8c-4a4b-e20a-d264c0f295e0"
   },
   "outputs": [
    {
     "data": {
      "text/plain": [
       "11534325"
      ]
     },
     "execution_count": 45,
     "metadata": {},
     "output_type": "execute_result"
    }
   ],
   "source": [
    "# Replace living space = 0 with average\n",
    "\n",
    "# Calculate the average of WFL, excluding zeros\n",
    "non_zero_living_space = contract_all[contract_all['WFL'] != 0]['WFL']\n",
    "avg_living_space = non_zero_living_space.mean()\n",
    "\n",
    "# Replace zero values with the calculated average\n",
    "contract_all.loc[contract_all['WFL'] == 0, 'WFL'] = avg_living_space\n",
    "\n",
    "len(contract_all)"
   ]
  },
  {
   "cell_type": "code",
   "execution_count": 46,
   "id": "73d9f04e-88a2-4d79-a61a-9228f54f44af",
   "metadata": {
    "id": "73d9f04e-88a2-4d79-a61a-9228f54f44af"
   },
   "outputs": [
    {
     "data": {
      "text/plain": [
       "11534325"
      ]
     },
     "execution_count": 46,
     "metadata": {},
     "output_type": "execute_result"
    }
   ],
   "source": [
    "# Replace uncommon values for the construction year with the average\n",
    "currentYear = 2024\n",
    "\n",
    "# Calculate the average of CONSTRUCTION_YEAR, excluding future years and specific unwanted values\n",
    "validYears = contract_all[\n",
    "    (contract_all['CONSTRUCTION_YEAR'] <= currentYear) &\n",
    "    (~contract_all['CONSTRUCTION_YEAR'].isin([1111, 1, 0]))\n",
    "]['CONSTRUCTION_YEAR']\n",
    "avgYear = validYears.mean()\n",
    "\n",
    "# Replace unwanted values with the calculated average\n",
    "contract_all.loc[\n",
    "    (contract_all['CONSTRUCTION_YEAR'] > currentYear) |\n",
    "    (contract_all['CONSTRUCTION_YEAR'].isin([1111, 1, 0])), 'CONSTRUCTION_YEAR'\n",
    "] = avgYear\n",
    "\n",
    "len(contract_all)"
   ]
  },
  {
   "cell_type": "code",
   "execution_count": 48,
   "id": "d833f0a9",
   "metadata": {
    "colab": {
     "base_uri": "https://localhost:8080/"
    },
    "id": "d833f0a9",
    "outputId": "33375678-c87a-46f9-d774-fbb9d36b236a"
   },
   "outputs": [
    {
     "data": {
      "text/plain": [
       "11534325"
      ]
     },
     "execution_count": 48,
     "metadata": {},
     "output_type": "execute_result"
    }
   ],
   "source": [
    "# Replace values in the 'DRAIN_PIPE_INSURED' column\n",
    "contract_all['DRAIN_PIPE_INSURED'] = contract_all['DRAIN_PIPE_INSURED'].replace({'J': 1, 'N': 0})\n",
    "\n",
    "# Replace values in the 'UVV-KZ' column\n",
    "contract_all['UVV-KZ'] = contract_all['UVV-KZ'].replace({'J': 1, 'N': 0})\n",
    "\n",
    "len(contract_all)"
   ]
  },
  {
   "cell_type": "code",
   "execution_count": 49,
   "id": "76284040",
   "metadata": {},
   "outputs": [
    {
     "name": "stdout",
     "output_type": "stream",
     "text": [
      "Number of observations per unique value:\n",
      "CORPORATE_DEVISION\n",
      "VHV    7071068\n",
      "VGV    3195545\n",
      "W&W     678568\n",
      "H&H     589144\n",
      "Name: count, dtype: int64\n",
      "TYPE_OF_DEDUCTIBLE\n",
      "0    11503419\n",
      "3       25203\n",
      "4        3584\n",
      "5        2111\n",
      "2           8\n",
      "Name: count, dtype: int64\n"
     ]
    }
   ],
   "source": [
    "print('Number of observations per unique value:')\n",
    "print(contract_all['CORPORATE_DEVISION'].value_counts())\n",
    "print(contract_all['TYPE_OF_DEDUCTIBLE'].value_counts())"
   ]
  },
  {
   "cell_type": "code",
   "execution_count": 24,
   "id": "aa119a3f-9ac3-4874-9ed8-971b816d6fab",
   "metadata": {},
   "outputs": [],
   "source": [
    "# Save dataset to csv\n",
    "contract_all.to_csv('../all_data_cleaned.csv', index=False)"
   ]
  },
  {
   "cell_type": "code",
   "execution_count": 34,
   "id": "bb7061bf-a3c1-4fcc-a3c9-bef8a1f98c67",
   "metadata": {
    "colab": {
     "base_uri": "https://localhost:8080/"
    },
    "id": "bb7061bf-a3c1-4fcc-a3c9-bef8a1f98c67",
    "outputId": "2782663a-25a9-4196-f82a-40a77ed45218"
   },
   "outputs": [
    {
     "name": "stdout",
     "output_type": "stream",
     "text": [
      "Stored 'damage' (DataFrame)\n"
     ]
    }
   ],
   "source": [
    "%store damage"
   ]
  },
  {
   "cell_type": "code",
   "execution_count": 35,
   "id": "8d5f330b-6b19-4b91-b4c6-a531ab928e8d",
   "metadata": {
    "colab": {
     "base_uri": "https://localhost:8080/"
    },
    "id": "8d5f330b-6b19-4b91-b4c6-a531ab928e8d",
    "outputId": "113e0ed5-d87d-4001-f764-53111953255b"
   },
   "outputs": [
    {
     "name": "stdout",
     "output_type": "stream",
     "text": [
      "Stored 'contract_all' (DataFrame)\n"
     ]
    }
   ],
   "source": [
    "%store contract_all"
   ]
  },
  {
   "cell_type": "markdown",
   "id": "9514ee41-b422-4510-9c2d-516f64e3aa34",
   "metadata": {
    "id": "9514ee41-b422-4510-9c2d-516f64e3aa34"
   },
   "source": [
    "# Joining Damage and Contract <a id=\"join\"></a>"
   ]
  },
  {
   "cell_type": "code",
   "execution_count": 37,
   "id": "f3e7800c-942f-42cb-8eab-9d9f4d150b4c",
   "metadata": {
    "colab": {
     "base_uri": "https://localhost:8080/"
    },
    "id": "f3e7800c-942f-42cb-8eab-9d9f4d150b4c",
    "outputId": "f7e756ea-65cf-4e3e-abd9-3ef96ec7fd50"
   },
   "outputs": [
    {
     "name": "stdout",
     "output_type": "stream",
     "text": [
      "      EXPENSE     DAMAGE_CLUSTER_ID DAT_ANL_ERSTRESERVIERUNG DAT_EREIGNIS  \\\n",
      "1818   333.20  0000014351b801943000               2014-02-01   2014-01-01   \n",
      "1819  1835.35  00000143524468b42000               2014-08-01   2014-01-02   \n",
      "1820  1182.23  0000014352bf46843000               2014-03-01   2014-01-01   \n",
      "1827   800.04  0000014367323354a000               2014-10-01   2014-01-05   \n",
      "1875  1704.10  00000143d3c6ac54d000               2014-03-02   2014-01-09   \n",
      "\n",
      "       ANO_SID  INITIAL_RESERVATION  TOTAL_DAMAGE GESCHAEFTS_FELD_ID  \\\n",
      "1818  43597657                500.0        1000.0                  0   \n",
      "1819  29261516                500.0         500.0                  0   \n",
      "1820   4118112               3500.0        3500.0                  0   \n",
      "1827  41087246                500.0         500.0                  0   \n",
      "1875  32662333               1850.0        1835.0                  0   \n",
      "\n",
      "      RESIDUAL_AMOUNT DAMAGE_INCIDENT  ... ANO_SID.1 DIVISION_LEVEL_00  \\\n",
      "1818              0.0    Water damage  ...    363939          Property   \n",
      "1819              0.0    Water damage  ...    363945          Property   \n",
      "1820              0.0    Water damage  ...    363951          Property   \n",
      "1827              0.0    Water damage  ...    364015        Multi-Risk   \n",
      "1875              0.0    Water damage  ...    364489          Property   \n",
      "\n",
      "     DIVISION_LEVEL_01 DIVISION_LEVEL_02                 DIVISION_LEVEL_03  \\\n",
      "1818       Sach Privat               VGV                             VGV W   \n",
      "1819       Sach Privat               VGV                             VGV W   \n",
      "1820       Sach Privat               VGV                             VGV W   \n",
      "1827        Multi-Risk               W&W  Apartment and Property Value GVB   \n",
      "1875       Sach Privat               VHV                             VHV W   \n",
      "\n",
      "                     DIVISION_LEVEL_04                 DIVISION_LEVEL_05  \\\n",
      "1818                             VGV W                             VGV W   \n",
      "1819                             VGV W                             VGV W   \n",
      "1820                             VGV W                             VGV W   \n",
      "1827  Apartment and Property Value GVB  Apartment and Property Value GVB   \n",
      "1875                             VHV W                             VHV W   \n",
      "\n",
      "     VER_STATNR   PAYOUT  Year  \n",
      "1818      11017   333.20  2014  \n",
      "1819      11037  1835.35  2014  \n",
      "1820      11077  1182.23  2014  \n",
      "1827       9934   800.04  2014  \n",
      "1875         31  1704.10  2014  \n",
      "\n",
      "[5 rows x 28 columns]\n"
     ]
    }
   ],
   "source": [
    "# Extract year into new column\n",
    "damage['Year'] = damage['DAT_ANL_ERSTRESERVIERUNG'].dt.year\n",
    "\n",
    "# Display the first few rows to verify changes\n",
    "print(damage.head())"
   ]
  },
  {
   "cell_type": "code",
   "execution_count": 41,
   "id": "e0f53c61-a260-4749-87f0-9e5bff615bc5",
   "metadata": {
    "colab": {
     "base_uri": "https://localhost:8080/"
    },
    "id": "e0f53c61-a260-4749-87f0-9e5bff615bc5",
    "outputId": "6e014c18-f798-4678-999f-7181e7d5253f"
   },
   "outputs": [
    {
     "name": "stdout",
     "output_type": "stream",
     "text": [
      "39902\n",
      "40665\n",
      "   EXPENSE     DAMAGE_CLUSTER_ID DAT_ANL_ERSTRESERVIERUNG DAT_EREIGNIS  \\\n",
      "0   333.20  0000014351b801943000               2014-02-01   2014-01-01   \n",
      "1  1835.35  00000143524468b42000               2014-08-01   2014-01-02   \n",
      "2  1182.23  0000014352bf46843000               2014-03-01   2014-01-01   \n",
      "3   800.04  0000014367323354a000               2014-10-01   2014-01-05   \n",
      "4  1704.10  00000143d3c6ac54d000               2014-03-02   2014-01-09   \n",
      "\n",
      "    ANO_SID  INITIAL_RESERVATION  TOTAL_DAMAGE GESCHAEFTS_FELD_ID  \\\n",
      "0  43597657                500.0        1000.0                  0   \n",
      "1  29261516                500.0         500.0                  0   \n",
      "2   4118112               3500.0        3500.0                  0   \n",
      "3  41087246                500.0         500.0                  0   \n",
      "4  32662333               1850.0        1835.0                  0   \n",
      "\n",
      "   RESIDUAL_AMOUNT DAMAGE_INCIDENT  ... SF-SYSTEM TYPE_OF_DEDUCTIBLE  \\\n",
      "0              0.0    Water damage  ...       0.0                0.0   \n",
      "1              0.0    Water damage  ...       0.0                0.0   \n",
      "2              0.0    Water damage  ...       0.0                0.0   \n",
      "3              0.0    Water damage  ...       NaN                0.0   \n",
      "4              0.0    Water damage  ...       NaN                0.0   \n",
      "\n",
      "  DRAIN_PIPE_INSURED PRODUCTLINE PRIOR_DAMAGES UVV-KZ UNDERWRITER  \\\n",
      "0                0.0     Kompakt           0.0    1.0           Y   \n",
      "1                0.0     Kompakt           0.0    1.0           Y   \n",
      "2                0.0         Top           0.0    1.0           Y   \n",
      "3                0.0         NaN           0.0    1.0           Y   \n",
      "4                0.0         Top           0.0    1.0           Y   \n",
      "\n",
      "               PARTY-ID  PREMIUM_AMOUNT contract_year  \n",
      "0  5WKUPYJR21B004PA4720          142.76    2014-01-01  \n",
      "1  EXLNYOZUCPO001PALTXG          652.38    2014-01-01  \n",
      "2  XRTMGW9WXFD704PT4712         2893.55    2014-01-01  \n",
      "3  D6ATJ1MN5Y7704PT4711          212.76    2014-01-01  \n",
      "4  LTVHUOHD760002PA0691          113.71    2014-01-01  \n",
      "\n",
      "[5 rows x 47 columns]\n"
     ]
    }
   ],
   "source": [
    "# Ensure ANO_SID is of the same type in both DataFrames\n",
    "damage['ANO_SID'] = damage['ANO_SID'].astype('object')\n",
    "contract_all['ANO_SID'] = contract_all['ANO_SID'].astype('object')\n",
    "\n",
    "# Extract the year from 'contract_year' to match 'Year'\n",
    "contract_all['Year'] = contract_all['contract_year'].dt.year\n",
    "\n",
    "# Combine Damage and Contract Data\n",
    "damage_all = pd.merge(damage, contract_all, left_on=[\"ANO_SID\", \"Year\"], right_on=[\"ANO_SID\", \"Year\"], how='left')\n",
    "\n",
    "print(len(damage))\n",
    "print(len(damage_all))\n",
    "\n",
    "# Display the first few rows to verify changes\n",
    "print(damage_all.head())"
   ]
  },
  {
   "cell_type": "code",
   "execution_count": 43,
   "id": "a80ec96f-106a-4f4c-aae9-7daeffe99c4d",
   "metadata": {
    "colab": {
     "base_uri": "https://localhost:8080/"
    },
    "id": "a80ec96f-106a-4f4c-aae9-7daeffe99c4d",
    "outputId": "b26ddeab-b222-4bd7-9b24-13bd59d98a96"
   },
   "outputs": [
    {
     "name": "stdout",
     "output_type": "stream",
     "text": [
      "Index(['EXPENSE', 'DAMAGE_CLUSTER_ID', 'DAT_ANL_ERSTRESERVIERUNG',\n",
      "       'DAT_EREIGNIS', 'ANO_SID', 'INITIAL_RESERVATION', 'TOTAL_DAMAGE',\n",
      "       'GESCHAEFTS_FELD_ID', 'RESIDUAL_AMOUNT', 'DAMAGE_INCIDENT',\n",
      "       'DAMAGE_EVENT_TOWN', 'DAMAGE_EVENT_ZIP_CODE', 'DAMAGE_EVENT_STREET',\n",
      "       'SCH_MERKMAL_KZ', 'SCH_URSACHE_KZ', 'DAMAGE_CAUSE_DESIGNMENT',\n",
      "       'SCH_ZW_BEZ', 'SCH_ZW_CD', 'ANO_SID.1', 'DIVISION_LEVEL_00',\n",
      "       'DIVISION_LEVEL_01', 'DIVISION_LEVEL_02', 'DIVISION_LEVEL_03',\n",
      "       'DIVISION_LEVEL_04', 'DIVISION_LEVEL_05', 'VER_STATNR', 'PAYOUT',\n",
      "       'Year', 'CORPORATE_DEVISION', 'ORTPLZ', 'ORTS-NAME', 'STRASSE',\n",
      "       'SUM_INSURED', 'CONSTRACTION_DESIGN', 'CONSTRUCTION_YEAR', 'WFL',\n",
      "       'ZONE', 'SF-SYSTEM', 'TYPE_OF_DEDUCTIBLE', 'DRAIN_PIPE_INSURED',\n",
      "       'PRODUCTLINE', 'PRIOR_DAMAGES', 'UVV-KZ', 'UNDERWRITER', 'PARTY-ID',\n",
      "       'PREMIUM_AMOUNT', 'contract_year'],\n",
      "      dtype='object')\n",
      "   EXPENSE     DAMAGE_CLUSTER_ID DAT_ANL_ERSTRESERVIERUNG DAT_EREIGNIS  \\\n",
      "0   333.20  0000014351b801943000               2014-02-01   2014-01-01   \n",
      "1  1835.35  00000143524468b42000               2014-08-01   2014-01-02   \n",
      "2  1182.23  0000014352bf46843000               2014-03-01   2014-01-01   \n",
      "3   800.04  0000014367323354a000               2014-10-01   2014-01-05   \n",
      "4  1704.10  00000143d3c6ac54d000               2014-03-02   2014-01-09   \n",
      "\n",
      "    ANO_SID  INITIAL_RESERVATION  TOTAL_DAMAGE GESCHAEFTS_FELD_ID  \\\n",
      "0  43597657                500.0        1000.0                  0   \n",
      "1  29261516                500.0         500.0                  0   \n",
      "2   4118112               3500.0        3500.0                  0   \n",
      "3  41087246                500.0         500.0                  0   \n",
      "4  32662333               1850.0        1835.0                  0   \n",
      "\n",
      "   RESIDUAL_AMOUNT DAMAGE_INCIDENT  ... SF-SYSTEM TYPE_OF_DEDUCTIBLE  \\\n",
      "0              0.0    Water damage  ...       0.0                0.0   \n",
      "1              0.0    Water damage  ...       0.0                0.0   \n",
      "2              0.0    Water damage  ...       0.0                0.0   \n",
      "3              0.0    Water damage  ...       NaN                0.0   \n",
      "4              0.0    Water damage  ...       NaN                0.0   \n",
      "\n",
      "  DRAIN_PIPE_INSURED PRODUCTLINE PRIOR_DAMAGES UVV-KZ UNDERWRITER  \\\n",
      "0                0.0     Kompakt           0.0    1.0           Y   \n",
      "1                0.0     Kompakt           0.0    1.0           Y   \n",
      "2                0.0         Top           0.0    1.0           Y   \n",
      "3                0.0         NaN           0.0    1.0           Y   \n",
      "4                0.0         Top           0.0    1.0           Y   \n",
      "\n",
      "               PARTY-ID  PREMIUM_AMOUNT contract_year  \n",
      "0  5WKUPYJR21B004PA4720          142.76    2014-01-01  \n",
      "1  EXLNYOZUCPO001PALTXG          652.38    2014-01-01  \n",
      "2  XRTMGW9WXFD704PT4712         2893.55    2014-01-01  \n",
      "3  D6ATJ1MN5Y7704PT4711          212.76    2014-01-01  \n",
      "4  LTVHUOHD760002PA0691          113.71    2014-01-01  \n",
      "\n",
      "[5 rows x 47 columns]\n"
     ]
    }
   ],
   "source": [
    "# Display column names to check for correct names\n",
    "print(damage_all.columns)\n",
    "\n",
    "# Define columns to drop\n",
    "columns_to_drop = [\"RISK_LOCATION_ZIP_CODE\", \"RISK_LOCATION_TOWN\", \"RISK_LOCATION_STREET\"]\n",
    "\n",
    "# Only drop columns that exist in the DataFrame\n",
    "columns_to_drop = [col for col in columns_to_drop if col in damage_all.columns]\n",
    "\n",
    "# Drop the columns\n",
    "damage_all = damage_all.drop(columns=columns_to_drop, axis=1)\n",
    "\n",
    "# Display the first few rows to verify changes\n",
    "print(damage_all.head())"
   ]
  },
  {
   "cell_type": "code",
   "execution_count": 44,
   "id": "02E9Ei25lEI2",
   "metadata": {
    "colab": {
     "base_uri": "https://localhost:8080/"
    },
    "id": "02E9Ei25lEI2",
    "outputId": "7a92e23a-913e-4af9-a8ab-709a9b8af4ce"
   },
   "outputs": [
    {
     "name": "stdout",
     "output_type": "stream",
     "text": [
      "   EXPENSE     DAMAGE_CLUSTER_ID DAT_ANL_ERSTRESERVIERUNG DAT_EREIGNIS  \\\n",
      "0   333.20  0000014351b801943000               2014-02-01   2014-01-01   \n",
      "1  1835.35  00000143524468b42000               2014-08-01   2014-01-02   \n",
      "2  1182.23  0000014352bf46843000               2014-03-01   2014-01-01   \n",
      "3   800.04  0000014367323354a000               2014-10-01   2014-01-05   \n",
      "4  1704.10  00000143d3c6ac54d000               2014-03-02   2014-01-09   \n",
      "\n",
      "    ANO_SID  INITIAL_RESERVATION  TOTAL_DAMAGE GESCHAEFTS_FELD_ID  \\\n",
      "0  43597657                500.0        1000.0                  0   \n",
      "1  29261516                500.0         500.0                  0   \n",
      "2   4118112               3500.0        3500.0                  0   \n",
      "3  41087246                500.0         500.0                  0   \n",
      "4  32662333               1850.0        1835.0                  0   \n",
      "\n",
      "   RESIDUAL_AMOUNT DAMAGE_INCIDENT  ... SF-SYSTEM TYPE_OF_DEDUCTIBLE  \\\n",
      "0              0.0    Water damage  ...       0.0                0.0   \n",
      "1              0.0    Water damage  ...       0.0                0.0   \n",
      "2              0.0    Water damage  ...       0.0                0.0   \n",
      "3              0.0    Water damage  ...       NaN                0.0   \n",
      "4              0.0    Water damage  ...       NaN                0.0   \n",
      "\n",
      "  DRAIN_PIPE_INSURED PRODUCTLINE PRIOR_DAMAGES  UVV-KZ UNDERWRITER  \\\n",
      "0                0.0     Kompakt           0.0     1.0           Y   \n",
      "1                0.0     Kompakt           0.0     1.0           Y   \n",
      "2                0.0         Top           0.0     1.0           Y   \n",
      "3                0.0         NaN           0.0     1.0           Y   \n",
      "4                0.0         Top           0.0     1.0           Y   \n",
      "\n",
      "               PARTY-ID PREMIUM_AMOUNT contract_year  \n",
      "0  5WKUPYJR21B004PA4720         142.76    2014-01-01  \n",
      "1  EXLNYOZUCPO001PALTXG         652.38    2014-01-01  \n",
      "2  XRTMGW9WXFD704PT4712        2893.55    2014-01-01  \n",
      "3  D6ATJ1MN5Y7704PT4711         212.76    2014-01-01  \n",
      "4  LTVHUOHD760002PA0691         113.71    2014-01-01  \n",
      "\n",
      "[5 rows x 44 columns]\n"
     ]
    }
   ],
   "source": [
    "# Define columns to drop\n",
    "columns_to_drop = [\"DAMAGE_EVENT_ZIP_CODE\", \"DAMAGE_EVENT_TOWN\", \"DAMAGE_EVENT_STREET\"]\n",
    "\n",
    "# Drop the columns\n",
    "damage_all = damage_all.drop(columns=columns_to_drop, axis=1)\n",
    "\n",
    "# Display the first few rows to verify changes\n",
    "print(damage_all.head())"
   ]
  },
  {
   "cell_type": "code",
   "execution_count": 45,
   "id": "43c7794d-3c4a-4d42-b48b-7ad1b8263371",
   "metadata": {
    "colab": {
     "base_uri": "https://localhost:8080/"
    },
    "id": "43c7794d-3c4a-4d42-b48b-7ad1b8263371",
    "outputId": "a2b589b6-e020-48be-d74d-44157534a95d"
   },
   "outputs": [
    {
     "name": "stdout",
     "output_type": "stream",
     "text": [
      "<class 'pandas.core.frame.DataFrame'>\n",
      "RangeIndex: 40665 entries, 0 to 40664\n",
      "Data columns (total 44 columns):\n",
      " #   Column                    Non-Null Count  Dtype         \n",
      "---  ------                    --------------  -----         \n",
      " 0   EXPENSE                   40665 non-null  float64       \n",
      " 1   DAMAGE_CLUSTER_ID         40665 non-null  object        \n",
      " 2   DAT_ANL_ERSTRESERVIERUNG  40665 non-null  datetime64[ns]\n",
      " 3   DAT_EREIGNIS              40665 non-null  datetime64[ns]\n",
      " 4   ANO_SID                   40665 non-null  object        \n",
      " 5   INITIAL_RESERVATION       40665 non-null  float64       \n",
      " 6   TOTAL_DAMAGE              40665 non-null  float64       \n",
      " 7   GESCHAEFTS_FELD_ID        40665 non-null  object        \n",
      " 8   RESIDUAL_AMOUNT           40665 non-null  float64       \n",
      " 9   DAMAGE_INCIDENT           40665 non-null  object        \n",
      " 10  SCH_MERKMAL_KZ            40665 non-null  object        \n",
      " 11  SCH_URSACHE_KZ            40665 non-null  object        \n",
      " 12  DAMAGE_CAUSE_DESIGNMENT   39990 non-null  object        \n",
      " 13  SCH_ZW_BEZ                40665 non-null  object        \n",
      " 14  SCH_ZW_CD                 40665 non-null  object        \n",
      " 15  ANO_SID.1                 40665 non-null  int64         \n",
      " 16  DIVISION_LEVEL_00         40665 non-null  object        \n",
      " 17  DIVISION_LEVEL_01         40665 non-null  object        \n",
      " 18  DIVISION_LEVEL_02         40665 non-null  object        \n",
      " 19  DIVISION_LEVEL_03         40665 non-null  object        \n",
      " 20  DIVISION_LEVEL_04         40665 non-null  object        \n",
      " 21  DIVISION_LEVEL_05         40665 non-null  object        \n",
      " 22  VER_STATNR                40665 non-null  object        \n",
      " 23  PAYOUT                    40665 non-null  float64       \n",
      " 24  Year                      40665 non-null  int32         \n",
      " 25  CORPORATE_DEVISION        35738 non-null  object        \n",
      " 26  ORTPLZ                    35514 non-null  object        \n",
      " 27  ORTS-NAME                 35717 non-null  object        \n",
      " 28  STRASSE                   34997 non-null  object        \n",
      " 29  SUM_INSURED               35655 non-null  float64       \n",
      " 30  CONSTRACTION_DESIGN       33659 non-null  object        \n",
      " 31  CONSTRUCTION_YEAR         35738 non-null  float64       \n",
      " 32  WFL                       35655 non-null  float64       \n",
      " 33  ZONE                      26686 non-null  object        \n",
      " 34  SF-SYSTEM                 16311 non-null  float64       \n",
      " 35  TYPE_OF_DEDUCTIBLE        35738 non-null  float64       \n",
      " 36  DRAIN_PIPE_INSURED        35738 non-null  float64       \n",
      " 37  PRODUCTLINE               32382 non-null  object        \n",
      " 38  PRIOR_DAMAGES             35738 non-null  float64       \n",
      " 39  UVV-KZ                    35738 non-null  float64       \n",
      " 40  UNDERWRITER               35738 non-null  object        \n",
      " 41  PARTY-ID                  35738 non-null  object        \n",
      " 42  PREMIUM_AMOUNT            35738 non-null  float64       \n",
      " 43  contract_year             35738 non-null  datetime64[ns]\n",
      "dtypes: datetime64[ns](3), float64(14), int32(1), int64(1), object(25)\n",
      "memory usage: 13.5+ MB\n"
     ]
    }
   ],
   "source": [
    "damage_all.info()"
   ]
  },
  {
   "cell_type": "markdown",
   "id": "c20c10e7-aa91-4b2b-ac3a-8d53aa9f2d2f",
   "metadata": {
    "id": "c20c10e7-aa91-4b2b-ac3a-8d53aa9f2d2f"
   },
   "source": [
    "# Risk Score Definition <a id=\"riskscore\"></a>"
   ]
  },
  {
   "cell_type": "code",
   "execution_count": 46,
   "id": "59a5eab5-74a2-4fd5-aa1c-008862b1a0a7",
   "metadata": {
    "id": "59a5eab5-74a2-4fd5-aa1c-008862b1a0a7"
   },
   "outputs": [],
   "source": [
    "# Calculate NET_PREMIUM_AMOUNT as 60% of PREMIUM_AMOUNT\n",
    "damage_all['NET_PREMIUM_AMOUNT'] = damage_all['PREMIUM_AMOUNT'] * 0.6"
   ]
  },
  {
   "cell_type": "code",
   "execution_count": 47,
   "id": "8f16cfeb-660c-4982-8f3c-8a4608911450",
   "metadata": {
    "id": "8f16cfeb-660c-4982-8f3c-8a4608911450"
   },
   "outputs": [],
   "source": [
    "# Calculate PIPE_PREMIUM_AMOUNT based on CORPORATE_DEVISION\n",
    "# Map devision percentages\n",
    "devisionPercentages = {\n",
    "    'VGV': 0.43,\n",
    "    'VHV': 0.11,\n",
    "    'H&H': 0.07,\n",
    "    'W&W': 0.32\n",
    "}\n",
    "\n",
    "# Calculate PIPE_PREMIUM_AMOUNT\n",
    "damage_all['PIPE_PREMIUM_AMOUNT'] = damage_all['DIVISION_LEVEL_02'].map(devisionPercentages) * damage_all['NET_PREMIUM_AMOUNT']"
   ]
  },
  {
   "cell_type": "code",
   "execution_count": 48,
   "id": "74a0f550-6dea-4cf7-b070-d037550ae90c",
   "metadata": {
    "id": "74a0f550-6dea-4cf7-b070-d037550ae90c"
   },
   "outputs": [],
   "source": [
    "# Calculate RISK_SCORE as PIPE_PREMIUM_AMOUNT / EXPENSE\n",
    "damage_all['RISK_SCORE'] = damage_all['EXPENSE'] / damage_all['PIPE_PREMIUM_AMOUNT']\n",
    "\n",
    "# When expense = 0 the division returns 0. Instead return NaN.\n",
    "# damage_all['RISK_SCORE'] = damage_all['RISK_SCORE'].replace(0, np.nan)"
   ]
  },
  {
   "cell_type": "code",
   "execution_count": 49,
   "id": "2195942c-3503-45c1-94db-18a9da055797",
   "metadata": {
    "colab": {
     "base_uri": "https://localhost:8080/"
    },
    "id": "2195942c-3503-45c1-94db-18a9da055797",
    "outputId": "8b54afda-560a-416e-882e-dcc5801e0761"
   },
   "outputs": [
    {
     "name": "stdout",
     "output_type": "stream",
     "text": [
      "40665\n",
      "4964\n",
      "35701\n"
     ]
    }
   ],
   "source": [
    "# Check for nas in RISK_SCORE\n",
    "print(len(damage_all))\n",
    "print(damage_all['RISK_SCORE'].isna().sum())\n",
    "print(len(damage_all.dropna(subset=['RISK_SCORE'])))"
   ]
  },
  {
   "cell_type": "code",
   "execution_count": 50,
   "id": "e7f8c21e-b2ce-430d-a8b9-b1f7d1d1513e",
   "metadata": {
    "colab": {
     "base_uri": "https://localhost:8080/"
    },
    "id": "e7f8c21e-b2ce-430d-a8b9-b1f7d1d1513e",
    "outputId": "bbdbe1da-c62a-4dd9-931e-eb89ff747de8"
   },
   "outputs": [
    {
     "name": "stdout",
     "output_type": "stream",
     "text": [
      "4927\n",
      "0\n"
     ]
    }
   ],
   "source": [
    "# Check nas in PREMIUM_AMOUNT and EXPENSE\n",
    "print(damage_all['PREMIUM_AMOUNT'].isna().sum())\n",
    "print(damage_all['EXPENSE'].isna().sum())"
   ]
  },
  {
   "cell_type": "code",
   "execution_count": 58,
   "id": "74938da9-3bd3-4515-a032-74d5ffc2ea45",
   "metadata": {
    "id": "74938da9-3bd3-4515-a032-74d5ffc2ea45"
   },
   "outputs": [],
   "source": [
    "# Save dataset to csv\n",
    "damage_all.to_csv('../content/drive/My Drive/Capstone/Data/all_data_cleaned.csv', index=False)"
   ]
  },
  {
   "cell_type": "code",
   "execution_count": 56,
   "id": "c358a1e9-76fc-4c95-aa0e-599ca157b3a7",
   "metadata": {
    "colab": {
     "base_uri": "https://localhost:8080/"
    },
    "id": "c358a1e9-76fc-4c95-aa0e-599ca157b3a7",
    "outputId": "000b588f-f35e-48c9-88b7-21e9f1fc4277"
   },
   "outputs": [
    {
     "name": "stdout",
     "output_type": "stream",
     "text": [
      "Stored 'damage_all' (DataFrame)\n"
     ]
    }
   ],
   "source": [
    "%store damage_all"
   ]
  },
  {
   "cell_type": "code",
   "execution_count": 54,
   "id": "e5ceaedf-516c-414f-8d38-bf19c977eaf9",
   "metadata": {
    "id": "e5ceaedf-516c-414f-8d38-bf19c977eaf9"
   },
   "outputs": [],
   "source": [
    "# %store -r damage\n",
    "# %store -r contract_all\n",
    "# %store -r damage_all"
   ]
  }
 ],
 "metadata": {
  "accelerator": "TPU",
  "colab": {
   "gpuType": "V28",
   "include_colab_link": true,
   "provenance": []
  },
  "kernelspec": {
   "display_name": "Python 3 (ipykernel)",
   "language": "python",
   "name": "python3"
  },
  "language_info": {
   "codemirror_mode": {
    "name": "ipython",
    "version": 3
   },
   "file_extension": ".py",
   "mimetype": "text/x-python",
   "name": "python",
   "nbconvert_exporter": "python",
   "pygments_lexer": "ipython3",
   "version": "3.12.3"
  }
 },
 "nbformat": 4,
 "nbformat_minor": 5
}
