{
  "cells": [
    {
      "cell_type": "markdown",
      "metadata": {
        "id": "view-in-github",
        "colab_type": "text"
      },
      "source": [
        "<a href=\"https://colab.research.google.com/github/miinsss/Capstone-Project/blob/main/04_contract_data_models_LR.ipynb\" target=\"_parent\"><img src=\"https://colab.research.google.com/assets/colab-badge.svg\" alt=\"Open In Colab\"/></a>"
      ]
    },
    {
      "cell_type": "markdown",
      "source": [
        "# Libaries"
      ],
      "metadata": {
        "id": "Jzz_FqlB0olA"
      }
    },
    {
      "cell_type": "code",
      "source": [
        "import pandas as pd\n",
        "from sklearn.model_selection import train_test_split\n",
        "from sklearn.linear_model import LogisticRegression\n",
        "from sklearn.metrics import accuracy_score, classification_report\n",
        "\n",
        "from sklearn.ensemble import RandomForestClassifier\n",
        "from sklearn.preprocessing import StandardScaler\n",
        "\n",
        "from sklearn.ensemble import RandomForestClassifier\n",
        "\n",
        "from sklearn.impute import SimpleImputer\n",
        "\n",
        "from imblearn.over_sampling import SMOTE"
      ],
      "metadata": {
        "id": "W-hqgl210oG-"
      },
      "execution_count": null,
      "outputs": []
    },
    {
      "cell_type": "markdown",
      "metadata": {
        "id": "p8FMl1o1dTaX"
      },
      "source": [
        "# Load the Contract Data"
      ]
    },
    {
      "cell_type": "code",
      "source": [
        "from google.colab import drive\n",
        "drive.mount('/content/drive')\n",
        "\n",
        "# Load the contract_info.csv file\n",
        "contract_info_path = '/content/drive/My Drive/Capstone/Data/Categories/contract_info.csv'\n",
        "contract_info = pd.read_csv(contract_info_path)\n",
        "\n",
        "# Display the first few rows to verify content\n",
        "print(contract_info.head())"
      ],
      "metadata": {
        "colab": {
          "base_uri": "https://localhost:8080/"
        },
        "id": "OnLQkCyYu-i_",
        "outputId": "0155d7b5-8d53-45b4-a251-9c46bca1c346"
      },
      "execution_count": null,
      "outputs": [
        {
          "output_type": "stream",
          "name": "stdout",
          "text": [
            "Drive already mounted at /content/drive; to attempt to forcibly remount, call drive.mount(\"/content/drive\", force_remount=True).\n",
            "    ANO_SID CORPORATE_DEVISION   ORTPLZ          ORTS-NAME            STRASSE  \\\n",
            "0  43597657                VGV  50769.0               Köln         Gohrer Weg   \n",
            "1  29261516                VGV  51427.0  Bergisch Gladbach     Buchenkampsweg   \n",
            "2   4118112                VGV  42553.0            Velbert   Elberfelder Str.   \n",
            "3  41087246                W&W  51147.0               Köln        Barbarastr.   \n",
            "4  32662333                VHV  42655.0           Solingen  Hossenhauser Str.   \n",
            "\n",
            "   SUM_INSURED CONSTRACTION_DESIGN  CONSTRUCTION_YEAR        WFL ZONE  \\\n",
            "0     298800.0      NORMAL_VENTURE        1967.565648  106.24368  NaN   \n",
            "1    1145400.0      NORMAL_VENTURE        1996.000000  106.24368  NaN   \n",
            "2    2961000.0      NORMAL_VENTURE        1981.000000  106.24368  NaN   \n",
            "3      32500.0                 NaN        1967.565648   50.00000    E   \n",
            "4      54800.0      NORMAL_VENTURE        1967.565648   75.00000    3   \n",
            "\n",
            "   SF-SYSTEM  TYPE_OF_DEDUCTIBLE  DRAIN_PIPE_INSURED PRODUCTLINE  \\\n",
            "0        0.0                 0.0                 0.0     Kompakt   \n",
            "1        0.0                 0.0                 0.0     Kompakt   \n",
            "2        0.0                 0.0                 0.0         Top   \n",
            "3        NaN                 0.0                 0.0         NaN   \n",
            "4        NaN                 0.0                 0.0         Top   \n",
            "\n",
            "   PRIOR_DAMAGES  UVV-KZ UNDERWRITER              PARTY-ID  PREMIUM_AMOUNT  \\\n",
            "0            0.0     1.0           Y  5WKUPYJR21B004PA4720          142.76   \n",
            "1            0.0     1.0           Y  EXLNYOZUCPO001PALTXG          652.38   \n",
            "2            0.0     1.0           Y  XRTMGW9WXFD704PT4712         2893.55   \n",
            "3            0.0     1.0           Y  D6ATJ1MN5Y7704PT4711          212.76   \n",
            "4            0.0     1.0           Y  LTVHUOHD760002PA0691          113.71   \n",
            "\n",
            "  contract_year  \n",
            "0    2014-01-01  \n",
            "1    2014-01-01  \n",
            "2    2014-01-01  \n",
            "3    2014-01-01  \n",
            "4    2014-01-01  \n"
          ]
        }
      ]
    },
    {
      "cell_type": "markdown",
      "source": [
        "# Linear Regression Model"
      ],
      "metadata": {
        "id": "mIsvugK2wOgu"
      }
    },
    {
      "cell_type": "markdown",
      "source": [
        "## Preprocess the Data"
      ],
      "metadata": {
        "id": "jOiP39XdwEry"
      }
    },
    {
      "cell_type": "code",
      "source": [
        "# Convert categorical variables to numeric using one-hot encoding\n",
        "contract_info_encoded = pd.get_dummies(contract_info, drop_first=True)\n",
        "\n",
        "# Define the features (X) and the target (y)\n",
        "X = contract_info_encoded.drop(columns=['PRODUCTLINE_Kompakt'])  # Adjust target variable accordingly\n",
        "y = contract_info_encoded['PRODUCTLINE_Kompakt']"
      ],
      "metadata": {
        "id": "TE4dJu_bwFEt"
      },
      "execution_count": null,
      "outputs": []
    },
    {
      "cell_type": "markdown",
      "source": [
        "## Select a subset"
      ],
      "metadata": {
        "id": "T4dE1HD62ZS2"
      }
    },
    {
      "cell_type": "code",
      "source": [
        "# Select a subset of important features first\n",
        "initial_features = ['SUM_INSURED', 'CONSTRUCTION_YEAR', 'WFL', 'PREMIUM_AMOUNT', 'CORPORATE_DEVISION_VGV', 'CORPORATE_DEVISION_VHV', 'CORPORATE_DEVISION_W&W']\n",
        "\n",
        "# Ensure we only select these features if they exist in the dataset\n",
        "initial_features = [feature for feature in initial_features if feature in X.columns]\n",
        "X = X[initial_features]"
      ],
      "metadata": {
        "id": "c0mjAWu32dLT"
      },
      "execution_count": null,
      "outputs": []
    },
    {
      "cell_type": "markdown",
      "source": [
        "## Split the Data"
      ],
      "metadata": {
        "id": "1NMWT6zMwWJh"
      }
    },
    {
      "cell_type": "code",
      "source": [
        "# Split the data into training and testing sets\n",
        "X_train, X_test, y_train, y_test = train_test_split(X, y, test_size=0.2, random_state=42)"
      ],
      "metadata": {
        "id": "MDW7mDBJ1eDR"
      },
      "execution_count": null,
      "outputs": []
    },
    {
      "cell_type": "markdown",
      "source": [
        "## Select Important Features"
      ],
      "metadata": {
        "id": "MIIDJ52Gymmw"
      }
    },
    {
      "cell_type": "code",
      "source": [
        "# Impute missing values with the mean for numerical columns\n",
        "imputer = SimpleImputer(strategy='mean')\n",
        "X_train_imputed = imputer.fit_transform(X_train)\n",
        "X_test_imputed = imputer.transform(X_test)\n",
        "\n",
        "# Optimazation\n",
        "# Apply SMOTE to the training data\n",
        "smote = SMOTE(random_state=42)\n",
        "X_train_resampled, y_train_resampled = smote.fit_resample(X_train_imputed, y_train)\n",
        "\n",
        "# Standardize the features\n",
        "scaler = StandardScaler()\n",
        "X_train_scaled = scaler.fit_transform(X_train_imputed)\n",
        "X_test_scaled = scaler.transform(X_test_imputed)\n",
        "\n",
        "# Initialize RandomForest model\n",
        "rf = RandomForestClassifier(n_estimators=100, random_state=42)\n",
        "rf.fit(X_train_scaled, y_train)\n",
        "\n",
        "# Get feature importances\n",
        "importances = rf.feature_importances_\n",
        "feature_names = X.columns\n",
        "\n",
        "# Create a DataFrame for feature importances\n",
        "feature_importances = pd.DataFrame({'Feature': feature_names, 'Importance': importances})\n",
        "feature_importances = feature_importances.sort_values(by='Importance', ascending=False)\n",
        "\n",
        "# Select top 5 features (adjust the number of features as needed)\n",
        "top_features = feature_importances.head(5)['Feature'].values\n",
        "X_train_top = X_train_scaled[:, [list(X.columns).index(feature) for feature in top_features]]\n",
        "X_test_top = X_test_scaled[:, [list(X.columns).index(feature) for feature in top_features]]"
      ],
      "metadata": {
        "id": "kXT1ByLP12WL"
      },
      "execution_count": null,
      "outputs": []
    },
    {
      "cell_type": "markdown",
      "source": [
        "## Train the Model"
      ],
      "metadata": {
        "id": "DNrekL8LxEbB"
      }
    },
    {
      "cell_type": "code",
      "source": [
        "# Initialize the Logistic Regression model\n",
        "# log_reg = LogisticRegression(max_iter=1000)\n",
        "# damit acc von ca 78%\n",
        "log_reg = LogisticRegression(max_iter=1000, class_weight='balanced')\n",
        "\n",
        "# Train the model on the training data with top features\n",
        "log_reg.fit(X_train_top, y_train)"
      ],
      "metadata": {
        "id": "6gDMLYUAwa1w",
        "colab": {
          "base_uri": "https://localhost:8080/",
          "height": 74
        },
        "outputId": "9af6e306-ddde-4c03-8035-cbb959e6251e"
      },
      "execution_count": null,
      "outputs": [
        {
          "output_type": "execute_result",
          "data": {
            "text/plain": [
              "LogisticRegression(class_weight='balanced', max_iter=1000)"
            ],
            "text/html": [
              "<style>#sk-container-id-3 {color: black;background-color: white;}#sk-container-id-3 pre{padding: 0;}#sk-container-id-3 div.sk-toggleable {background-color: white;}#sk-container-id-3 label.sk-toggleable__label {cursor: pointer;display: block;width: 100%;margin-bottom: 0;padding: 0.3em;box-sizing: border-box;text-align: center;}#sk-container-id-3 label.sk-toggleable__label-arrow:before {content: \"▸\";float: left;margin-right: 0.25em;color: #696969;}#sk-container-id-3 label.sk-toggleable__label-arrow:hover:before {color: black;}#sk-container-id-3 div.sk-estimator:hover label.sk-toggleable__label-arrow:before {color: black;}#sk-container-id-3 div.sk-toggleable__content {max-height: 0;max-width: 0;overflow: hidden;text-align: left;background-color: #f0f8ff;}#sk-container-id-3 div.sk-toggleable__content pre {margin: 0.2em;color: black;border-radius: 0.25em;background-color: #f0f8ff;}#sk-container-id-3 input.sk-toggleable__control:checked~div.sk-toggleable__content {max-height: 200px;max-width: 100%;overflow: auto;}#sk-container-id-3 input.sk-toggleable__control:checked~label.sk-toggleable__label-arrow:before {content: \"▾\";}#sk-container-id-3 div.sk-estimator input.sk-toggleable__control:checked~label.sk-toggleable__label {background-color: #d4ebff;}#sk-container-id-3 div.sk-label input.sk-toggleable__control:checked~label.sk-toggleable__label {background-color: #d4ebff;}#sk-container-id-3 input.sk-hidden--visually {border: 0;clip: rect(1px 1px 1px 1px);clip: rect(1px, 1px, 1px, 1px);height: 1px;margin: -1px;overflow: hidden;padding: 0;position: absolute;width: 1px;}#sk-container-id-3 div.sk-estimator {font-family: monospace;background-color: #f0f8ff;border: 1px dotted black;border-radius: 0.25em;box-sizing: border-box;margin-bottom: 0.5em;}#sk-container-id-3 div.sk-estimator:hover {background-color: #d4ebff;}#sk-container-id-3 div.sk-parallel-item::after {content: \"\";width: 100%;border-bottom: 1px solid gray;flex-grow: 1;}#sk-container-id-3 div.sk-label:hover label.sk-toggleable__label {background-color: #d4ebff;}#sk-container-id-3 div.sk-serial::before {content: \"\";position: absolute;border-left: 1px solid gray;box-sizing: border-box;top: 0;bottom: 0;left: 50%;z-index: 0;}#sk-container-id-3 div.sk-serial {display: flex;flex-direction: column;align-items: center;background-color: white;padding-right: 0.2em;padding-left: 0.2em;position: relative;}#sk-container-id-3 div.sk-item {position: relative;z-index: 1;}#sk-container-id-3 div.sk-parallel {display: flex;align-items: stretch;justify-content: center;background-color: white;position: relative;}#sk-container-id-3 div.sk-item::before, #sk-container-id-3 div.sk-parallel-item::before {content: \"\";position: absolute;border-left: 1px solid gray;box-sizing: border-box;top: 0;bottom: 0;left: 50%;z-index: -1;}#sk-container-id-3 div.sk-parallel-item {display: flex;flex-direction: column;z-index: 1;position: relative;background-color: white;}#sk-container-id-3 div.sk-parallel-item:first-child::after {align-self: flex-end;width: 50%;}#sk-container-id-3 div.sk-parallel-item:last-child::after {align-self: flex-start;width: 50%;}#sk-container-id-3 div.sk-parallel-item:only-child::after {width: 0;}#sk-container-id-3 div.sk-dashed-wrapped {border: 1px dashed gray;margin: 0 0.4em 0.5em 0.4em;box-sizing: border-box;padding-bottom: 0.4em;background-color: white;}#sk-container-id-3 div.sk-label label {font-family: monospace;font-weight: bold;display: inline-block;line-height: 1.2em;}#sk-container-id-3 div.sk-label-container {text-align: center;}#sk-container-id-3 div.sk-container {/* jupyter's `normalize.less` sets `[hidden] { display: none; }` but bootstrap.min.css set `[hidden] { display: none !important; }` so we also need the `!important` here to be able to override the default hidden behavior on the sphinx rendered scikit-learn.org. See: https://github.com/scikit-learn/scikit-learn/issues/21755 */display: inline-block !important;position: relative;}#sk-container-id-3 div.sk-text-repr-fallback {display: none;}</style><div id=\"sk-container-id-3\" class=\"sk-top-container\"><div class=\"sk-text-repr-fallback\"><pre>LogisticRegression(class_weight=&#x27;balanced&#x27;, max_iter=1000)</pre><b>In a Jupyter environment, please rerun this cell to show the HTML representation or trust the notebook. <br />On GitHub, the HTML representation is unable to render, please try loading this page with nbviewer.org.</b></div><div class=\"sk-container\" hidden><div class=\"sk-item\"><div class=\"sk-estimator sk-toggleable\"><input class=\"sk-toggleable__control sk-hidden--visually\" id=\"sk-estimator-id-3\" type=\"checkbox\" checked><label for=\"sk-estimator-id-3\" class=\"sk-toggleable__label sk-toggleable__label-arrow\">LogisticRegression</label><div class=\"sk-toggleable__content\"><pre>LogisticRegression(class_weight=&#x27;balanced&#x27;, max_iter=1000)</pre></div></div></div></div></div>"
            ]
          },
          "metadata": {},
          "execution_count": 24
        }
      ]
    },
    {
      "cell_type": "markdown",
      "source": [
        "## Evaluate the Model"
      ],
      "metadata": {
        "id": "d1McYFQzwc8J"
      }
    },
    {
      "cell_type": "code",
      "source": [
        "# Predict on the test data\n",
        "y_pred = log_reg.predict(X_test_top)\n",
        "\n",
        "# Calculate the accuracy\n",
        "accuracy = accuracy_score(y_test, y_pred)\n",
        "print(f'Accuracy: {accuracy}')\n",
        "\n",
        "# Display the classification report\n",
        "print(classification_report(y_test, y_pred))"
      ],
      "metadata": {
        "id": "K5kQsRaXwe_3",
        "colab": {
          "base_uri": "https://localhost:8080/"
        },
        "outputId": "f0eeef16-7c69-4b04-e066-45bc0bd8f5b1"
      },
      "execution_count": null,
      "outputs": [
        {
          "output_type": "stream",
          "name": "stdout",
          "text": [
            "Accuracy: 0.5861305791220952\n",
            "              precision    recall  f1-score   support\n",
            "\n",
            "       False       0.99      0.47      0.64      6329\n",
            "        True       0.35      0.98      0.51      1804\n",
            "\n",
            "    accuracy                           0.59      8133\n",
            "   macro avg       0.67      0.73      0.58      8133\n",
            "weighted avg       0.85      0.59      0.61      8133\n",
            "\n"
          ]
        }
      ]
    }
  ],
  "metadata": {
    "colab": {
      "provenance": [],
      "authorship_tag": "ABX9TyMDYjZNkwkO2nhtIjFRi/WS",
      "include_colab_link": true
    },
    "kernelspec": {
      "display_name": "Python 3",
      "name": "python3"
    },
    "language_info": {
      "name": "python"
    }
  },
  "nbformat": 4,
  "nbformat_minor": 0
}