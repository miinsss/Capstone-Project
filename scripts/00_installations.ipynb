{
  "cells": [
    {
      "cell_type": "markdown",
      "metadata": {
        "id": "view-in-github",
        "colab_type": "text"
      },
      "source": [
        "<a href=\"https://colab.research.google.com/github/miinsss/Capstone-Project/blob/main/00_installations.ipynb\" target=\"_parent\"><img src=\"https://colab.research.google.com/assets/colab-badge.svg\" alt=\"Open In Colab\"/></a>"
      ]
    },
    {
      "cell_type": "markdown",
      "metadata": {
        "id": "ul8FG0MadDKn"
      },
      "source": [
        "# Import packages"
      ]
    },
    {
      "cell_type": "markdown",
      "source": [
        "## 01_merge_contract_data.ipynb"
      ],
      "metadata": {
        "id": "G9UsEZkYznAS"
      }
    },
    {
      "cell_type": "code",
      "execution_count": null,
      "metadata": {
        "id": "iDRL-Rnq3DGV",
        "colab": {
          "base_uri": "https://localhost:8080/"
        },
        "outputId": "27204b27-2ffe-47b3-c210-c34ae2f1860e"
      },
      "outputs": [
        {
          "output_type": "stream",
          "name": "stdout",
          "text": [
            "Requirement already satisfied: msoffcrypto-tool in /usr/local/lib/python3.10/dist-packages (5.4.0)\n",
            "Requirement already satisfied: openpyxl in /usr/local/lib/python3.10/dist-packages (3.1.2)\n",
            "Requirement already satisfied: cryptography>=35.0 in /usr/local/lib/python3.10/dist-packages (from msoffcrypto-tool) (42.0.7)\n",
            "Requirement already satisfied: olefile>=0.46 in /usr/local/lib/python3.10/dist-packages (from msoffcrypto-tool) (0.47)\n",
            "Requirement already satisfied: et-xmlfile in /usr/local/lib/python3.10/dist-packages (from openpyxl) (1.1.0)\n",
            "Requirement already satisfied: cffi>=1.12 in /usr/local/lib/python3.10/dist-packages (from cryptography>=35.0->msoffcrypto-tool) (1.16.0)\n",
            "Requirement already satisfied: pycparser in /usr/local/lib/python3.10/dist-packages (from cffi>=1.12->cryptography>=35.0->msoffcrypto-tool) (2.22)\n"
          ]
        }
      ],
      "source": [
        "!pip install msoffcrypto-tool openpyxl"
      ]
    },
    {
      "cell_type": "markdown",
      "source": [
        "## 02_data_cleaning.ipynb"
      ],
      "metadata": {
        "id": "B7VBabYCzp6B"
      }
    },
    {
      "cell_type": "code",
      "source": [
        "!pip install pandas openpyxl\n",
        "!pip install numpy\n",
        "!pip install plotly"
      ],
      "metadata": {
        "id": "XKwfTde60AwB"
      },
      "execution_count": null,
      "outputs": []
    },
    {
      "cell_type": "markdown",
      "source": [
        "## 03_create_data_structure.ipynb"
      ],
      "metadata": {
        "id": "CjvxYUqizsqL"
      }
    },
    {
      "cell_type": "code",
      "source": [
        "!pip install msoffcrypto-tool openpyxl"
      ],
      "metadata": {
        "id": "z2NNtau50KPe"
      },
      "execution_count": null,
      "outputs": []
    },
    {
      "cell_type": "markdown",
      "source": [
        "## 04_contract_data_models_LR.ipynb"
      ],
      "metadata": {
        "id": "WiAQ_3lZzuG8"
      }
    }
  ],
  "metadata": {
    "colab": {
      "provenance": [],
      "authorship_tag": "ABX9TyP9k6iM9y66V4/NvLqbVIQ6",
      "include_colab_link": true
    },
    "kernelspec": {
      "display_name": "Python 3",
      "name": "python3"
    },
    "language_info": {
      "name": "python"
    }
  },
  "nbformat": 4,
  "nbformat_minor": 0
}