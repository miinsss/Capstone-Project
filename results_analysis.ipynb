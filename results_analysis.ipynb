{
 "cells": [
  {
   "cell_type": "markdown",
   "metadata": {},
   "source": [
    "# Analysis of the Results"
   ]
  },
  {
   "cell_type": "markdown",
   "metadata": {},
   "source": [
    "## Setup"
   ]
  },
  {
   "cell_type": "code",
   "execution_count": 1,
   "metadata": {},
   "outputs": [],
   "source": [
    "# Libraries\n",
    "import pandas as pd\n",
    "import numpy as np"
   ]
  },
  {
   "cell_type": "code",
   "execution_count": 3,
   "metadata": {},
   "outputs": [
    {
     "name": "stdout",
     "output_type": "stream",
     "text": [
      "<class 'pandas.core.frame.DataFrame'>\n",
      "RangeIndex: 6541795 entries, 0 to 6541794\n",
      "Data columns (total 21 columns):\n",
      " #   Column                  Dtype  \n",
      "---  ------                  -----  \n",
      " 0   ANO_SID                 float64\n",
      " 1   CORPORATE_DEVISION      object \n",
      " 2   Bundesland              object \n",
      " 3   Typ                     object \n",
      " 4   ORTPLZ                  int64  \n",
      " 5   CONSTRACTION_DESIGN     object \n",
      " 6   CONSTRUCTION_YEAR       float64\n",
      " 7   WFL                     float64\n",
      " 8   ZONE                    float64\n",
      " 9   TYPE_OF_DEDUCTIBLE      int64  \n",
      " 10  DRAIN_PIPE_INSURED      int64  \n",
      " 11  PRODUCTLINE             object \n",
      " 12  PRIOR_DAMAGES           int64  \n",
      " 13  UVV-KZ                  int64  \n",
      " 14  UNDERWRITER             object \n",
      " 15  YEAR                    int64  \n",
      " 16  DAMAGE_HEAVY_RAIN_ZONE  float64\n",
      " 17  LONGITUDE               float64\n",
      " 18  LATITUDE                float64\n",
      " 19  DAMAGE                  int64  \n",
      " 20  Probability             float64\n",
      "dtypes: float64(8), int64(7), object(6)\n",
      "memory usage: 1.0+ GB\n"
     ]
    }
   ],
   "source": [
    "# Import data\n",
    "df = pd.read_csv('../predictions/Random_Forest_with_rebalancing.csv')\n",
    "df.info()"
   ]
  },
  {
   "cell_type": "code",
   "execution_count": 5,
   "metadata": {},
   "outputs": [],
   "source": [
    "# There are no nas in the dataset\n",
    "# df.isna().sum()"
   ]
  },
  {
   "cell_type": "code",
   "execution_count": 8,
   "metadata": {},
   "outputs": [
    {
     "name": "stdout",
     "output_type": "stream",
     "text": [
      "Number of unique values:\n"
     ]
    },
    {
     "data": {
      "text/plain": [
       "ANO_SID                   1033769\n",
       "CORPORATE_DEVISION              2\n",
       "Bundesland                     16\n",
       "Typ                             2\n",
       "ORTPLZ                       6147\n",
       "CONSTRACTION_DESIGN            10\n",
       "CONSTRUCTION_YEAR             497\n",
       "WFL                           895\n",
       "ZONE                            9\n",
       "TYPE_OF_DEDUCTIBLE              1\n",
       "DRAIN_PIPE_INSURED              1\n",
       "PRODUCTLINE                     6\n",
       "PRIOR_DAMAGES                  10\n",
       "UVV-KZ                          2\n",
       "UNDERWRITER                     2\n",
       "YEAR                           10\n",
       "DAMAGE_HEAVY_RAIN_ZONE        956\n",
       "LONGITUDE                  369243\n",
       "LATITUDE                   369134\n",
       "DAMAGE                          2\n",
       "Probability               3175984\n",
       "dtype: int64"
      ]
     },
     "execution_count": 8,
     "metadata": {},
     "output_type": "execute_result"
    }
   ],
   "source": [
    "print('Number of unique values:')\n",
    "df.nunique()"
   ]
  },
  {
   "cell_type": "code",
   "execution_count": 11,
   "metadata": {},
   "outputs": [
    {
     "name": "stdout",
     "output_type": "stream",
     "text": [
      "['VHV' 'VGV']\n",
      "[0]\n"
     ]
    }
   ],
   "source": [
    "print(df['CORPORATE_DEVISION'].unique())\n",
    "print(df['TYPE_OF_DEDUCTIBLE'].unique())"
   ]
  },
  {
   "cell_type": "code",
   "execution_count": null,
   "metadata": {},
   "outputs": [],
   "source": []
  }
 ],
 "metadata": {
  "kernelspec": {
   "display_name": "Python 3",
   "language": "python",
   "name": "python3"
  },
  "language_info": {
   "codemirror_mode": {
    "name": "ipython",
    "version": 3
   },
   "file_extension": ".py",
   "mimetype": "text/x-python",
   "name": "python",
   "nbconvert_exporter": "python",
   "pygments_lexer": "ipython3",
   "version": "3.12.3"
  }
 },
 "nbformat": 4,
 "nbformat_minor": 2
}
